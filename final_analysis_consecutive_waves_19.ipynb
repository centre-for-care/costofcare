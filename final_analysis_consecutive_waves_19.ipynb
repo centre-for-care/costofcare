{
 "cells": [
  {
   "cell_type": "markdown",
   "id": "10b568fc-0f19-4b44-b6bf-e265bb053906",
   "metadata": {},
   "source": [
    "# Final analysis"
   ]
  },
  {
   "cell_type": "markdown",
   "id": "4d8c4989-8ab8-493b-a2a5-2fe11ebef148",
   "metadata": {},
   "source": [
    "This notebook contains the final form of our analysis as well as the final form of the data cleaning process."
   ]
  },
  {
   "cell_type": "code",
   "execution_count": 1,
   "id": "39c858e6-2301-46a1-8830-6c2fa37b7465",
   "metadata": {
    "tags": []
   },
   "outputs": [],
   "source": [
    "from utils import *"
   ]
  },
  {
   "cell_type": "code",
   "execution_count": 2,
   "id": "c749e359-ddeb-4208-98df-abce68ea5a28",
   "metadata": {
    "tags": []
   },
   "outputs": [],
   "source": [
    "path = r'/home/daniel/code/costofcare/data/bhp_ukhls_data_stata/UKDA-6614-stata/stata/ukhls'\n",
    "my_colnames = [\n",
    "                'hidp',\n",
    "                'sex',\n",
    "                'jbnssec_dv',\n",
    "                'jbnssec8_dv',\n",
    "                'jbstat',\n",
    "                'jbhrs',\n",
    "                'ethn_dv',\n",
    "                'dvage',\n",
    "                'mastat_dv',\n",
    "                'country',\n",
    "                'aidhh',\n",
    "                'aidhrs',\n",
    "                'aidxhh',\n",
    "                'paygu_dv',\n",
    "                'qfhigh',\n",
    "                'qfhigh_dv',\n",
    "                'istrtdatm',\n",
    "                'istrtdaty',\n",
    "                'month',\n",
    "                'indinus_lw',\n",
    "                'indinub_lw',\n",
    "                'indinui_lw'\n",
    "]"
   ]
  },
  {
   "cell_type": "code",
   "execution_count": 3,
   "id": "082039f9-e5db-48e4-ba08-19695b31a2d4",
   "metadata": {
    "tags": []
   },
   "outputs": [],
   "source": [
    "data = load_data(path, my_colnames)"
   ]
  },
  {
   "cell_type": "code",
   "execution_count": 4,
   "id": "062e2fb8-419d-4bfb-9c9b-820107b5053e",
   "metadata": {
    "tags": []
   },
   "outputs": [
    {
     "name": "stderr",
     "output_type": "stream",
     "text": [
      "/home/daniel/code/costofcare/utils.py:329: SettingWithCopyWarning: \n",
      "A value is trying to be set on a copy of a slice from a DataFrame\n",
      "\n",
      "See the caveats in the documentation: https://pandas.pydata.org/pandas-docs/stable/user_guide/indexing.html#returning-a-view-versus-a-copy\n",
      "  data['jbhrs_clean'][data.jbhrs_clean < 1] = np.nan\n"
     ]
    }
   ],
   "source": [
    "cpih = pd.read_csv('./cpih_uk_88_23.csv')\n",
    "data_clean = recoding_and_cleaning(data, cpih)"
   ]
  },
  {
   "cell_type": "code",
   "execution_count": 5,
   "id": "ebb69396-809a-4e4d-8899-1f8e9cef197a",
   "metadata": {
    "tags": []
   },
   "outputs": [],
   "source": [
    "data_clean['treated'] = data_clean['aidhrs_recoded_3'].transform(pd.notnull)\n",
    "data_clean['control'] = data_clean['aidhrs'] == 'inapplicable'\n",
    "\n",
    "conds = {\n",
    "    'employed': True,\n",
    "    'dropna': True,\n",
    "    'target_var': 'wage_h_deflated',\n",
    "    'covariates': [],\n",
    "    'min_treat_waves': 2,\n",
    "    'min_waves_pretreat': 4\n",
    "}"
   ]
  },
  {
   "cell_type": "code",
   "execution_count": 6,
   "id": "d7ee9d3c-9427-47a5-a390-fd8aa7802822",
   "metadata": {
    "tags": []
   },
   "outputs": [],
   "source": [
    "treated, control = isc_data_preparation(data_clean, conds)"
   ]
  },
  {
   "cell_type": "code",
   "execution_count": 7,
   "id": "b60293bf-6d75-4a65-aea7-1c53602fae67",
   "metadata": {
    "tags": []
   },
   "outputs": [],
   "source": [
    "treated.to_csv('treated.csv')\n",
    "control.to_csv('control.csv')"
   ]
  },
  {
   "cell_type": "code",
   "execution_count": null,
   "id": "f987f00e-0db5-4f66-ba1a-bfe6017d0318",
   "metadata": {},
   "outputs": [],
   "source": []
  }
 ],
 "metadata": {
  "kernelspec": {
   "display_name": "Python 3 (ipykernel)",
   "language": "python",
   "name": "python3"
  },
  "language_info": {
   "codemirror_mode": {
    "name": "ipython",
    "version": 3
   },
   "file_extension": ".py",
   "mimetype": "text/x-python",
   "name": "python",
   "nbconvert_exporter": "python",
   "pygments_lexer": "ipython3",
   "version": "3.11.4"
  }
 },
 "nbformat": 4,
 "nbformat_minor": 5
}

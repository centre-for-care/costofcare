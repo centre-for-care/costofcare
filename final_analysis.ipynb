{
 "cells": [
  {
   "cell_type": "markdown",
   "id": "10b568fc-0f19-4b44-b6bf-e265bb053906",
   "metadata": {},
   "source": [
    "# Final analysis"
   ]
  },
  {
   "cell_type": "markdown",
   "id": "4d8c4989-8ab8-493b-a2a5-2fe11ebef148",
   "metadata": {},
   "source": [
    "This notebook contains the final form of our analysis as well as the final form of the data cleaning process."
   ]
  },
  {
   "cell_type": "code",
   "execution_count": 1,
   "id": "29cd5f94-bcb4-41c1-99cf-1722a33e13db",
   "metadata": {
    "tags": []
   },
   "outputs": [],
   "source": [
    "import glob\n",
    "import os\n",
    "import pandas as pd\n",
    "import matplotlib.pyplot as plt\n",
    "path = r'/home/daniel/code/costofcare/data/bhp_ukhls_data_stata/UKDA-6614-stata/stata/ukhls'\n",
    "all_files = glob.glob(os.path.join(path , '*indresp.dta'))\n",
    "raw_colnames = ['hidp',\n",
    "                'sex',\n",
    "                'jbnssec_dv',\n",
    "                'jbnssec8_dv',\n",
    "                'jbstat',\n",
    "                'jbhrs',\n",
    "                'ethn_dv',\n",
    "                'dvage',\n",
    "                'mastat_dv',\n",
    "                'country',\n",
    "                'aidhh',\n",
    "                'aidhrs',\n",
    "                'aidxhh',\n",
    "                'paygu_dv',\n",
    "                'qfhigh',\n",
    "                'qfhigh_dv',\n",
    "                'istrtdatm',\n",
    "                'istrtdaty',\n",
    "                'month']\n",
    "indresp = []\n",
    "prefixes = [] # for later\n",
    "for filename in all_files:\n",
    "    prefix = filename.split('/')[-1][0:2]\n",
    "    prefixes.append(prefix)\n",
    "    colnames = [f'{prefix}{x}' for x in raw_colnames]\n",
    "    temp_df = pd.read_stata(filename,\n",
    "                       columns=['pidp'] + colnames)\n",
    "    indresp.append(temp_df)"
   ]
  },
  {
   "cell_type": "code",
   "execution_count": 2,
   "id": "aca48de3-8c64-4a94-b3bb-73b04aa76083",
   "metadata": {},
   "outputs": [],
   "source": [
    "for i, df in enumerate(indresp):\n",
    "    df['wave'] = i+1\n",
    "    df.columns = ['pidp',\n",
    "                'hidp',\n",
    "                'sex',\n",
    "                'jbnssec_dv',\n",
    "                  'jbnssec8_dv',\n",
    "                'jbstat',\n",
    "                'jbhrs',\n",
    "                'ethn_dv',\n",
    "                'dvage',\n",
    "                'mastat_dv',\n",
    "                'country',\n",
    "                'aidhh',\n",
    "                'aidhrs',\n",
    "                'aidxhh',\n",
    "                'paygu_dv',\n",
    "                'qfhigh',\n",
    "                'qfhigh_dv',\n",
    "                'istrtdatm',\n",
    "                'istrtdaty',\n",
    "                'month',\n",
    "                 'wave']"
   ]
  },
  {
   "cell_type": "code",
   "execution_count": 3,
   "id": "79d94903-ced4-4d48-a443-3f0275f90b94",
   "metadata": {},
   "outputs": [
    {
     "data": {
      "text/plain": [
       "88602"
      ]
     },
     "execution_count": 3,
     "metadata": {},
     "output_type": "execute_result"
    }
   ],
   "source": [
    "data = pd.concat(indresp)\n",
    "data['max_waves'] = data.groupby('pidp')['wave'].transform('count')\n",
    "len(data.pidp.unique())"
   ]
  },
  {
   "cell_type": "code",
   "execution_count": 4,
   "id": "e3938f65-8253-4ec0-b605-d57ba773409c",
   "metadata": {},
   "outputs": [],
   "source": [
    "check = data[['wave', 'pidp', 'max_waves']]"
   ]
  },
  {
   "cell_type": "code",
   "execution_count": 5,
   "id": "6fd6775d-7152-4f33-9ed6-13744963d4fa",
   "metadata": {},
   "outputs": [
    {
     "data": {
      "text/plain": [
       "40123"
      ]
     },
     "execution_count": 5,
     "metadata": {},
     "output_type": "execute_result"
    }
   ],
   "source": [
    "len(check[check.max_waves > 5].pidp.unique())"
   ]
  },
  {
   "cell_type": "markdown",
   "id": "d4b4bc68-c48c-4e49-8f4b-e15dbfdae164",
   "metadata": {},
   "source": [
    "## Decision\n",
    "We will consider that has at least six data points, whether or not they are consecutive or not, and whether or not they start from wave 1."
   ]
  },
  {
   "cell_type": "code",
   "execution_count": 6,
   "id": "1715e157-72a3-414e-8be7-98f57d2e8c52",
   "metadata": {
    "tags": []
   },
   "outputs": [
    {
     "data": {
      "text/plain": [
       "40123"
      ]
     },
     "execution_count": 6,
     "metadata": {},
     "output_type": "execute_result"
    }
   ],
   "source": [
    "data_6 = data[data.max_waves > 5]\n",
    "len(data_6.pidp.unique())"
   ]
  },
  {
   "cell_type": "markdown",
   "id": "b5285864-a8ec-4460-bf4d-bae498ea8e6f",
   "metadata": {},
   "source": [
    "# Treatment Variable"
   ]
  },
  {
   "cell_type": "markdown",
   "id": "e95e47e9-f580-4168-bfca-0d2c6170770d",
   "metadata": {},
   "source": [
    "## Decision\n",
    "Recoding treatment variable"
   ]
  },
  {
   "cell_type": "code",
   "execution_count": 7,
   "id": "ce0ed3e4-6f2d-4287-9c09-a9c1af8995fe",
   "metadata": {
    "tags": []
   },
   "outputs": [
    {
     "name": "stderr",
     "output_type": "stream",
     "text": [
      "/tmp/ipykernel_5464/1074845151.py:2: SettingWithCopyWarning: \n",
      "A value is trying to be set on a copy of a slice from a DataFrame.\n",
      "Try using .loc[row_indexer,col_indexer] = value instead\n",
      "\n",
      "See the caveats in the documentation: https://pandas.pydata.org/pandas-docs/stable/user_guide/indexing.html#returning-a-view-versus-a-copy\n",
      "  data_6['aidhh_recoded'] = data_6.aidhh.replace({'Yes': 'yes',\n"
     ]
    }
   ],
   "source": [
    "import numpy as np\n",
    "data_6['aidhh_recoded'] = data_6.aidhh.replace({'Yes': 'yes',\n",
    "                                                'No': 'no',\n",
    "                                                'no     ': 'no',\n",
    "                                                'yes    ': 'yes',\n",
    "                                                'Not available for IEMB': np.nan,\n",
    "                                                \"don't know\": np.nan,\n",
    "                                                'proxy': np.nan,\n",
    "                                                'missing': np.nan,\n",
    "                                                'refusal': np.nan,\n",
    "                                                'inapplicable': np.nan})"
   ]
  },
  {
   "cell_type": "code",
   "execution_count": 8,
   "id": "10b7de9c-ab66-48f1-9a6c-c2540ddc459b",
   "metadata": {
    "tags": []
   },
   "outputs": [
    {
     "name": "stderr",
     "output_type": "stream",
     "text": [
      "/tmp/ipykernel_5464/1333873410.py:1: SettingWithCopyWarning: \n",
      "A value is trying to be set on a copy of a slice from a DataFrame.\n",
      "Try using .loc[row_indexer,col_indexer] = value instead\n",
      "\n",
      "See the caveats in the documentation: https://pandas.pydata.org/pandas-docs/stable/user_guide/indexing.html#returning-a-view-versus-a-copy\n",
      "  data_6['aidxhh_recoded'] = data_6.aidxhh.replace({'Yes': 'yes',\n"
     ]
    }
   ],
   "source": [
    "data_6['aidxhh_recoded'] = data_6.aidxhh.replace({'Yes': 'yes',\n",
    "                                                'No': 'no',\n",
    "                                                'no     ': 'no',\n",
    "                                                'yes    ': 'yes',\n",
    "                                                'Not available for IEMB': np.nan,\n",
    "                                                \"don't know\": np.nan,\n",
    "                                                'proxy': np.nan,\n",
    "                                                'missing': np.nan,\n",
    "                                                'refusal': np.nan,\n",
    "                                                'inapplicable': np.nan})"
   ]
  },
  {
   "cell_type": "code",
   "execution_count": 9,
   "id": "b1c3b19d-7e7d-451b-84ad-6bafda580ff1",
   "metadata": {
    "tags": []
   },
   "outputs": [
    {
     "name": "stderr",
     "output_type": "stream",
     "text": [
      "/tmp/ipykernel_5464/2909938044.py:1: SettingWithCopyWarning: \n",
      "A value is trying to be set on a copy of a slice from a DataFrame.\n",
      "Try using .loc[row_indexer,col_indexer] = value instead\n",
      "\n",
      "See the caveats in the documentation: https://pandas.pydata.org/pandas-docs/stable/user_guide/indexing.html#returning-a-view-versus-a-copy\n",
      "  data_6['aidhrs_recoded_3'] = data_6.aidhrs.str.strip().replace({\"inapplicable\": np.nan,\n"
     ]
    }
   ],
   "source": [
    "data_6['aidhrs_recoded_3'] = data_6.aidhrs.str.strip().replace({\"inapplicable\": np.nan,\n",
    "                                   \"0 - 4 hours per week\": \"0-19\",\n",
    "                                   \"proxy\": np.nan,\n",
    "                                   \"5 - 9 hours per week\": \"0-19\",\n",
    "                                   \"10 - 19 hours per week\": \"0-19\",\n",
    "                                   \"100 or more hours per week/continuous care\": \"50+\",\n",
    "                                   \"20 - 34 hours per week\": \"20-49\",\n",
    "                                   \"35 - 49 hours per week\": \"20-49\",\n",
    "                                   \"varies 20 hours or more\": \"20-49\",\n",
    "                                   \"0 - 4 hours per week\": \"0-19\",\n",
    "                                   \"10-19 hours per week\": \"0-19\",\n",
    "                                   \"Not available for IEMB\": np.nan,\n",
    "                                   \"Varies 20 hours or more\": \"20-49\",\n",
    "                                   \"varies under 20 hours\": \"0-19\",\n",
    "                                   \"Varies under 20 hours\": \"0-19\",\n",
    "                                   \"20-34 hours per week\": \"20-49\",\n",
    "                                   \"5 - 9 hours per week\": \"0-19\",\n",
    "                                   \"Other\": np.nan,\n",
    "                                   \"10 - 19 hours per week\": \"0-19\",\n",
    "                                   \"35-49 hours per week\": \"20-49\",\n",
    "                                   \"100 or more hours per week/continuous care\": \"50+\",\n",
    "                                   \"20 - 34 hours per week\": \"20-49\",\n",
    "                                   \"50-99 hours per week\": \"50+\",\n",
    "                                   \"other\": np.nan,\n",
    "                                   \"don't know\": np.nan,\n",
    "                                   \"35 - 49 hours per week\": \"20-49\",\n",
    "                                   \"varies under 20 hours\": \"0-19\",\n",
    "                                   \"50 - 99 hours per week\": \"50+\",\n",
    "                                   \"other\": np.nan,\n",
    "                                   \"refusal\": np.nan}).copy()"
   ]
  },
  {
   "cell_type": "markdown",
   "id": "726cef4e-29c8-4483-8001-6df10ad1717a",
   "metadata": {},
   "source": [
    "## Note\n",
    "The variable below identifies the people who provided care under our specific conditions based on the 3 variables above."
   ]
  },
  {
   "cell_type": "code",
   "execution_count": 10,
   "id": "1ddbf6d1-2db7-4837-9341-7b0da086996e",
   "metadata": {
    "tags": []
   },
   "outputs": [
    {
     "name": "stderr",
     "output_type": "stream",
     "text": [
      "/tmp/ipykernel_5464/3799348870.py:1: SettingWithCopyWarning: \n",
      "A value is trying to be set on a copy of a slice from a DataFrame.\n",
      "Try using .loc[row_indexer,col_indexer] = value instead\n",
      "\n",
      "See the caveats in the documentation: https://pandas.pydata.org/pandas-docs/stable/user_guide/indexing.html#returning-a-view-versus-a-copy\n",
      "  data_6['carer'] = ((data_6.aidhh_recoded == 'yes') | (data_6.aidxhh_recoded == 'yes') | (~data_6.aidhrs_recoded_3.isnull()))\n"
     ]
    }
   ],
   "source": [
    "data_6['carer'] = ((data_6.aidhh_recoded == 'yes') | (data_6.aidxhh_recoded == 'yes') | (~data_6.aidhrs_recoded_3.isnull()))"
   ]
  },
  {
   "cell_type": "markdown",
   "id": "e4246a05-6334-4af4-bea4-33df74c24d8b",
   "metadata": {},
   "source": [
    "Counting how many waves are carers taking care responsabilities on average"
   ]
  },
  {
   "cell_type": "code",
   "execution_count": 11,
   "id": "f17aaa7d-75a3-4e75-8297-7a2fb64bfcbf",
   "metadata": {
    "tags": []
   },
   "outputs": [
    {
     "data": {
      "text/plain": [
       "3.6293369616411115"
      ]
     },
     "execution_count": 11,
     "metadata": {},
     "output_type": "execute_result"
    }
   ],
   "source": [
    "care_resp = data_6[['pidp', 'carer', 'wave']][data_6.carer]\n",
    "care_resp['max_waves'] = care_resp.groupby('pidp')['wave'].transform('count')\n",
    "care_resp.drop_duplicates(subset=['pidp']).max_waves.mean()"
   ]
  },
  {
   "cell_type": "markdown",
   "id": "dc1d66a4-434a-46bf-89f5-95de4253c4db",
   "metadata": {},
   "source": [
    "## Decision\n",
    "We will use a \"generalised\" moment of treatment with at least 3 measures before, and at least 1 after."
   ]
  },
  {
   "cell_type": "markdown",
   "id": "c5c1b28e-dcf3-4174-a354-f538f961c700",
   "metadata": {},
   "source": [
    "# Target Variable"
   ]
  },
  {
   "cell_type": "code",
   "execution_count": 12,
   "id": "7a6637f3-e3e9-4ec1-96f8-b0ce7f4d8e96",
   "metadata": {
    "tags": []
   },
   "outputs": [
    {
     "name": "stderr",
     "output_type": "stream",
     "text": [
      "/tmp/ipykernel_5464/2089346174.py:1: SettingWithCopyWarning: \n",
      "A value is trying to be set on a copy of a slice from a DataFrame.\n",
      "Try using .loc[row_indexer,col_indexer] = value instead\n",
      "\n",
      "See the caveats in the documentation: https://pandas.pydata.org/pandas-docs/stable/user_guide/indexing.html#returning-a-view-versus-a-copy\n",
      "  data_6['jbstat_clean'] = data_6.jbstat.str.strip().str.lower() # cleaning values here\n"
     ]
    }
   ],
   "source": [
    "data_6['jbstat_clean'] = data_6.jbstat.str.strip().str.lower() # cleaning values here"
   ]
  },
  {
   "cell_type": "code",
   "execution_count": 13,
   "id": "9d0c44ca-0d6f-4e27-89a1-004ae0d4755b",
   "metadata": {
    "tags": []
   },
   "outputs": [
    {
     "data": {
      "text/plain": [
       "paid employment(ft/pt)                     187734\n",
       "retired                                     99318\n",
       "self employed                               31006\n",
       "family care or home                         19859\n",
       "unemployed                                  16201\n",
       "full-time student                           15962\n",
       "lt sick or disabled                         13788\n",
       "on maternity leave                           2151\n",
       "doing something else                         1981\n",
       "on furlough                                   387\n",
       "on apprenticeship                             288\n",
       "unpaid, family business                       261\n",
       "govt training scheme                          232\n",
       "refusal                                       131\n",
       "temporarily laid off/short term working        63\n",
       "don't know                                     47\n",
       "missing                                        29\n",
       "Name: jbstat_clean, dtype: int64"
      ]
     },
     "execution_count": 13,
     "metadata": {},
     "output_type": "execute_result"
    }
   ],
   "source": [
    "data_6.jbstat_clean.value_counts()"
   ]
  },
  {
   "cell_type": "code",
   "execution_count": 14,
   "id": "1d5a5b09-efc8-4462-9a87-049cdf244ea7",
   "metadata": {},
   "outputs": [
    {
     "name": "stderr",
     "output_type": "stream",
     "text": [
      "/tmp/ipykernel_5464/2757714622.py:1: SettingWithCopyWarning: \n",
      "A value is trying to be set on a copy of a slice from a DataFrame.\n",
      "Try using .loc[row_indexer,col_indexer] = value instead\n",
      "\n",
      "See the caveats in the documentation: https://pandas.pydata.org/pandas-docs/stable/user_guide/indexing.html#returning-a-view-versus-a-copy\n",
      "  data_6['employed'] = data_6.jbstat_clean.replace({\"paid employment(ft/pt)\": \"employed\",\n"
     ]
    }
   ],
   "source": [
    "data_6['employed'] = data_6.jbstat_clean.replace({\"paid employment(ft/pt)\": \"employed\",\n",
    "                             \"retired\": \"unemployed\",\n",
    "                       \"self employed\": \"employed\",\n",
    "                       \"family care or home\": \"unemployed\",\n",
    "                       \"unemployed\": \"unemployed\",\n",
    "                       \"full-time student\": \"unemployed\",\n",
    "                       \"lt sick or disabled\": \"unemployed\",\n",
    "                       \"on maternity leave\": \"employed\",\n",
    "                       \"doing something else\": \"unemployed\",\n",
    "                       \"on furlough\": \"unemployed\",\n",
    "                       \"on apprenticeship\": \"employed\",\n",
    "                       \"unpaid, family business\": \"unemployed\",\n",
    "                       \"govt training scheme\": \"employed\",\n",
    "                       \"refusal\": np.nan,\n",
    "                       \"temporarily laid off/short term working\": \"unemployed\",\n",
    "                       \"don't know\": np.nan,\n",
    "                       \"missing\": np.nan}\n",
    "                     )"
   ]
  },
  {
   "cell_type": "markdown",
   "id": "c04d829b-6c69-4025-9811-441ed2516c76",
   "metadata": {},
   "source": [
    "Total Sample size"
   ]
  },
  {
   "cell_type": "code",
   "execution_count": 15,
   "id": "db6713a7-ff05-4bdc-91f6-fc6095c19183",
   "metadata": {
    "tags": []
   },
   "outputs": [
    {
     "data": {
      "text/html": [
       "<div>\n",
       "<style scoped>\n",
       "    .dataframe tbody tr th:only-of-type {\n",
       "        vertical-align: middle;\n",
       "    }\n",
       "\n",
       "    .dataframe tbody tr th {\n",
       "        vertical-align: top;\n",
       "    }\n",
       "\n",
       "    .dataframe thead th {\n",
       "        text-align: right;\n",
       "    }\n",
       "</style>\n",
       "<table border=\"1\" class=\"dataframe\">\n",
       "  <thead>\n",
       "    <tr style=\"text-align: right;\">\n",
       "      <th></th>\n",
       "      <th>pidp</th>\n",
       "      <th>carer</th>\n",
       "    </tr>\n",
       "  </thead>\n",
       "  <tbody>\n",
       "    <tr>\n",
       "      <th>1</th>\n",
       "      <td>68004087</td>\n",
       "      <td>False</td>\n",
       "    </tr>\n",
       "    <tr>\n",
       "      <th>2</th>\n",
       "      <td>68006127</td>\n",
       "      <td>False</td>\n",
       "    </tr>\n",
       "    <tr>\n",
       "      <th>4</th>\n",
       "      <td>68006807</td>\n",
       "      <td>False</td>\n",
       "    </tr>\n",
       "    <tr>\n",
       "      <th>11</th>\n",
       "      <td>68008847</td>\n",
       "      <td>False</td>\n",
       "    </tr>\n",
       "    <tr>\n",
       "      <th>12</th>\n",
       "      <td>68009527</td>\n",
       "      <td>False</td>\n",
       "    </tr>\n",
       "    <tr>\n",
       "      <th>...</th>\n",
       "      <td>...</td>\n",
       "      <td>...</td>\n",
       "    </tr>\n",
       "    <tr>\n",
       "      <th>41859</th>\n",
       "      <td>1636671692</td>\n",
       "      <td>True</td>\n",
       "    </tr>\n",
       "    <tr>\n",
       "      <th>41873</th>\n",
       "      <td>1638419292</td>\n",
       "      <td>True</td>\n",
       "    </tr>\n",
       "    <tr>\n",
       "      <th>41930</th>\n",
       "      <td>1644675490</td>\n",
       "      <td>False</td>\n",
       "    </tr>\n",
       "    <tr>\n",
       "      <th>41931</th>\n",
       "      <td>1644675530</td>\n",
       "      <td>False</td>\n",
       "    </tr>\n",
       "    <tr>\n",
       "      <th>41933</th>\n",
       "      <td>1644736490</td>\n",
       "      <td>False</td>\n",
       "    </tr>\n",
       "  </tbody>\n",
       "</table>\n",
       "<p>40123 rows × 2 columns</p>\n",
       "</div>"
      ],
      "text/plain": [
       "             pidp  carer\n",
       "1        68004087  False\n",
       "2        68006127  False\n",
       "4        68006807  False\n",
       "11       68008847  False\n",
       "12       68009527  False\n",
       "...           ...    ...\n",
       "41859  1636671692   True\n",
       "41873  1638419292   True\n",
       "41930  1644675490  False\n",
       "41931  1644675530  False\n",
       "41933  1644736490  False\n",
       "\n",
       "[40123 rows x 2 columns]"
      ]
     },
     "execution_count": 15,
     "metadata": {},
     "output_type": "execute_result"
    }
   ],
   "source": [
    "data_6[['pidp', 'carer']].drop_duplicates(subset=['pidp'])"
   ]
  },
  {
   "cell_type": "markdown",
   "id": "d0b51ce0-ed50-4f7f-9d13-6811fee3c0ed",
   "metadata": {},
   "source": [
    "Total number of carers in sample"
   ]
  },
  {
   "cell_type": "code",
   "execution_count": 16,
   "id": "f22502da-9ca7-49f0-91fd-2f0440dbef56",
   "metadata": {},
   "outputs": [
    {
     "data": {
      "text/plain": [
       "6529"
      ]
     },
     "execution_count": 16,
     "metadata": {},
     "output_type": "execute_result"
    }
   ],
   "source": [
    "data_6[['pidp', 'carer']].drop_duplicates(subset=['pidp'])['carer'].sum()"
   ]
  },
  {
   "cell_type": "markdown",
   "id": "7efefcad-b085-4b88-a178-cc02563ea700",
   "metadata": {},
   "source": [
    "Number of employed individuals in the sample"
   ]
  },
  {
   "cell_type": "code",
   "execution_count": 17,
   "id": "2bb0d387-9b54-4622-abb5-b4d28d648681",
   "metadata": {
    "tags": []
   },
   "outputs": [
    {
     "data": {
      "text/plain": [
       "29337"
      ]
     },
     "execution_count": 17,
     "metadata": {},
     "output_type": "execute_result"
    }
   ],
   "source": [
    "len(data_6[(data_6.employed == 'employed')].drop_duplicates(subset=['pidp']))"
   ]
  },
  {
   "cell_type": "markdown",
   "id": "a3d0cc50-fcce-4a0f-b4d8-29ba125e98ef",
   "metadata": {
    "tags": []
   },
   "source": [
    "Number of employed carers"
   ]
  },
  {
   "cell_type": "code",
   "execution_count": 18,
   "id": "4fd10220-024b-4210-b577-a78be334ed4f",
   "metadata": {
    "tags": []
   },
   "outputs": [
    {
     "data": {
      "text/plain": [
       "4340"
      ]
     },
     "execution_count": 18,
     "metadata": {},
     "output_type": "execute_result"
    }
   ],
   "source": [
    "data_6[(data_6.employed == 'employed')].drop_duplicates(subset=['pidp']).carer.sum()"
   ]
  },
  {
   "cell_type": "markdown",
   "id": "94ce7775-f5df-4f5c-995d-8a539327eef2",
   "metadata": {},
   "source": [
    "## Decision\n",
    "We are considering only employed individuals"
   ]
  },
  {
   "cell_type": "code",
   "execution_count": 108,
   "id": "6426b666-b7e8-4de2-aa32-190a12ff3be8",
   "metadata": {
    "tags": []
   },
   "outputs": [],
   "source": [
    "df_6_emp = data_6[(data_6.employed == 'employed')]"
   ]
  },
  {
   "cell_type": "markdown",
   "id": "f57d1fcc-0cde-41c1-91d3-68b88c1f330b",
   "metadata": {},
   "source": [
    "Cleaning wage variable"
   ]
  },
  {
   "cell_type": "code",
   "execution_count": 109,
   "id": "edc14344-02a8-45cc-b053-2c8565dbbfdb",
   "metadata": {
    "tags": []
   },
   "outputs": [
    {
     "name": "stderr",
     "output_type": "stream",
     "text": [
      "/tmp/ipykernel_5464/3065558054.py:1: SettingWithCopyWarning: \n",
      "A value is trying to be set on a copy of a slice from a DataFrame.\n",
      "Try using .loc[row_indexer,col_indexer] = value instead\n",
      "\n",
      "See the caveats in the documentation: https://pandas.pydata.org/pandas-docs/stable/user_guide/indexing.html#returning-a-view-versus-a-copy\n",
      "  df_6_emp['wage'] = df_6_emp.paygu_dv.replace({'inapplicable': np.nan, 'proxy': np.nan, 'missing': np.nan})\n"
     ]
    }
   ],
   "source": [
    "df_6_emp['wage'] = df_6_emp.paygu_dv.replace({'inapplicable': np.nan, 'proxy': np.nan, 'missing': np.nan})"
   ]
  },
  {
   "cell_type": "code",
   "execution_count": 110,
   "id": "582d1c45-b737-4bd3-96e7-eae751617b25",
   "metadata": {
    "tags": []
   },
   "outputs": [
    {
     "data": {
      "text/plain": [
       "1        1075.000000\n",
       "11       1282.170044\n",
       "12       4116.669922\n",
       "14       2333.330078\n",
       "16       2641.449951\n",
       "            ...     \n",
       "29258    4583.330078\n",
       "29259    7000.000000\n",
       "29260    1624.750000\n",
       "29263    2800.000000\n",
       "29267            NaN\n",
       "Name: wage, Length: 221411, dtype: float64"
      ]
     },
     "execution_count": 110,
     "metadata": {},
     "output_type": "execute_result"
    }
   ],
   "source": [
    "df_6_emp.wage"
   ]
  },
  {
   "cell_type": "markdown",
   "id": "2948f1ec-cf47-44fb-bb27-f29f013611bf",
   "metadata": {},
   "source": [
    "Adding cpih to correct for inflation"
   ]
  },
  {
   "cell_type": "code",
   "execution_count": 111,
   "id": "29230725-a633-4d79-83e4-941988ae4231",
   "metadata": {
    "tags": []
   },
   "outputs": [
    {
     "data": {
      "text/html": [
       "<div>\n",
       "<style scoped>\n",
       "    .dataframe tbody tr th:only-of-type {\n",
       "        vertical-align: middle;\n",
       "    }\n",
       "\n",
       "    .dataframe tbody tr th {\n",
       "        vertical-align: top;\n",
       "    }\n",
       "\n",
       "    .dataframe thead th {\n",
       "        text-align: right;\n",
       "    }\n",
       "</style>\n",
       "<table border=\"1\" class=\"dataframe\">\n",
       "  <thead>\n",
       "    <tr style=\"text-align: right;\">\n",
       "      <th></th>\n",
       "      <th>date</th>\n",
       "      <th>cpih</th>\n",
       "    </tr>\n",
       "  </thead>\n",
       "  <tbody>\n",
       "    <tr>\n",
       "      <th>0</th>\n",
       "      <td>1988-01-01</td>\n",
       "      <td>46.9</td>\n",
       "    </tr>\n",
       "    <tr>\n",
       "      <th>1</th>\n",
       "      <td>1988-02-01</td>\n",
       "      <td>47.0</td>\n",
       "    </tr>\n",
       "    <tr>\n",
       "      <th>2</th>\n",
       "      <td>1988-03-01</td>\n",
       "      <td>47.2</td>\n",
       "    </tr>\n",
       "    <tr>\n",
       "      <th>3</th>\n",
       "      <td>1988-04-01</td>\n",
       "      <td>47.8</td>\n",
       "    </tr>\n",
       "    <tr>\n",
       "      <th>4</th>\n",
       "      <td>1988-05-01</td>\n",
       "      <td>48.0</td>\n",
       "    </tr>\n",
       "    <tr>\n",
       "      <th>...</th>\n",
       "      <td>...</td>\n",
       "      <td>...</td>\n",
       "    </tr>\n",
       "    <tr>\n",
       "      <th>416</th>\n",
       "      <td>2022-09-01</td>\n",
       "      <td>122.3</td>\n",
       "    </tr>\n",
       "    <tr>\n",
       "      <th>417</th>\n",
       "      <td>2022-10-01</td>\n",
       "      <td>124.3</td>\n",
       "    </tr>\n",
       "    <tr>\n",
       "      <th>418</th>\n",
       "      <td>2022-11-01</td>\n",
       "      <td>124.8</td>\n",
       "    </tr>\n",
       "    <tr>\n",
       "      <th>419</th>\n",
       "      <td>2022-12-01</td>\n",
       "      <td>125.3</td>\n",
       "    </tr>\n",
       "    <tr>\n",
       "      <th>420</th>\n",
       "      <td>2023-01-01</td>\n",
       "      <td>124.8</td>\n",
       "    </tr>\n",
       "  </tbody>\n",
       "</table>\n",
       "<p>421 rows × 2 columns</p>\n",
       "</div>"
      ],
      "text/plain": [
       "          date   cpih\n",
       "0   1988-01-01   46.9\n",
       "1   1988-02-01   47.0\n",
       "2   1988-03-01   47.2\n",
       "3   1988-04-01   47.8\n",
       "4   1988-05-01   48.0\n",
       "..         ...    ...\n",
       "416 2022-09-01  122.3\n",
       "417 2022-10-01  124.3\n",
       "418 2022-11-01  124.8\n",
       "419 2022-12-01  125.3\n",
       "420 2023-01-01  124.8\n",
       "\n",
       "[421 rows x 2 columns]"
      ]
     },
     "execution_count": 111,
     "metadata": {},
     "output_type": "execute_result"
    }
   ],
   "source": [
    "cpih = pd.read_csv('./cpih_uk_88_23.csv')\n",
    "cpih['date'] = pd.to_datetime(cpih.date, format='%b-%y')\n",
    "cpih"
   ]
  },
  {
   "cell_type": "code",
   "execution_count": 112,
   "id": "4f4384bf-a3b0-4bac-8065-cba714d2f8ef",
   "metadata": {
    "tags": []
   },
   "outputs": [
    {
     "name": "stderr",
     "output_type": "stream",
     "text": [
      "/tmp/ipykernel_5464/1591602359.py:1: SettingWithCopyWarning: \n",
      "A value is trying to be set on a copy of a slice from a DataFrame.\n",
      "Try using .loc[row_indexer,col_indexer] = value instead\n",
      "\n",
      "See the caveats in the documentation: https://pandas.pydata.org/pandas-docs/stable/user_guide/indexing.html#returning-a-view-versus-a-copy\n",
      "  df_6_emp['istrtdaty'] = df_6_emp['istrtdaty'].astype('str').replace({'inapplicable': np.nan, 'missing': np.nan, \"don't know\": np.nan})\n",
      "/tmp/ipykernel_5464/1591602359.py:2: SettingWithCopyWarning: \n",
      "A value is trying to be set on a copy of a slice from a DataFrame.\n",
      "Try using .loc[row_indexer,col_indexer] = value instead\n",
      "\n",
      "See the caveats in the documentation: https://pandas.pydata.org/pandas-docs/stable/user_guide/indexing.html#returning-a-view-versus-a-copy\n",
      "  df_6_emp['istrtdatm'] = df_6_emp['istrtdatm'].replace({'inapplicable': np.nan, 'missing': np.nan, \"don't know\": np.nan})\n",
      "/tmp/ipykernel_5464/1591602359.py:3: SettingWithCopyWarning: \n",
      "A value is trying to be set on a copy of a slice from a DataFrame.\n",
      "Try using .loc[row_indexer,col_indexer] = value instead\n",
      "\n",
      "See the caveats in the documentation: https://pandas.pydata.org/pandas-docs/stable/user_guide/indexing.html#returning-a-view-versus-a-copy\n",
      "  df_6_emp['date'] = df_6_emp['istrtdaty'].astype(str) + '/' + df_6_emp['istrtdatm'].astype(str)\n",
      "/tmp/ipykernel_5464/1591602359.py:4: SettingWithCopyWarning: \n",
      "A value is trying to be set on a copy of a slice from a DataFrame.\n",
      "Try using .loc[row_indexer,col_indexer] = value instead\n",
      "\n",
      "See the caveats in the documentation: https://pandas.pydata.org/pandas-docs/stable/user_guide/indexing.html#returning-a-view-versus-a-copy\n",
      "  df_6_emp['date'] = df_6_emp['date'].replace({'nan/nan': np.nan})\n",
      "/tmp/ipykernel_5464/1591602359.py:5: SettingWithCopyWarning: \n",
      "A value is trying to be set on a copy of a slice from a DataFrame.\n",
      "Try using .loc[row_indexer,col_indexer] = value instead\n",
      "\n",
      "See the caveats in the documentation: https://pandas.pydata.org/pandas-docs/stable/user_guide/indexing.html#returning-a-view-versus-a-copy\n",
      "  df_6_emp['date'] = pd.to_datetime(df_6_emp['date'], format='%Y/%B')\n"
     ]
    }
   ],
   "source": [
    "df_6_emp['istrtdaty'] = df_6_emp['istrtdaty'].astype('str').replace({'inapplicable': np.nan, 'missing': np.nan, \"don't know\": np.nan})\n",
    "df_6_emp['istrtdatm'] = df_6_emp['istrtdatm'].replace({'inapplicable': np.nan, 'missing': np.nan, \"don't know\": np.nan})\n",
    "df_6_emp['date'] = df_6_emp['istrtdaty'].astype(str) + '/' + df_6_emp['istrtdatm'].astype(str)\n",
    "df_6_emp['date'] = df_6_emp['date'].replace({'nan/nan': np.nan})\n",
    "df_6_emp['date'] = pd.to_datetime(df_6_emp['date'], format='%Y/%B')\n",
    "df_6_emp = df_6_emp.merge(cpih, on='date', how='left')"
   ]
  },
  {
   "cell_type": "code",
   "execution_count": 113,
   "id": "93d36402-6f1f-4649-9325-96c610262b80",
   "metadata": {
    "tags": []
   },
   "outputs": [
    {
     "name": "stderr",
     "output_type": "stream",
     "text": [
      "/tmp/ipykernel_5464/295635728.py:2: SettingWithCopyWarning: \n",
      "A value is trying to be set on a copy of a slice from a DataFrame\n",
      "\n",
      "See the caveats in the documentation: https://pandas.pydata.org/pandas-docs/stable/user_guide/indexing.html#returning-a-view-versus-a-copy\n",
      "  df_6_emp['jbhrs_clean'][df_6_emp.jbhrs_clean < 1] = np.nan\n"
     ]
    }
   ],
   "source": [
    "df_6_emp['jbhrs_clean'] = df_6_emp.jbhrs.replace({'inapplicable': np.nan, 'proxy': np.nan, 'missing': np.nan, \"don't know\": np.nan, \"refusal\": np.nan, 0: np.nan})\n",
    "df_6_emp['jbhrs_clean'][df_6_emp.jbhrs_clean < 1] = np.nan"
   ]
  },
  {
   "cell_type": "code",
   "execution_count": 114,
   "id": "b8ce4aec-9f58-46d8-8bd2-7e18e4e1b272",
   "metadata": {
    "tags": []
   },
   "outputs": [],
   "source": [
    "df_6_emp['month_jbhrs'] = df_6_emp['jbhrs_clean'] * 4.33 # times the average amount of weeks"
   ]
  },
  {
   "cell_type": "code",
   "execution_count": 115,
   "id": "d2ff7d47-1b07-404f-bd2f-11a1df4c1105",
   "metadata": {
    "tags": []
   },
   "outputs": [],
   "source": [
    "df_6_emp['wage_h'] = df_6_emp['wage'] / df_6_emp['month_jbhrs']"
   ]
  },
  {
   "cell_type": "markdown",
   "id": "adde0d83-798c-4103-968c-ce2bc2f5ff49",
   "metadata": {},
   "source": [
    "### Real wage calculation"
   ]
  },
  {
   "cell_type": "code",
   "execution_count": 356,
   "id": "a4b74f6e-e242-461d-be0e-8df882822c82",
   "metadata": {
    "tags": []
   },
   "outputs": [],
   "source": [
    "df_6_emp['wage_h_deflated'] = (df_6_emp['wage_h'] / df_6_emp['cpih']) * 100"
   ]
  },
  {
   "cell_type": "code",
   "execution_count": 357,
   "id": "9af9487c-193a-4012-b208-4012e1178aef",
   "metadata": {
    "tags": []
   },
   "outputs": [],
   "source": [
    "df_6_emp['wage_deflated'] = (df_6_emp['wage'] / df_6_emp['cpih']) * 100"
   ]
  },
  {
   "cell_type": "markdown",
   "id": "b80cd50c-c022-4a69-8e0a-c888e38ec03b",
   "metadata": {},
   "source": [
    "# ISC Data preparation"
   ]
  },
  {
   "cell_type": "code",
   "execution_count": 358,
   "id": "a5232d11-b6aa-4575-aa9d-e4cf1459c646",
   "metadata": {
    "tags": []
   },
   "outputs": [],
   "source": [
    "isc_data = df_6_emp[['pidp', 'carer', 'wage_deflated', 'wage_h_deflated', 'wave', 'date', 'employed']]"
   ]
  },
  {
   "cell_type": "code",
   "execution_count": 359,
   "id": "392dd61d-ea32-4b41-886d-ee9f36439db6",
   "metadata": {
    "tags": []
   },
   "outputs": [
    {
     "data": {
      "text/html": [
       "<div>\n",
       "<style scoped>\n",
       "    .dataframe tbody tr th:only-of-type {\n",
       "        vertical-align: middle;\n",
       "    }\n",
       "\n",
       "    .dataframe tbody tr th {\n",
       "        vertical-align: top;\n",
       "    }\n",
       "\n",
       "    .dataframe thead th {\n",
       "        text-align: right;\n",
       "    }\n",
       "</style>\n",
       "<table border=\"1\" class=\"dataframe\">\n",
       "  <thead>\n",
       "    <tr style=\"text-align: right;\">\n",
       "      <th></th>\n",
       "      <th>pidp</th>\n",
       "      <th>carer</th>\n",
       "      <th>wage_deflated</th>\n",
       "      <th>wage_h_deflated</th>\n",
       "      <th>wave</th>\n",
       "      <th>date</th>\n",
       "      <th>employed</th>\n",
       "    </tr>\n",
       "  </thead>\n",
       "  <tbody>\n",
       "    <tr>\n",
       "      <th>0</th>\n",
       "      <td>68004087</td>\n",
       "      <td>False</td>\n",
       "      <td>1241.339492</td>\n",
       "      <td>7.350859</td>\n",
       "      <td>1</td>\n",
       "      <td>2009-01-01</td>\n",
       "      <td>employed</td>\n",
       "    </tr>\n",
       "    <tr>\n",
       "      <th>1</th>\n",
       "      <td>68008847</td>\n",
       "      <td>False</td>\n",
       "      <td>1480.565871</td>\n",
       "      <td>8.767489</td>\n",
       "      <td>1</td>\n",
       "      <td>2009-01-01</td>\n",
       "      <td>employed</td>\n",
       "    </tr>\n",
       "    <tr>\n",
       "      <th>2</th>\n",
       "      <td>68009527</td>\n",
       "      <td>False</td>\n",
       "      <td>4753.660418</td>\n",
       "      <td>29.671434</td>\n",
       "      <td>1</td>\n",
       "      <td>2009-01-01</td>\n",
       "      <td>employed</td>\n",
       "    </tr>\n",
       "    <tr>\n",
       "      <th>3</th>\n",
       "      <td>68010887</td>\n",
       "      <td>False</td>\n",
       "      <td>2694.376534</td>\n",
       "      <td>16.817780</td>\n",
       "      <td>1</td>\n",
       "      <td>2009-01-01</td>\n",
       "      <td>employed</td>\n",
       "    </tr>\n",
       "    <tr>\n",
       "      <th>4</th>\n",
       "      <td>68011567</td>\n",
       "      <td>False</td>\n",
       "      <td>3050.173154</td>\n",
       "      <td>19.038594</td>\n",
       "      <td>1</td>\n",
       "      <td>2009-01-01</td>\n",
       "      <td>employed</td>\n",
       "    </tr>\n",
       "    <tr>\n",
       "      <th>...</th>\n",
       "      <td>...</td>\n",
       "      <td>...</td>\n",
       "      <td>...</td>\n",
       "      <td>...</td>\n",
       "      <td>...</td>\n",
       "      <td>...</td>\n",
       "      <td>...</td>\n",
       "    </tr>\n",
       "    <tr>\n",
       "      <th>221406</th>\n",
       "      <td>1652366050</td>\n",
       "      <td>False</td>\n",
       "      <td>3971.689842</td>\n",
       "      <td>24.790524</td>\n",
       "      <td>12</td>\n",
       "      <td>2022-02-01</td>\n",
       "      <td>employed</td>\n",
       "    </tr>\n",
       "    <tr>\n",
       "      <th>221407</th>\n",
       "      <td>1652814850</td>\n",
       "      <td>True</td>\n",
       "      <td>6134.969325</td>\n",
       "      <td>35.421301</td>\n",
       "      <td>12</td>\n",
       "      <td>2021-11-01</td>\n",
       "      <td>employed</td>\n",
       "    </tr>\n",
       "    <tr>\n",
       "      <th>221408</th>\n",
       "      <td>1652835250</td>\n",
       "      <td>False</td>\n",
       "      <td>1423.970202</td>\n",
       "      <td>8.888148</td>\n",
       "      <td>12</td>\n",
       "      <td>2021-11-01</td>\n",
       "      <td>employed</td>\n",
       "    </tr>\n",
       "    <tr>\n",
       "      <th>221409</th>\n",
       "      <td>1652984930</td>\n",
       "      <td>False</td>\n",
       "      <td>2441.533981</td>\n",
       "      <td>15.036391</td>\n",
       "      <td>12</td>\n",
       "      <td>2021-12-01</td>\n",
       "      <td>employed</td>\n",
       "    </tr>\n",
       "    <tr>\n",
       "      <th>221410</th>\n",
       "      <td>1653134490</td>\n",
       "      <td>False</td>\n",
       "      <td>NaN</td>\n",
       "      <td>NaN</td>\n",
       "      <td>12</td>\n",
       "      <td>2021-12-01</td>\n",
       "      <td>employed</td>\n",
       "    </tr>\n",
       "  </tbody>\n",
       "</table>\n",
       "<p>221411 rows × 7 columns</p>\n",
       "</div>"
      ],
      "text/plain": [
       "              pidp  carer  wage_deflated  wage_h_deflated  wave       date  \\\n",
       "0         68004087  False    1241.339492         7.350859     1 2009-01-01   \n",
       "1         68008847  False    1480.565871         8.767489     1 2009-01-01   \n",
       "2         68009527  False    4753.660418        29.671434     1 2009-01-01   \n",
       "3         68010887  False    2694.376534        16.817780     1 2009-01-01   \n",
       "4         68011567  False    3050.173154        19.038594     1 2009-01-01   \n",
       "...            ...    ...            ...              ...   ...        ...   \n",
       "221406  1652366050  False    3971.689842        24.790524    12 2022-02-01   \n",
       "221407  1652814850   True    6134.969325        35.421301    12 2021-11-01   \n",
       "221408  1652835250  False    1423.970202         8.888148    12 2021-11-01   \n",
       "221409  1652984930  False    2441.533981        15.036391    12 2021-12-01   \n",
       "221410  1653134490  False            NaN              NaN    12 2021-12-01   \n",
       "\n",
       "        employed  \n",
       "0       employed  \n",
       "1       employed  \n",
       "2       employed  \n",
       "3       employed  \n",
       "4       employed  \n",
       "...          ...  \n",
       "221406  employed  \n",
       "221407  employed  \n",
       "221408  employed  \n",
       "221409  employed  \n",
       "221410  employed  \n",
       "\n",
       "[221411 rows x 7 columns]"
      ]
     },
     "execution_count": 359,
     "metadata": {},
     "output_type": "execute_result"
    }
   ],
   "source": [
    "isc_data\n"
   ]
  },
  {
   "cell_type": "code",
   "execution_count": 360,
   "id": "c58d150f-9602-485d-b262-d7be6bb850d3",
   "metadata": {
    "tags": []
   },
   "outputs": [
    {
     "data": {
      "text/html": [
       "<div>\n",
       "<style scoped>\n",
       "    .dataframe tbody tr th:only-of-type {\n",
       "        vertical-align: middle;\n",
       "    }\n",
       "\n",
       "    .dataframe tbody tr th {\n",
       "        vertical-align: top;\n",
       "    }\n",
       "\n",
       "    .dataframe thead th {\n",
       "        text-align: right;\n",
       "    }\n",
       "</style>\n",
       "<table border=\"1\" class=\"dataframe\">\n",
       "  <thead>\n",
       "    <tr style=\"text-align: right;\">\n",
       "      <th></th>\n",
       "      <th>pidp</th>\n",
       "      <th>carer</th>\n",
       "      <th>wage_deflated</th>\n",
       "      <th>wage_h_deflated</th>\n",
       "      <th>wave</th>\n",
       "      <th>date</th>\n",
       "      <th>employed</th>\n",
       "    </tr>\n",
       "  </thead>\n",
       "  <tbody>\n",
       "    <tr>\n",
       "      <th>376</th>\n",
       "      <td>68882647</td>\n",
       "      <td>False</td>\n",
       "      <td>1560.900682</td>\n",
       "      <td>22.530322</td>\n",
       "      <td>1</td>\n",
       "      <td>2009-01-01</td>\n",
       "      <td>employed</td>\n",
       "    </tr>\n",
       "    <tr>\n",
       "      <th>15385</th>\n",
       "      <td>68882647</td>\n",
       "      <td>False</td>\n",
       "      <td>1204.449394</td>\n",
       "      <td>23.180319</td>\n",
       "      <td>2</td>\n",
       "      <td>2010-02-01</td>\n",
       "      <td>employed</td>\n",
       "    </tr>\n",
       "    <tr>\n",
       "      <th>34842</th>\n",
       "      <td>68882647</td>\n",
       "      <td>False</td>\n",
       "      <td>1444.561166</td>\n",
       "      <td>16.680845</td>\n",
       "      <td>3</td>\n",
       "      <td>2011-02-01</td>\n",
       "      <td>employed</td>\n",
       "    </tr>\n",
       "    <tr>\n",
       "      <th>54615</th>\n",
       "      <td>68882647</td>\n",
       "      <td>False</td>\n",
       "      <td>838.574423</td>\n",
       "      <td>7.746646</td>\n",
       "      <td>4</td>\n",
       "      <td>2012-03-01</td>\n",
       "      <td>employed</td>\n",
       "    </tr>\n",
       "    <tr>\n",
       "      <th>74818</th>\n",
       "      <td>68882647</td>\n",
       "      <td>False</td>\n",
       "      <td>412.371134</td>\n",
       "      <td>3.968159</td>\n",
       "      <td>5</td>\n",
       "      <td>2013-01-01</td>\n",
       "      <td>employed</td>\n",
       "    </tr>\n",
       "    <tr>\n",
       "      <th>95282</th>\n",
       "      <td>68882647</td>\n",
       "      <td>True</td>\n",
       "      <td>NaN</td>\n",
       "      <td>NaN</td>\n",
       "      <td>6</td>\n",
       "      <td>2014-02-01</td>\n",
       "      <td>employed</td>\n",
       "    </tr>\n",
       "    <tr>\n",
       "      <th>116320</th>\n",
       "      <td>68882647</td>\n",
       "      <td>True</td>\n",
       "      <td>NaN</td>\n",
       "      <td>NaN</td>\n",
       "      <td>7</td>\n",
       "      <td>2015-05-01</td>\n",
       "      <td>employed</td>\n",
       "    </tr>\n",
       "    <tr>\n",
       "      <th>136870</th>\n",
       "      <td>68882647</td>\n",
       "      <td>True</td>\n",
       "      <td>NaN</td>\n",
       "      <td>NaN</td>\n",
       "      <td>8</td>\n",
       "      <td>2016-03-01</td>\n",
       "      <td>employed</td>\n",
       "    </tr>\n",
       "    <tr>\n",
       "      <th>191674</th>\n",
       "      <td>68882647</td>\n",
       "      <td>True</td>\n",
       "      <td>2013.633756</td>\n",
       "      <td>13.286927</td>\n",
       "      <td>11</td>\n",
       "      <td>2019-04-01</td>\n",
       "      <td>employed</td>\n",
       "    </tr>\n",
       "  </tbody>\n",
       "</table>\n",
       "</div>"
      ],
      "text/plain": [
       "            pidp  carer  wage_deflated  wage_h_deflated  wave       date  \\\n",
       "376     68882647  False    1560.900682        22.530322     1 2009-01-01   \n",
       "15385   68882647  False    1204.449394        23.180319     2 2010-02-01   \n",
       "34842   68882647  False    1444.561166        16.680845     3 2011-02-01   \n",
       "54615   68882647  False     838.574423         7.746646     4 2012-03-01   \n",
       "74818   68882647  False     412.371134         3.968159     5 2013-01-01   \n",
       "95282   68882647   True            NaN              NaN     6 2014-02-01   \n",
       "116320  68882647   True            NaN              NaN     7 2015-05-01   \n",
       "136870  68882647   True            NaN              NaN     8 2016-03-01   \n",
       "191674  68882647   True    2013.633756        13.286927    11 2019-04-01   \n",
       "\n",
       "        employed  \n",
       "376     employed  \n",
       "15385   employed  \n",
       "34842   employed  \n",
       "54615   employed  \n",
       "74818   employed  \n",
       "95282   employed  \n",
       "116320  employed  \n",
       "136870  employed  \n",
       "191674  employed  "
      ]
     },
     "execution_count": 360,
     "metadata": {},
     "output_type": "execute_result"
    }
   ],
   "source": [
    "isc_data[isc_data.pidp==68882647]"
   ]
  },
  {
   "cell_type": "code",
   "execution_count": 361,
   "id": "ba6229f6-5c83-484e-a45d-707c33d9ddf4",
   "metadata": {
    "tags": []
   },
   "outputs": [
    {
     "data": {
      "text/html": [
       "<div>\n",
       "<style scoped>\n",
       "    .dataframe tbody tr th:only-of-type {\n",
       "        vertical-align: middle;\n",
       "    }\n",
       "\n",
       "    .dataframe tbody tr th {\n",
       "        vertical-align: top;\n",
       "    }\n",
       "\n",
       "    .dataframe thead th {\n",
       "        text-align: right;\n",
       "    }\n",
       "</style>\n",
       "<table border=\"1\" class=\"dataframe\">\n",
       "  <thead>\n",
       "    <tr style=\"text-align: right;\">\n",
       "      <th></th>\n",
       "      <th>pidp</th>\n",
       "      <th>carer</th>\n",
       "      <th>wage_deflated</th>\n",
       "      <th>wage_h_deflated</th>\n",
       "      <th>wave</th>\n",
       "      <th>date</th>\n",
       "      <th>employed</th>\n",
       "    </tr>\n",
       "  </thead>\n",
       "  <tbody>\n",
       "    <tr>\n",
       "      <th>0</th>\n",
       "      <td>68004087</td>\n",
       "      <td>False</td>\n",
       "      <td>1241.339492</td>\n",
       "      <td>7.350859</td>\n",
       "      <td>1</td>\n",
       "      <td>2009-01-01</td>\n",
       "      <td>employed</td>\n",
       "    </tr>\n",
       "    <tr>\n",
       "      <th>1</th>\n",
       "      <td>68008847</td>\n",
       "      <td>False</td>\n",
       "      <td>1480.565871</td>\n",
       "      <td>8.767489</td>\n",
       "      <td>1</td>\n",
       "      <td>2009-01-01</td>\n",
       "      <td>employed</td>\n",
       "    </tr>\n",
       "    <tr>\n",
       "      <th>2</th>\n",
       "      <td>68009527</td>\n",
       "      <td>False</td>\n",
       "      <td>4753.660418</td>\n",
       "      <td>29.671434</td>\n",
       "      <td>1</td>\n",
       "      <td>2009-01-01</td>\n",
       "      <td>employed</td>\n",
       "    </tr>\n",
       "    <tr>\n",
       "      <th>3</th>\n",
       "      <td>68010887</td>\n",
       "      <td>False</td>\n",
       "      <td>2694.376534</td>\n",
       "      <td>16.817780</td>\n",
       "      <td>1</td>\n",
       "      <td>2009-01-01</td>\n",
       "      <td>employed</td>\n",
       "    </tr>\n",
       "    <tr>\n",
       "      <th>4</th>\n",
       "      <td>68011567</td>\n",
       "      <td>False</td>\n",
       "      <td>3050.173154</td>\n",
       "      <td>19.038594</td>\n",
       "      <td>1</td>\n",
       "      <td>2009-01-01</td>\n",
       "      <td>employed</td>\n",
       "    </tr>\n",
       "    <tr>\n",
       "      <th>...</th>\n",
       "      <td>...</td>\n",
       "      <td>...</td>\n",
       "      <td>...</td>\n",
       "      <td>...</td>\n",
       "      <td>...</td>\n",
       "      <td>...</td>\n",
       "      <td>...</td>\n",
       "    </tr>\n",
       "    <tr>\n",
       "      <th>221406</th>\n",
       "      <td>1652366050</td>\n",
       "      <td>False</td>\n",
       "      <td>3971.689842</td>\n",
       "      <td>24.790524</td>\n",
       "      <td>12</td>\n",
       "      <td>2022-02-01</td>\n",
       "      <td>employed</td>\n",
       "    </tr>\n",
       "    <tr>\n",
       "      <th>221407</th>\n",
       "      <td>1652814850</td>\n",
       "      <td>True</td>\n",
       "      <td>6134.969325</td>\n",
       "      <td>35.421301</td>\n",
       "      <td>12</td>\n",
       "      <td>2021-11-01</td>\n",
       "      <td>employed</td>\n",
       "    </tr>\n",
       "    <tr>\n",
       "      <th>221408</th>\n",
       "      <td>1652835250</td>\n",
       "      <td>False</td>\n",
       "      <td>1423.970202</td>\n",
       "      <td>8.888148</td>\n",
       "      <td>12</td>\n",
       "      <td>2021-11-01</td>\n",
       "      <td>employed</td>\n",
       "    </tr>\n",
       "    <tr>\n",
       "      <th>221409</th>\n",
       "      <td>1652984930</td>\n",
       "      <td>False</td>\n",
       "      <td>2441.533981</td>\n",
       "      <td>15.036391</td>\n",
       "      <td>12</td>\n",
       "      <td>2021-12-01</td>\n",
       "      <td>employed</td>\n",
       "    </tr>\n",
       "    <tr>\n",
       "      <th>221410</th>\n",
       "      <td>1653134490</td>\n",
       "      <td>False</td>\n",
       "      <td>NaN</td>\n",
       "      <td>NaN</td>\n",
       "      <td>12</td>\n",
       "      <td>2021-12-01</td>\n",
       "      <td>employed</td>\n",
       "    </tr>\n",
       "  </tbody>\n",
       "</table>\n",
       "<p>221411 rows × 7 columns</p>\n",
       "</div>"
      ],
      "text/plain": [
       "              pidp  carer  wage_deflated  wage_h_deflated  wave       date  \\\n",
       "0         68004087  False    1241.339492         7.350859     1 2009-01-01   \n",
       "1         68008847  False    1480.565871         8.767489     1 2009-01-01   \n",
       "2         68009527  False    4753.660418        29.671434     1 2009-01-01   \n",
       "3         68010887  False    2694.376534        16.817780     1 2009-01-01   \n",
       "4         68011567  False    3050.173154        19.038594     1 2009-01-01   \n",
       "...            ...    ...            ...              ...   ...        ...   \n",
       "221406  1652366050  False    3971.689842        24.790524    12 2022-02-01   \n",
       "221407  1652814850   True    6134.969325        35.421301    12 2021-11-01   \n",
       "221408  1652835250  False    1423.970202         8.888148    12 2021-11-01   \n",
       "221409  1652984930  False    2441.533981        15.036391    12 2021-12-01   \n",
       "221410  1653134490  False            NaN              NaN    12 2021-12-01   \n",
       "\n",
       "        employed  \n",
       "0       employed  \n",
       "1       employed  \n",
       "2       employed  \n",
       "3       employed  \n",
       "4       employed  \n",
       "...          ...  \n",
       "221406  employed  \n",
       "221407  employed  \n",
       "221408  employed  \n",
       "221409  employed  \n",
       "221410  employed  \n",
       "\n",
       "[221411 rows x 7 columns]"
      ]
     },
     "execution_count": 361,
     "metadata": {},
     "output_type": "execute_result"
    }
   ],
   "source": [
    "isc_data"
   ]
  },
  {
   "cell_type": "code",
   "execution_count": 362,
   "id": "35bba037-757f-4c10-b93b-637f4a9ae43e",
   "metadata": {
    "tags": []
   },
   "outputs": [],
   "source": [
    "isc_copy = isc_data.copy()\n",
    "to_drop = []\n",
    "for pidp in isc_data.pidp.unique():\n",
    "    temp_data = isc_data[isc_data.pidp==pidp].copy()\n",
    "    if temp_data.wage_deflated.isnull().any():\n",
    "        to_drop.append(pidp)\n",
    "isc_copy = isc_copy[~isc_copy.pidp.isin(to_drop)]"
   ]
  },
  {
   "cell_type": "code",
   "execution_count": 363,
   "id": "26f64729-c64e-4e07-838d-410ce3972cba",
   "metadata": {
    "tags": []
   },
   "outputs": [],
   "source": [
    "isc_data = isc_copy.copy()"
   ]
  },
  {
   "cell_type": "markdown",
   "id": "be68139d-80a3-4c82-b9dc-ac909c165c4b",
   "metadata": {},
   "source": [
    "### Average number of waves caring"
   ]
  },
  {
   "cell_type": "code",
   "execution_count": 364,
   "id": "a622482b-029e-4f08-898f-4e29a9692274",
   "metadata": {
    "tags": []
   },
   "outputs": [
    {
     "data": {
      "text/plain": [
       "3.1345037323748963"
      ]
     },
     "execution_count": 364,
     "metadata": {},
     "output_type": "execute_result"
    }
   ],
   "source": [
    "carer_events = []\n",
    "for i in isc_data.pidp.unique():\n",
    "    by_pidp = isc_data[isc_data.pidp == i]\n",
    "    if by_pidp.carer.any():\n",
    "        carer_events.append(by_pidp.carer.sum())\n",
    "np.mean(carer_events)"
   ]
  },
  {
   "cell_type": "markdown",
   "id": "9e747331-93fc-41f8-971c-8d1474e38b60",
   "metadata": {
    "tags": []
   },
   "source": [
    "## Decision\n",
    "We will take the average as lower limit to determine treated cases. Everyone with less than 3 and more than 1 reported waves of caring will be dropped."
   ]
  },
  {
   "cell_type": "code",
   "execution_count": 365,
   "id": "7de64c13-fd68-4226-a588-a8eb9dbb3824",
   "metadata": {
    "tags": []
   },
   "outputs": [],
   "source": [
    "isc_data['waves_caring'] = isc_data.groupby('pidp')['carer'].transform('sum')\n",
    "isc_data = isc_data[~((isc_data.waves_caring >= 1) & (isc_data.waves_caring < 3))]"
   ]
  },
  {
   "cell_type": "code",
   "execution_count": 366,
   "id": "135e5de5-81fc-4cf9-bde3-597f5a5ff6d3",
   "metadata": {
    "tags": []
   },
   "outputs": [],
   "source": [
    "isc_data['wave_reindex'] = isc_data.sort_values(by=['pidp', 'wave']).groupby('pidp').cumcount() + 1\n",
    "isc_data.reset_index(drop=True, inplace=True)\n",
    "isc_data.sort_values(by=['pidp', 'wave_reindex'], inplace=True)"
   ]
  },
  {
   "cell_type": "code",
   "execution_count": 367,
   "id": "4bcdff9f-e182-4336-a1e3-70f9cd7f0efa",
   "metadata": {},
   "outputs": [],
   "source": [
    "isc_data['wave_treat'] = isc_data.wave_reindex[isc_data.groupby('pidp')['carer'].transform('idxmax').values].values"
   ]
  },
  {
   "cell_type": "code",
   "execution_count": 368,
   "id": "246a9357-70f4-4d37-a1bb-76015e80657f",
   "metadata": {
    "tags": []
   },
   "outputs": [],
   "source": [
    "isc_data['wave_treat_real'] = isc_data.wave[isc_data.groupby('pidp')['carer'].transform('idxmax').values].values"
   ]
  },
  {
   "cell_type": "code",
   "execution_count": 369,
   "id": "c4ca01ed-85e5-444c-8801-fbcd4ca2d99d",
   "metadata": {
    "tags": []
   },
   "outputs": [],
   "source": [
    "isc_data['initial_wave'] = isc_data.groupby('pidp')['wave'].transform('min').values"
   ]
  },
  {
   "cell_type": "markdown",
   "id": "6923508c-286a-43a2-99eb-9888aed7c2e3",
   "metadata": {},
   "source": [
    "## Decision\n",
    "Only carer with at least 3 data points before treatment are consider."
   ]
  },
  {
   "cell_type": "code",
   "execution_count": 370,
   "id": "d6e9f35d-8c60-4710-b4d8-bbeb9d5cef01",
   "metadata": {
    "tags": []
   },
   "outputs": [],
   "source": [
    "isc_data = isc_data.drop(isc_data[(isc_data.wave_treat < 4) & (isc_data.carer == True)].index)"
   ]
  },
  {
   "cell_type": "code",
   "execution_count": 371,
   "id": "dbef00de-cf64-45db-8693-434d7057d364",
   "metadata": {
    "tags": []
   },
   "outputs": [],
   "source": [
    "def create_index(x):\n",
    "    y = np.arange(len(x)) + 1\n",
    "    return y - x\n",
    "\n",
    "def create_relative_index(lst, point):\n",
    "    index = lst.index(point)\n",
    "    return [i - index for i in range(len(lst))]\n"
   ]
  },
  {
   "cell_type": "code",
   "execution_count": 372,
   "id": "73c1bb87-43b5-4461-8734-8225d8b8e565",
   "metadata": {
    "tags": []
   },
   "outputs": [],
   "source": [
    "isc_data['reindex'] = isc_data.groupby('pidp')['wave_treat'].transform(create_index)"
   ]
  },
  {
   "cell_type": "code",
   "execution_count": 373,
   "id": "22f20d65-4633-49d4-a700-c4223517443b",
   "metadata": {},
   "outputs": [
    {
     "data": {
      "text/html": [
       "<div>\n",
       "<style scoped>\n",
       "    .dataframe tbody tr th:only-of-type {\n",
       "        vertical-align: middle;\n",
       "    }\n",
       "\n",
       "    .dataframe tbody tr th {\n",
       "        vertical-align: top;\n",
       "    }\n",
       "\n",
       "    .dataframe thead th {\n",
       "        text-align: right;\n",
       "    }\n",
       "</style>\n",
       "<table border=\"1\" class=\"dataframe\">\n",
       "  <thead>\n",
       "    <tr style=\"text-align: right;\">\n",
       "      <th></th>\n",
       "      <th>pidp</th>\n",
       "      <th>carer</th>\n",
       "      <th>wage_deflated</th>\n",
       "      <th>wage_h_deflated</th>\n",
       "      <th>wave</th>\n",
       "      <th>date</th>\n",
       "      <th>employed</th>\n",
       "      <th>waves_caring</th>\n",
       "      <th>wave_reindex</th>\n",
       "      <th>wave_treat</th>\n",
       "      <th>wave_treat_real</th>\n",
       "      <th>initial_wave</th>\n",
       "      <th>reindex</th>\n",
       "    </tr>\n",
       "  </thead>\n",
       "  <tbody>\n",
       "    <tr>\n",
       "      <th>56452</th>\n",
       "      <td>76165</td>\n",
       "      <td>False</td>\n",
       "      <td>2710.843373</td>\n",
       "      <td>17.887452</td>\n",
       "      <td>7</td>\n",
       "      <td>2015-03-01</td>\n",
       "      <td>employed</td>\n",
       "      <td>0</td>\n",
       "      <td>1</td>\n",
       "      <td>1</td>\n",
       "      <td>7</td>\n",
       "      <td>7</td>\n",
       "      <td>0</td>\n",
       "    </tr>\n",
       "    <tr>\n",
       "      <th>66420</th>\n",
       "      <td>76165</td>\n",
       "      <td>False</td>\n",
       "      <td>3486.055777</td>\n",
       "      <td>23.002678</td>\n",
       "      <td>8</td>\n",
       "      <td>2016-03-01</td>\n",
       "      <td>employed</td>\n",
       "      <td>0</td>\n",
       "      <td>2</td>\n",
       "      <td>1</td>\n",
       "      <td>7</td>\n",
       "      <td>7</td>\n",
       "      <td>1</td>\n",
       "    </tr>\n",
       "    <tr>\n",
       "      <th>75955</th>\n",
       "      <td>76165</td>\n",
       "      <td>False</td>\n",
       "      <td>3793.604651</td>\n",
       "      <td>125.160167</td>\n",
       "      <td>9</td>\n",
       "      <td>2017-04-01</td>\n",
       "      <td>employed</td>\n",
       "      <td>0</td>\n",
       "      <td>3</td>\n",
       "      <td>1</td>\n",
       "      <td>7</td>\n",
       "      <td>7</td>\n",
       "      <td>2</td>\n",
       "    </tr>\n",
       "    <tr>\n",
       "      <th>84856</th>\n",
       "      <td>76165</td>\n",
       "      <td>False</td>\n",
       "      <td>3788.772598</td>\n",
       "      <td>25.000149</td>\n",
       "      <td>10</td>\n",
       "      <td>2018-03-01</td>\n",
       "      <td>employed</td>\n",
       "      <td>0</td>\n",
       "      <td>4</td>\n",
       "      <td>1</td>\n",
       "      <td>7</td>\n",
       "      <td>7</td>\n",
       "      <td>3</td>\n",
       "    </tr>\n",
       "    <tr>\n",
       "      <th>93313</th>\n",
       "      <td>76165</td>\n",
       "      <td>False</td>\n",
       "      <td>4000.000000</td>\n",
       "      <td>26.393929</td>\n",
       "      <td>11</td>\n",
       "      <td>2019-03-01</td>\n",
       "      <td>employed</td>\n",
       "      <td>0</td>\n",
       "      <td>5</td>\n",
       "      <td>1</td>\n",
       "      <td>7</td>\n",
       "      <td>7</td>\n",
       "      <td>4</td>\n",
       "    </tr>\n",
       "    <tr>\n",
       "      <th>...</th>\n",
       "      <td>...</td>\n",
       "      <td>...</td>\n",
       "      <td>...</td>\n",
       "      <td>...</td>\n",
       "      <td>...</td>\n",
       "      <td>...</td>\n",
       "      <td>...</td>\n",
       "      <td>...</td>\n",
       "      <td>...</td>\n",
       "      <td>...</td>\n",
       "      <td>...</td>\n",
       "      <td>...</td>\n",
       "      <td>...</td>\n",
       "    </tr>\n",
       "    <tr>\n",
       "      <th>108364</th>\n",
       "      <td>1652835250</td>\n",
       "      <td>False</td>\n",
       "      <td>1423.970202</td>\n",
       "      <td>8.888148</td>\n",
       "      <td>12</td>\n",
       "      <td>2021-11-01</td>\n",
       "      <td>employed</td>\n",
       "      <td>0</td>\n",
       "      <td>6</td>\n",
       "      <td>1</td>\n",
       "      <td>6</td>\n",
       "      <td>6</td>\n",
       "      <td>5</td>\n",
       "    </tr>\n",
       "    <tr>\n",
       "      <th>56450</th>\n",
       "      <td>1652984890</td>\n",
       "      <td>False</td>\n",
       "      <td>3154.053707</td>\n",
       "      <td>33.109949</td>\n",
       "      <td>6</td>\n",
       "      <td>2015-12-01</td>\n",
       "      <td>employed</td>\n",
       "      <td>0</td>\n",
       "      <td>1</td>\n",
       "      <td>1</td>\n",
       "      <td>6</td>\n",
       "      <td>6</td>\n",
       "      <td>0</td>\n",
       "    </tr>\n",
       "    <tr>\n",
       "      <th>66418</th>\n",
       "      <td>1652984890</td>\n",
       "      <td>False</td>\n",
       "      <td>3110.677723</td>\n",
       "      <td>18.905298</td>\n",
       "      <td>7</td>\n",
       "      <td>2017-01-01</td>\n",
       "      <td>employed</td>\n",
       "      <td>0</td>\n",
       "      <td>2</td>\n",
       "      <td>1</td>\n",
       "      <td>6</td>\n",
       "      <td>6</td>\n",
       "      <td>1</td>\n",
       "    </tr>\n",
       "    <tr>\n",
       "      <th>56451</th>\n",
       "      <td>1653059650</td>\n",
       "      <td>False</td>\n",
       "      <td>2796.853049</td>\n",
       "      <td>16.148112</td>\n",
       "      <td>6</td>\n",
       "      <td>2016-02-01</td>\n",
       "      <td>employed</td>\n",
       "      <td>0</td>\n",
       "      <td>1</td>\n",
       "      <td>1</td>\n",
       "      <td>6</td>\n",
       "      <td>6</td>\n",
       "      <td>0</td>\n",
       "    </tr>\n",
       "    <tr>\n",
       "      <th>66419</th>\n",
       "      <td>1653059650</td>\n",
       "      <td>False</td>\n",
       "      <td>3339.882122</td>\n",
       "      <td>25.711179</td>\n",
       "      <td>7</td>\n",
       "      <td>2017-01-01</td>\n",
       "      <td>employed</td>\n",
       "      <td>0</td>\n",
       "      <td>2</td>\n",
       "      <td>1</td>\n",
       "      <td>6</td>\n",
       "      <td>6</td>\n",
       "      <td>1</td>\n",
       "    </tr>\n",
       "  </tbody>\n",
       "</table>\n",
       "<p>93898 rows × 13 columns</p>\n",
       "</div>"
      ],
      "text/plain": [
       "              pidp  carer  wage_deflated  wage_h_deflated  wave       date  \\\n",
       "56452        76165  False    2710.843373        17.887452     7 2015-03-01   \n",
       "66420        76165  False    3486.055777        23.002678     8 2016-03-01   \n",
       "75955        76165  False    3793.604651       125.160167     9 2017-04-01   \n",
       "84856        76165  False    3788.772598        25.000149    10 2018-03-01   \n",
       "93313        76165  False    4000.000000        26.393929    11 2019-03-01   \n",
       "...            ...    ...            ...              ...   ...        ...   \n",
       "108364  1652835250  False    1423.970202         8.888148    12 2021-11-01   \n",
       "56450   1652984890  False    3154.053707        33.109949     6 2015-12-01   \n",
       "66418   1652984890  False    3110.677723        18.905298     7 2017-01-01   \n",
       "56451   1653059650  False    2796.853049        16.148112     6 2016-02-01   \n",
       "66419   1653059650  False    3339.882122        25.711179     7 2017-01-01   \n",
       "\n",
       "        employed  waves_caring  wave_reindex  wave_treat  wave_treat_real  \\\n",
       "56452   employed             0             1           1                7   \n",
       "66420   employed             0             2           1                7   \n",
       "75955   employed             0             3           1                7   \n",
       "84856   employed             0             4           1                7   \n",
       "93313   employed             0             5           1                7   \n",
       "...          ...           ...           ...         ...              ...   \n",
       "108364  employed             0             6           1                6   \n",
       "56450   employed             0             1           1                6   \n",
       "66418   employed             0             2           1                6   \n",
       "56451   employed             0             1           1                6   \n",
       "66419   employed             0             2           1                6   \n",
       "\n",
       "        initial_wave  reindex  \n",
       "56452              7        0  \n",
       "66420              7        1  \n",
       "75955              7        2  \n",
       "84856              7        3  \n",
       "93313              7        4  \n",
       "...              ...      ...  \n",
       "108364             6        5  \n",
       "56450              6        0  \n",
       "66418              6        1  \n",
       "56451              6        0  \n",
       "66419              6        1  \n",
       "\n",
       "[93898 rows x 13 columns]"
      ]
     },
     "execution_count": 373,
     "metadata": {},
     "output_type": "execute_result"
    }
   ],
   "source": [
    "isc_data"
   ]
  },
  {
   "cell_type": "code",
   "execution_count": 374,
   "id": "5fd47901-1531-40a1-a9e1-58fc888610e4",
   "metadata": {
    "tags": []
   },
   "outputs": [],
   "source": [
    "#isc_data = isc_data.dropna()"
   ]
  },
  {
   "cell_type": "code",
   "execution_count": 375,
   "id": "6d00cbc2-d2b7-4bc8-a211-5e4a166de043",
   "metadata": {},
   "outputs": [],
   "source": [
    "isc_data['ever_carer'] = isc_data.groupby('pidp')['carer'].transform(any)"
   ]
  },
  {
   "cell_type": "code",
   "execution_count": 376,
   "id": "565b4bf9-c808-4dd3-90b2-57955d4a7617",
   "metadata": {
    "tags": []
   },
   "outputs": [],
   "source": [
    "carers = isc_data[isc_data.ever_carer]"
   ]
  },
  {
   "cell_type": "code",
   "execution_count": 377,
   "id": "d4fac435-b51d-49b9-968c-2da27d894c64",
   "metadata": {
    "tags": []
   },
   "outputs": [],
   "source": [
    "controls = isc_data[~isc_data.ever_carer]"
   ]
  },
  {
   "cell_type": "code",
   "execution_count": 378,
   "id": "23c3ca56-5418-458e-832f-4840234e955f",
   "metadata": {
    "tags": []
   },
   "outputs": [
    {
     "data": {
      "text/plain": [
       "702"
      ]
     },
     "execution_count": 378,
     "metadata": {},
     "output_type": "execute_result"
    }
   ],
   "source": [
    "len(carers.pidp.unique())"
   ]
  },
  {
   "cell_type": "code",
   "execution_count": 379,
   "id": "b399a9e7-5294-4c04-ac6d-a3dca90b283f",
   "metadata": {
    "tags": []
   },
   "outputs": [],
   "source": [
    "def get_control_clean(c_data, t_data):\n",
    "    samples = []\n",
    "    t_ids = t_data.pidp.unique().tolist()\n",
    "    for t_id in t_ids:\n",
    "        out = {}\n",
    "        init = t_data[t_data.pidp == t_id].initial_wave.unique()[0]\n",
    "        treat_time = t_data[t_data.pidp == t_id].wave_treat_real.unique()[0]\n",
    "        last_wave = t_data[t_data.pidp == t_id].wave.max()\n",
    "        length = (last_wave + 1) - init\n",
    "        # HUGE PROBLEM HERE waves need to match exactly!!! do not use range!!!\n",
    "        idx = c_data[(c_data.wave >= init) & (controls.wave <= last_wave)].groupby('pidp')['pidp'].transform('count') == length\n",
    "        sub_sample = c_data[(c_data.wave >= init) & (controls.wave <= last_wave)][idx].reset_index(drop=True)\n",
    "        treat = t_data[t_data.pidp == t_id].pivot(index='wave', columns='pidp', values='wage_deflated')\n",
    "        #treat.columns = ['treated']\n",
    "        sub_sample = sub_sample.pivot(index='wave', columns='pidp', values='wage_deflated')\n",
    "        sub_sample = pd.concat([treat, sub_sample], axis=1, join=\"inner\")\n",
    "        out['data'] = sub_sample\n",
    "        out['treat_time'] = treat_time\n",
    "        samples.append(out)\n",
    "    return samples"
   ]
  },
  {
   "cell_type": "code",
   "execution_count": 380,
   "id": "3748bac5-bb2a-4e23-a472-d98c2e9b07a1",
   "metadata": {
    "tags": []
   },
   "outputs": [],
   "source": [
    "samples = get_control_clean(controls, carers)"
   ]
  },
  {
   "cell_type": "code",
   "execution_count": 381,
   "id": "5fa8f50d-feb8-4779-b189-77bcd3425eb2",
   "metadata": {
    "tags": []
   },
   "outputs": [
    {
     "data": {
      "text/html": [
       "<div>\n",
       "<style scoped>\n",
       "    .dataframe tbody tr th:only-of-type {\n",
       "        vertical-align: middle;\n",
       "    }\n",
       "\n",
       "    .dataframe tbody tr th {\n",
       "        vertical-align: top;\n",
       "    }\n",
       "\n",
       "    .dataframe thead th {\n",
       "        text-align: right;\n",
       "    }\n",
       "</style>\n",
       "<table border=\"1\" class=\"dataframe\">\n",
       "  <thead>\n",
       "    <tr style=\"text-align: right;\">\n",
       "      <th></th>\n",
       "      <th>pidp</th>\n",
       "      <th>carer</th>\n",
       "      <th>wage_deflated</th>\n",
       "      <th>wage_h_deflated</th>\n",
       "      <th>wave</th>\n",
       "      <th>date</th>\n",
       "      <th>employed</th>\n",
       "      <th>waves_caring</th>\n",
       "      <th>wave_reindex</th>\n",
       "      <th>wave_treat</th>\n",
       "      <th>wave_treat_real</th>\n",
       "      <th>initial_wave</th>\n",
       "      <th>reindex</th>\n",
       "      <th>ever_carer</th>\n",
       "    </tr>\n",
       "  </thead>\n",
       "  <tbody>\n",
       "    <tr>\n",
       "      <th>7720</th>\n",
       "      <td>89124205</td>\n",
       "      <td>False</td>\n",
       "      <td>4279.279279</td>\n",
       "      <td>26.354299</td>\n",
       "      <td>2</td>\n",
       "      <td>2010-01-01</td>\n",
       "      <td>employed</td>\n",
       "      <td>3</td>\n",
       "      <td>1</td>\n",
       "      <td>6</td>\n",
       "      <td>9</td>\n",
       "      <td>2</td>\n",
       "      <td>-5</td>\n",
       "      <td>True</td>\n",
       "    </tr>\n",
       "    <tr>\n",
       "      <th>17336</th>\n",
       "      <td>89124205</td>\n",
       "      <td>False</td>\n",
       "      <td>4423.976249</td>\n",
       "      <td>27.245427</td>\n",
       "      <td>3</td>\n",
       "      <td>2011-02-01</td>\n",
       "      <td>employed</td>\n",
       "      <td>3</td>\n",
       "      <td>2</td>\n",
       "      <td>6</td>\n",
       "      <td>9</td>\n",
       "      <td>2</td>\n",
       "      <td>-4</td>\n",
       "      <td>True</td>\n",
       "    </tr>\n",
       "    <tr>\n",
       "      <th>36832</th>\n",
       "      <td>89124205</td>\n",
       "      <td>False</td>\n",
       "      <td>2735.046074</td>\n",
       "      <td>21.781047</td>\n",
       "      <td>5</td>\n",
       "      <td>2013-02-01</td>\n",
       "      <td>employed</td>\n",
       "      <td>3</td>\n",
       "      <td>3</td>\n",
       "      <td>6</td>\n",
       "      <td>9</td>\n",
       "      <td>2</td>\n",
       "      <td>-3</td>\n",
       "      <td>True</td>\n",
       "    </tr>\n",
       "    <tr>\n",
       "      <th>56904</th>\n",
       "      <td>89124205</td>\n",
       "      <td>False</td>\n",
       "      <td>1305.220884</td>\n",
       "      <td>9.419897</td>\n",
       "      <td>7</td>\n",
       "      <td>2015-03-01</td>\n",
       "      <td>employed</td>\n",
       "      <td>3</td>\n",
       "      <td>4</td>\n",
       "      <td>6</td>\n",
       "      <td>9</td>\n",
       "      <td>2</td>\n",
       "      <td>-2</td>\n",
       "      <td>True</td>\n",
       "    </tr>\n",
       "    <tr>\n",
       "      <th>66859</th>\n",
       "      <td>89124205</td>\n",
       "      <td>False</td>\n",
       "      <td>1318.881070</td>\n",
       "      <td>12.691311</td>\n",
       "      <td>8</td>\n",
       "      <td>2016-02-01</td>\n",
       "      <td>employed</td>\n",
       "      <td>3</td>\n",
       "      <td>5</td>\n",
       "      <td>6</td>\n",
       "      <td>9</td>\n",
       "      <td>2</td>\n",
       "      <td>-1</td>\n",
       "      <td>True</td>\n",
       "    </tr>\n",
       "    <tr>\n",
       "      <th>76362</th>\n",
       "      <td>89124205</td>\n",
       "      <td>True</td>\n",
       "      <td>1168.451801</td>\n",
       "      <td>11.243763</td>\n",
       "      <td>9</td>\n",
       "      <td>2017-03-01</td>\n",
       "      <td>employed</td>\n",
       "      <td>3</td>\n",
       "      <td>6</td>\n",
       "      <td>6</td>\n",
       "      <td>9</td>\n",
       "      <td>2</td>\n",
       "      <td>0</td>\n",
       "      <td>True</td>\n",
       "    </tr>\n",
       "    <tr>\n",
       "      <th>85245</th>\n",
       "      <td>89124205</td>\n",
       "      <td>True</td>\n",
       "      <td>944.938159</td>\n",
       "      <td>8.729221</td>\n",
       "      <td>10</td>\n",
       "      <td>2018-03-01</td>\n",
       "      <td>employed</td>\n",
       "      <td>3</td>\n",
       "      <td>7</td>\n",
       "      <td>6</td>\n",
       "      <td>9</td>\n",
       "      <td>2</td>\n",
       "      <td>1</td>\n",
       "      <td>True</td>\n",
       "    </tr>\n",
       "    <tr>\n",
       "      <th>93680</th>\n",
       "      <td>89124205</td>\n",
       "      <td>True</td>\n",
       "      <td>1527.777778</td>\n",
       "      <td>11.026110</td>\n",
       "      <td>11</td>\n",
       "      <td>2019-07-01</td>\n",
       "      <td>employed</td>\n",
       "      <td>3</td>\n",
       "      <td>8</td>\n",
       "      <td>6</td>\n",
       "      <td>9</td>\n",
       "      <td>2</td>\n",
       "      <td>2</td>\n",
       "      <td>True</td>\n",
       "    </tr>\n",
       "    <tr>\n",
       "      <th>101548</th>\n",
       "      <td>89124205</td>\n",
       "      <td>False</td>\n",
       "      <td>1669.014778</td>\n",
       "      <td>12.045430</td>\n",
       "      <td>12</td>\n",
       "      <td>2020-03-01</td>\n",
       "      <td>employed</td>\n",
       "      <td>3</td>\n",
       "      <td>9</td>\n",
       "      <td>6</td>\n",
       "      <td>9</td>\n",
       "      <td>2</td>\n",
       "      <td>3</td>\n",
       "      <td>True</td>\n",
       "    </tr>\n",
       "  </tbody>\n",
       "</table>\n",
       "</div>"
      ],
      "text/plain": [
       "            pidp  carer  wage_deflated  wage_h_deflated  wave       date  \\\n",
       "7720    89124205  False    4279.279279        26.354299     2 2010-01-01   \n",
       "17336   89124205  False    4423.976249        27.245427     3 2011-02-01   \n",
       "36832   89124205  False    2735.046074        21.781047     5 2013-02-01   \n",
       "56904   89124205  False    1305.220884         9.419897     7 2015-03-01   \n",
       "66859   89124205  False    1318.881070        12.691311     8 2016-02-01   \n",
       "76362   89124205   True    1168.451801        11.243763     9 2017-03-01   \n",
       "85245   89124205   True     944.938159         8.729221    10 2018-03-01   \n",
       "93680   89124205   True    1527.777778        11.026110    11 2019-07-01   \n",
       "101548  89124205  False    1669.014778        12.045430    12 2020-03-01   \n",
       "\n",
       "        employed  waves_caring  wave_reindex  wave_treat  wave_treat_real  \\\n",
       "7720    employed             3             1           6                9   \n",
       "17336   employed             3             2           6                9   \n",
       "36832   employed             3             3           6                9   \n",
       "56904   employed             3             4           6                9   \n",
       "66859   employed             3             5           6                9   \n",
       "76362   employed             3             6           6                9   \n",
       "85245   employed             3             7           6                9   \n",
       "93680   employed             3             8           6                9   \n",
       "101548  employed             3             9           6                9   \n",
       "\n",
       "        initial_wave  reindex  ever_carer  \n",
       "7720               2       -5        True  \n",
       "17336              2       -4        True  \n",
       "36832              2       -3        True  \n",
       "56904              2       -2        True  \n",
       "66859              2       -1        True  \n",
       "76362              2        0        True  \n",
       "85245              2        1        True  \n",
       "93680              2        2        True  \n",
       "101548             2        3        True  "
      ]
     },
     "execution_count": 381,
     "metadata": {},
     "output_type": "execute_result"
    }
   ],
   "source": [
    "carers[carers.pidp==89124205]"
   ]
  },
  {
   "cell_type": "code",
   "execution_count": 382,
   "id": "c1ed633e-af8a-4db2-9ecb-4149dc7001d7",
   "metadata": {
    "tags": []
   },
   "outputs": [
    {
     "data": {
      "text/plain": [
       "{'data': pidp   68049651     68035367     68042167     68044207     68045567    \\\n",
       " wave                                                                    \n",
       " 1     2213.244854  2755.733945  3367.979125   808.314088  2886.836028   \n",
       " 2     2158.412212  2893.258427  3847.601263   720.720721  2808.988764   \n",
       " 3     1986.272975  2816.901408  4038.126362   758.396533  2723.311547   \n",
       " 4     1560.874089  3010.504202  4018.907563   739.176346  2626.050420   \n",
       " 5     1975.948499  5256.410256  3780.072084   769.230769  2051.282051   \n",
       " 6     2228.155969  5247.225025  3899.091826   736.770953  2219.979818   \n",
       " 7     2010.050251  5527.638191  3906.626506  1064.257028  2997.002997   \n",
       " 8     2052.632711  5328.002076  3196.803197  1095.617530  2988.047809   \n",
       " 9     1964.636542  5329.457364  3837.890625  1162.790698  3068.798450   \n",
       " 10    1913.875598  5208.530806  3747.378456  1048.617731  3062.200957   \n",
       " 11    1997.180451  5033.457249  3745.318352  2130.149813  3043.071161   \n",
       " 12     923.361034  5315.837937  3913.443831  1995.092009  3060.941828   \n",
       " \n",
       " pidp   68051011     68060527     68063251     68068007     68105407    ...  \\\n",
       " wave                                                                   ...   \n",
       " 1     3079.295522  3233.256351  1347.194046  2694.376534  3052.344201  ...   \n",
       " 2     3089.887640  3512.359551  1463.963964  3202.702703  1752.808989  ...   \n",
       " 3     3069.696726  3942.265795  1449.252475  3086.416207  1085.697149  ...   \n",
       " 4     2954.463064  3319.360505  1050.420168  2991.900822  2731.092437  ...   \n",
       " 5     2905.979567  3589.743590   945.020601  2920.958843  1965.639221  ...   \n",
       " 6     2617.255248  3531.786075  1452.068618  2891.816387  2522.704339  ...   \n",
       " 7     2938.423616  3140.703518   381.909548  3196.984925  2309.236948  ...   \n",
       " 8     2822.041910  3527.559683  1298.701299  2632.367632  2589.641434  ...   \n",
       " 9     3024.774038  3455.156326  1574.218750  2490.234375  3505.355404  ...   \n",
       " 10    2787.636438  3431.839847  1306.220096  2596.382747  2775.137890  ...   \n",
       " 11    2820.329021  3558.052434   810.468181  2476.591760  2633.206392  ...   \n",
       " 12    2883.748936  3222.836096  1380.424746  2486.187845  3222.836096  ...   \n",
       " \n",
       " pidp   1633235567   1633244407   1633271607   1633314447   1633326687  \\\n",
       " wave                                                                    \n",
       " 1     1679.379133  1324.618736  1888.158994  3177.200351  3812.636166   \n",
       " 2     1627.951472  1319.957761  1596.494783  3201.757812  3009.503696   \n",
       " 3     1635.262061  1336.073998  1675.257732  3264.608167  3596.690728   \n",
       " 4     1598.276200  1512.096774  1646.403242  3192.207583  2421.796165   \n",
       " 5     1315.564556  1526.526527  1638.104839  3211.541620  3003.003003   \n",
       " 6     1623.818486  1495.513460  1618.525896  3290.129611  2840.308687   \n",
       " 7     1719.056974  1565.557730  1590.019569  4101.377953  2799.607073   \n",
       " 8     1754.382733  1626.666667  1658.688953  3991.063144  2889.952153   \n",
       " 9     1662.969948  1169.317119  1551.966292  3905.032729  2819.548872   \n",
       " 10    1831.115216  1375.807941  1616.022099  3843.791441  2693.139355   \n",
       " 11    1282.051282  1374.885426  1643.016418  4197.188716  2925.045704   \n",
       " 12    1796.360485  1499.118166  1605.892855  4041.446208  2615.929265   \n",
       " \n",
       " pidp   1633326691   1633351851   1633780927   1634234487   1634453447  \n",
       " wave                                                                   \n",
       " 1     2832.244009  4907.306434  1633.986928  3938.047919  3585.054006  \n",
       " 2     3079.904881  5052.631579  1680.672269  3508.768503  8193.277311  \n",
       " 3     3077.934304  4316.546763  1589.350561  3589.743590  7708.119219  \n",
       " 4     1664.984864  4559.270517  1597.709340  4062.832740  8012.823808  \n",
       " 5     2002.002002  4671.341263  1512.096774  3780.241935  8341.341341  \n",
       " 6     2033.535900  4658.105761  1834.332713  3988.035892  7492.507493  \n",
       " 7     2251.149236  4484.901981   491.159136  3929.273084  8153.620352  \n",
       " 8     2239.234450  4429.520998  1238.095238  4146.727347  7936.190476  \n",
       " 9     2431.860902  3050.440551  2528.786254  3901.376331  7831.766917  \n",
       " 10    2539.242844  3924.570691  1500.461681  4394.247659  7680.184332  \n",
       " 11    2015.539305  4279.578576  1475.850051  4189.515611  7617.001828  \n",
       " 12    2018.625416  3059.550290  1432.042034  4069.226140  6596.501631  \n",
       " \n",
       " [12 rows x 1320 columns],\n",
       " 'treat_time': 4}"
      ]
     },
     "execution_count": 382,
     "metadata": {},
     "output_type": "execute_result"
    }
   ],
   "source": [
    "samples[1]"
   ]
  },
  {
   "cell_type": "code",
   "execution_count": 383,
   "id": "ed51377d-601f-4394-9d94-ea34f90de027",
   "metadata": {
    "tags": []
   },
   "outputs": [],
   "source": [
    "from typing import List\n",
    "from operator import add\n",
    "from toolz import reduce, partial\n",
    "import numpy as np\n",
    "from scipy.optimize import minimize\n",
    "from sklearn.neighbors import KDTree\n",
    "\n",
    "\n",
    "# the expression to minimise, since \\mu is 0, we are one looking for \\omega/W\n",
    "def argmin_w(W, Y_i, Y_0):\n",
    "    return np.sqrt(np.sum((Y_0 - Y_i.dot(W))**2))\n",
    "\n",
    "\n",
    "# a function wrapping the whole process\n",
    "def get_w(Y_i, Y_0):\n",
    "    w_start = [1/Y_i.shape[1]]*Y_i.shape[1]\n",
    "    weights = minimize(partial(argmin_w, Y_i=Y_i, Y_0=Y_0),\n",
    "                       np.array(w_start),\n",
    "                       method='SLSQP',\n",
    "                       constraints=({'type': 'eq', 'fun': lambda x: np.sum(x) - 1}), # constraint to sum to 1\n",
    "                       bounds=[(0.0, 1.0)]*len(w_start),\n",
    "                       )\n",
    "    return weights.x\n",
    "\n",
    "\n",
    "def isc(data_objects: list) -> dict:\n",
    "    synths = []\n",
    "    treats = []\n",
    "    diffs = []\n",
    "    std_diffs = []\n",
    "    for ele in data_objects:\n",
    "        data = ele['data'].copy()\n",
    "        t_time = ele['treat_time']\n",
    "        data.sort_index(inplace=True)\n",
    "        data.index = create_relative_index(data.index.tolist(), t_time)\n",
    "        df_T0 = data.loc[:-1, :] # this needs to be revised\n",
    "        Y_0 = df_T0.iloc[:, 0].values\n",
    "        kdt = KDTree(df_T0.T, leaf_size=30, metric='euclidean')\n",
    "        idx = kdt.query(df_T0.T, k=100, return_distance=False)[0, 1:]\n",
    "        Y_i = df_T0.iloc[:, idx].values\n",
    "        weights = get_w(Y_i, Y_0)\n",
    "        synth = data.iloc[:, idx].dot(weights) # synthetic control is now based on the new subset of observations\n",
    "        treated = data.iloc[:, 0]\n",
    "        #synth.plot()\n",
    "        #treated.plot()\n",
    "        diff = treated - synth\n",
    "        diff.plot()\n",
    "        std_diff = (diff - diff.mean())/ diff.std()\n",
    "        #std_diff.plot()\n",
    "        #std_diff_b = \n",
    "        synths.append(synth)\n",
    "        treats.append(treated)\n",
    "        diffs.append(diff)\n",
    "        std_diffs.append(std_diff)\n",
    "    return {'synths': synths, 'treats': treats, 'diffs': diffs, 'std_diffs': std_diffs}\n"
   ]
  },
  {
   "cell_type": "code",
   "execution_count": 384,
   "id": "3bdd2058-9c7d-4420-85f2-ae648fba72ee",
   "metadata": {
    "tags": []
   },
   "outputs": [
    {
     "data": {
      "image/png": "[encoded data removed]",
      "text/plain": [
       "<Figure size 640x480 with 1 Axes>"
      ]
     },
     "metadata": {},
     "output_type": "display_data"
    }
   ],
   "source": [
    "isc_list = isc(samples)"
   ]
  },
  {
   "cell_type": "code",
   "execution_count": 385,
   "id": "767162c7-9310-41ad-a7aa-a6ae15e6e96a",
   "metadata": {
    "tags": []
   },
   "outputs": [
    {
     "data": {
      "image/png": "[encoded data removed]",
      "text/plain": [
       "<Figure size 640x480 with 1 Axes>"
      ]
     },
     "metadata": {},
     "output_type": "display_data"
    }
   ],
   "source": [
    "import math\n",
    "differences = pd.concat(isc_list['diffs'], axis=1).sort_index()\n",
    "differences.loc[-5:5].mean(axis=1).plot()\n",
    "(differences.loc[-5:5].mean(axis=1) + (1.96*(differences.loc[-5:5].std(axis=1)/differences.loc[-5:5].count(axis=1).apply(math.sqrt)))).plot(color='grey')\n",
    "(differences.loc[-5:5].mean(axis=1) - (1.96*(differences.loc[-5:5].std(axis=1)/differences.loc[-5:5].count(axis=1).apply(math.sqrt)))).plot(color='grey')\n",
    "differences.count()\n",
    "plt.axhline(y=0, color='r', linestyle='-')\n",
    "plt.show()"
   ]
  },
  {
   "cell_type": "code",
   "execution_count": 386,
   "id": "6863a63b-b227-49ff-afb1-4ff2e8303a33",
   "metadata": {
    "tags": []
   },
   "outputs": [
    {
     "data": {
      "text/plain": [
       "-9     14\n",
       "-8     46\n",
       "-7     94\n",
       "-6    177\n",
       "-5    303\n",
       "-4    480\n",
       "-3    702\n",
       "-2    702\n",
       "-1    702\n",
       " 0    702\n",
       " 1    702\n",
       " 2    702\n",
       " 3    620\n",
       " 4    514\n",
       " 5    412\n",
       " 6    289\n",
       " 7    152\n",
       " 8     59\n",
       "dtype: int64"
      ]
     },
     "execution_count": 386,
     "metadata": {},
     "output_type": "execute_result"
    }
   ],
   "source": [
    "differences.count(axis=1)"
   ]
  },
  {
   "cell_type": "code",
   "execution_count": null,
   "id": "5c6f5d37-a286-402b-8b4c-ad00e94c1c7f",
   "metadata": {},
   "outputs": [],
   "source": []
  }
 ],
 "metadata": {
  "kernelspec": {
   "display_name": "Python 3 (ipykernel)",
   "language": "python",
   "name": "python3"
  },
  "language_info": {
   "codemirror_mode": {
    "name": "ipython",
    "version": 3
   },
   "file_extension": ".py",
   "mimetype": "text/x-python",
   "name": "python",
   "nbconvert_exporter": "python",
   "pygments_lexer": "ipython3",
   "version": "3.11.3"
  }
 },
 "nbformat": 4,
 "nbformat_minor": 5
}

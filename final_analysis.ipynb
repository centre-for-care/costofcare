{
 "cells": [
  {
   "cell_type": "markdown",
   "id": "10b568fc-0f19-4b44-b6bf-e265bb053906",
   "metadata": {},
   "source": [
    "# Final analysis"
   ]
  },
  {
   "cell_type": "markdown",
   "id": "4d8c4989-8ab8-493b-a2a5-2fe11ebef148",
   "metadata": {},
   "source": [
    "This notebook contains the final form of our analysis as well as the final form of the data cleaning process."
   ]
  },
  {
   "cell_type": "code",
   "execution_count": 2,
   "id": "29cd5f94-bcb4-41c1-99cf-1722a33e13db",
   "metadata": {
    "tags": []
   },
   "outputs": [],
   "source": [
    "import glob\n",
    "import os\n",
    "import pandas as pd\n",
    "import matplotlib.pyplot as plt\n",
    "path = r'/home/daniel/code/costofcare/data/bhp_ukhls_data_stata/UKDA-6614-stata/stata/ukhls'\n",
    "all_files = glob.glob(os.path.join(path , '*indresp.dta'))\n",
    "raw_colnames = ['hidp',\n",
    "                'sex',\n",
    "                'jbnssec_dv',\n",
    "                'jbnssec8_dv',\n",
    "                'jbstat',\n",
    "                'jbhrs',\n",
    "                'ethn_dv',\n",
    "                'dvage',\n",
    "                'mastat_dv',\n",
    "                'country',\n",
    "                'aidhh',\n",
    "                'aidhrs',\n",
    "                'aidxhh',\n",
    "                'paygu_dv',\n",
    "                'qfhigh',\n",
    "                'qfhigh_dv',\n",
    "                'istrtdatm',\n",
    "                'istrtdaty',\n",
    "                'month']\n",
    "indresp = []\n",
    "prefixes = [] # for later\n",
    "for filename in all_files:\n",
    "    prefix = filename.split('/')[-1][0:2]\n",
    "    prefixes.append(prefix)\n",
    "    colnames = [f'{prefix}{x}' for x in raw_colnames]\n",
    "    temp_df = pd.read_stata(filename,\n",
    "                       columns=['pidp'] + colnames)\n",
    "    indresp.append(temp_df)"
   ]
  },
  {
   "cell_type": "code",
   "execution_count": 3,
   "id": "aca48de3-8c64-4a94-b3bb-73b04aa76083",
   "metadata": {},
   "outputs": [],
   "source": [
    "for i, df in enumerate(indresp):\n",
    "    df['wave'] = i+1\n",
    "    df.columns = ['pidp',\n",
    "                'hidp',\n",
    "                'sex',\n",
    "                'jbnssec_dv',\n",
    "                  'jbnssec8_dv',\n",
    "                'jbstat',\n",
    "                'jbhrs',\n",
    "                'ethn_dv',\n",
    "                'dvage',\n",
    "                'mastat_dv',\n",
    "                'country',\n",
    "                'aidhh',\n",
    "                'aidhrs',\n",
    "                'aidxhh',\n",
    "                'paygu_dv',\n",
    "                'qfhigh',\n",
    "                'qfhigh_dv',\n",
    "                'istrtdatm',\n",
    "                'istrtdaty',\n",
    "                'month',\n",
    "                 'wave']"
   ]
  },
  {
   "cell_type": "code",
   "execution_count": 4,
   "id": "79d94903-ced4-4d48-a443-3f0275f90b94",
   "metadata": {},
   "outputs": [
    {
     "data": {
      "text/plain": [
       "88602"
      ]
     },
     "execution_count": 4,
     "metadata": {},
     "output_type": "execute_result"
    }
   ],
   "source": [
    "data = pd.concat(indresp)\n",
    "data['max_waves'] = data.groupby('pidp')['wave'].transform('count')\n",
    "len(data.pidp.unique())"
   ]
  },
  {
   "cell_type": "code",
   "execution_count": 5,
   "id": "e3938f65-8253-4ec0-b605-d57ba773409c",
   "metadata": {},
   "outputs": [],
   "source": [
    "check = data[['wave', 'pidp', 'max_waves']]"
   ]
  },
  {
   "cell_type": "code",
   "execution_count": 6,
   "id": "6fd6775d-7152-4f33-9ed6-13744963d4fa",
   "metadata": {},
   "outputs": [
    {
     "data": {
      "text/plain": [
       "40123"
      ]
     },
     "execution_count": 6,
     "metadata": {},
     "output_type": "execute_result"
    }
   ],
   "source": [
    "len(check[check.max_waves > 5].pidp.unique())"
   ]
  },
  {
   "cell_type": "markdown",
   "id": "d4b4bc68-c48c-4e49-8f4b-e15dbfdae164",
   "metadata": {},
   "source": [
    "## Decision\n",
    "We will consider that has at least six data points, whether or not they are consecutive or not, and whether or not they start from wave 1."
   ]
  },
  {
   "cell_type": "code",
   "execution_count": 7,
   "id": "1715e157-72a3-414e-8be7-98f57d2e8c52",
   "metadata": {
    "tags": []
   },
   "outputs": [
    {
     "data": {
      "text/plain": [
       "40123"
      ]
     },
     "execution_count": 7,
     "metadata": {},
     "output_type": "execute_result"
    }
   ],
   "source": [
    "data_6 = data[data.max_waves > 5]\n",
    "len(data_6.pidp.unique())"
   ]
  },
  {
   "cell_type": "markdown",
   "id": "b5285864-a8ec-4460-bf4d-bae498ea8e6f",
   "metadata": {},
   "source": [
    "# Treatment Variable"
   ]
  },
  {
   "cell_type": "markdown",
   "id": "e95e47e9-f580-4168-bfca-0d2c6170770d",
   "metadata": {},
   "source": [
    "## Decision\n",
    "Recoding treatment variable"
   ]
  },
  {
   "cell_type": "code",
   "execution_count": 8,
   "id": "ce0ed3e4-6f2d-4287-9c09-a9c1af8995fe",
   "metadata": {
    "tags": []
   },
   "outputs": [
    {
     "name": "stderr",
     "output_type": "stream",
     "text": [
      "/tmp/ipykernel_3707/1074845151.py:2: SettingWithCopyWarning: \n",
      "A value is trying to be set on a copy of a slice from a DataFrame.\n",
      "Try using .loc[row_indexer,col_indexer] = value instead\n",
      "\n",
      "See the caveats in the documentation: https://pandas.pydata.org/pandas-docs/stable/user_guide/indexing.html#returning-a-view-versus-a-copy\n",
      "  data_6['aidhh_recoded'] = data_6.aidhh.replace({'Yes': 'yes',\n"
     ]
    }
   ],
   "source": [
    "import numpy as np\n",
    "data_6['aidhh_recoded'] = data_6.aidhh.replace({'Yes': 'yes',\n",
    "                                                'No': 'no',\n",
    "                                                'no     ': 'no',\n",
    "                                                'yes    ': 'yes',\n",
    "                                                'Not available for IEMB': np.nan,\n",
    "                                                \"don't know\": np.nan,\n",
    "                                                'proxy': np.nan,\n",
    "                                                'missing': np.nan,\n",
    "                                                'refusal': np.nan,\n",
    "                                                'inapplicable': np.nan})"
   ]
  },
  {
   "cell_type": "code",
   "execution_count": 9,
   "id": "10b7de9c-ab66-48f1-9a6c-c2540ddc459b",
   "metadata": {
    "tags": []
   },
   "outputs": [
    {
     "name": "stderr",
     "output_type": "stream",
     "text": [
      "/tmp/ipykernel_3707/1333873410.py:1: SettingWithCopyWarning: \n",
      "A value is trying to be set on a copy of a slice from a DataFrame.\n",
      "Try using .loc[row_indexer,col_indexer] = value instead\n",
      "\n",
      "See the caveats in the documentation: https://pandas.pydata.org/pandas-docs/stable/user_guide/indexing.html#returning-a-view-versus-a-copy\n",
      "  data_6['aidxhh_recoded'] = data_6.aidxhh.replace({'Yes': 'yes',\n"
     ]
    }
   ],
   "source": [
    "data_6['aidxhh_recoded'] = data_6.aidxhh.replace({'Yes': 'yes',\n",
    "                                                'No': 'no',\n",
    "                                                'no     ': 'no',\n",
    "                                                'yes    ': 'yes',\n",
    "                                                'Not available for IEMB': np.nan,\n",
    "                                                \"don't know\": np.nan,\n",
    "                                                'proxy': np.nan,\n",
    "                                                'missing': np.nan,\n",
    "                                                'refusal': np.nan,\n",
    "                                                'inapplicable': np.nan})"
   ]
  },
  {
   "cell_type": "code",
   "execution_count": 10,
   "id": "b1c3b19d-7e7d-451b-84ad-6bafda580ff1",
   "metadata": {
    "tags": []
   },
   "outputs": [
    {
     "name": "stderr",
     "output_type": "stream",
     "text": [
      "/tmp/ipykernel_3707/2909938044.py:1: SettingWithCopyWarning: \n",
      "A value is trying to be set on a copy of a slice from a DataFrame.\n",
      "Try using .loc[row_indexer,col_indexer] = value instead\n",
      "\n",
      "See the caveats in the documentation: https://pandas.pydata.org/pandas-docs/stable/user_guide/indexing.html#returning-a-view-versus-a-copy\n",
      "  data_6['aidhrs_recoded_3'] = data_6.aidhrs.str.strip().replace({\"inapplicable\": np.nan,\n"
     ]
    }
   ],
   "source": [
    "data_6['aidhrs_recoded_3'] = data_6.aidhrs.str.strip().replace({\"inapplicable\": np.nan,\n",
    "                                   \"0 - 4 hours per week\": \"0-19\",\n",
    "                                   \"proxy\": np.nan,\n",
    "                                   \"5 - 9 hours per week\": \"0-19\",\n",
    "                                   \"10 - 19 hours per week\": \"0-19\",\n",
    "                                   \"100 or more hours per week/continuous care\": \"50+\",\n",
    "                                   \"20 - 34 hours per week\": \"20-49\",\n",
    "                                   \"35 - 49 hours per week\": \"20-49\",\n",
    "                                   \"varies 20 hours or more\": \"20-49\",\n",
    "                                   \"0 - 4 hours per week\": \"0-19\",\n",
    "                                   \"10-19 hours per week\": \"0-19\",\n",
    "                                   \"Not available for IEMB\": np.nan,\n",
    "                                   \"Varies 20 hours or more\": \"20-49\",\n",
    "                                   \"varies under 20 hours\": \"0-19\",\n",
    "                                   \"Varies under 20 hours\": \"0-19\",\n",
    "                                   \"20-34 hours per week\": \"20-49\",\n",
    "                                   \"5 - 9 hours per week\": \"0-19\",\n",
    "                                   \"Other\": np.nan,\n",
    "                                   \"10 - 19 hours per week\": \"0-19\",\n",
    "                                   \"35-49 hours per week\": \"20-49\",\n",
    "                                   \"100 or more hours per week/continuous care\": \"50+\",\n",
    "                                   \"20 - 34 hours per week\": \"20-49\",\n",
    "                                   \"50-99 hours per week\": \"50+\",\n",
    "                                   \"other\": np.nan,\n",
    "                                   \"don't know\": np.nan,\n",
    "                                   \"35 - 49 hours per week\": \"20-49\",\n",
    "                                   \"varies under 20 hours\": \"0-19\",\n",
    "                                   \"50 - 99 hours per week\": \"50+\",\n",
    "                                   \"other\": np.nan,\n",
    "                                   \"refusal\": np.nan}).copy()"
   ]
  },
  {
   "cell_type": "markdown",
   "id": "726cef4e-29c8-4483-8001-6df10ad1717a",
   "metadata": {},
   "source": [
    "## Note\n",
    "The variable below identifies the people who provided care under our specific conditions based on the 3 variables above."
   ]
  },
  {
   "cell_type": "code",
   "execution_count": 11,
   "id": "1ddbf6d1-2db7-4837-9341-7b0da086996e",
   "metadata": {
    "tags": []
   },
   "outputs": [
    {
     "name": "stderr",
     "output_type": "stream",
     "text": [
      "/tmp/ipykernel_3707/3799348870.py:1: SettingWithCopyWarning: \n",
      "A value is trying to be set on a copy of a slice from a DataFrame.\n",
      "Try using .loc[row_indexer,col_indexer] = value instead\n",
      "\n",
      "See the caveats in the documentation: https://pandas.pydata.org/pandas-docs/stable/user_guide/indexing.html#returning-a-view-versus-a-copy\n",
      "  data_6['carer'] = ((data_6.aidhh_recoded == 'yes') | (data_6.aidxhh_recoded == 'yes') | (~data_6.aidhrs_recoded_3.isnull()))\n"
     ]
    }
   ],
   "source": [
    "data_6['carer'] = ((data_6.aidhh_recoded == 'yes') | (data_6.aidxhh_recoded == 'yes') | (~data_6.aidhrs_recoded_3.isnull()))"
   ]
  },
  {
   "cell_type": "markdown",
   "id": "e4246a05-6334-4af4-bea4-33df74c24d8b",
   "metadata": {},
   "source": [
    "Counting how many waves are carers taking care responsabilities on average"
   ]
  },
  {
   "cell_type": "code",
   "execution_count": 12,
   "id": "f17aaa7d-75a3-4e75-8297-7a2fb64bfcbf",
   "metadata": {
    "tags": []
   },
   "outputs": [
    {
     "data": {
      "text/plain": [
       "3.6293369616411115"
      ]
     },
     "execution_count": 12,
     "metadata": {},
     "output_type": "execute_result"
    }
   ],
   "source": [
    "care_resp = data_6[['pidp', 'carer', 'wave']][data_6.carer]\n",
    "care_resp['max_waves'] = care_resp.groupby('pidp')['wave'].transform('count')\n",
    "care_resp.drop_duplicates(subset=['pidp']).max_waves.mean()"
   ]
  },
  {
   "cell_type": "markdown",
   "id": "dc1d66a4-434a-46bf-89f5-95de4253c4db",
   "metadata": {},
   "source": [
    "## Decision\n",
    "We will use a \"generalised\" moment of treatment with at least 3 measures before, and at least 1 after."
   ]
  },
  {
   "cell_type": "markdown",
   "id": "c5c1b28e-dcf3-4174-a354-f538f961c700",
   "metadata": {},
   "source": [
    "# Target Variable"
   ]
  },
  {
   "cell_type": "code",
   "execution_count": 13,
   "id": "7a6637f3-e3e9-4ec1-96f8-b0ce7f4d8e96",
   "metadata": {
    "tags": []
   },
   "outputs": [
    {
     "name": "stderr",
     "output_type": "stream",
     "text": [
      "/tmp/ipykernel_3707/2089346174.py:1: SettingWithCopyWarning: \n",
      "A value is trying to be set on a copy of a slice from a DataFrame.\n",
      "Try using .loc[row_indexer,col_indexer] = value instead\n",
      "\n",
      "See the caveats in the documentation: https://pandas.pydata.org/pandas-docs/stable/user_guide/indexing.html#returning-a-view-versus-a-copy\n",
      "  data_6['jbstat_clean'] = data_6.jbstat.str.strip().str.lower() # cleaning values here\n"
     ]
    }
   ],
   "source": [
    "data_6['jbstat_clean'] = data_6.jbstat.str.strip().str.lower() # cleaning values here"
   ]
  },
  {
   "cell_type": "code",
   "execution_count": 14,
   "id": "9d0c44ca-0d6f-4e27-89a1-004ae0d4755b",
   "metadata": {
    "tags": []
   },
   "outputs": [
    {
     "data": {
      "text/plain": [
       "paid employment(ft/pt)                     187734\n",
       "retired                                     99318\n",
       "self employed                               31006\n",
       "family care or home                         19859\n",
       "unemployed                                  16201\n",
       "full-time student                           15962\n",
       "lt sick or disabled                         13788\n",
       "on maternity leave                           2151\n",
       "doing something else                         1981\n",
       "on furlough                                   387\n",
       "on apprenticeship                             288\n",
       "unpaid, family business                       261\n",
       "govt training scheme                          232\n",
       "refusal                                       131\n",
       "temporarily laid off/short term working        63\n",
       "don't know                                     47\n",
       "missing                                        29\n",
       "Name: jbstat_clean, dtype: int64"
      ]
     },
     "execution_count": 14,
     "metadata": {},
     "output_type": "execute_result"
    }
   ],
   "source": [
    "data_6.jbstat_clean.value_counts()"
   ]
  },
  {
   "cell_type": "code",
   "execution_count": 15,
   "id": "1d5a5b09-efc8-4462-9a87-049cdf244ea7",
   "metadata": {},
   "outputs": [
    {
     "name": "stderr",
     "output_type": "stream",
     "text": [
      "/tmp/ipykernel_3707/2757714622.py:1: SettingWithCopyWarning: \n",
      "A value is trying to be set on a copy of a slice from a DataFrame.\n",
      "Try using .loc[row_indexer,col_indexer] = value instead\n",
      "\n",
      "See the caveats in the documentation: https://pandas.pydata.org/pandas-docs/stable/user_guide/indexing.html#returning-a-view-versus-a-copy\n",
      "  data_6['employed'] = data_6.jbstat_clean.replace({\"paid employment(ft/pt)\": \"employed\",\n"
     ]
    }
   ],
   "source": [
    "data_6['employed'] = data_6.jbstat_clean.replace({\"paid employment(ft/pt)\": \"employed\",\n",
    "                             \"retired\": \"unemployed\",\n",
    "                       \"self employed\": \"employed\",\n",
    "                       \"family care or home\": \"unemployed\",\n",
    "                       \"unemployed\": \"unemployed\",\n",
    "                       \"full-time student\": \"unemployed\",\n",
    "                       \"lt sick or disabled\": \"unemployed\",\n",
    "                       \"on maternity leave\": \"employed\",\n",
    "                       \"doing something else\": \"unemployed\",\n",
    "                       \"on furlough\": \"unemployed\",\n",
    "                       \"on apprenticeship\": \"employed\",\n",
    "                       \"unpaid, family business\": \"unemployed\",\n",
    "                       \"govt training scheme\": \"employed\",\n",
    "                       \"refusal\": np.nan,\n",
    "                       \"temporarily laid off/short term working\": \"unemployed\",\n",
    "                       \"don't know\": np.nan,\n",
    "                       \"missing\": np.nan}\n",
    "                     )"
   ]
  },
  {
   "cell_type": "markdown",
   "id": "c04d829b-6c69-4025-9811-441ed2516c76",
   "metadata": {},
   "source": [
    "Total Sample size"
   ]
  },
  {
   "cell_type": "code",
   "execution_count": 16,
   "id": "db6713a7-ff05-4bdc-91f6-fc6095c19183",
   "metadata": {
    "tags": []
   },
   "outputs": [
    {
     "data": {
      "text/html": [
       "<div>\n",
       "<style scoped>\n",
       "    .dataframe tbody tr th:only-of-type {\n",
       "        vertical-align: middle;\n",
       "    }\n",
       "\n",
       "    .dataframe tbody tr th {\n",
       "        vertical-align: top;\n",
       "    }\n",
       "\n",
       "    .dataframe thead th {\n",
       "        text-align: right;\n",
       "    }\n",
       "</style>\n",
       "<table border=\"1\" class=\"dataframe\">\n",
       "  <thead>\n",
       "    <tr style=\"text-align: right;\">\n",
       "      <th></th>\n",
       "      <th>pidp</th>\n",
       "      <th>carer</th>\n",
       "    </tr>\n",
       "  </thead>\n",
       "  <tbody>\n",
       "    <tr>\n",
       "      <th>1</th>\n",
       "      <td>68004087</td>\n",
       "      <td>False</td>\n",
       "    </tr>\n",
       "    <tr>\n",
       "      <th>2</th>\n",
       "      <td>68006127</td>\n",
       "      <td>False</td>\n",
       "    </tr>\n",
       "    <tr>\n",
       "      <th>4</th>\n",
       "      <td>68006807</td>\n",
       "      <td>False</td>\n",
       "    </tr>\n",
       "    <tr>\n",
       "      <th>11</th>\n",
       "      <td>68008847</td>\n",
       "      <td>False</td>\n",
       "    </tr>\n",
       "    <tr>\n",
       "      <th>12</th>\n",
       "      <td>68009527</td>\n",
       "      <td>False</td>\n",
       "    </tr>\n",
       "    <tr>\n",
       "      <th>...</th>\n",
       "      <td>...</td>\n",
       "      <td>...</td>\n",
       "    </tr>\n",
       "    <tr>\n",
       "      <th>41859</th>\n",
       "      <td>1636671692</td>\n",
       "      <td>True</td>\n",
       "    </tr>\n",
       "    <tr>\n",
       "      <th>41873</th>\n",
       "      <td>1638419292</td>\n",
       "      <td>True</td>\n",
       "    </tr>\n",
       "    <tr>\n",
       "      <th>41930</th>\n",
       "      <td>1644675490</td>\n",
       "      <td>False</td>\n",
       "    </tr>\n",
       "    <tr>\n",
       "      <th>41931</th>\n",
       "      <td>1644675530</td>\n",
       "      <td>False</td>\n",
       "    </tr>\n",
       "    <tr>\n",
       "      <th>41933</th>\n",
       "      <td>1644736490</td>\n",
       "      <td>False</td>\n",
       "    </tr>\n",
       "  </tbody>\n",
       "</table>\n",
       "<p>40123 rows × 2 columns</p>\n",
       "</div>"
      ],
      "text/plain": [
       "             pidp  carer\n",
       "1        68004087  False\n",
       "2        68006127  False\n",
       "4        68006807  False\n",
       "11       68008847  False\n",
       "12       68009527  False\n",
       "...           ...    ...\n",
       "41859  1636671692   True\n",
       "41873  1638419292   True\n",
       "41930  1644675490  False\n",
       "41931  1644675530  False\n",
       "41933  1644736490  False\n",
       "\n",
       "[40123 rows x 2 columns]"
      ]
     },
     "execution_count": 16,
     "metadata": {},
     "output_type": "execute_result"
    }
   ],
   "source": [
    "data_6[['pidp', 'carer']].drop_duplicates(subset=['pidp'])"
   ]
  },
  {
   "cell_type": "markdown",
   "id": "d0b51ce0-ed50-4f7f-9d13-6811fee3c0ed",
   "metadata": {},
   "source": [
    "Total number of carers in sample"
   ]
  },
  {
   "cell_type": "code",
   "execution_count": 17,
   "id": "f22502da-9ca7-49f0-91fd-2f0440dbef56",
   "metadata": {},
   "outputs": [
    {
     "data": {
      "text/plain": [
       "6529"
      ]
     },
     "execution_count": 17,
     "metadata": {},
     "output_type": "execute_result"
    }
   ],
   "source": [
    "data_6[['pidp', 'carer']].drop_duplicates(subset=['pidp'])['carer'].sum()"
   ]
  },
  {
   "cell_type": "markdown",
   "id": "7efefcad-b085-4b88-a178-cc02563ea700",
   "metadata": {},
   "source": [
    "Number of employed individuals in the sample"
   ]
  },
  {
   "cell_type": "code",
   "execution_count": 18,
   "id": "2bb0d387-9b54-4622-abb5-b4d28d648681",
   "metadata": {
    "tags": []
   },
   "outputs": [
    {
     "data": {
      "text/plain": [
       "29337"
      ]
     },
     "execution_count": 18,
     "metadata": {},
     "output_type": "execute_result"
    }
   ],
   "source": [
    "len(data_6[(data_6.employed == 'employed')].drop_duplicates(subset=['pidp']))"
   ]
  },
  {
   "cell_type": "markdown",
   "id": "a3d0cc50-fcce-4a0f-b4d8-29ba125e98ef",
   "metadata": {
    "tags": []
   },
   "source": [
    "Number of employed carers"
   ]
  },
  {
   "cell_type": "code",
   "execution_count": 19,
   "id": "4fd10220-024b-4210-b577-a78be334ed4f",
   "metadata": {
    "tags": []
   },
   "outputs": [
    {
     "data": {
      "text/plain": [
       "4340"
      ]
     },
     "execution_count": 19,
     "metadata": {},
     "output_type": "execute_result"
    }
   ],
   "source": [
    "data_6[(data_6.employed == 'employed')].drop_duplicates(subset=['pidp']).carer.sum()"
   ]
  },
  {
   "cell_type": "markdown",
   "id": "94ce7775-f5df-4f5c-995d-8a539327eef2",
   "metadata": {},
   "source": [
    "## Decision\n",
    "We are considering only employed individuals"
   ]
  },
  {
   "cell_type": "code",
   "execution_count": 20,
   "id": "6426b666-b7e8-4de2-aa32-190a12ff3be8",
   "metadata": {
    "tags": []
   },
   "outputs": [],
   "source": [
    "df_6_emp = data_6[(data_6.employed == 'employed')]"
   ]
  },
  {
   "cell_type": "markdown",
   "id": "f57d1fcc-0cde-41c1-91d3-68b88c1f330b",
   "metadata": {},
   "source": [
    "Cleaning wage variable"
   ]
  },
  {
   "cell_type": "code",
   "execution_count": 21,
   "id": "edc14344-02a8-45cc-b053-2c8565dbbfdb",
   "metadata": {
    "tags": []
   },
   "outputs": [
    {
     "name": "stderr",
     "output_type": "stream",
     "text": [
      "/tmp/ipykernel_3707/3065558054.py:1: SettingWithCopyWarning: \n",
      "A value is trying to be set on a copy of a slice from a DataFrame.\n",
      "Try using .loc[row_indexer,col_indexer] = value instead\n",
      "\n",
      "See the caveats in the documentation: https://pandas.pydata.org/pandas-docs/stable/user_guide/indexing.html#returning-a-view-versus-a-copy\n",
      "  df_6_emp['wage'] = df_6_emp.paygu_dv.replace({'inapplicable': np.nan, 'proxy': np.nan, 'missing': np.nan})\n"
     ]
    }
   ],
   "source": [
    "df_6_emp['wage'] = df_6_emp.paygu_dv.replace({'inapplicable': np.nan, 'proxy': np.nan, 'missing': np.nan})"
   ]
  },
  {
   "cell_type": "code",
   "execution_count": 22,
   "id": "582d1c45-b737-4bd3-96e7-eae751617b25",
   "metadata": {
    "tags": []
   },
   "outputs": [
    {
     "data": {
      "text/plain": [
       "1        1075.000000\n",
       "11       1282.170044\n",
       "12       4116.669922\n",
       "14       2333.330078\n",
       "16       2641.449951\n",
       "            ...     \n",
       "29258    4583.330078\n",
       "29259    7000.000000\n",
       "29260    1624.750000\n",
       "29263    2800.000000\n",
       "29267            NaN\n",
       "Name: wage, Length: 221411, dtype: float64"
      ]
     },
     "execution_count": 22,
     "metadata": {},
     "output_type": "execute_result"
    }
   ],
   "source": [
    "df_6_emp.wage"
   ]
  },
  {
   "cell_type": "markdown",
   "id": "2948f1ec-cf47-44fb-bb27-f29f013611bf",
   "metadata": {},
   "source": [
    "Adding cpih to correct for inflation"
   ]
  },
  {
   "cell_type": "code",
   "execution_count": 23,
   "id": "29230725-a633-4d79-83e4-941988ae4231",
   "metadata": {
    "tags": []
   },
   "outputs": [
    {
     "data": {
      "text/html": [
       "<div>\n",
       "<style scoped>\n",
       "    .dataframe tbody tr th:only-of-type {\n",
       "        vertical-align: middle;\n",
       "    }\n",
       "\n",
       "    .dataframe tbody tr th {\n",
       "        vertical-align: top;\n",
       "    }\n",
       "\n",
       "    .dataframe thead th {\n",
       "        text-align: right;\n",
       "    }\n",
       "</style>\n",
       "<table border=\"1\" class=\"dataframe\">\n",
       "  <thead>\n",
       "    <tr style=\"text-align: right;\">\n",
       "      <th></th>\n",
       "      <th>date</th>\n",
       "      <th>cpih</th>\n",
       "    </tr>\n",
       "  </thead>\n",
       "  <tbody>\n",
       "    <tr>\n",
       "      <th>0</th>\n",
       "      <td>1988-01-01</td>\n",
       "      <td>46.9</td>\n",
       "    </tr>\n",
       "    <tr>\n",
       "      <th>1</th>\n",
       "      <td>1988-02-01</td>\n",
       "      <td>47.0</td>\n",
       "    </tr>\n",
       "    <tr>\n",
       "      <th>2</th>\n",
       "      <td>1988-03-01</td>\n",
       "      <td>47.2</td>\n",
       "    </tr>\n",
       "    <tr>\n",
       "      <th>3</th>\n",
       "      <td>1988-04-01</td>\n",
       "      <td>47.8</td>\n",
       "    </tr>\n",
       "    <tr>\n",
       "      <th>4</th>\n",
       "      <td>1988-05-01</td>\n",
       "      <td>48.0</td>\n",
       "    </tr>\n",
       "    <tr>\n",
       "      <th>...</th>\n",
       "      <td>...</td>\n",
       "      <td>...</td>\n",
       "    </tr>\n",
       "    <tr>\n",
       "      <th>416</th>\n",
       "      <td>2022-09-01</td>\n",
       "      <td>122.3</td>\n",
       "    </tr>\n",
       "    <tr>\n",
       "      <th>417</th>\n",
       "      <td>2022-10-01</td>\n",
       "      <td>124.3</td>\n",
       "    </tr>\n",
       "    <tr>\n",
       "      <th>418</th>\n",
       "      <td>2022-11-01</td>\n",
       "      <td>124.8</td>\n",
       "    </tr>\n",
       "    <tr>\n",
       "      <th>419</th>\n",
       "      <td>2022-12-01</td>\n",
       "      <td>125.3</td>\n",
       "    </tr>\n",
       "    <tr>\n",
       "      <th>420</th>\n",
       "      <td>2023-01-01</td>\n",
       "      <td>124.8</td>\n",
       "    </tr>\n",
       "  </tbody>\n",
       "</table>\n",
       "<p>421 rows × 2 columns</p>\n",
       "</div>"
      ],
      "text/plain": [
       "          date   cpih\n",
       "0   1988-01-01   46.9\n",
       "1   1988-02-01   47.0\n",
       "2   1988-03-01   47.2\n",
       "3   1988-04-01   47.8\n",
       "4   1988-05-01   48.0\n",
       "..         ...    ...\n",
       "416 2022-09-01  122.3\n",
       "417 2022-10-01  124.3\n",
       "418 2022-11-01  124.8\n",
       "419 2022-12-01  125.3\n",
       "420 2023-01-01  124.8\n",
       "\n",
       "[421 rows x 2 columns]"
      ]
     },
     "execution_count": 23,
     "metadata": {},
     "output_type": "execute_result"
    }
   ],
   "source": [
    "cpih = pd.read_csv('./cpih_uk_88_23.csv')\n",
    "cpih['date'] = pd.to_datetime(cpih.date, format='%b-%y')\n",
    "cpih"
   ]
  },
  {
   "cell_type": "code",
   "execution_count": 24,
   "id": "4f4384bf-a3b0-4bac-8065-cba714d2f8ef",
   "metadata": {
    "tags": []
   },
   "outputs": [
    {
     "name": "stderr",
     "output_type": "stream",
     "text": [
      "/tmp/ipykernel_3707/1591602359.py:1: SettingWithCopyWarning: \n",
      "A value is trying to be set on a copy of a slice from a DataFrame.\n",
      "Try using .loc[row_indexer,col_indexer] = value instead\n",
      "\n",
      "See the caveats in the documentation: https://pandas.pydata.org/pandas-docs/stable/user_guide/indexing.html#returning-a-view-versus-a-copy\n",
      "  df_6_emp['istrtdaty'] = df_6_emp['istrtdaty'].astype('str').replace({'inapplicable': np.nan, 'missing': np.nan, \"don't know\": np.nan})\n",
      "/tmp/ipykernel_3707/1591602359.py:2: SettingWithCopyWarning: \n",
      "A value is trying to be set on a copy of a slice from a DataFrame.\n",
      "Try using .loc[row_indexer,col_indexer] = value instead\n",
      "\n",
      "See the caveats in the documentation: https://pandas.pydata.org/pandas-docs/stable/user_guide/indexing.html#returning-a-view-versus-a-copy\n",
      "  df_6_emp['istrtdatm'] = df_6_emp['istrtdatm'].replace({'inapplicable': np.nan, 'missing': np.nan, \"don't know\": np.nan})\n",
      "/tmp/ipykernel_3707/1591602359.py:3: SettingWithCopyWarning: \n",
      "A value is trying to be set on a copy of a slice from a DataFrame.\n",
      "Try using .loc[row_indexer,col_indexer] = value instead\n",
      "\n",
      "See the caveats in the documentation: https://pandas.pydata.org/pandas-docs/stable/user_guide/indexing.html#returning-a-view-versus-a-copy\n",
      "  df_6_emp['date'] = df_6_emp['istrtdaty'].astype(str) + '/' + df_6_emp['istrtdatm'].astype(str)\n",
      "/tmp/ipykernel_3707/1591602359.py:4: SettingWithCopyWarning: \n",
      "A value is trying to be set on a copy of a slice from a DataFrame.\n",
      "Try using .loc[row_indexer,col_indexer] = value instead\n",
      "\n",
      "See the caveats in the documentation: https://pandas.pydata.org/pandas-docs/stable/user_guide/indexing.html#returning-a-view-versus-a-copy\n",
      "  df_6_emp['date'] = df_6_emp['date'].replace({'nan/nan': np.nan})\n",
      "/tmp/ipykernel_3707/1591602359.py:5: SettingWithCopyWarning: \n",
      "A value is trying to be set on a copy of a slice from a DataFrame.\n",
      "Try using .loc[row_indexer,col_indexer] = value instead\n",
      "\n",
      "See the caveats in the documentation: https://pandas.pydata.org/pandas-docs/stable/user_guide/indexing.html#returning-a-view-versus-a-copy\n",
      "  df_6_emp['date'] = pd.to_datetime(df_6_emp['date'], format='%Y/%B')\n"
     ]
    }
   ],
   "source": [
    "df_6_emp['istrtdaty'] = df_6_emp['istrtdaty'].astype('str').replace({'inapplicable': np.nan, 'missing': np.nan, \"don't know\": np.nan})\n",
    "df_6_emp['istrtdatm'] = df_6_emp['istrtdatm'].replace({'inapplicable': np.nan, 'missing': np.nan, \"don't know\": np.nan})\n",
    "df_6_emp['date'] = df_6_emp['istrtdaty'].astype(str) + '/' + df_6_emp['istrtdatm'].astype(str)\n",
    "df_6_emp['date'] = df_6_emp['date'].replace({'nan/nan': np.nan})\n",
    "df_6_emp['date'] = pd.to_datetime(df_6_emp['date'], format='%Y/%B')\n",
    "df_6_emp = df_6_emp.merge(cpih, on='date', how='left')"
   ]
  },
  {
   "cell_type": "code",
   "execution_count": 25,
   "id": "93d36402-6f1f-4649-9325-96c610262b80",
   "metadata": {
    "tags": []
   },
   "outputs": [
    {
     "name": "stderr",
     "output_type": "stream",
     "text": [
      "/tmp/ipykernel_3707/295635728.py:2: SettingWithCopyWarning: \n",
      "A value is trying to be set on a copy of a slice from a DataFrame\n",
      "\n",
      "See the caveats in the documentation: https://pandas.pydata.org/pandas-docs/stable/user_guide/indexing.html#returning-a-view-versus-a-copy\n",
      "  df_6_emp['jbhrs_clean'][df_6_emp.jbhrs_clean < 1] = np.nan\n"
     ]
    }
   ],
   "source": [
    "df_6_emp['jbhrs_clean'] = df_6_emp.jbhrs.replace({'inapplicable': np.nan, 'proxy': np.nan, 'missing': np.nan, \"don't know\": np.nan, \"refusal\": np.nan, 0: np.nan})\n",
    "df_6_emp['jbhrs_clean'][df_6_emp.jbhrs_clean < 1] = np.nan"
   ]
  },
  {
   "cell_type": "code",
   "execution_count": 26,
   "id": "b8ce4aec-9f58-46d8-8bd2-7e18e4e1b272",
   "metadata": {
    "tags": []
   },
   "outputs": [],
   "source": [
    "df_6_emp['month_jbhrs'] = df_6_emp['jbhrs_clean'] * 4.33 # times the average amount of weeks"
   ]
  },
  {
   "cell_type": "code",
   "execution_count": 27,
   "id": "d2ff7d47-1b07-404f-bd2f-11a1df4c1105",
   "metadata": {
    "tags": []
   },
   "outputs": [],
   "source": [
    "df_6_emp['wage_h'] = df_6_emp['wage'] / df_6_emp['month_jbhrs']"
   ]
  },
  {
   "cell_type": "markdown",
   "id": "adde0d83-798c-4103-968c-ce2bc2f5ff49",
   "metadata": {},
   "source": [
    "### Real wage calculation"
   ]
  },
  {
   "cell_type": "code",
   "execution_count": 28,
   "id": "a4b74f6e-e242-461d-be0e-8df882822c82",
   "metadata": {
    "tags": []
   },
   "outputs": [],
   "source": [
    "df_6_emp['wage_h_deflated'] = (df_6_emp['wage_h'] / df_6_emp['cpih']) * 100"
   ]
  },
  {
   "cell_type": "code",
   "execution_count": 29,
   "id": "9af9487c-193a-4012-b208-4012e1178aef",
   "metadata": {
    "tags": []
   },
   "outputs": [],
   "source": [
    "df_6_emp['wage_deflated'] = (df_6_emp['wage'] / df_6_emp['cpih']) * 100"
   ]
  },
  {
   "cell_type": "markdown",
   "id": "b80cd50c-c022-4a69-8e0a-c888e38ec03b",
   "metadata": {},
   "source": [
    "# ISC Data preparation"
   ]
  },
  {
   "cell_type": "code",
   "execution_count": 30,
   "id": "a5232d11-b6aa-4575-aa9d-e4cf1459c646",
   "metadata": {
    "tags": []
   },
   "outputs": [],
   "source": [
    "isc_data = df_6_emp[['pidp', 'carer', 'wage_deflated', 'wage_h_deflated', 'wave', 'date', 'employed']]"
   ]
  },
  {
   "cell_type": "code",
   "execution_count": 31,
   "id": "392dd61d-ea32-4b41-886d-ee9f36439db6",
   "metadata": {
    "tags": []
   },
   "outputs": [
    {
     "data": {
      "text/html": [
       "<div>\n",
       "<style scoped>\n",
       "    .dataframe tbody tr th:only-of-type {\n",
       "        vertical-align: middle;\n",
       "    }\n",
       "\n",
       "    .dataframe tbody tr th {\n",
       "        vertical-align: top;\n",
       "    }\n",
       "\n",
       "    .dataframe thead th {\n",
       "        text-align: right;\n",
       "    }\n",
       "</style>\n",
       "<table border=\"1\" class=\"dataframe\">\n",
       "  <thead>\n",
       "    <tr style=\"text-align: right;\">\n",
       "      <th></th>\n",
       "      <th>pidp</th>\n",
       "      <th>carer</th>\n",
       "      <th>wage_deflated</th>\n",
       "      <th>wage_h_deflated</th>\n",
       "      <th>wave</th>\n",
       "      <th>date</th>\n",
       "      <th>employed</th>\n",
       "    </tr>\n",
       "  </thead>\n",
       "  <tbody>\n",
       "    <tr>\n",
       "      <th>0</th>\n",
       "      <td>68004087</td>\n",
       "      <td>False</td>\n",
       "      <td>1241.339492</td>\n",
       "      <td>7.350859</td>\n",
       "      <td>1</td>\n",
       "      <td>2009-01-01</td>\n",
       "      <td>employed</td>\n",
       "    </tr>\n",
       "    <tr>\n",
       "      <th>1</th>\n",
       "      <td>68008847</td>\n",
       "      <td>False</td>\n",
       "      <td>1480.565871</td>\n",
       "      <td>8.767489</td>\n",
       "      <td>1</td>\n",
       "      <td>2009-01-01</td>\n",
       "      <td>employed</td>\n",
       "    </tr>\n",
       "    <tr>\n",
       "      <th>2</th>\n",
       "      <td>68009527</td>\n",
       "      <td>False</td>\n",
       "      <td>4753.660418</td>\n",
       "      <td>29.671434</td>\n",
       "      <td>1</td>\n",
       "      <td>2009-01-01</td>\n",
       "      <td>employed</td>\n",
       "    </tr>\n",
       "    <tr>\n",
       "      <th>3</th>\n",
       "      <td>68010887</td>\n",
       "      <td>False</td>\n",
       "      <td>2694.376534</td>\n",
       "      <td>16.817780</td>\n",
       "      <td>1</td>\n",
       "      <td>2009-01-01</td>\n",
       "      <td>employed</td>\n",
       "    </tr>\n",
       "    <tr>\n",
       "      <th>4</th>\n",
       "      <td>68011567</td>\n",
       "      <td>False</td>\n",
       "      <td>3050.173154</td>\n",
       "      <td>19.038594</td>\n",
       "      <td>1</td>\n",
       "      <td>2009-01-01</td>\n",
       "      <td>employed</td>\n",
       "    </tr>\n",
       "    <tr>\n",
       "      <th>...</th>\n",
       "      <td>...</td>\n",
       "      <td>...</td>\n",
       "      <td>...</td>\n",
       "      <td>...</td>\n",
       "      <td>...</td>\n",
       "      <td>...</td>\n",
       "      <td>...</td>\n",
       "    </tr>\n",
       "    <tr>\n",
       "      <th>221406</th>\n",
       "      <td>1652366050</td>\n",
       "      <td>False</td>\n",
       "      <td>3971.689842</td>\n",
       "      <td>24.790524</td>\n",
       "      <td>12</td>\n",
       "      <td>2022-02-01</td>\n",
       "      <td>employed</td>\n",
       "    </tr>\n",
       "    <tr>\n",
       "      <th>221407</th>\n",
       "      <td>1652814850</td>\n",
       "      <td>True</td>\n",
       "      <td>6134.969325</td>\n",
       "      <td>35.421301</td>\n",
       "      <td>12</td>\n",
       "      <td>2021-11-01</td>\n",
       "      <td>employed</td>\n",
       "    </tr>\n",
       "    <tr>\n",
       "      <th>221408</th>\n",
       "      <td>1652835250</td>\n",
       "      <td>False</td>\n",
       "      <td>1423.970202</td>\n",
       "      <td>8.888148</td>\n",
       "      <td>12</td>\n",
       "      <td>2021-11-01</td>\n",
       "      <td>employed</td>\n",
       "    </tr>\n",
       "    <tr>\n",
       "      <th>221409</th>\n",
       "      <td>1652984930</td>\n",
       "      <td>False</td>\n",
       "      <td>2441.533981</td>\n",
       "      <td>15.036391</td>\n",
       "      <td>12</td>\n",
       "      <td>2021-12-01</td>\n",
       "      <td>employed</td>\n",
       "    </tr>\n",
       "    <tr>\n",
       "      <th>221410</th>\n",
       "      <td>1653134490</td>\n",
       "      <td>False</td>\n",
       "      <td>NaN</td>\n",
       "      <td>NaN</td>\n",
       "      <td>12</td>\n",
       "      <td>2021-12-01</td>\n",
       "      <td>employed</td>\n",
       "    </tr>\n",
       "  </tbody>\n",
       "</table>\n",
       "<p>221411 rows × 7 columns</p>\n",
       "</div>"
      ],
      "text/plain": [
       "              pidp  carer  wage_deflated  wage_h_deflated  wave       date  \\\n",
       "0         68004087  False    1241.339492         7.350859     1 2009-01-01   \n",
       "1         68008847  False    1480.565871         8.767489     1 2009-01-01   \n",
       "2         68009527  False    4753.660418        29.671434     1 2009-01-01   \n",
       "3         68010887  False    2694.376534        16.817780     1 2009-01-01   \n",
       "4         68011567  False    3050.173154        19.038594     1 2009-01-01   \n",
       "...            ...    ...            ...              ...   ...        ...   \n",
       "221406  1652366050  False    3971.689842        24.790524    12 2022-02-01   \n",
       "221407  1652814850   True    6134.969325        35.421301    12 2021-11-01   \n",
       "221408  1652835250  False    1423.970202         8.888148    12 2021-11-01   \n",
       "221409  1652984930  False    2441.533981        15.036391    12 2021-12-01   \n",
       "221410  1653134490  False            NaN              NaN    12 2021-12-01   \n",
       "\n",
       "        employed  \n",
       "0       employed  \n",
       "1       employed  \n",
       "2       employed  \n",
       "3       employed  \n",
       "4       employed  \n",
       "...          ...  \n",
       "221406  employed  \n",
       "221407  employed  \n",
       "221408  employed  \n",
       "221409  employed  \n",
       "221410  employed  \n",
       "\n",
       "[221411 rows x 7 columns]"
      ]
     },
     "execution_count": 31,
     "metadata": {},
     "output_type": "execute_result"
    }
   ],
   "source": [
    "isc_data\n"
   ]
  },
  {
   "cell_type": "code",
   "execution_count": 32,
   "id": "c58d150f-9602-485d-b262-d7be6bb850d3",
   "metadata": {
    "tags": []
   },
   "outputs": [
    {
     "data": {
      "text/html": [
       "<div>\n",
       "<style scoped>\n",
       "    .dataframe tbody tr th:only-of-type {\n",
       "        vertical-align: middle;\n",
       "    }\n",
       "\n",
       "    .dataframe tbody tr th {\n",
       "        vertical-align: top;\n",
       "    }\n",
       "\n",
       "    .dataframe thead th {\n",
       "        text-align: right;\n",
       "    }\n",
       "</style>\n",
       "<table border=\"1\" class=\"dataframe\">\n",
       "  <thead>\n",
       "    <tr style=\"text-align: right;\">\n",
       "      <th></th>\n",
       "      <th>pidp</th>\n",
       "      <th>carer</th>\n",
       "      <th>wage_deflated</th>\n",
       "      <th>wage_h_deflated</th>\n",
       "      <th>wave</th>\n",
       "      <th>date</th>\n",
       "      <th>employed</th>\n",
       "    </tr>\n",
       "  </thead>\n",
       "  <tbody>\n",
       "    <tr>\n",
       "      <th>376</th>\n",
       "      <td>68882647</td>\n",
       "      <td>False</td>\n",
       "      <td>1560.900682</td>\n",
       "      <td>22.530322</td>\n",
       "      <td>1</td>\n",
       "      <td>2009-01-01</td>\n",
       "      <td>employed</td>\n",
       "    </tr>\n",
       "    <tr>\n",
       "      <th>15385</th>\n",
       "      <td>68882647</td>\n",
       "      <td>False</td>\n",
       "      <td>1204.449394</td>\n",
       "      <td>23.180319</td>\n",
       "      <td>2</td>\n",
       "      <td>2010-02-01</td>\n",
       "      <td>employed</td>\n",
       "    </tr>\n",
       "    <tr>\n",
       "      <th>34842</th>\n",
       "      <td>68882647</td>\n",
       "      <td>False</td>\n",
       "      <td>1444.561166</td>\n",
       "      <td>16.680845</td>\n",
       "      <td>3</td>\n",
       "      <td>2011-02-01</td>\n",
       "      <td>employed</td>\n",
       "    </tr>\n",
       "    <tr>\n",
       "      <th>54615</th>\n",
       "      <td>68882647</td>\n",
       "      <td>False</td>\n",
       "      <td>838.574423</td>\n",
       "      <td>7.746646</td>\n",
       "      <td>4</td>\n",
       "      <td>2012-03-01</td>\n",
       "      <td>employed</td>\n",
       "    </tr>\n",
       "    <tr>\n",
       "      <th>74818</th>\n",
       "      <td>68882647</td>\n",
       "      <td>False</td>\n",
       "      <td>412.371134</td>\n",
       "      <td>3.968159</td>\n",
       "      <td>5</td>\n",
       "      <td>2013-01-01</td>\n",
       "      <td>employed</td>\n",
       "    </tr>\n",
       "    <tr>\n",
       "      <th>95282</th>\n",
       "      <td>68882647</td>\n",
       "      <td>True</td>\n",
       "      <td>NaN</td>\n",
       "      <td>NaN</td>\n",
       "      <td>6</td>\n",
       "      <td>2014-02-01</td>\n",
       "      <td>employed</td>\n",
       "    </tr>\n",
       "    <tr>\n",
       "      <th>116320</th>\n",
       "      <td>68882647</td>\n",
       "      <td>True</td>\n",
       "      <td>NaN</td>\n",
       "      <td>NaN</td>\n",
       "      <td>7</td>\n",
       "      <td>2015-05-01</td>\n",
       "      <td>employed</td>\n",
       "    </tr>\n",
       "    <tr>\n",
       "      <th>136870</th>\n",
       "      <td>68882647</td>\n",
       "      <td>True</td>\n",
       "      <td>NaN</td>\n",
       "      <td>NaN</td>\n",
       "      <td>8</td>\n",
       "      <td>2016-03-01</td>\n",
       "      <td>employed</td>\n",
       "    </tr>\n",
       "    <tr>\n",
       "      <th>191674</th>\n",
       "      <td>68882647</td>\n",
       "      <td>True</td>\n",
       "      <td>2013.633756</td>\n",
       "      <td>13.286927</td>\n",
       "      <td>11</td>\n",
       "      <td>2019-04-01</td>\n",
       "      <td>employed</td>\n",
       "    </tr>\n",
       "  </tbody>\n",
       "</table>\n",
       "</div>"
      ],
      "text/plain": [
       "            pidp  carer  wage_deflated  wage_h_deflated  wave       date  \\\n",
       "376     68882647  False    1560.900682        22.530322     1 2009-01-01   \n",
       "15385   68882647  False    1204.449394        23.180319     2 2010-02-01   \n",
       "34842   68882647  False    1444.561166        16.680845     3 2011-02-01   \n",
       "54615   68882647  False     838.574423         7.746646     4 2012-03-01   \n",
       "74818   68882647  False     412.371134         3.968159     5 2013-01-01   \n",
       "95282   68882647   True            NaN              NaN     6 2014-02-01   \n",
       "116320  68882647   True            NaN              NaN     7 2015-05-01   \n",
       "136870  68882647   True            NaN              NaN     8 2016-03-01   \n",
       "191674  68882647   True    2013.633756        13.286927    11 2019-04-01   \n",
       "\n",
       "        employed  \n",
       "376     employed  \n",
       "15385   employed  \n",
       "34842   employed  \n",
       "54615   employed  \n",
       "74818   employed  \n",
       "95282   employed  \n",
       "116320  employed  \n",
       "136870  employed  \n",
       "191674  employed  "
      ]
     },
     "execution_count": 32,
     "metadata": {},
     "output_type": "execute_result"
    }
   ],
   "source": [
    "isc_data[isc_data.pidp==68882647]"
   ]
  },
  {
   "cell_type": "code",
   "execution_count": 33,
   "id": "ba6229f6-5c83-484e-a45d-707c33d9ddf4",
   "metadata": {
    "tags": []
   },
   "outputs": [
    {
     "data": {
      "text/html": [
       "<div>\n",
       "<style scoped>\n",
       "    .dataframe tbody tr th:only-of-type {\n",
       "        vertical-align: middle;\n",
       "    }\n",
       "\n",
       "    .dataframe tbody tr th {\n",
       "        vertical-align: top;\n",
       "    }\n",
       "\n",
       "    .dataframe thead th {\n",
       "        text-align: right;\n",
       "    }\n",
       "</style>\n",
       "<table border=\"1\" class=\"dataframe\">\n",
       "  <thead>\n",
       "    <tr style=\"text-align: right;\">\n",
       "      <th></th>\n",
       "      <th>pidp</th>\n",
       "      <th>carer</th>\n",
       "      <th>wage_deflated</th>\n",
       "      <th>wage_h_deflated</th>\n",
       "      <th>wave</th>\n",
       "      <th>date</th>\n",
       "      <th>employed</th>\n",
       "    </tr>\n",
       "  </thead>\n",
       "  <tbody>\n",
       "    <tr>\n",
       "      <th>0</th>\n",
       "      <td>68004087</td>\n",
       "      <td>False</td>\n",
       "      <td>1241.339492</td>\n",
       "      <td>7.350859</td>\n",
       "      <td>1</td>\n",
       "      <td>2009-01-01</td>\n",
       "      <td>employed</td>\n",
       "    </tr>\n",
       "    <tr>\n",
       "      <th>1</th>\n",
       "      <td>68008847</td>\n",
       "      <td>False</td>\n",
       "      <td>1480.565871</td>\n",
       "      <td>8.767489</td>\n",
       "      <td>1</td>\n",
       "      <td>2009-01-01</td>\n",
       "      <td>employed</td>\n",
       "    </tr>\n",
       "    <tr>\n",
       "      <th>2</th>\n",
       "      <td>68009527</td>\n",
       "      <td>False</td>\n",
       "      <td>4753.660418</td>\n",
       "      <td>29.671434</td>\n",
       "      <td>1</td>\n",
       "      <td>2009-01-01</td>\n",
       "      <td>employed</td>\n",
       "    </tr>\n",
       "    <tr>\n",
       "      <th>3</th>\n",
       "      <td>68010887</td>\n",
       "      <td>False</td>\n",
       "      <td>2694.376534</td>\n",
       "      <td>16.817780</td>\n",
       "      <td>1</td>\n",
       "      <td>2009-01-01</td>\n",
       "      <td>employed</td>\n",
       "    </tr>\n",
       "    <tr>\n",
       "      <th>4</th>\n",
       "      <td>68011567</td>\n",
       "      <td>False</td>\n",
       "      <td>3050.173154</td>\n",
       "      <td>19.038594</td>\n",
       "      <td>1</td>\n",
       "      <td>2009-01-01</td>\n",
       "      <td>employed</td>\n",
       "    </tr>\n",
       "    <tr>\n",
       "      <th>...</th>\n",
       "      <td>...</td>\n",
       "      <td>...</td>\n",
       "      <td>...</td>\n",
       "      <td>...</td>\n",
       "      <td>...</td>\n",
       "      <td>...</td>\n",
       "      <td>...</td>\n",
       "    </tr>\n",
       "    <tr>\n",
       "      <th>221406</th>\n",
       "      <td>1652366050</td>\n",
       "      <td>False</td>\n",
       "      <td>3971.689842</td>\n",
       "      <td>24.790524</td>\n",
       "      <td>12</td>\n",
       "      <td>2022-02-01</td>\n",
       "      <td>employed</td>\n",
       "    </tr>\n",
       "    <tr>\n",
       "      <th>221407</th>\n",
       "      <td>1652814850</td>\n",
       "      <td>True</td>\n",
       "      <td>6134.969325</td>\n",
       "      <td>35.421301</td>\n",
       "      <td>12</td>\n",
       "      <td>2021-11-01</td>\n",
       "      <td>employed</td>\n",
       "    </tr>\n",
       "    <tr>\n",
       "      <th>221408</th>\n",
       "      <td>1652835250</td>\n",
       "      <td>False</td>\n",
       "      <td>1423.970202</td>\n",
       "      <td>8.888148</td>\n",
       "      <td>12</td>\n",
       "      <td>2021-11-01</td>\n",
       "      <td>employed</td>\n",
       "    </tr>\n",
       "    <tr>\n",
       "      <th>221409</th>\n",
       "      <td>1652984930</td>\n",
       "      <td>False</td>\n",
       "      <td>2441.533981</td>\n",
       "      <td>15.036391</td>\n",
       "      <td>12</td>\n",
       "      <td>2021-12-01</td>\n",
       "      <td>employed</td>\n",
       "    </tr>\n",
       "    <tr>\n",
       "      <th>221410</th>\n",
       "      <td>1653134490</td>\n",
       "      <td>False</td>\n",
       "      <td>NaN</td>\n",
       "      <td>NaN</td>\n",
       "      <td>12</td>\n",
       "      <td>2021-12-01</td>\n",
       "      <td>employed</td>\n",
       "    </tr>\n",
       "  </tbody>\n",
       "</table>\n",
       "<p>221411 rows × 7 columns</p>\n",
       "</div>"
      ],
      "text/plain": [
       "              pidp  carer  wage_deflated  wage_h_deflated  wave       date  \\\n",
       "0         68004087  False    1241.339492         7.350859     1 2009-01-01   \n",
       "1         68008847  False    1480.565871         8.767489     1 2009-01-01   \n",
       "2         68009527  False    4753.660418        29.671434     1 2009-01-01   \n",
       "3         68010887  False    2694.376534        16.817780     1 2009-01-01   \n",
       "4         68011567  False    3050.173154        19.038594     1 2009-01-01   \n",
       "...            ...    ...            ...              ...   ...        ...   \n",
       "221406  1652366050  False    3971.689842        24.790524    12 2022-02-01   \n",
       "221407  1652814850   True    6134.969325        35.421301    12 2021-11-01   \n",
       "221408  1652835250  False    1423.970202         8.888148    12 2021-11-01   \n",
       "221409  1652984930  False    2441.533981        15.036391    12 2021-12-01   \n",
       "221410  1653134490  False            NaN              NaN    12 2021-12-01   \n",
       "\n",
       "        employed  \n",
       "0       employed  \n",
       "1       employed  \n",
       "2       employed  \n",
       "3       employed  \n",
       "4       employed  \n",
       "...          ...  \n",
       "221406  employed  \n",
       "221407  employed  \n",
       "221408  employed  \n",
       "221409  employed  \n",
       "221410  employed  \n",
       "\n",
       "[221411 rows x 7 columns]"
      ]
     },
     "execution_count": 33,
     "metadata": {},
     "output_type": "execute_result"
    }
   ],
   "source": [
    "isc_data"
   ]
  },
  {
   "cell_type": "code",
   "execution_count": 34,
   "id": "35bba037-757f-4c10-b93b-637f4a9ae43e",
   "metadata": {
    "tags": []
   },
   "outputs": [],
   "source": [
    "isc_copy = isc_data.copy()\n",
    "to_drop = []\n",
    "for pidp in isc_data.pidp.unique():\n",
    "    temp_data = isc_data[isc_data.pidp==pidp].copy()\n",
    "    if temp_data.wage_h_deflated.isnull().any():\n",
    "        to_drop.append(pidp)\n",
    "isc_copy = isc_copy[~isc_copy.pidp.isin(to_drop)]"
   ]
  },
  {
   "cell_type": "code",
   "execution_count": 35,
   "id": "26f64729-c64e-4e07-838d-410ce3972cba",
   "metadata": {
    "tags": []
   },
   "outputs": [],
   "source": [
    "isc_data = isc_copy.copy()"
   ]
  },
  {
   "cell_type": "markdown",
   "id": "be68139d-80a3-4c82-b9dc-ac909c165c4b",
   "metadata": {},
   "source": [
    "### Average number of waves caring"
   ]
  },
  {
   "cell_type": "code",
   "execution_count": 36,
   "id": "a622482b-029e-4f08-898f-4e29a9692274",
   "metadata": {
    "tags": []
   },
   "outputs": [
    {
     "data": {
      "text/plain": [
       "3.1318141197497766"
      ]
     },
     "execution_count": 36,
     "metadata": {},
     "output_type": "execute_result"
    }
   ],
   "source": [
    "carer_events = []\n",
    "for i in isc_data.pidp.unique():\n",
    "    by_pidp = isc_data[isc_data.pidp == i]\n",
    "    if by_pidp.carer.any():\n",
    "        carer_events.append(by_pidp.carer.sum())\n",
    "np.mean(carer_events)"
   ]
  },
  {
   "cell_type": "markdown",
   "id": "9e747331-93fc-41f8-971c-8d1474e38b60",
   "metadata": {
    "tags": []
   },
   "source": [
    "## Decision\n",
    "We will take the average as lower limit to determine treated cases. Everyone with less than 3 and more than 1 reported waves of caring will be dropped."
   ]
  },
  {
   "cell_type": "code",
   "execution_count": 37,
   "id": "7de64c13-fd68-4226-a588-a8eb9dbb3824",
   "metadata": {
    "tags": []
   },
   "outputs": [],
   "source": [
    "isc_data['waves_caring'] = isc_data.groupby('pidp')['carer'].transform('sum')\n",
    "isc_data = isc_data[~((isc_data.waves_caring >= 1) & (isc_data.waves_caring < 3))]"
   ]
  },
  {
   "cell_type": "code",
   "execution_count": 38,
   "id": "135e5de5-81fc-4cf9-bde3-597f5a5ff6d3",
   "metadata": {
    "tags": []
   },
   "outputs": [],
   "source": [
    "isc_data['wave_reindex'] = isc_data.sort_values(by=['pidp', 'wave']).groupby('pidp').cumcount() + 1\n",
    "isc_data.reset_index(drop=True, inplace=True)\n",
    "isc_data.sort_values(by=['pidp', 'wave_reindex'], inplace=True)"
   ]
  },
  {
   "cell_type": "code",
   "execution_count": 39,
   "id": "4bcdff9f-e182-4336-a1e3-70f9cd7f0efa",
   "metadata": {},
   "outputs": [],
   "source": [
    "isc_data['wave_treat'] = isc_data.wave_reindex[isc_data.groupby('pidp')['carer'].transform('idxmax').values].values"
   ]
  },
  {
   "cell_type": "code",
   "execution_count": 40,
   "id": "246a9357-70f4-4d37-a1bb-76015e80657f",
   "metadata": {
    "tags": []
   },
   "outputs": [],
   "source": [
    "isc_data['wave_treat_real'] = isc_data.wave[isc_data.groupby('pidp')['carer'].transform('idxmax').values].values"
   ]
  },
  {
   "cell_type": "code",
   "execution_count": 41,
   "id": "c4ca01ed-85e5-444c-8801-fbcd4ca2d99d",
   "metadata": {
    "tags": []
   },
   "outputs": [],
   "source": [
    "isc_data['initial_wave'] = isc_data.groupby('pidp')['wave'].transform('min').values"
   ]
  },
  {
   "cell_type": "markdown",
   "id": "6923508c-286a-43a2-99eb-9888aed7c2e3",
   "metadata": {},
   "source": [
    "## Decision\n",
    "Only carer with at least 3 data points before treatment are consider."
   ]
  },
  {
   "cell_type": "code",
   "execution_count": 42,
   "id": "d6e9f35d-8c60-4710-b4d8-bbeb9d5cef01",
   "metadata": {
    "tags": []
   },
   "outputs": [],
   "source": [
    "isc_data = isc_data.drop(isc_data[(isc_data.wave_treat < 4) & (isc_data.carer == True)].index)"
   ]
  },
  {
   "cell_type": "code",
   "execution_count": 43,
   "id": "dbef00de-cf64-45db-8693-434d7057d364",
   "metadata": {
    "tags": []
   },
   "outputs": [],
   "source": [
    "def create_index(x):\n",
    "    y = np.arange(len(x)) + 1\n",
    "    return y - x\n",
    "\n",
    "def create_relative_index(lst, point):\n",
    "    index = lst.index(point)\n",
    "    return [i - index for i in range(len(lst))]\n"
   ]
  },
  {
   "cell_type": "code",
   "execution_count": 44,
   "id": "73c1bb87-43b5-4461-8734-8225d8b8e565",
   "metadata": {
    "tags": []
   },
   "outputs": [],
   "source": [
    "isc_data['reindex'] = isc_data.groupby('pidp')['wave_treat'].transform(create_index)"
   ]
  },
  {
   "cell_type": "code",
   "execution_count": 45,
   "id": "22f20d65-4633-49d4-a700-c4223517443b",
   "metadata": {},
   "outputs": [
    {
     "data": {
      "text/html": [
       "<div>\n",
       "<style scoped>\n",
       "    .dataframe tbody tr th:only-of-type {\n",
       "        vertical-align: middle;\n",
       "    }\n",
       "\n",
       "    .dataframe tbody tr th {\n",
       "        vertical-align: top;\n",
       "    }\n",
       "\n",
       "    .dataframe thead th {\n",
       "        text-align: right;\n",
       "    }\n",
       "</style>\n",
       "<table border=\"1\" class=\"dataframe\">\n",
       "  <thead>\n",
       "    <tr style=\"text-align: right;\">\n",
       "      <th></th>\n",
       "      <th>pidp</th>\n",
       "      <th>carer</th>\n",
       "      <th>wage_deflated</th>\n",
       "      <th>wage_h_deflated</th>\n",
       "      <th>wave</th>\n",
       "      <th>date</th>\n",
       "      <th>employed</th>\n",
       "      <th>waves_caring</th>\n",
       "      <th>wave_reindex</th>\n",
       "      <th>wave_treat</th>\n",
       "      <th>wave_treat_real</th>\n",
       "      <th>initial_wave</th>\n",
       "      <th>reindex</th>\n",
       "    </tr>\n",
       "  </thead>\n",
       "  <tbody>\n",
       "    <tr>\n",
       "      <th>52495</th>\n",
       "      <td>76165</td>\n",
       "      <td>False</td>\n",
       "      <td>2710.843373</td>\n",
       "      <td>17.887452</td>\n",
       "      <td>7</td>\n",
       "      <td>2015-03-01</td>\n",
       "      <td>employed</td>\n",
       "      <td>0</td>\n",
       "      <td>1</td>\n",
       "      <td>1</td>\n",
       "      <td>7</td>\n",
       "      <td>7</td>\n",
       "      <td>0</td>\n",
       "    </tr>\n",
       "    <tr>\n",
       "      <th>61689</th>\n",
       "      <td>76165</td>\n",
       "      <td>False</td>\n",
       "      <td>3486.055777</td>\n",
       "      <td>23.002678</td>\n",
       "      <td>8</td>\n",
       "      <td>2016-03-01</td>\n",
       "      <td>employed</td>\n",
       "      <td>0</td>\n",
       "      <td>2</td>\n",
       "      <td>1</td>\n",
       "      <td>7</td>\n",
       "      <td>7</td>\n",
       "      <td>1</td>\n",
       "    </tr>\n",
       "    <tr>\n",
       "      <th>70471</th>\n",
       "      <td>76165</td>\n",
       "      <td>False</td>\n",
       "      <td>3793.604651</td>\n",
       "      <td>125.160167</td>\n",
       "      <td>9</td>\n",
       "      <td>2017-04-01</td>\n",
       "      <td>employed</td>\n",
       "      <td>0</td>\n",
       "      <td>3</td>\n",
       "      <td>1</td>\n",
       "      <td>7</td>\n",
       "      <td>7</td>\n",
       "      <td>2</td>\n",
       "    </tr>\n",
       "    <tr>\n",
       "      <th>78673</th>\n",
       "      <td>76165</td>\n",
       "      <td>False</td>\n",
       "      <td>3788.772598</td>\n",
       "      <td>25.000149</td>\n",
       "      <td>10</td>\n",
       "      <td>2018-03-01</td>\n",
       "      <td>employed</td>\n",
       "      <td>0</td>\n",
       "      <td>4</td>\n",
       "      <td>1</td>\n",
       "      <td>7</td>\n",
       "      <td>7</td>\n",
       "      <td>3</td>\n",
       "    </tr>\n",
       "    <tr>\n",
       "      <th>86432</th>\n",
       "      <td>76165</td>\n",
       "      <td>False</td>\n",
       "      <td>4000.000000</td>\n",
       "      <td>26.393929</td>\n",
       "      <td>11</td>\n",
       "      <td>2019-03-01</td>\n",
       "      <td>employed</td>\n",
       "      <td>0</td>\n",
       "      <td>5</td>\n",
       "      <td>1</td>\n",
       "      <td>7</td>\n",
       "      <td>7</td>\n",
       "      <td>4</td>\n",
       "    </tr>\n",
       "    <tr>\n",
       "      <th>...</th>\n",
       "      <td>...</td>\n",
       "      <td>...</td>\n",
       "      <td>...</td>\n",
       "      <td>...</td>\n",
       "      <td>...</td>\n",
       "      <td>...</td>\n",
       "      <td>...</td>\n",
       "      <td>...</td>\n",
       "      <td>...</td>\n",
       "      <td>...</td>\n",
       "      <td>...</td>\n",
       "      <td>...</td>\n",
       "      <td>...</td>\n",
       "    </tr>\n",
       "    <tr>\n",
       "      <th>100237</th>\n",
       "      <td>1652835250</td>\n",
       "      <td>False</td>\n",
       "      <td>1423.970202</td>\n",
       "      <td>8.888148</td>\n",
       "      <td>12</td>\n",
       "      <td>2021-11-01</td>\n",
       "      <td>employed</td>\n",
       "      <td>0</td>\n",
       "      <td>6</td>\n",
       "      <td>1</td>\n",
       "      <td>6</td>\n",
       "      <td>6</td>\n",
       "      <td>5</td>\n",
       "    </tr>\n",
       "    <tr>\n",
       "      <th>52493</th>\n",
       "      <td>1652984890</td>\n",
       "      <td>False</td>\n",
       "      <td>3154.053707</td>\n",
       "      <td>33.109949</td>\n",
       "      <td>6</td>\n",
       "      <td>2015-12-01</td>\n",
       "      <td>employed</td>\n",
       "      <td>0</td>\n",
       "      <td>1</td>\n",
       "      <td>1</td>\n",
       "      <td>6</td>\n",
       "      <td>6</td>\n",
       "      <td>0</td>\n",
       "    </tr>\n",
       "    <tr>\n",
       "      <th>61687</th>\n",
       "      <td>1652984890</td>\n",
       "      <td>False</td>\n",
       "      <td>3110.677723</td>\n",
       "      <td>18.905298</td>\n",
       "      <td>7</td>\n",
       "      <td>2017-01-01</td>\n",
       "      <td>employed</td>\n",
       "      <td>0</td>\n",
       "      <td>2</td>\n",
       "      <td>1</td>\n",
       "      <td>6</td>\n",
       "      <td>6</td>\n",
       "      <td>1</td>\n",
       "    </tr>\n",
       "    <tr>\n",
       "      <th>52494</th>\n",
       "      <td>1653059650</td>\n",
       "      <td>False</td>\n",
       "      <td>2796.853049</td>\n",
       "      <td>16.148112</td>\n",
       "      <td>6</td>\n",
       "      <td>2016-02-01</td>\n",
       "      <td>employed</td>\n",
       "      <td>0</td>\n",
       "      <td>1</td>\n",
       "      <td>1</td>\n",
       "      <td>6</td>\n",
       "      <td>6</td>\n",
       "      <td>0</td>\n",
       "    </tr>\n",
       "    <tr>\n",
       "      <th>61688</th>\n",
       "      <td>1653059650</td>\n",
       "      <td>False</td>\n",
       "      <td>3339.882122</td>\n",
       "      <td>25.711179</td>\n",
       "      <td>7</td>\n",
       "      <td>2017-01-01</td>\n",
       "      <td>employed</td>\n",
       "      <td>0</td>\n",
       "      <td>2</td>\n",
       "      <td>1</td>\n",
       "      <td>6</td>\n",
       "      <td>6</td>\n",
       "      <td>1</td>\n",
       "    </tr>\n",
       "  </tbody>\n",
       "</table>\n",
       "<p>86814 rows × 13 columns</p>\n",
       "</div>"
      ],
      "text/plain": [
       "              pidp  carer  wage_deflated  wage_h_deflated  wave       date  \\\n",
       "52495        76165  False    2710.843373        17.887452     7 2015-03-01   \n",
       "61689        76165  False    3486.055777        23.002678     8 2016-03-01   \n",
       "70471        76165  False    3793.604651       125.160167     9 2017-04-01   \n",
       "78673        76165  False    3788.772598        25.000149    10 2018-03-01   \n",
       "86432        76165  False    4000.000000        26.393929    11 2019-03-01   \n",
       "...            ...    ...            ...              ...   ...        ...   \n",
       "100237  1652835250  False    1423.970202         8.888148    12 2021-11-01   \n",
       "52493   1652984890  False    3154.053707        33.109949     6 2015-12-01   \n",
       "61687   1652984890  False    3110.677723        18.905298     7 2017-01-01   \n",
       "52494   1653059650  False    2796.853049        16.148112     6 2016-02-01   \n",
       "61688   1653059650  False    3339.882122        25.711179     7 2017-01-01   \n",
       "\n",
       "        employed  waves_caring  wave_reindex  wave_treat  wave_treat_real  \\\n",
       "52495   employed             0             1           1                7   \n",
       "61689   employed             0             2           1                7   \n",
       "70471   employed             0             3           1                7   \n",
       "78673   employed             0             4           1                7   \n",
       "86432   employed             0             5           1                7   \n",
       "...          ...           ...           ...         ...              ...   \n",
       "100237  employed             0             6           1                6   \n",
       "52493   employed             0             1           1                6   \n",
       "61687   employed             0             2           1                6   \n",
       "52494   employed             0             1           1                6   \n",
       "61688   employed             0             2           1                6   \n",
       "\n",
       "        initial_wave  reindex  \n",
       "52495              7        0  \n",
       "61689              7        1  \n",
       "70471              7        2  \n",
       "78673              7        3  \n",
       "86432              7        4  \n",
       "...              ...      ...  \n",
       "100237             6        5  \n",
       "52493              6        0  \n",
       "61687              6        1  \n",
       "52494              6        0  \n",
       "61688              6        1  \n",
       "\n",
       "[86814 rows x 13 columns]"
      ]
     },
     "execution_count": 45,
     "metadata": {},
     "output_type": "execute_result"
    }
   ],
   "source": [
    "isc_data"
   ]
  },
  {
   "cell_type": "code",
   "execution_count": 46,
   "id": "5fd47901-1531-40a1-a9e1-58fc888610e4",
   "metadata": {
    "tags": []
   },
   "outputs": [],
   "source": [
    "#isc_data = isc_data.dropna()"
   ]
  },
  {
   "cell_type": "code",
   "execution_count": 47,
   "id": "6d00cbc2-d2b7-4bc8-a211-5e4a166de043",
   "metadata": {},
   "outputs": [],
   "source": [
    "isc_data['ever_carer'] = isc_data.groupby('pidp')['carer'].transform(any)"
   ]
  },
  {
   "cell_type": "code",
   "execution_count": 48,
   "id": "565b4bf9-c808-4dd3-90b2-57955d4a7617",
   "metadata": {
    "tags": []
   },
   "outputs": [],
   "source": [
    "carers = isc_data[isc_data.ever_carer]"
   ]
  },
  {
   "cell_type": "code",
   "execution_count": 49,
   "id": "d4fac435-b51d-49b9-968c-2da27d894c64",
   "metadata": {
    "tags": []
   },
   "outputs": [],
   "source": [
    "controls = isc_data[~isc_data.ever_carer]"
   ]
  },
  {
   "cell_type": "code",
   "execution_count": 50,
   "id": "23c3ca56-5418-458e-832f-4840234e955f",
   "metadata": {
    "tags": []
   },
   "outputs": [
    {
     "data": {
      "text/plain": [
       "648"
      ]
     },
     "execution_count": 50,
     "metadata": {},
     "output_type": "execute_result"
    }
   ],
   "source": [
    "len(carers.pidp.unique())"
   ]
  },
  {
   "cell_type": "code",
   "execution_count": 51,
   "id": "b399a9e7-5294-4c04-ac6d-a3dca90b283f",
   "metadata": {
    "tags": []
   },
   "outputs": [],
   "source": [
    "def get_control_clean(c_data, t_data):\n",
    "    samples = []\n",
    "    t_ids = t_data.pidp.unique().tolist()\n",
    "    for t_id in t_ids:\n",
    "        out = {}\n",
    "        init = t_data[t_data.pidp == t_id].initial_wave.unique()[0]\n",
    "        treat_time = t_data[t_data.pidp == t_id].wave_treat_real.unique()[0]\n",
    "        last_wave = t_data[t_data.pidp == t_id].wave.max()\n",
    "        length = (last_wave + 1) - init\n",
    "        # HUGE PROBLEM HERE waves need to match exactly!!! do not use range!!!\n",
    "        idx = c_data[(c_data.wave >= init) & (controls.wave <= last_wave)].groupby('pidp')['pidp'].transform('count') == length\n",
    "        sub_sample = c_data[(c_data.wave >= init) & (controls.wave <= last_wave)][idx].reset_index(drop=True)\n",
    "        treat = t_data[t_data.pidp == t_id].pivot(index='wave', columns='pidp', values='wage_h_deflated')\n",
    "        #treat.columns = ['treated']\n",
    "        sub_sample = sub_sample.pivot(index='wave', columns='pidp', values='wage_h_deflated')\n",
    "        sub_sample = pd.concat([treat, sub_sample], axis=1, join=\"inner\")\n",
    "        out['data'] = sub_sample\n",
    "        out['treat_time'] = treat_time\n",
    "        samples.append(out)\n",
    "    return samples"
   ]
  },
  {
   "cell_type": "code",
   "execution_count": 52,
   "id": "3748bac5-bb2a-4e23-a472-d98c2e9b07a1",
   "metadata": {
    "tags": []
   },
   "outputs": [],
   "source": [
    "samples = get_control_clean(controls, carers)"
   ]
  },
  {
   "cell_type": "code",
   "execution_count": 53,
   "id": "5fa8f50d-feb8-4779-b189-77bcd3425eb2",
   "metadata": {
    "tags": []
   },
   "outputs": [
    {
     "data": {
      "text/html": [
       "<div>\n",
       "<style scoped>\n",
       "    .dataframe tbody tr th:only-of-type {\n",
       "        vertical-align: middle;\n",
       "    }\n",
       "\n",
       "    .dataframe tbody tr th {\n",
       "        vertical-align: top;\n",
       "    }\n",
       "\n",
       "    .dataframe thead th {\n",
       "        text-align: right;\n",
       "    }\n",
       "</style>\n",
       "<table border=\"1\" class=\"dataframe\">\n",
       "  <thead>\n",
       "    <tr style=\"text-align: right;\">\n",
       "      <th></th>\n",
       "      <th>pidp</th>\n",
       "      <th>carer</th>\n",
       "      <th>wage_deflated</th>\n",
       "      <th>wage_h_deflated</th>\n",
       "      <th>wave</th>\n",
       "      <th>date</th>\n",
       "      <th>employed</th>\n",
       "      <th>waves_caring</th>\n",
       "      <th>wave_reindex</th>\n",
       "      <th>wave_treat</th>\n",
       "      <th>wave_treat_real</th>\n",
       "      <th>initial_wave</th>\n",
       "      <th>reindex</th>\n",
       "      <th>ever_carer</th>\n",
       "    </tr>\n",
       "  </thead>\n",
       "  <tbody>\n",
       "    <tr>\n",
       "      <th>7163</th>\n",
       "      <td>89124205</td>\n",
       "      <td>False</td>\n",
       "      <td>4279.279279</td>\n",
       "      <td>26.354299</td>\n",
       "      <td>2</td>\n",
       "      <td>2010-01-01</td>\n",
       "      <td>employed</td>\n",
       "      <td>3</td>\n",
       "      <td>1</td>\n",
       "      <td>6</td>\n",
       "      <td>9</td>\n",
       "      <td>2</td>\n",
       "      <td>-5</td>\n",
       "      <td>True</td>\n",
       "    </tr>\n",
       "    <tr>\n",
       "      <th>16138</th>\n",
       "      <td>89124205</td>\n",
       "      <td>False</td>\n",
       "      <td>4423.976249</td>\n",
       "      <td>27.245427</td>\n",
       "      <td>3</td>\n",
       "      <td>2011-02-01</td>\n",
       "      <td>employed</td>\n",
       "      <td>3</td>\n",
       "      <td>2</td>\n",
       "      <td>6</td>\n",
       "      <td>9</td>\n",
       "      <td>2</td>\n",
       "      <td>-4</td>\n",
       "      <td>True</td>\n",
       "    </tr>\n",
       "    <tr>\n",
       "      <th>34254</th>\n",
       "      <td>89124205</td>\n",
       "      <td>False</td>\n",
       "      <td>2735.046074</td>\n",
       "      <td>21.781047</td>\n",
       "      <td>5</td>\n",
       "      <td>2013-02-01</td>\n",
       "      <td>employed</td>\n",
       "      <td>3</td>\n",
       "      <td>3</td>\n",
       "      <td>6</td>\n",
       "      <td>9</td>\n",
       "      <td>2</td>\n",
       "      <td>-3</td>\n",
       "      <td>True</td>\n",
       "    </tr>\n",
       "    <tr>\n",
       "      <th>52832</th>\n",
       "      <td>89124205</td>\n",
       "      <td>False</td>\n",
       "      <td>1305.220884</td>\n",
       "      <td>9.419897</td>\n",
       "      <td>7</td>\n",
       "      <td>2015-03-01</td>\n",
       "      <td>employed</td>\n",
       "      <td>3</td>\n",
       "      <td>4</td>\n",
       "      <td>6</td>\n",
       "      <td>9</td>\n",
       "      <td>2</td>\n",
       "      <td>-2</td>\n",
       "      <td>True</td>\n",
       "    </tr>\n",
       "    <tr>\n",
       "      <th>62021</th>\n",
       "      <td>89124205</td>\n",
       "      <td>False</td>\n",
       "      <td>1318.881070</td>\n",
       "      <td>12.691311</td>\n",
       "      <td>8</td>\n",
       "      <td>2016-02-01</td>\n",
       "      <td>employed</td>\n",
       "      <td>3</td>\n",
       "      <td>5</td>\n",
       "      <td>6</td>\n",
       "      <td>9</td>\n",
       "      <td>2</td>\n",
       "      <td>-1</td>\n",
       "      <td>True</td>\n",
       "    </tr>\n",
       "    <tr>\n",
       "      <th>70780</th>\n",
       "      <td>89124205</td>\n",
       "      <td>True</td>\n",
       "      <td>1168.451801</td>\n",
       "      <td>11.243763</td>\n",
       "      <td>9</td>\n",
       "      <td>2017-03-01</td>\n",
       "      <td>employed</td>\n",
       "      <td>3</td>\n",
       "      <td>6</td>\n",
       "      <td>6</td>\n",
       "      <td>9</td>\n",
       "      <td>2</td>\n",
       "      <td>0</td>\n",
       "      <td>True</td>\n",
       "    </tr>\n",
       "    <tr>\n",
       "      <th>78969</th>\n",
       "      <td>89124205</td>\n",
       "      <td>True</td>\n",
       "      <td>944.938159</td>\n",
       "      <td>8.729221</td>\n",
       "      <td>10</td>\n",
       "      <td>2018-03-01</td>\n",
       "      <td>employed</td>\n",
       "      <td>3</td>\n",
       "      <td>7</td>\n",
       "      <td>6</td>\n",
       "      <td>9</td>\n",
       "      <td>2</td>\n",
       "      <td>1</td>\n",
       "      <td>True</td>\n",
       "    </tr>\n",
       "    <tr>\n",
       "      <th>86710</th>\n",
       "      <td>89124205</td>\n",
       "      <td>True</td>\n",
       "      <td>1527.777778</td>\n",
       "      <td>11.026110</td>\n",
       "      <td>11</td>\n",
       "      <td>2019-07-01</td>\n",
       "      <td>employed</td>\n",
       "      <td>3</td>\n",
       "      <td>8</td>\n",
       "      <td>6</td>\n",
       "      <td>9</td>\n",
       "      <td>2</td>\n",
       "      <td>2</td>\n",
       "      <td>True</td>\n",
       "    </tr>\n",
       "    <tr>\n",
       "      <th>93927</th>\n",
       "      <td>89124205</td>\n",
       "      <td>False</td>\n",
       "      <td>1669.014778</td>\n",
       "      <td>12.045430</td>\n",
       "      <td>12</td>\n",
       "      <td>2020-03-01</td>\n",
       "      <td>employed</td>\n",
       "      <td>3</td>\n",
       "      <td>9</td>\n",
       "      <td>6</td>\n",
       "      <td>9</td>\n",
       "      <td>2</td>\n",
       "      <td>3</td>\n",
       "      <td>True</td>\n",
       "    </tr>\n",
       "  </tbody>\n",
       "</table>\n",
       "</div>"
      ],
      "text/plain": [
       "           pidp  carer  wage_deflated  wage_h_deflated  wave       date  \\\n",
       "7163   89124205  False    4279.279279        26.354299     2 2010-01-01   \n",
       "16138  89124205  False    4423.976249        27.245427     3 2011-02-01   \n",
       "34254  89124205  False    2735.046074        21.781047     5 2013-02-01   \n",
       "52832  89124205  False    1305.220884         9.419897     7 2015-03-01   \n",
       "62021  89124205  False    1318.881070        12.691311     8 2016-02-01   \n",
       "70780  89124205   True    1168.451801        11.243763     9 2017-03-01   \n",
       "78969  89124205   True     944.938159         8.729221    10 2018-03-01   \n",
       "86710  89124205   True    1527.777778        11.026110    11 2019-07-01   \n",
       "93927  89124205  False    1669.014778        12.045430    12 2020-03-01   \n",
       "\n",
       "       employed  waves_caring  wave_reindex  wave_treat  wave_treat_real  \\\n",
       "7163   employed             3             1           6                9   \n",
       "16138  employed             3             2           6                9   \n",
       "34254  employed             3             3           6                9   \n",
       "52832  employed             3             4           6                9   \n",
       "62021  employed             3             5           6                9   \n",
       "70780  employed             3             6           6                9   \n",
       "78969  employed             3             7           6                9   \n",
       "86710  employed             3             8           6                9   \n",
       "93927  employed             3             9           6                9   \n",
       "\n",
       "       initial_wave  reindex  ever_carer  \n",
       "7163              2       -5        True  \n",
       "16138             2       -4        True  \n",
       "34254             2       -3        True  \n",
       "52832             2       -2        True  \n",
       "62021             2       -1        True  \n",
       "70780             2        0        True  \n",
       "78969             2        1        True  \n",
       "86710             2        2        True  \n",
       "93927             2        3        True  "
      ]
     },
     "execution_count": 53,
     "metadata": {},
     "output_type": "execute_result"
    }
   ],
   "source": [
    "carers[carers.pidp==89124205]"
   ]
  },
  {
   "cell_type": "code",
   "execution_count": 54,
   "id": "c1ed633e-af8a-4db2-9ecb-4149dc7001d7",
   "metadata": {
    "tags": []
   },
   "outputs": [
    {
     "data": {
      "text/plain": [
       "{'data': pidp  68150967    68035367    68042167    68044207    68045567    68060527    \\\n",
       " wave                                                                           \n",
       " 1       9.894060   17.200761   21.022278   11.667351   17.544889   20.181364   \n",
       " 2      15.281524   18.059163   24.015987   10.403013   17.533167   21.923473   \n",
       " 3      11.946971   17.582557   25.205208   10.946832   16.771742   24.606865   \n",
       " 4       9.948604   18.790988   25.085248   10.669405   16.259468   19.164899   \n",
       " 5      10.436803   30.348789   23.594483   11.103215   12.632992   20.726002   \n",
       " 6       9.428712   32.315474   24.337381   10.634685   13.671931   22.044729   \n",
       " 7       9.671142   34.502454   24.384411   11.704135   18.457293   19.603667   \n",
       " 8       7.476934   32.812946   19.953831   12.049022   18.650820   22.018349   \n",
       " 9       9.217880   33.265448   23.955375   12.787756   19.154850   21.566421   \n",
       " 10      6.902493   32.510647   23.390415   11.532143   19.113669   21.420884   \n",
       " 11      7.622690   31.417872   23.377557   17.569695   18.741008   22.208679   \n",
       " 12     10.799053   32.738032   24.426964   12.452981   18.851066   20.116323   \n",
       " \n",
       " pidp  68105407    68163887    68167967    68167971    ...  1633235567  \\\n",
       " wave                                                  ...               \n",
       " 1      17.623234   15.955891    8.656346    8.149149  ...   10.482361   \n",
       " 2      16.192231   17.127955    9.902604   10.645780  ...   10.161360   \n",
       " 3       6.268459   15.305887    8.507252   12.189879  ...   10.070898   \n",
       " 4      15.768432   13.017326   10.435556    8.600733  ...    9.843117   \n",
       " 5      18.158330   16.516783    9.474744   10.932397  ...    8.102014   \n",
       " 6      14.565268    8.739161    9.044606   11.144234  ...    9.868837   \n",
       " 7      13.332777    6.718213    9.339359   11.395556  ...   10.730023   \n",
       " 8      17.087703   13.902243   10.734583    7.820910  ...   10.662348   \n",
       " 9      21.588024   14.404109   10.855318   10.298635  ...   10.241539   \n",
       " 10     18.311698   11.305467   13.956978   10.632626  ...   11.277076   \n",
       " 11     16.435968   33.917433   10.412654   13.323420  ...    7.895620   \n",
       " 12     18.607599   27.889296   10.920290    8.179164  ...   11.063036   \n",
       " \n",
       " pidp  1633244407  1633271607  1633314447  1633326687  1633326691  1633351851  \\\n",
       " wave                                                                           \n",
       " 1       8.268015   12.458984   19.567054   25.157612   18.688512   32.380775   \n",
       " 2       7.816414   10.534443   19.718293   19.858157   14.225889   33.339700   \n",
       " 3       8.339517   11.054159   20.105362   23.732700   19.211874   28.482658   \n",
       " 4       9.438217   10.863763   19.659477   15.116386   10.534878   30.084266   \n",
       " 5       9.528285   10.809006   20.320425   19.815262   12.667291   30.823763   \n",
       " 6       9.089057   10.679815   19.995926   18.741727   12.866816   30.736429   \n",
       " 7       9.514755   10.491716   25.600012   18.473158   14.243723   29.593547   \n",
       " 8       9.886147   10.944830   24.255884   19.069298   14.168335   29.228116   \n",
       " 9       7.201337   10.240622   24.049470   18.604743   13.061179   20.128278   \n",
       " 10      8.587528   10.663293   23.360833   16.810058   13.031783   25.896210   \n",
       " 11      8.467347   10.841415   25.848737   19.300862   11.637063   28.238724   \n",
       " 12      9.232444   10.596456   24.889584   10.984377   15.749839   17.664840   \n",
       " \n",
       " pidp  1633780927  1634234487  1634453447  \n",
       " wave                                      \n",
       " 1       7.120079   22.736997   23.655916  \n",
       " 2       8.086375   20.258479   54.063196  \n",
       " 3       6.117593   20.726002   50.861889  \n",
       " 4       6.149767   23.457464   46.263417  \n",
       " 5       7.275292   24.250975   55.040194  \n",
       " 6      10.590836   23.025611   49.439178  \n",
       " 7       4.201173   22.686334   53.801520  \n",
       " 8       7.942618   23.941844   52.366813  \n",
       " 9      12.166985   22.525268   51.677776  \n",
       " 10      9.625749   25.370945   50.677561  \n",
       " 11      7.100895   24.188889   50.260652  \n",
       " 12      6.890118   23.494377   43.526900  \n",
       " \n",
       " [12 rows x 1222 columns],\n",
       " 'treat_time': 8}"
      ]
     },
     "execution_count": 54,
     "metadata": {},
     "output_type": "execute_result"
    }
   ],
   "source": [
    "samples[1]"
   ]
  },
  {
   "cell_type": "code",
   "execution_count": 55,
   "id": "ed51377d-601f-4394-9d94-ea34f90de027",
   "metadata": {
    "tags": []
   },
   "outputs": [],
   "source": [
    "from typing import List\n",
    "from operator import add\n",
    "from toolz import reduce, partial\n",
    "import numpy as np\n",
    "from scipy.optimize import minimize\n",
    "from sklearn.neighbors import KDTree\n",
    "\n",
    "\n",
    "# the expression to minimise, since \\mu is 0, we are one looking for \\omega/W\n",
    "def argmin_w(W, Y_i, Y_0):\n",
    "    return np.sqrt(np.sum((Y_0 - Y_i.dot(W))**2))\n",
    "\n",
    "\n",
    "# a function wrapping the whole process\n",
    "def get_w(Y_i, Y_0):\n",
    "    w_start = [1/Y_i.shape[1]]*Y_i.shape[1]\n",
    "    weights = minimize(partial(argmin_w, Y_i=Y_i, Y_0=Y_0),\n",
    "                       np.array(w_start),\n",
    "                       method='SLSQP',\n",
    "                       constraints=({'type': 'eq', 'fun': lambda x: np.sum(x) - 1}), # constraint to sum to 1\n",
    "                       bounds=[(0.0, 1.0)]*len(w_start),\n",
    "                       )\n",
    "    return weights.x\n",
    "\n",
    "\n",
    "def isc(data_objects: list) -> dict:\n",
    "    synths = []\n",
    "    treats = []\n",
    "    diffs = []\n",
    "    std_diffs = []\n",
    "    for ele in data_objects:\n",
    "        data = ele['data'].copy()\n",
    "        t_time = ele['treat_time']\n",
    "        data.sort_index(inplace=True)\n",
    "        data.index = create_relative_index(data.index.tolist(), t_time)\n",
    "        df_T0 = data.loc[:-1, :] # this needs to be revised\n",
    "        Y_0 = df_T0.iloc[:, 0].values\n",
    "        kdt = KDTree(df_T0.T, leaf_size=30, metric='euclidean')\n",
    "        idx = kdt.query(df_T0.T, k=100, return_distance=False)[0, 1:]\n",
    "        Y_i = df_T0.iloc[:, idx].values\n",
    "        weights = get_w(Y_i, Y_0)\n",
    "        synth = data.iloc[:, idx].dot(weights) # synthetic control is now based on the new subset of observations\n",
    "        treated = data.iloc[:, 0]\n",
    "        #synth.plot()\n",
    "        #treated.plot()\n",
    "        diff = treated - synth\n",
    "        diff.plot()\n",
    "        std_diff = (diff - diff.mean())/ diff.std()\n",
    "        #std_diff.plot()\n",
    "        #std_diff_b = \n",
    "        synths.append(synth)\n",
    "        treats.append(treated)\n",
    "        diffs.append(diff)\n",
    "        std_diffs.append(std_diff)\n",
    "    return {'synths': synths, 'treats': treats, 'diffs': diffs, 'std_diffs': std_diffs}\n"
   ]
  },
  {
   "cell_type": "code",
   "execution_count": 56,
   "id": "3bdd2058-9c7d-4420-85f2-ae648fba72ee",
   "metadata": {
    "tags": []
   },
   "outputs": [
    {
     "data": {
      "image/png": "[encoded data removed]",
      "text/plain": [
       "<Figure size 640x480 with 1 Axes>"
      ]
     },
     "metadata": {},
     "output_type": "display_data"
    }
   ],
   "source": [
    "isc_list = isc(samples)"
   ]
  },
  {
   "cell_type": "code",
   "execution_count": 57,
   "id": "767162c7-9310-41ad-a7aa-a6ae15e6e96a",
   "metadata": {
    "tags": []
   },
   "outputs": [
    {
     "data": {
      "image/png": "[encoded data removed]",
      "text/plain": [
       "<Figure size 1400x700 with 1 Axes>"
      ]
     },
     "metadata": {},
     "output_type": "display_data"
    }
   ],
   "source": [
    "import math\n",
    "import matplotlib.ticker as mtick\n",
    "from matplotlib.pyplot import figure\n",
    "\n",
    "figure(figsize=(14, 7))\n",
    "differences = pd.concat(isc_list['diffs'], axis=1).sort_index()\n",
    "differences.loc[-5:5].mean(axis=1).plot()\n",
    "(differences.loc[-5:5].mean(axis=1) + (1.96*(differences.loc[-5:5].std(axis=1)/differences.loc[-5:5].count(axis=1).apply(math.sqrt)))).plot(color='grey')\n",
    "(differences.loc[-5:5].mean(axis=1) - (1.96*(differences.loc[-5:5].std(axis=1)/differences.loc[-5:5].count(axis=1).apply(math.sqrt)))).plot(color='grey')\n",
    "differences.count()\n",
    "plt.axvline(x=0, linestyle='--', color='darkred', alpha=.5, linewidth=1.25)\n",
    "plt.xlabel('Survey Wave', fontsize=16)\n",
    "plt.ylabel('Diff Monthly Real Wage in £', fontsize=16)\n",
    "plt.axhline(y=0, color='r', linestyle='-')\n",
    "plt.fill_between(x=differences.loc[-5:5].index,\n",
    "                 y1=differences.loc[-5:5].mean(axis=1) + (1.96*(differences.loc[-5:5].std(axis=1)/differences.loc[-5:5].count(axis=1).apply(math.sqrt))),\n",
    "                 y2=differences.loc[-5:5].mean(axis=1) - (1.96*(differences.loc[-5:5].std(axis=1)/differences.loc[-5:5].count(axis=1).apply(math.sqrt))),\n",
    "                     color='red', alpha=0.05)\n",
    "plt.show()"
   ]
  },
  {
   "cell_type": "code",
   "execution_count": 155,
   "id": "6863a63b-b227-49ff-afb1-4ff2e8303a33",
   "metadata": {
    "tags": []
   },
   "outputs": [
    {
     "data": {
      "text/plain": [
       "-9     14\n",
       "-8     46\n",
       "-7     94\n",
       "-6    177\n",
       "-5    303\n",
       "-4    480\n",
       "-3    702\n",
       "-2    702\n",
       "-1    702\n",
       " 0    702\n",
       " 1    702\n",
       " 2    702\n",
       " 3    620\n",
       " 4    514\n",
       " 5    412\n",
       " 6    289\n",
       " 7    152\n",
       " 8     59\n",
       "dtype: int64"
      ]
     },
     "execution_count": 155,
     "metadata": {},
     "output_type": "execute_result"
    }
   ],
   "source": [
    "differences.count(axis=1)"
   ]
  },
  {
   "cell_type": "code",
   "execution_count": null,
   "id": "5c6f5d37-a286-402b-8b4c-ad00e94c1c7f",
   "metadata": {},
   "outputs": [],
   "source": []
  }
 ],
 "metadata": {
  "kernelspec": {
   "display_name": "Python 3 (ipykernel)",
   "language": "python",
   "name": "python3"
  },
  "language_info": {
   "codemirror_mode": {
    "name": "ipython",
    "version": 3
   },
   "file_extension": ".py",
   "mimetype": "text/x-python",
   "name": "python",
   "nbconvert_exporter": "python",
   "pygments_lexer": "ipython3",
   "version": "3.11.4"
  }
 },
 "nbformat": 4,
 "nbformat_minor": 5
}

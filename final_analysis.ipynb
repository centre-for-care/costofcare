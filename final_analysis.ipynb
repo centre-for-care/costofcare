{
 "cells": [
  {
   "cell_type": "markdown",
   "id": "10b568fc-0f19-4b44-b6bf-e265bb053906",
   "metadata": {},
   "source": [
    "# Final analysis"
   ]
  },
  {
   "cell_type": "markdown",
   "id": "4d8c4989-8ab8-493b-a2a5-2fe11ebef148",
   "metadata": {},
   "source": [
    "This notebook contains the final form of our analysis as well as the final form of the data cleaning process."
   ]
  },
  {
   "cell_type": "code",
   "execution_count": 1,
   "id": "29cd5f94-bcb4-41c1-99cf-1722a33e13db",
   "metadata": {
    "tags": []
   },
   "outputs": [],
   "source": [
    "import glob\n",
    "import os\n",
    "import pandas as pd\n",
    "import matplotlib.pyplot as plt\n",
    "path = r'/home/daniel/code/costofcare/data/bhp_ukhls_data_stata/UKDA-6614-stata/stata/ukhls'\n",
    "all_files = glob.glob(os.path.join(path , '*indresp.dta'))\n",
    "raw_colnames = ['hidp',\n",
    "                'sex',\n",
    "                'jbnssec_dv',\n",
    "                'jbnssec8_dv',\n",
    "                'jbstat',\n",
    "                'jbhrs',\n",
    "                'ethn_dv',\n",
    "                'dvage',\n",
    "                'mastat_dv',\n",
    "                'country',\n",
    "                'aidhh',\n",
    "                'aidhrs',\n",
    "                'aidxhh',\n",
    "                'paygu_dv',\n",
    "                'qfhigh',\n",
    "                'qfhigh_dv',\n",
    "                'istrtdatm',\n",
    "                'istrtdaty',\n",
    "                'month']\n",
    "indresp = []\n",
    "prefixes = [] # for later\n",
    "for filename in all_files:\n",
    "    prefix = filename.split('/')[-1][0:2]\n",
    "    prefixes.append(prefix)\n",
    "    colnames = [f'{prefix}{x}' for x in raw_colnames]\n",
    "    temp_df = pd.read_stata(filename,\n",
    "                       columns=['pidp'] + colnames)\n",
    "    indresp.append(temp_df)"
   ]
  },
  {
   "cell_type": "code",
   "execution_count": 2,
   "id": "aca48de3-8c64-4a94-b3bb-73b04aa76083",
   "metadata": {},
   "outputs": [],
   "source": [
    "for i, df in enumerate(indresp):\n",
    "    df['wave'] = i+1\n",
    "    df.columns = ['pidp',\n",
    "                'hidp',\n",
    "                'sex',\n",
    "                'jbnssec_dv',\n",
    "                  'jbnssec8_dv',\n",
    "                'jbstat',\n",
    "                'jbhrs',\n",
    "                'ethn_dv',\n",
    "                'dvage',\n",
    "                'mastat_dv',\n",
    "                'country',\n",
    "                'aidhh',\n",
    "                'aidhrs',\n",
    "                'aidxhh',\n",
    "                'paygu_dv',\n",
    "                'qfhigh',\n",
    "                'qfhigh_dv',\n",
    "                'istrtdatm',\n",
    "                'istrtdaty',\n",
    "                'month',\n",
    "                 'wave']"
   ]
  },
  {
   "cell_type": "code",
   "execution_count": 3,
   "id": "79d94903-ced4-4d48-a443-3f0275f90b94",
   "metadata": {},
   "outputs": [
    {
     "data": {
      "text/plain": [
       "88602"
      ]
     },
     "execution_count": 3,
     "metadata": {},
     "output_type": "execute_result"
    }
   ],
   "source": [
    "data = pd.concat(indresp)\n",
    "data['max_waves'] = data.groupby('pidp')['wave'].transform('count')\n",
    "len(data.pidp.unique())"
   ]
  },
  {
   "cell_type": "code",
   "execution_count": 4,
   "id": "e3938f65-8253-4ec0-b605-d57ba773409c",
   "metadata": {},
   "outputs": [],
   "source": [
    "check = data[['wave', 'pidp', 'max_waves']]"
   ]
  },
  {
   "cell_type": "code",
   "execution_count": 5,
   "id": "6fd6775d-7152-4f33-9ed6-13744963d4fa",
   "metadata": {},
   "outputs": [
    {
     "data": {
      "text/plain": [
       "40123"
      ]
     },
     "execution_count": 5,
     "metadata": {},
     "output_type": "execute_result"
    }
   ],
   "source": [
    "len(check[check.max_waves > 5].pidp.unique())"
   ]
  },
  {
   "cell_type": "markdown",
   "id": "d4b4bc68-c48c-4e49-8f4b-e15dbfdae164",
   "metadata": {},
   "source": [
    "## Decision\n",
    "We will consider that has at least six data points, whether or not they are consecutive or not, and whether or not they start from wave 1."
   ]
  },
  {
   "cell_type": "code",
   "execution_count": 6,
   "id": "1715e157-72a3-414e-8be7-98f57d2e8c52",
   "metadata": {
    "tags": []
   },
   "outputs": [
    {
     "data": {
      "text/plain": [
       "40123"
      ]
     },
     "execution_count": 6,
     "metadata": {},
     "output_type": "execute_result"
    }
   ],
   "source": [
    "data_6 = data[data.max_waves > 5]\n",
    "len(data_6.pidp.unique())"
   ]
  },
  {
   "cell_type": "markdown",
   "id": "b5285864-a8ec-4460-bf4d-bae498ea8e6f",
   "metadata": {},
   "source": [
    "# Treatment Variable"
   ]
  },
  {
   "cell_type": "markdown",
   "id": "e95e47e9-f580-4168-bfca-0d2c6170770d",
   "metadata": {},
   "source": [
    "## Decision\n",
    "Recoding treatment variable"
   ]
  },
  {
   "cell_type": "code",
   "execution_count": 7,
   "id": "ce0ed3e4-6f2d-4287-9c09-a9c1af8995fe",
   "metadata": {
    "tags": []
   },
   "outputs": [
    {
     "name": "stderr",
     "output_type": "stream",
     "text": [
      "/tmp/ipykernel_5464/1074845151.py:2: SettingWithCopyWarning: \n",
      "A value is trying to be set on a copy of a slice from a DataFrame.\n",
      "Try using .loc[row_indexer,col_indexer] = value instead\n",
      "\n",
      "See the caveats in the documentation: https://pandas.pydata.org/pandas-docs/stable/user_guide/indexing.html#returning-a-view-versus-a-copy\n",
      "  data_6['aidhh_recoded'] = data_6.aidhh.replace({'Yes': 'yes',\n"
     ]
    }
   ],
   "source": [
    "import numpy as np\n",
    "data_6['aidhh_recoded'] = data_6.aidhh.replace({'Yes': 'yes',\n",
    "                                                'No': 'no',\n",
    "                                                'no     ': 'no',\n",
    "                                                'yes    ': 'yes',\n",
    "                                                'Not available for IEMB': np.nan,\n",
    "                                                \"don't know\": np.nan,\n",
    "                                                'proxy': np.nan,\n",
    "                                                'missing': np.nan,\n",
    "                                                'refusal': np.nan,\n",
    "                                                'inapplicable': np.nan})"
   ]
  },
  {
   "cell_type": "code",
   "execution_count": 8,
   "id": "10b7de9c-ab66-48f1-9a6c-c2540ddc459b",
   "metadata": {
    "tags": []
   },
   "outputs": [
    {
     "name": "stderr",
     "output_type": "stream",
     "text": [
      "/tmp/ipykernel_5464/1333873410.py:1: SettingWithCopyWarning: \n",
      "A value is trying to be set on a copy of a slice from a DataFrame.\n",
      "Try using .loc[row_indexer,col_indexer] = value instead\n",
      "\n",
      "See the caveats in the documentation: https://pandas.pydata.org/pandas-docs/stable/user_guide/indexing.html#returning-a-view-versus-a-copy\n",
      "  data_6['aidxhh_recoded'] = data_6.aidxhh.replace({'Yes': 'yes',\n"
     ]
    }
   ],
   "source": [
    "data_6['aidxhh_recoded'] = data_6.aidxhh.replace({'Yes': 'yes',\n",
    "                                                'No': 'no',\n",
    "                                                'no     ': 'no',\n",
    "                                                'yes    ': 'yes',\n",
    "                                                'Not available for IEMB': np.nan,\n",
    "                                                \"don't know\": np.nan,\n",
    "                                                'proxy': np.nan,\n",
    "                                                'missing': np.nan,\n",
    "                                                'refusal': np.nan,\n",
    "                                                'inapplicable': np.nan})"
   ]
  },
  {
   "cell_type": "code",
   "execution_count": 9,
   "id": "b1c3b19d-7e7d-451b-84ad-6bafda580ff1",
   "metadata": {
    "tags": []
   },
   "outputs": [
    {
     "name": "stderr",
     "output_type": "stream",
     "text": [
      "/tmp/ipykernel_5464/2909938044.py:1: SettingWithCopyWarning: \n",
      "A value is trying to be set on a copy of a slice from a DataFrame.\n",
      "Try using .loc[row_indexer,col_indexer] = value instead\n",
      "\n",
      "See the caveats in the documentation: https://pandas.pydata.org/pandas-docs/stable/user_guide/indexing.html#returning-a-view-versus-a-copy\n",
      "  data_6['aidhrs_recoded_3'] = data_6.aidhrs.str.strip().replace({\"inapplicable\": np.nan,\n"
     ]
    }
   ],
   "source": [
    "data_6['aidhrs_recoded_3'] = data_6.aidhrs.str.strip().replace({\"inapplicable\": np.nan,\n",
    "                                   \"0 - 4 hours per week\": \"0-19\",\n",
    "                                   \"proxy\": np.nan,\n",
    "                                   \"5 - 9 hours per week\": \"0-19\",\n",
    "                                   \"10 - 19 hours per week\": \"0-19\",\n",
    "                                   \"100 or more hours per week/continuous care\": \"50+\",\n",
    "                                   \"20 - 34 hours per week\": \"20-49\",\n",
    "                                   \"35 - 49 hours per week\": \"20-49\",\n",
    "                                   \"varies 20 hours or more\": \"20-49\",\n",
    "                                   \"0 - 4 hours per week\": \"0-19\",\n",
    "                                   \"10-19 hours per week\": \"0-19\",\n",
    "                                   \"Not available for IEMB\": np.nan,\n",
    "                                   \"Varies 20 hours or more\": \"20-49\",\n",
    "                                   \"varies under 20 hours\": \"0-19\",\n",
    "                                   \"Varies under 20 hours\": \"0-19\",\n",
    "                                   \"20-34 hours per week\": \"20-49\",\n",
    "                                   \"5 - 9 hours per week\": \"0-19\",\n",
    "                                   \"Other\": np.nan,\n",
    "                                   \"10 - 19 hours per week\": \"0-19\",\n",
    "                                   \"35-49 hours per week\": \"20-49\",\n",
    "                                   \"100 or more hours per week/continuous care\": \"50+\",\n",
    "                                   \"20 - 34 hours per week\": \"20-49\",\n",
    "                                   \"50-99 hours per week\": \"50+\",\n",
    "                                   \"other\": np.nan,\n",
    "                                   \"don't know\": np.nan,\n",
    "                                   \"35 - 49 hours per week\": \"20-49\",\n",
    "                                   \"varies under 20 hours\": \"0-19\",\n",
    "                                   \"50 - 99 hours per week\": \"50+\",\n",
    "                                   \"other\": np.nan,\n",
    "                                   \"refusal\": np.nan}).copy()"
   ]
  },
  {
   "cell_type": "markdown",
   "id": "726cef4e-29c8-4483-8001-6df10ad1717a",
   "metadata": {},
   "source": [
    "## Note\n",
    "The variable below identifies the people who provided care under our specific conditions based on the 3 variables above."
   ]
  },
  {
   "cell_type": "code",
   "execution_count": 10,
   "id": "1ddbf6d1-2db7-4837-9341-7b0da086996e",
   "metadata": {
    "tags": []
   },
   "outputs": [
    {
     "name": "stderr",
     "output_type": "stream",
     "text": [
      "/tmp/ipykernel_5464/3799348870.py:1: SettingWithCopyWarning: \n",
      "A value is trying to be set on a copy of a slice from a DataFrame.\n",
      "Try using .loc[row_indexer,col_indexer] = value instead\n",
      "\n",
      "See the caveats in the documentation: https://pandas.pydata.org/pandas-docs/stable/user_guide/indexing.html#returning-a-view-versus-a-copy\n",
      "  data_6['carer'] = ((data_6.aidhh_recoded == 'yes') | (data_6.aidxhh_recoded == 'yes') | (~data_6.aidhrs_recoded_3.isnull()))\n"
     ]
    }
   ],
   "source": [
    "data_6['carer'] = ((data_6.aidhh_recoded == 'yes') | (data_6.aidxhh_recoded == 'yes') | (~data_6.aidhrs_recoded_3.isnull()))"
   ]
  },
  {
   "cell_type": "markdown",
   "id": "e4246a05-6334-4af4-bea4-33df74c24d8b",
   "metadata": {},
   "source": [
    "Counting how many waves are carers taking care responsabilities on average"
   ]
  },
  {
   "cell_type": "code",
   "execution_count": 11,
   "id": "f17aaa7d-75a3-4e75-8297-7a2fb64bfcbf",
   "metadata": {
    "tags": []
   },
   "outputs": [
    {
     "data": {
      "text/plain": [
       "3.6293369616411115"
      ]
     },
     "execution_count": 11,
     "metadata": {},
     "output_type": "execute_result"
    }
   ],
   "source": [
    "care_resp = data_6[['pidp', 'carer', 'wave']][data_6.carer]\n",
    "care_resp['max_waves'] = care_resp.groupby('pidp')['wave'].transform('count')\n",
    "care_resp.drop_duplicates(subset=['pidp']).max_waves.mean()"
   ]
  },
  {
   "cell_type": "markdown",
   "id": "dc1d66a4-434a-46bf-89f5-95de4253c4db",
   "metadata": {},
   "source": [
    "## Decision\n",
    "We will use a \"generalised\" moment of treatment with at least 3 measures before, and at least 1 after."
   ]
  },
  {
   "cell_type": "markdown",
   "id": "c5c1b28e-dcf3-4174-a354-f538f961c700",
   "metadata": {},
   "source": [
    "# Target Variable"
   ]
  },
  {
   "cell_type": "code",
   "execution_count": 12,
   "id": "7a6637f3-e3e9-4ec1-96f8-b0ce7f4d8e96",
   "metadata": {
    "tags": []
   },
   "outputs": [
    {
     "name": "stderr",
     "output_type": "stream",
     "text": [
      "/tmp/ipykernel_5464/2089346174.py:1: SettingWithCopyWarning: \n",
      "A value is trying to be set on a copy of a slice from a DataFrame.\n",
      "Try using .loc[row_indexer,col_indexer] = value instead\n",
      "\n",
      "See the caveats in the documentation: https://pandas.pydata.org/pandas-docs/stable/user_guide/indexing.html#returning-a-view-versus-a-copy\n",
      "  data_6['jbstat_clean'] = data_6.jbstat.str.strip().str.lower() # cleaning values here\n"
     ]
    }
   ],
   "source": [
    "data_6['jbstat_clean'] = data_6.jbstat.str.strip().str.lower() # cleaning values here"
   ]
  },
  {
   "cell_type": "code",
   "execution_count": 13,
   "id": "9d0c44ca-0d6f-4e27-89a1-004ae0d4755b",
   "metadata": {
    "tags": []
   },
   "outputs": [
    {
     "data": {
      "text/plain": [
       "paid employment(ft/pt)                     187734\n",
       "retired                                     99318\n",
       "self employed                               31006\n",
       "family care or home                         19859\n",
       "unemployed                                  16201\n",
       "full-time student                           15962\n",
       "lt sick or disabled                         13788\n",
       "on maternity leave                           2151\n",
       "doing something else                         1981\n",
       "on furlough                                   387\n",
       "on apprenticeship                             288\n",
       "unpaid, family business                       261\n",
       "govt training scheme                          232\n",
       "refusal                                       131\n",
       "temporarily laid off/short term working        63\n",
       "don't know                                     47\n",
       "missing                                        29\n",
       "Name: jbstat_clean, dtype: int64"
      ]
     },
     "execution_count": 13,
     "metadata": {},
     "output_type": "execute_result"
    }
   ],
   "source": [
    "data_6.jbstat_clean.value_counts()"
   ]
  },
  {
   "cell_type": "code",
   "execution_count": 14,
   "id": "1d5a5b09-efc8-4462-9a87-049cdf244ea7",
   "metadata": {},
   "outputs": [
    {
     "name": "stderr",
     "output_type": "stream",
     "text": [
      "/tmp/ipykernel_5464/2757714622.py:1: SettingWithCopyWarning: \n",
      "A value is trying to be set on a copy of a slice from a DataFrame.\n",
      "Try using .loc[row_indexer,col_indexer] = value instead\n",
      "\n",
      "See the caveats in the documentation: https://pandas.pydata.org/pandas-docs/stable/user_guide/indexing.html#returning-a-view-versus-a-copy\n",
      "  data_6['employed'] = data_6.jbstat_clean.replace({\"paid employment(ft/pt)\": \"employed\",\n"
     ]
    }
   ],
   "source": [
    "data_6['employed'] = data_6.jbstat_clean.replace({\"paid employment(ft/pt)\": \"employed\",\n",
    "                             \"retired\": \"unemployed\",\n",
    "                       \"self employed\": \"employed\",\n",
    "                       \"family care or home\": \"unemployed\",\n",
    "                       \"unemployed\": \"unemployed\",\n",
    "                       \"full-time student\": \"unemployed\",\n",
    "                       \"lt sick or disabled\": \"unemployed\",\n",
    "                       \"on maternity leave\": \"employed\",\n",
    "                       \"doing something else\": \"unemployed\",\n",
    "                       \"on furlough\": \"unemployed\",\n",
    "                       \"on apprenticeship\": \"employed\",\n",
    "                       \"unpaid, family business\": \"unemployed\",\n",
    "                       \"govt training scheme\": \"employed\",\n",
    "                       \"refusal\": np.nan,\n",
    "                       \"temporarily laid off/short term working\": \"unemployed\",\n",
    "                       \"don't know\": np.nan,\n",
    "                       \"missing\": np.nan}\n",
    "                     )"
   ]
  },
  {
   "cell_type": "markdown",
   "id": "c04d829b-6c69-4025-9811-441ed2516c76",
   "metadata": {},
   "source": [
    "Total Sample size"
   ]
  },
  {
   "cell_type": "code",
   "execution_count": 15,
   "id": "db6713a7-ff05-4bdc-91f6-fc6095c19183",
   "metadata": {
    "tags": []
   },
   "outputs": [
    {
     "data": {
      "text/html": [
       "<div>\n",
       "<style scoped>\n",
       "    .dataframe tbody tr th:only-of-type {\n",
       "        vertical-align: middle;\n",
       "    }\n",
       "\n",
       "    .dataframe tbody tr th {\n",
       "        vertical-align: top;\n",
       "    }\n",
       "\n",
       "    .dataframe thead th {\n",
       "        text-align: right;\n",
       "    }\n",
       "</style>\n",
       "<table border=\"1\" class=\"dataframe\">\n",
       "  <thead>\n",
       "    <tr style=\"text-align: right;\">\n",
       "      <th></th>\n",
       "      <th>pidp</th>\n",
       "      <th>carer</th>\n",
       "    </tr>\n",
       "  </thead>\n",
       "  <tbody>\n",
       "    <tr>\n",
       "      <th>1</th>\n",
       "      <td>68004087</td>\n",
       "      <td>False</td>\n",
       "    </tr>\n",
       "    <tr>\n",
       "      <th>2</th>\n",
       "      <td>68006127</td>\n",
       "      <td>False</td>\n",
       "    </tr>\n",
       "    <tr>\n",
       "      <th>4</th>\n",
       "      <td>68006807</td>\n",
       "      <td>False</td>\n",
       "    </tr>\n",
       "    <tr>\n",
       "      <th>11</th>\n",
       "      <td>68008847</td>\n",
       "      <td>False</td>\n",
       "    </tr>\n",
       "    <tr>\n",
       "      <th>12</th>\n",
       "      <td>68009527</td>\n",
       "      <td>False</td>\n",
       "    </tr>\n",
       "    <tr>\n",
       "      <th>...</th>\n",
       "      <td>...</td>\n",
       "      <td>...</td>\n",
       "    </tr>\n",
       "    <tr>\n",
       "      <th>41859</th>\n",
       "      <td>1636671692</td>\n",
       "      <td>True</td>\n",
       "    </tr>\n",
       "    <tr>\n",
       "      <th>41873</th>\n",
       "      <td>1638419292</td>\n",
       "      <td>True</td>\n",
       "    </tr>\n",
       "    <tr>\n",
       "      <th>41930</th>\n",
       "      <td>1644675490</td>\n",
       "      <td>False</td>\n",
       "    </tr>\n",
       "    <tr>\n",
       "      <th>41931</th>\n",
       "      <td>1644675530</td>\n",
       "      <td>False</td>\n",
       "    </tr>\n",
       "    <tr>\n",
       "      <th>41933</th>\n",
       "      <td>1644736490</td>\n",
       "      <td>False</td>\n",
       "    </tr>\n",
       "  </tbody>\n",
       "</table>\n",
       "<p>40123 rows × 2 columns</p>\n",
       "</div>"
      ],
      "text/plain": [
       "             pidp  carer\n",
       "1        68004087  False\n",
       "2        68006127  False\n",
       "4        68006807  False\n",
       "11       68008847  False\n",
       "12       68009527  False\n",
       "...           ...    ...\n",
       "41859  1636671692   True\n",
       "41873  1638419292   True\n",
       "41930  1644675490  False\n",
       "41931  1644675530  False\n",
       "41933  1644736490  False\n",
       "\n",
       "[40123 rows x 2 columns]"
      ]
     },
     "execution_count": 15,
     "metadata": {},
     "output_type": "execute_result"
    }
   ],
   "source": [
    "data_6[['pidp', 'carer']].drop_duplicates(subset=['pidp'])"
   ]
  },
  {
   "cell_type": "markdown",
   "id": "d0b51ce0-ed50-4f7f-9d13-6811fee3c0ed",
   "metadata": {},
   "source": [
    "Total number of carers in sample"
   ]
  },
  {
   "cell_type": "code",
   "execution_count": 16,
   "id": "f22502da-9ca7-49f0-91fd-2f0440dbef56",
   "metadata": {},
   "outputs": [
    {
     "data": {
      "text/plain": [
       "6529"
      ]
     },
     "execution_count": 16,
     "metadata": {},
     "output_type": "execute_result"
    }
   ],
   "source": [
    "data_6[['pidp', 'carer']].drop_duplicates(subset=['pidp'])['carer'].sum()"
   ]
  },
  {
   "cell_type": "markdown",
   "id": "7efefcad-b085-4b88-a178-cc02563ea700",
   "metadata": {},
   "source": [
    "Number of employed individuals in the sample"
   ]
  },
  {
   "cell_type": "code",
   "execution_count": 17,
   "id": "2bb0d387-9b54-4622-abb5-b4d28d648681",
   "metadata": {
    "tags": []
   },
   "outputs": [
    {
     "data": {
      "text/plain": [
       "29337"
      ]
     },
     "execution_count": 17,
     "metadata": {},
     "output_type": "execute_result"
    }
   ],
   "source": [
    "len(data_6[(data_6.employed == 'employed')].drop_duplicates(subset=['pidp']))"
   ]
  },
  {
   "cell_type": "markdown",
   "id": "a3d0cc50-fcce-4a0f-b4d8-29ba125e98ef",
   "metadata": {
    "tags": []
   },
   "source": [
    "Number of employed carers"
   ]
  },
  {
   "cell_type": "code",
   "execution_count": 18,
   "id": "4fd10220-024b-4210-b577-a78be334ed4f",
   "metadata": {
    "tags": []
   },
   "outputs": [
    {
     "data": {
      "text/plain": [
       "4340"
      ]
     },
     "execution_count": 18,
     "metadata": {},
     "output_type": "execute_result"
    }
   ],
   "source": [
    "data_6[(data_6.employed == 'employed')].drop_duplicates(subset=['pidp']).carer.sum()"
   ]
  },
  {
   "cell_type": "markdown",
   "id": "94ce7775-f5df-4f5c-995d-8a539327eef2",
   "metadata": {},
   "source": [
    "## Decision\n",
    "We are considering only employed individuals"
   ]
  },
  {
   "cell_type": "code",
   "execution_count": 19,
   "id": "6426b666-b7e8-4de2-aa32-190a12ff3be8",
   "metadata": {
    "tags": []
   },
   "outputs": [],
   "source": [
    "df_6_emp = data_6[(data_6.employed == 'employed')]"
   ]
  },
  {
   "cell_type": "markdown",
   "id": "f57d1fcc-0cde-41c1-91d3-68b88c1f330b",
   "metadata": {},
   "source": [
    "Cleaning wage variable"
   ]
  },
  {
   "cell_type": "code",
   "execution_count": 20,
   "id": "edc14344-02a8-45cc-b053-2c8565dbbfdb",
   "metadata": {
    "tags": []
   },
   "outputs": [
    {
     "name": "stderr",
     "output_type": "stream",
     "text": [
      "/tmp/ipykernel_5464/3065558054.py:1: SettingWithCopyWarning: \n",
      "A value is trying to be set on a copy of a slice from a DataFrame.\n",
      "Try using .loc[row_indexer,col_indexer] = value instead\n",
      "\n",
      "See the caveats in the documentation: https://pandas.pydata.org/pandas-docs/stable/user_guide/indexing.html#returning-a-view-versus-a-copy\n",
      "  df_6_emp['wage'] = df_6_emp.paygu_dv.replace({'inapplicable': np.nan, 'proxy': np.nan, 'missing': np.nan})\n"
     ]
    }
   ],
   "source": [
    "df_6_emp['wage'] = df_6_emp.paygu_dv.replace({'inapplicable': np.nan, 'proxy': np.nan, 'missing': np.nan})"
   ]
  },
  {
   "cell_type": "code",
   "execution_count": 21,
   "id": "582d1c45-b737-4bd3-96e7-eae751617b25",
   "metadata": {
    "tags": []
   },
   "outputs": [
    {
     "data": {
      "text/plain": [
       "1        1075.000000\n",
       "11       1282.170044\n",
       "12       4116.669922\n",
       "14       2333.330078\n",
       "16       2641.449951\n",
       "            ...     \n",
       "29258    4583.330078\n",
       "29259    7000.000000\n",
       "29260    1624.750000\n",
       "29263    2800.000000\n",
       "29267            NaN\n",
       "Name: wage, Length: 221411, dtype: float64"
      ]
     },
     "execution_count": 21,
     "metadata": {},
     "output_type": "execute_result"
    }
   ],
   "source": [
    "df_6_emp.wage"
   ]
  },
  {
   "cell_type": "markdown",
   "id": "2948f1ec-cf47-44fb-bb27-f29f013611bf",
   "metadata": {},
   "source": [
    "Adding cpih to correct for inflation"
   ]
  },
  {
   "cell_type": "code",
   "execution_count": 22,
   "id": "29230725-a633-4d79-83e4-941988ae4231",
   "metadata": {
    "tags": []
   },
   "outputs": [
    {
     "data": {
      "text/html": [
       "<div>\n",
       "<style scoped>\n",
       "    .dataframe tbody tr th:only-of-type {\n",
       "        vertical-align: middle;\n",
       "    }\n",
       "\n",
       "    .dataframe tbody tr th {\n",
       "        vertical-align: top;\n",
       "    }\n",
       "\n",
       "    .dataframe thead th {\n",
       "        text-align: right;\n",
       "    }\n",
       "</style>\n",
       "<table border=\"1\" class=\"dataframe\">\n",
       "  <thead>\n",
       "    <tr style=\"text-align: right;\">\n",
       "      <th></th>\n",
       "      <th>date</th>\n",
       "      <th>cpih</th>\n",
       "    </tr>\n",
       "  </thead>\n",
       "  <tbody>\n",
       "    <tr>\n",
       "      <th>0</th>\n",
       "      <td>1988-01-01</td>\n",
       "      <td>46.9</td>\n",
       "    </tr>\n",
       "    <tr>\n",
       "      <th>1</th>\n",
       "      <td>1988-02-01</td>\n",
       "      <td>47.0</td>\n",
       "    </tr>\n",
       "    <tr>\n",
       "      <th>2</th>\n",
       "      <td>1988-03-01</td>\n",
       "      <td>47.2</td>\n",
       "    </tr>\n",
       "    <tr>\n",
       "      <th>3</th>\n",
       "      <td>1988-04-01</td>\n",
       "      <td>47.8</td>\n",
       "    </tr>\n",
       "    <tr>\n",
       "      <th>4</th>\n",
       "      <td>1988-05-01</td>\n",
       "      <td>48.0</td>\n",
       "    </tr>\n",
       "    <tr>\n",
       "      <th>...</th>\n",
       "      <td>...</td>\n",
       "      <td>...</td>\n",
       "    </tr>\n",
       "    <tr>\n",
       "      <th>416</th>\n",
       "      <td>2022-09-01</td>\n",
       "      <td>122.3</td>\n",
       "    </tr>\n",
       "    <tr>\n",
       "      <th>417</th>\n",
       "      <td>2022-10-01</td>\n",
       "      <td>124.3</td>\n",
       "    </tr>\n",
       "    <tr>\n",
       "      <th>418</th>\n",
       "      <td>2022-11-01</td>\n",
       "      <td>124.8</td>\n",
       "    </tr>\n",
       "    <tr>\n",
       "      <th>419</th>\n",
       "      <td>2022-12-01</td>\n",
       "      <td>125.3</td>\n",
       "    </tr>\n",
       "    <tr>\n",
       "      <th>420</th>\n",
       "      <td>2023-01-01</td>\n",
       "      <td>124.8</td>\n",
       "    </tr>\n",
       "  </tbody>\n",
       "</table>\n",
       "<p>421 rows × 2 columns</p>\n",
       "</div>"
      ],
      "text/plain": [
       "          date   cpih\n",
       "0   1988-01-01   46.9\n",
       "1   1988-02-01   47.0\n",
       "2   1988-03-01   47.2\n",
       "3   1988-04-01   47.8\n",
       "4   1988-05-01   48.0\n",
       "..         ...    ...\n",
       "416 2022-09-01  122.3\n",
       "417 2022-10-01  124.3\n",
       "418 2022-11-01  124.8\n",
       "419 2022-12-01  125.3\n",
       "420 2023-01-01  124.8\n",
       "\n",
       "[421 rows x 2 columns]"
      ]
     },
     "execution_count": 22,
     "metadata": {},
     "output_type": "execute_result"
    }
   ],
   "source": [
    "cpih = pd.read_csv('./cpih_uk_88_23.csv')\n",
    "cpih['date'] = pd.to_datetime(cpih.date, format='%b-%y')\n",
    "cpih"
   ]
  },
  {
   "cell_type": "code",
   "execution_count": 23,
   "id": "4f4384bf-a3b0-4bac-8065-cba714d2f8ef",
   "metadata": {
    "tags": []
   },
   "outputs": [
    {
     "name": "stderr",
     "output_type": "stream",
     "text": [
      "/tmp/ipykernel_5464/1591602359.py:1: SettingWithCopyWarning: \n",
      "A value is trying to be set on a copy of a slice from a DataFrame.\n",
      "Try using .loc[row_indexer,col_indexer] = value instead\n",
      "\n",
      "See the caveats in the documentation: https://pandas.pydata.org/pandas-docs/stable/user_guide/indexing.html#returning-a-view-versus-a-copy\n",
      "  df_6_emp['istrtdaty'] = df_6_emp['istrtdaty'].astype('str').replace({'inapplicable': np.nan, 'missing': np.nan, \"don't know\": np.nan})\n",
      "/tmp/ipykernel_5464/1591602359.py:2: SettingWithCopyWarning: \n",
      "A value is trying to be set on a copy of a slice from a DataFrame.\n",
      "Try using .loc[row_indexer,col_indexer] = value instead\n",
      "\n",
      "See the caveats in the documentation: https://pandas.pydata.org/pandas-docs/stable/user_guide/indexing.html#returning-a-view-versus-a-copy\n",
      "  df_6_emp['istrtdatm'] = df_6_emp['istrtdatm'].replace({'inapplicable': np.nan, 'missing': np.nan, \"don't know\": np.nan})\n",
      "/tmp/ipykernel_5464/1591602359.py:3: SettingWithCopyWarning: \n",
      "A value is trying to be set on a copy of a slice from a DataFrame.\n",
      "Try using .loc[row_indexer,col_indexer] = value instead\n",
      "\n",
      "See the caveats in the documentation: https://pandas.pydata.org/pandas-docs/stable/user_guide/indexing.html#returning-a-view-versus-a-copy\n",
      "  df_6_emp['date'] = df_6_emp['istrtdaty'].astype(str) + '/' + df_6_emp['istrtdatm'].astype(str)\n",
      "/tmp/ipykernel_5464/1591602359.py:4: SettingWithCopyWarning: \n",
      "A value is trying to be set on a copy of a slice from a DataFrame.\n",
      "Try using .loc[row_indexer,col_indexer] = value instead\n",
      "\n",
      "See the caveats in the documentation: https://pandas.pydata.org/pandas-docs/stable/user_guide/indexing.html#returning-a-view-versus-a-copy\n",
      "  df_6_emp['date'] = df_6_emp['date'].replace({'nan/nan': np.nan})\n",
      "/tmp/ipykernel_5464/1591602359.py:5: SettingWithCopyWarning: \n",
      "A value is trying to be set on a copy of a slice from a DataFrame.\n",
      "Try using .loc[row_indexer,col_indexer] = value instead\n",
      "\n",
      "See the caveats in the documentation: https://pandas.pydata.org/pandas-docs/stable/user_guide/indexing.html#returning-a-view-versus-a-copy\n",
      "  df_6_emp['date'] = pd.to_datetime(df_6_emp['date'], format='%Y/%B')\n"
     ]
    }
   ],
   "source": [
    "df_6_emp['istrtdaty'] = df_6_emp['istrtdaty'].astype('str').replace({'inapplicable': np.nan, 'missing': np.nan, \"don't know\": np.nan})\n",
    "df_6_emp['istrtdatm'] = df_6_emp['istrtdatm'].replace({'inapplicable': np.nan, 'missing': np.nan, \"don't know\": np.nan})\n",
    "df_6_emp['date'] = df_6_emp['istrtdaty'].astype(str) + '/' + df_6_emp['istrtdatm'].astype(str)\n",
    "df_6_emp['date'] = df_6_emp['date'].replace({'nan/nan': np.nan})\n",
    "df_6_emp['date'] = pd.to_datetime(df_6_emp['date'], format='%Y/%B')\n",
    "df_6_emp = df_6_emp.merge(cpih, on='date', how='left')"
   ]
  },
  {
   "cell_type": "code",
   "execution_count": 24,
   "id": "93d36402-6f1f-4649-9325-96c610262b80",
   "metadata": {
    "tags": []
   },
   "outputs": [
    {
     "name": "stderr",
     "output_type": "stream",
     "text": [
      "/tmp/ipykernel_5464/295635728.py:2: SettingWithCopyWarning: \n",
      "A value is trying to be set on a copy of a slice from a DataFrame\n",
      "\n",
      "See the caveats in the documentation: https://pandas.pydata.org/pandas-docs/stable/user_guide/indexing.html#returning-a-view-versus-a-copy\n",
      "  df_6_emp['jbhrs_clean'][df_6_emp.jbhrs_clean < 1] = np.nan\n"
     ]
    }
   ],
   "source": [
    "df_6_emp['jbhrs_clean'] = df_6_emp.jbhrs.replace({'inapplicable': np.nan, 'proxy': np.nan, 'missing': np.nan, \"don't know\": np.nan, \"refusal\": np.nan, 0: np.nan})\n",
    "df_6_emp['jbhrs_clean'][df_6_emp.jbhrs_clean < 1] = np.nan"
   ]
  },
  {
   "cell_type": "code",
   "execution_count": 25,
   "id": "b8ce4aec-9f58-46d8-8bd2-7e18e4e1b272",
   "metadata": {
    "tags": []
   },
   "outputs": [],
   "source": [
    "df_6_emp['month_jbhrs'] = df_6_emp['jbhrs_clean'] * 4.33 # times the average amount of weeks"
   ]
  },
  {
   "cell_type": "code",
   "execution_count": 26,
   "id": "d2ff7d47-1b07-404f-bd2f-11a1df4c1105",
   "metadata": {
    "tags": []
   },
   "outputs": [],
   "source": [
    "df_6_emp['wage_h'] = df_6_emp['wage'] / df_6_emp['month_jbhrs']"
   ]
  },
  {
   "cell_type": "markdown",
   "id": "adde0d83-798c-4103-968c-ce2bc2f5ff49",
   "metadata": {},
   "source": [
    "### Real wage calculation"
   ]
  },
  {
   "cell_type": "code",
   "execution_count": 27,
   "id": "a4b74f6e-e242-461d-be0e-8df882822c82",
   "metadata": {
    "tags": []
   },
   "outputs": [],
   "source": [
    "df_6_emp['wage_h_deflated'] = (df_6_emp['wage_h'] / df_6_emp['cpih']) * 100"
   ]
  },
  {
   "cell_type": "code",
   "execution_count": 28,
   "id": "9af9487c-193a-4012-b208-4012e1178aef",
   "metadata": {
    "tags": []
   },
   "outputs": [],
   "source": [
    "df_6_emp['wage_deflated'] = (df_6_emp['wage'] / df_6_emp['cpih']) * 100"
   ]
  },
  {
   "cell_type": "markdown",
   "id": "b80cd50c-c022-4a69-8e0a-c888e38ec03b",
   "metadata": {},
   "source": [
    "# ISC Data preparation"
   ]
  },
  {
   "cell_type": "code",
   "execution_count": 29,
   "id": "a5232d11-b6aa-4575-aa9d-e4cf1459c646",
   "metadata": {
    "tags": []
   },
   "outputs": [],
   "source": [
    "isc_data = df_6_emp[['pidp', 'carer', 'wage_deflated', 'wage_h_deflated', 'wave', 'date']]"
   ]
  },
  {
   "cell_type": "code",
   "execution_count": 30,
   "id": "392dd61d-ea32-4b41-886d-ee9f36439db6",
   "metadata": {
    "tags": []
   },
   "outputs": [
    {
     "data": {
      "text/html": [
       "<div>\n",
       "<style scoped>\n",
       "    .dataframe tbody tr th:only-of-type {\n",
       "        vertical-align: middle;\n",
       "    }\n",
       "\n",
       "    .dataframe tbody tr th {\n",
       "        vertical-align: top;\n",
       "    }\n",
       "\n",
       "    .dataframe thead th {\n",
       "        text-align: right;\n",
       "    }\n",
       "</style>\n",
       "<table border=\"1\" class=\"dataframe\">\n",
       "  <thead>\n",
       "    <tr style=\"text-align: right;\">\n",
       "      <th></th>\n",
       "      <th>pidp</th>\n",
       "      <th>carer</th>\n",
       "      <th>wage_deflated</th>\n",
       "      <th>wage_h_deflated</th>\n",
       "      <th>wave</th>\n",
       "      <th>date</th>\n",
       "    </tr>\n",
       "  </thead>\n",
       "  <tbody>\n",
       "    <tr>\n",
       "      <th>0</th>\n",
       "      <td>68004087</td>\n",
       "      <td>False</td>\n",
       "      <td>1241.339492</td>\n",
       "      <td>7.350859</td>\n",
       "      <td>1</td>\n",
       "      <td>2009-01-01</td>\n",
       "    </tr>\n",
       "    <tr>\n",
       "      <th>1</th>\n",
       "      <td>68008847</td>\n",
       "      <td>False</td>\n",
       "      <td>1480.565871</td>\n",
       "      <td>8.767489</td>\n",
       "      <td>1</td>\n",
       "      <td>2009-01-01</td>\n",
       "    </tr>\n",
       "    <tr>\n",
       "      <th>2</th>\n",
       "      <td>68009527</td>\n",
       "      <td>False</td>\n",
       "      <td>4753.660418</td>\n",
       "      <td>29.671434</td>\n",
       "      <td>1</td>\n",
       "      <td>2009-01-01</td>\n",
       "    </tr>\n",
       "    <tr>\n",
       "      <th>3</th>\n",
       "      <td>68010887</td>\n",
       "      <td>False</td>\n",
       "      <td>2694.376534</td>\n",
       "      <td>16.817780</td>\n",
       "      <td>1</td>\n",
       "      <td>2009-01-01</td>\n",
       "    </tr>\n",
       "    <tr>\n",
       "      <th>4</th>\n",
       "      <td>68011567</td>\n",
       "      <td>False</td>\n",
       "      <td>3050.173154</td>\n",
       "      <td>19.038594</td>\n",
       "      <td>1</td>\n",
       "      <td>2009-01-01</td>\n",
       "    </tr>\n",
       "    <tr>\n",
       "      <th>...</th>\n",
       "      <td>...</td>\n",
       "      <td>...</td>\n",
       "      <td>...</td>\n",
       "      <td>...</td>\n",
       "      <td>...</td>\n",
       "      <td>...</td>\n",
       "    </tr>\n",
       "    <tr>\n",
       "      <th>221406</th>\n",
       "      <td>1652366050</td>\n",
       "      <td>False</td>\n",
       "      <td>3971.689842</td>\n",
       "      <td>24.790524</td>\n",
       "      <td>12</td>\n",
       "      <td>2022-02-01</td>\n",
       "    </tr>\n",
       "    <tr>\n",
       "      <th>221407</th>\n",
       "      <td>1652814850</td>\n",
       "      <td>True</td>\n",
       "      <td>6134.969325</td>\n",
       "      <td>35.421301</td>\n",
       "      <td>12</td>\n",
       "      <td>2021-11-01</td>\n",
       "    </tr>\n",
       "    <tr>\n",
       "      <th>221408</th>\n",
       "      <td>1652835250</td>\n",
       "      <td>False</td>\n",
       "      <td>1423.970202</td>\n",
       "      <td>8.888148</td>\n",
       "      <td>12</td>\n",
       "      <td>2021-11-01</td>\n",
       "    </tr>\n",
       "    <tr>\n",
       "      <th>221409</th>\n",
       "      <td>1652984930</td>\n",
       "      <td>False</td>\n",
       "      <td>2441.533981</td>\n",
       "      <td>15.036391</td>\n",
       "      <td>12</td>\n",
       "      <td>2021-12-01</td>\n",
       "    </tr>\n",
       "    <tr>\n",
       "      <th>221410</th>\n",
       "      <td>1653134490</td>\n",
       "      <td>False</td>\n",
       "      <td>NaN</td>\n",
       "      <td>NaN</td>\n",
       "      <td>12</td>\n",
       "      <td>2021-12-01</td>\n",
       "    </tr>\n",
       "  </tbody>\n",
       "</table>\n",
       "<p>221411 rows × 6 columns</p>\n",
       "</div>"
      ],
      "text/plain": [
       "              pidp  carer  wage_deflated  wage_h_deflated  wave       date\n",
       "0         68004087  False    1241.339492         7.350859     1 2009-01-01\n",
       "1         68008847  False    1480.565871         8.767489     1 2009-01-01\n",
       "2         68009527  False    4753.660418        29.671434     1 2009-01-01\n",
       "3         68010887  False    2694.376534        16.817780     1 2009-01-01\n",
       "4         68011567  False    3050.173154        19.038594     1 2009-01-01\n",
       "...            ...    ...            ...              ...   ...        ...\n",
       "221406  1652366050  False    3971.689842        24.790524    12 2022-02-01\n",
       "221407  1652814850   True    6134.969325        35.421301    12 2021-11-01\n",
       "221408  1652835250  False    1423.970202         8.888148    12 2021-11-01\n",
       "221409  1652984930  False    2441.533981        15.036391    12 2021-12-01\n",
       "221410  1653134490  False            NaN              NaN    12 2021-12-01\n",
       "\n",
       "[221411 rows x 6 columns]"
      ]
     },
     "execution_count": 30,
     "metadata": {},
     "output_type": "execute_result"
    }
   ],
   "source": [
    "isc_data"
   ]
  },
  {
   "cell_type": "markdown",
   "id": "be68139d-80a3-4c82-b9dc-ac909c165c4b",
   "metadata": {},
   "source": [
    "### Average number of waves caring"
   ]
  },
  {
   "cell_type": "code",
   "execution_count": 31,
   "id": "a622482b-029e-4f08-898f-4e29a9692274",
   "metadata": {
    "tags": []
   },
   "outputs": [
    {
     "data": {
      "text/plain": [
       "3.041845399632321"
      ]
     },
     "execution_count": 31,
     "metadata": {},
     "output_type": "execute_result"
    }
   ],
   "source": [
    "carer_events = []\n",
    "for i in isc_data.pidp.unique():\n",
    "    by_pidp = isc_data[isc_data.pidp == i]\n",
    "    if by_pidp.carer.any():\n",
    "        carer_events.append(by_pidp.carer.sum())\n",
    "np.mean(carer_events)"
   ]
  },
  {
   "cell_type": "markdown",
   "id": "9e747331-93fc-41f8-971c-8d1474e38b60",
   "metadata": {
    "tags": []
   },
   "source": [
    "## Decision\n",
    "We will take the average as lower limit to determine treated cases. Everyone with less than 3 and more than 1 reported waves of caring will be dropped."
   ]
  },
  {
   "cell_type": "code",
   "execution_count": 32,
   "id": "7de64c13-fd68-4226-a588-a8eb9dbb3824",
   "metadata": {
    "tags": []
   },
   "outputs": [
    {
     "name": "stderr",
     "output_type": "stream",
     "text": [
      "/tmp/ipykernel_5464/2949276746.py:1: SettingWithCopyWarning: \n",
      "A value is trying to be set on a copy of a slice from a DataFrame.\n",
      "Try using .loc[row_indexer,col_indexer] = value instead\n",
      "\n",
      "See the caveats in the documentation: https://pandas.pydata.org/pandas-docs/stable/user_guide/indexing.html#returning-a-view-versus-a-copy\n",
      "  isc_data['waves_caring'] = isc_data.groupby('pidp')['carer'].transform('sum')\n"
     ]
    }
   ],
   "source": [
    "isc_data['waves_caring'] = isc_data.groupby('pidp')['carer'].transform('sum')\n",
    "isc_data = isc_data[~((isc_data.waves_caring >= 1) & (isc_data.waves_caring < 3))]"
   ]
  },
  {
   "cell_type": "code",
   "execution_count": 33,
   "id": "135e5de5-81fc-4cf9-bde3-597f5a5ff6d3",
   "metadata": {
    "tags": []
   },
   "outputs": [
    {
     "name": "stderr",
     "output_type": "stream",
     "text": [
      "/tmp/ipykernel_5464/2134365079.py:1: SettingWithCopyWarning: \n",
      "A value is trying to be set on a copy of a slice from a DataFrame.\n",
      "Try using .loc[row_indexer,col_indexer] = value instead\n",
      "\n",
      "See the caveats in the documentation: https://pandas.pydata.org/pandas-docs/stable/user_guide/indexing.html#returning-a-view-versus-a-copy\n",
      "  isc_data['wave_reindex'] = isc_data.sort_values(by=['pidp', 'wave']).groupby('pidp').cumcount() + 1\n",
      "/tmp/ipykernel_5464/2134365079.py:3: SettingWithCopyWarning: \n",
      "A value is trying to be set on a copy of a slice from a DataFrame\n",
      "\n",
      "See the caveats in the documentation: https://pandas.pydata.org/pandas-docs/stable/user_guide/indexing.html#returning-a-view-versus-a-copy\n",
      "  isc_data.sort_values(by=['pidp', 'wave_reindex'], inplace=True)\n"
     ]
    }
   ],
   "source": [
    "isc_data['wave_reindex'] = isc_data.sort_values(by=['pidp', 'wave']).groupby('pidp').cumcount() + 1\n",
    "isc_data.reset_index(drop=True, inplace=True)\n",
    "isc_data.sort_values(by=['pidp', 'wave_reindex'], inplace=True)"
   ]
  },
  {
   "cell_type": "code",
   "execution_count": 34,
   "id": "4bcdff9f-e182-4336-a1e3-70f9cd7f0efa",
   "metadata": {},
   "outputs": [
    {
     "name": "stderr",
     "output_type": "stream",
     "text": [
      "/tmp/ipykernel_5464/3447444823.py:1: SettingWithCopyWarning: \n",
      "A value is trying to be set on a copy of a slice from a DataFrame.\n",
      "Try using .loc[row_indexer,col_indexer] = value instead\n",
      "\n",
      "See the caveats in the documentation: https://pandas.pydata.org/pandas-docs/stable/user_guide/indexing.html#returning-a-view-versus-a-copy\n",
      "  isc_data['wave_treat'] = isc_data.wave_reindex[isc_data.groupby('pidp')['carer'].transform('idxmax').values].values\n"
     ]
    }
   ],
   "source": [
    "isc_data['wave_treat'] = isc_data.wave_reindex[isc_data.groupby('pidp')['carer'].transform('idxmax').values].values"
   ]
  },
  {
   "cell_type": "code",
   "execution_count": 35,
   "id": "246a9357-70f4-4d37-a1bb-76015e80657f",
   "metadata": {
    "tags": []
   },
   "outputs": [
    {
     "name": "stderr",
     "output_type": "stream",
     "text": [
      "/tmp/ipykernel_5464/2101417188.py:1: SettingWithCopyWarning: \n",
      "A value is trying to be set on a copy of a slice from a DataFrame.\n",
      "Try using .loc[row_indexer,col_indexer] = value instead\n",
      "\n",
      "See the caveats in the documentation: https://pandas.pydata.org/pandas-docs/stable/user_guide/indexing.html#returning-a-view-versus-a-copy\n",
      "  isc_data['wave_treat_real'] = isc_data.wave[isc_data.groupby('pidp')['carer'].transform('idxmax').values].values\n"
     ]
    }
   ],
   "source": [
    "isc_data['wave_treat_real'] = isc_data.wave[isc_data.groupby('pidp')['carer'].transform('idxmax').values].values"
   ]
  },
  {
   "cell_type": "code",
   "execution_count": 36,
   "id": "c4ca01ed-85e5-444c-8801-fbcd4ca2d99d",
   "metadata": {
    "tags": []
   },
   "outputs": [
    {
     "name": "stderr",
     "output_type": "stream",
     "text": [
      "/tmp/ipykernel_5464/2650344565.py:1: SettingWithCopyWarning: \n",
      "A value is trying to be set on a copy of a slice from a DataFrame.\n",
      "Try using .loc[row_indexer,col_indexer] = value instead\n",
      "\n",
      "See the caveats in the documentation: https://pandas.pydata.org/pandas-docs/stable/user_guide/indexing.html#returning-a-view-versus-a-copy\n",
      "  isc_data['initial_wave'] = isc_data.groupby('pidp')['wave'].transform('min').values\n"
     ]
    }
   ],
   "source": [
    "isc_data['initial_wave'] = isc_data.groupby('pidp')['wave'].transform('min').values"
   ]
  },
  {
   "cell_type": "markdown",
   "id": "6923508c-286a-43a2-99eb-9888aed7c2e3",
   "metadata": {},
   "source": [
    "## Decision\n",
    "Only carer with at least 5 data points before treatment are consider."
   ]
  },
  {
   "cell_type": "code",
   "execution_count": 37,
   "id": "d6e9f35d-8c60-4710-b4d8-bbeb9d5cef01",
   "metadata": {
    "tags": []
   },
   "outputs": [],
   "source": [
    "isc_data = isc_data.drop(isc_data[(isc_data.wave_treat < 6) & (isc_data.carer == True)].index)"
   ]
  },
  {
   "cell_type": "code",
   "execution_count": 38,
   "id": "dbef00de-cf64-45db-8693-434d7057d364",
   "metadata": {
    "tags": []
   },
   "outputs": [],
   "source": [
    "def create_index(x):\n",
    "    y = np.arange(len(x)) + 1\n",
    "    return y - x\n",
    "\n",
    "def create_relative_index(lst, point):\n",
    "    index = lst.index(point)\n",
    "    return [i - index for i in range(len(lst))]\n"
   ]
  },
  {
   "cell_type": "code",
   "execution_count": 39,
   "id": "73c1bb87-43b5-4461-8734-8225d8b8e565",
   "metadata": {
    "tags": []
   },
   "outputs": [],
   "source": [
    "isc_data['reindex'] = isc_data.groupby('pidp')['wave_treat'].transform(create_index)"
   ]
  },
  {
   "cell_type": "code",
   "execution_count": 40,
   "id": "22f20d65-4633-49d4-a700-c4223517443b",
   "metadata": {},
   "outputs": [
    {
     "data": {
      "text/html": [
       "<div>\n",
       "<style scoped>\n",
       "    .dataframe tbody tr th:only-of-type {\n",
       "        vertical-align: middle;\n",
       "    }\n",
       "\n",
       "    .dataframe tbody tr th {\n",
       "        vertical-align: top;\n",
       "    }\n",
       "\n",
       "    .dataframe thead th {\n",
       "        text-align: right;\n",
       "    }\n",
       "</style>\n",
       "<table border=\"1\" class=\"dataframe\">\n",
       "  <thead>\n",
       "    <tr style=\"text-align: right;\">\n",
       "      <th></th>\n",
       "      <th>pidp</th>\n",
       "      <th>carer</th>\n",
       "      <th>wage_deflated</th>\n",
       "      <th>wage_h_deflated</th>\n",
       "      <th>wave</th>\n",
       "      <th>date</th>\n",
       "      <th>waves_caring</th>\n",
       "      <th>wave_reindex</th>\n",
       "      <th>wave_treat</th>\n",
       "      <th>wave_treat_real</th>\n",
       "      <th>initial_wave</th>\n",
       "      <th>reindex</th>\n",
       "    </tr>\n",
       "  </thead>\n",
       "  <tbody>\n",
       "    <tr>\n",
       "      <th>73823</th>\n",
       "      <td>29925</td>\n",
       "      <td>False</td>\n",
       "      <td>NaN</td>\n",
       "      <td>NaN</td>\n",
       "      <td>6</td>\n",
       "      <td>2014-09-01</td>\n",
       "      <td>0</td>\n",
       "      <td>1</td>\n",
       "      <td>1</td>\n",
       "      <td>6</td>\n",
       "      <td>6</td>\n",
       "      <td>0</td>\n",
       "    </tr>\n",
       "    <tr>\n",
       "      <th>90329</th>\n",
       "      <td>29925</td>\n",
       "      <td>False</td>\n",
       "      <td>NaN</td>\n",
       "      <td>NaN</td>\n",
       "      <td>7</td>\n",
       "      <td>2015-08-01</td>\n",
       "      <td>0</td>\n",
       "      <td>2</td>\n",
       "      <td>1</td>\n",
       "      <td>6</td>\n",
       "      <td>6</td>\n",
       "      <td>1</td>\n",
       "    </tr>\n",
       "    <tr>\n",
       "      <th>106529</th>\n",
       "      <td>29925</td>\n",
       "      <td>False</td>\n",
       "      <td>1354.679803</td>\n",
       "      <td>14.220867</td>\n",
       "      <td>8</td>\n",
       "      <td>2016-09-01</td>\n",
       "      <td>0</td>\n",
       "      <td>3</td>\n",
       "      <td>1</td>\n",
       "      <td>6</td>\n",
       "      <td>6</td>\n",
       "      <td>2</td>\n",
       "    </tr>\n",
       "    <tr>\n",
       "      <th>121932</th>\n",
       "      <td>29925</td>\n",
       "      <td>False</td>\n",
       "      <td>1346.153846</td>\n",
       "      <td>12.953751</td>\n",
       "      <td>9</td>\n",
       "      <td>2017-08-01</td>\n",
       "      <td>0</td>\n",
       "      <td>4</td>\n",
       "      <td>1</td>\n",
       "      <td>6</td>\n",
       "      <td>6</td>\n",
       "      <td>3</td>\n",
       "    </tr>\n",
       "    <tr>\n",
       "      <th>136258</th>\n",
       "      <td>29925</td>\n",
       "      <td>False</td>\n",
       "      <td>1573.182247</td>\n",
       "      <td>15.796588</td>\n",
       "      <td>10</td>\n",
       "      <td>2018-07-01</td>\n",
       "      <td>0</td>\n",
       "      <td>5</td>\n",
       "      <td>1</td>\n",
       "      <td>6</td>\n",
       "      <td>6</td>\n",
       "      <td>4</td>\n",
       "    </tr>\n",
       "    <tr>\n",
       "      <th>...</th>\n",
       "      <td>...</td>\n",
       "      <td>...</td>\n",
       "      <td>...</td>\n",
       "      <td>...</td>\n",
       "      <td>...</td>\n",
       "      <td>...</td>\n",
       "      <td>...</td>\n",
       "      <td>...</td>\n",
       "      <td>...</td>\n",
       "      <td>...</td>\n",
       "      <td>...</td>\n",
       "      <td>...</td>\n",
       "    </tr>\n",
       "    <tr>\n",
       "      <th>106528</th>\n",
       "      <td>1653277250</td>\n",
       "      <td>False</td>\n",
       "      <td>982.318271</td>\n",
       "      <td>11.343167</td>\n",
       "      <td>7</td>\n",
       "      <td>2016-11-01</td>\n",
       "      <td>0</td>\n",
       "      <td>2</td>\n",
       "      <td>1</td>\n",
       "      <td>6</td>\n",
       "      <td>6</td>\n",
       "      <td>1</td>\n",
       "    </tr>\n",
       "    <tr>\n",
       "      <th>121931</th>\n",
       "      <td>1653277250</td>\n",
       "      <td>False</td>\n",
       "      <td>NaN</td>\n",
       "      <td>NaN</td>\n",
       "      <td>8</td>\n",
       "      <td>2018-01-01</td>\n",
       "      <td>0</td>\n",
       "      <td>3</td>\n",
       "      <td>1</td>\n",
       "      <td>6</td>\n",
       "      <td>6</td>\n",
       "      <td>2</td>\n",
       "    </tr>\n",
       "    <tr>\n",
       "      <th>136257</th>\n",
       "      <td>1653277250</td>\n",
       "      <td>False</td>\n",
       "      <td>655.430712</td>\n",
       "      <td>7.568484</td>\n",
       "      <td>9</td>\n",
       "      <td>2019-02-01</td>\n",
       "      <td>0</td>\n",
       "      <td>4</td>\n",
       "      <td>1</td>\n",
       "      <td>6</td>\n",
       "      <td>6</td>\n",
       "      <td>3</td>\n",
       "    </tr>\n",
       "    <tr>\n",
       "      <th>149834</th>\n",
       "      <td>1653277250</td>\n",
       "      <td>False</td>\n",
       "      <td>NaN</td>\n",
       "      <td>NaN</td>\n",
       "      <td>10</td>\n",
       "      <td>2019-10-01</td>\n",
       "      <td>0</td>\n",
       "      <td>5</td>\n",
       "      <td>1</td>\n",
       "      <td>6</td>\n",
       "      <td>6</td>\n",
       "      <td>4</td>\n",
       "    </tr>\n",
       "    <tr>\n",
       "      <th>162389</th>\n",
       "      <td>1653277250</td>\n",
       "      <td>False</td>\n",
       "      <td>1719.716632</td>\n",
       "      <td>19.858160</td>\n",
       "      <td>11</td>\n",
       "      <td>2020-12-01</td>\n",
       "      <td>0</td>\n",
       "      <td>6</td>\n",
       "      <td>1</td>\n",
       "      <td>6</td>\n",
       "      <td>6</td>\n",
       "      <td>5</td>\n",
       "    </tr>\n",
       "  </tbody>\n",
       "</table>\n",
       "<p>149169 rows × 12 columns</p>\n",
       "</div>"
      ],
      "text/plain": [
       "              pidp  carer  wage_deflated  wage_h_deflated  wave       date  \\\n",
       "73823        29925  False            NaN              NaN     6 2014-09-01   \n",
       "90329        29925  False            NaN              NaN     7 2015-08-01   \n",
       "106529       29925  False    1354.679803        14.220867     8 2016-09-01   \n",
       "121932       29925  False    1346.153846        12.953751     9 2017-08-01   \n",
       "136258       29925  False    1573.182247        15.796588    10 2018-07-01   \n",
       "...            ...    ...            ...              ...   ...        ...   \n",
       "106528  1653277250  False     982.318271        11.343167     7 2016-11-01   \n",
       "121931  1653277250  False            NaN              NaN     8 2018-01-01   \n",
       "136257  1653277250  False     655.430712         7.568484     9 2019-02-01   \n",
       "149834  1653277250  False            NaN              NaN    10 2019-10-01   \n",
       "162389  1653277250  False    1719.716632        19.858160    11 2020-12-01   \n",
       "\n",
       "        waves_caring  wave_reindex  wave_treat  wave_treat_real  initial_wave  \\\n",
       "73823              0             1           1                6             6   \n",
       "90329              0             2           1                6             6   \n",
       "106529             0             3           1                6             6   \n",
       "121932             0             4           1                6             6   \n",
       "136258             0             5           1                6             6   \n",
       "...              ...           ...         ...              ...           ...   \n",
       "106528             0             2           1                6             6   \n",
       "121931             0             3           1                6             6   \n",
       "136257             0             4           1                6             6   \n",
       "149834             0             5           1                6             6   \n",
       "162389             0             6           1                6             6   \n",
       "\n",
       "        reindex  \n",
       "73823         0  \n",
       "90329         1  \n",
       "106529        2  \n",
       "121932        3  \n",
       "136258        4  \n",
       "...         ...  \n",
       "106528        1  \n",
       "121931        2  \n",
       "136257        3  \n",
       "149834        4  \n",
       "162389        5  \n",
       "\n",
       "[149169 rows x 12 columns]"
      ]
     },
     "execution_count": 40,
     "metadata": {},
     "output_type": "execute_result"
    }
   ],
   "source": [
    "isc_data"
   ]
  },
  {
   "cell_type": "code",
   "execution_count": 41,
   "id": "5fd47901-1531-40a1-a9e1-58fc888610e4",
   "metadata": {
    "tags": []
   },
   "outputs": [],
   "source": [
    "isc_data = isc_data.dropna()"
   ]
  },
  {
   "cell_type": "code",
   "execution_count": 42,
   "id": "6d00cbc2-d2b7-4bc8-a211-5e4a166de043",
   "metadata": {},
   "outputs": [
    {
     "name": "stderr",
     "output_type": "stream",
     "text": [
      "/tmp/ipykernel_5464/4197461544.py:1: SettingWithCopyWarning: \n",
      "A value is trying to be set on a copy of a slice from a DataFrame.\n",
      "Try using .loc[row_indexer,col_indexer] = value instead\n",
      "\n",
      "See the caveats in the documentation: https://pandas.pydata.org/pandas-docs/stable/user_guide/indexing.html#returning-a-view-versus-a-copy\n",
      "  isc_data['ever_carer'] = isc_data.groupby('pidp')['carer'].transform(any)\n"
     ]
    }
   ],
   "source": [
    "isc_data['ever_carer'] = isc_data.groupby('pidp')['carer'].transform(any)"
   ]
  },
  {
   "cell_type": "code",
   "execution_count": 43,
   "id": "565b4bf9-c808-4dd3-90b2-57955d4a7617",
   "metadata": {
    "tags": []
   },
   "outputs": [],
   "source": [
    "carers = isc_data[isc_data.ever_carer]"
   ]
  },
  {
   "cell_type": "code",
   "execution_count": 44,
   "id": "d4fac435-b51d-49b9-968c-2da27d894c64",
   "metadata": {
    "tags": []
   },
   "outputs": [],
   "source": [
    "controls = isc_data[~isc_data.ever_carer]"
   ]
  },
  {
   "cell_type": "code",
   "execution_count": 45,
   "id": "23c3ca56-5418-458e-832f-4840234e955f",
   "metadata": {
    "tags": []
   },
   "outputs": [
    {
     "data": {
      "text/plain": [
       "399"
      ]
     },
     "execution_count": 45,
     "metadata": {},
     "output_type": "execute_result"
    }
   ],
   "source": [
    "len(carers.pidp.unique())"
   ]
  },
  {
   "cell_type": "code",
   "execution_count": 46,
   "id": "b399a9e7-5294-4c04-ac6d-a3dca90b283f",
   "metadata": {
    "tags": []
   },
   "outputs": [],
   "source": [
    "def get_control_clean(c_data, t_data):\n",
    "    samples = []\n",
    "    t_ids = t_data.pidp.unique().tolist()\n",
    "    for t_id in t_ids:\n",
    "        out = {}\n",
    "        init = t_data[t_data.pidp == t_id].initial_wave.unique()[0]\n",
    "        treat_time = t_data[t_data.pidp == t_id].wave_treat_real.unique()[0]\n",
    "        last_wave = t_data[t_data.pidp == t_id].wave.max()\n",
    "        length = (last_wave + 1) - init\n",
    "        idx = c_data[(c_data.wave >= init) & (controls.wave <= last_wave)].groupby('pidp')['pidp'].transform('count') == length\n",
    "        sub_sample = c_data[(c_data.wave >= init) & (controls.wave <= last_wave)][idx].reset_index(drop=True)\n",
    "        treat = t_data[t_data.pidp == t_id].pivot(index='wave', columns='pidp', values='wage_deflated')\n",
    "        #treat.columns = ['treated']\n",
    "        sub_sample = sub_sample.pivot(index='wave', columns='pidp', values='wage_deflated')\n",
    "        sub_sample = pd.concat([treat, sub_sample], axis=1)\n",
    "        out['data'] = sub_sample.fillna(0) # dirty fix, I need to adress this\n",
    "        out['treat_time'] = treat_time\n",
    "        samples.append(out)\n",
    "    return samples"
   ]
  },
  {
   "cell_type": "code",
   "execution_count": 47,
   "id": "3748bac5-bb2a-4e23-a472-d98c2e9b07a1",
   "metadata": {
    "tags": []
   },
   "outputs": [],
   "source": [
    "samples = get_control_clean(controls, carers)"
   ]
  },
  {
   "cell_type": "code",
   "execution_count": 48,
   "id": "ed51377d-601f-4394-9d94-ea34f90de027",
   "metadata": {
    "tags": []
   },
   "outputs": [],
   "source": [
    "from typing import List\n",
    "from operator import add\n",
    "from toolz import reduce, partial\n",
    "import numpy as np\n",
    "from scipy.optimize import minimize\n",
    "from sklearn.neighbors import KDTree\n",
    "\n",
    "\n",
    "# the expression to minimise, since \\mu is 0, we are one looking for \\omega/W\n",
    "def argmin_w(W, Y_i, Y_0):\n",
    "    return np.sqrt(np.sum((Y_0 - Y_i.dot(W))**2))\n",
    "\n",
    "\n",
    "# a function wrapping the whole process\n",
    "def get_w(Y_i, Y_0):\n",
    "    w_start = [1/Y_i.shape[1]]*Y_i.shape[1]\n",
    "    weights = minimize(partial(argmin_w, Y_i=Y_i, Y_0=Y_0),\n",
    "                       np.array(w_start),\n",
    "                       method='SLSQP',\n",
    "                       constraints=({'type': 'eq', 'fun': lambda x: np.sum(x) - 1}), # constraint to sum to 1\n",
    "                       bounds=[(0.0, 1.0)]*len(w_start),\n",
    "                       )\n",
    "    return weights.x\n",
    "\n",
    "\n",
    "def isc(data_objects: list) -> dict:\n",
    "    synths = []\n",
    "    treats = []\n",
    "    diffs = []\n",
    "    std_diffs = []\n",
    "    for ele in data_objects:\n",
    "        data = ele['data'].copy()\n",
    "        t_time = ele['treat_time']\n",
    "        data.sort_index(inplace=True)\n",
    "        data.index = create_relative_index(data.index.tolist(), t_time)\n",
    "        df_T0 = data.loc[:-1, :] # this needs to be revised\n",
    "        Y_0 = df_T0.iloc[:, 0].values\n",
    "        kdt = KDTree(df_T0.T, leaf_size=30, metric='euclidean')\n",
    "        idx = kdt.query(df_T0.T, k=100, return_distance=False)[0, 1:]\n",
    "        Y_i = df_T0.iloc[:, idx].values\n",
    "        weights = get_w(Y_i, Y_0)\n",
    "        synth = data.iloc[:, idx].dot(weights) # synthetic control is now based on the new subset of observations\n",
    "        treated = data.iloc[:, 0]\n",
    "        #synth.plot()\n",
    "        #treated.plot()\n",
    "        diff = treated - synth\n",
    "        diff.plot()\n",
    "        std_diff = (diff - diff.mean())/ diff.std()\n",
    "        #std_diff.plot()\n",
    "        #std_diff_b = \n",
    "        synths.append(synth)\n",
    "        treats.append(treated)\n",
    "        diffs.append(diff)\n",
    "        std_diffs.append(std_diff)\n",
    "    return {'synths': synths, 'treats': treats, 'diffs': diffs, 'std_diffs': std_diffs}\n"
   ]
  },
  {
   "cell_type": "code",
   "execution_count": 49,
   "id": "3bdd2058-9c7d-4420-85f2-ae648fba72ee",
   "metadata": {
    "tags": []
   },
   "outputs": [
    {
     "data": {
      "image/png": "[encoded data removed]",
      "text/plain": [
       "<Figure size 640x480 with 1 Axes>"
      ]
     },
     "metadata": {},
     "output_type": "display_data"
    }
   ],
   "source": [
    "isc_list = isc(samples)"
   ]
  },
  {
   "cell_type": "code",
   "execution_count": 50,
   "id": "767162c7-9310-41ad-a7aa-a6ae15e6e96a",
   "metadata": {
    "tags": []
   },
   "outputs": [
    {
     "data": {
      "text/plain": [
       "<Axes: >"
      ]
     },
     "execution_count": 50,
     "metadata": {},
     "output_type": "execute_result"
    },
    {
     "data": {
      "image/png": "[encoded data removed]",
      "text/plain": [
       "<Figure size 640x480 with 1 Axes>"
      ]
     },
     "metadata": {},
     "output_type": "display_data"
    }
   ],
   "source": [
    "differences = pd.concat(isc_list['diffs'], axis=1).sort_index()\n",
    "differences.loc[-5:].mean(axis=1).plot()"
   ]
  },
  {
   "cell_type": "code",
   "execution_count": 51,
   "id": "6863a63b-b227-49ff-afb1-4ff2e8303a33",
   "metadata": {
    "tags": []
   },
   "outputs": [
    {
     "data": {
      "text/html": [
       "<div>\n",
       "<style scoped>\n",
       "    .dataframe tbody tr th:only-of-type {\n",
       "        vertical-align: middle;\n",
       "    }\n",
       "\n",
       "    .dataframe tbody tr th {\n",
       "        vertical-align: top;\n",
       "    }\n",
       "\n",
       "    .dataframe thead th {\n",
       "        text-align: right;\n",
       "    }\n",
       "</style>\n",
       "<table border=\"1\" class=\"dataframe\">\n",
       "  <thead>\n",
       "    <tr style=\"text-align: right;\">\n",
       "      <th></th>\n",
       "      <th>0</th>\n",
       "      <th>1</th>\n",
       "      <th>2</th>\n",
       "      <th>3</th>\n",
       "      <th>4</th>\n",
       "      <th>5</th>\n",
       "      <th>6</th>\n",
       "      <th>7</th>\n",
       "      <th>8</th>\n",
       "      <th>9</th>\n",
       "      <th>...</th>\n",
       "      <th>389</th>\n",
       "      <th>390</th>\n",
       "      <th>391</th>\n",
       "      <th>392</th>\n",
       "      <th>393</th>\n",
       "      <th>394</th>\n",
       "      <th>395</th>\n",
       "      <th>396</th>\n",
       "      <th>397</th>\n",
       "      <th>398</th>\n",
       "    </tr>\n",
       "  </thead>\n",
       "  <tbody>\n",
       "    <tr>\n",
       "      <th>-9</th>\n",
       "      <td>NaN</td>\n",
       "      <td>NaN</td>\n",
       "      <td>NaN</td>\n",
       "      <td>NaN</td>\n",
       "      <td>NaN</td>\n",
       "      <td>NaN</td>\n",
       "      <td>NaN</td>\n",
       "      <td>NaN</td>\n",
       "      <td>NaN</td>\n",
       "      <td>NaN</td>\n",
       "      <td>...</td>\n",
       "      <td>NaN</td>\n",
       "      <td>NaN</td>\n",
       "      <td>NaN</td>\n",
       "      <td>NaN</td>\n",
       "      <td>NaN</td>\n",
       "      <td>NaN</td>\n",
       "      <td>NaN</td>\n",
       "      <td>NaN</td>\n",
       "      <td>-148.682590</td>\n",
       "      <td>NaN</td>\n",
       "    </tr>\n",
       "    <tr>\n",
       "      <th>-8</th>\n",
       "      <td>NaN</td>\n",
       "      <td>NaN</td>\n",
       "      <td>NaN</td>\n",
       "      <td>NaN</td>\n",
       "      <td>NaN</td>\n",
       "      <td>NaN</td>\n",
       "      <td>NaN</td>\n",
       "      <td>NaN</td>\n",
       "      <td>NaN</td>\n",
       "      <td>NaN</td>\n",
       "      <td>...</td>\n",
       "      <td>NaN</td>\n",
       "      <td>NaN</td>\n",
       "      <td>NaN</td>\n",
       "      <td>NaN</td>\n",
       "      <td>NaN</td>\n",
       "      <td>NaN</td>\n",
       "      <td>NaN</td>\n",
       "      <td>NaN</td>\n",
       "      <td>175.869762</td>\n",
       "      <td>NaN</td>\n",
       "    </tr>\n",
       "    <tr>\n",
       "      <th>-7</th>\n",
       "      <td>-0.000408</td>\n",
       "      <td>-9.775630</td>\n",
       "      <td>NaN</td>\n",
       "      <td>NaN</td>\n",
       "      <td>NaN</td>\n",
       "      <td>NaN</td>\n",
       "      <td>NaN</td>\n",
       "      <td>NaN</td>\n",
       "      <td>NaN</td>\n",
       "      <td>NaN</td>\n",
       "      <td>...</td>\n",
       "      <td>NaN</td>\n",
       "      <td>NaN</td>\n",
       "      <td>8.822610</td>\n",
       "      <td>NaN</td>\n",
       "      <td>NaN</td>\n",
       "      <td>NaN</td>\n",
       "      <td>NaN</td>\n",
       "      <td>NaN</td>\n",
       "      <td>194.364399</td>\n",
       "      <td>NaN</td>\n",
       "    </tr>\n",
       "    <tr>\n",
       "      <th>-6</th>\n",
       "      <td>-0.003357</td>\n",
       "      <td>135.107631</td>\n",
       "      <td>NaN</td>\n",
       "      <td>NaN</td>\n",
       "      <td>-23.769684</td>\n",
       "      <td>0.000507</td>\n",
       "      <td>NaN</td>\n",
       "      <td>0.002224</td>\n",
       "      <td>-38.396411</td>\n",
       "      <td>NaN</td>\n",
       "      <td>...</td>\n",
       "      <td>NaN</td>\n",
       "      <td>NaN</td>\n",
       "      <td>32.326511</td>\n",
       "      <td>-257.630577</td>\n",
       "      <td>-0.004370</td>\n",
       "      <td>NaN</td>\n",
       "      <td>NaN</td>\n",
       "      <td>NaN</td>\n",
       "      <td>254.899575</td>\n",
       "      <td>-441.672874</td>\n",
       "    </tr>\n",
       "    <tr>\n",
       "      <th>-5</th>\n",
       "      <td>0.000975</td>\n",
       "      <td>5.004944</td>\n",
       "      <td>-0.001534</td>\n",
       "      <td>-33.159739</td>\n",
       "      <td>-156.103329</td>\n",
       "      <td>0.004014</td>\n",
       "      <td>20.781535</td>\n",
       "      <td>0.006747</td>\n",
       "      <td>275.714350</td>\n",
       "      <td>4668.550848</td>\n",
       "      <td>...</td>\n",
       "      <td>51.065747</td>\n",
       "      <td>-0.001964</td>\n",
       "      <td>-15.509555</td>\n",
       "      <td>97.679988</td>\n",
       "      <td>-0.000918</td>\n",
       "      <td>33.025502</td>\n",
       "      <td>-0.002862</td>\n",
       "      <td>-185.637058</td>\n",
       "      <td>-140.715360</td>\n",
       "      <td>196.458922</td>\n",
       "    </tr>\n",
       "    <tr>\n",
       "      <th>-4</th>\n",
       "      <td>0.001929</td>\n",
       "      <td>-123.722274</td>\n",
       "      <td>-0.002523</td>\n",
       "      <td>58.719494</td>\n",
       "      <td>-187.593627</td>\n",
       "      <td>0.001769</td>\n",
       "      <td>1.129911</td>\n",
       "      <td>0.001899</td>\n",
       "      <td>481.889761</td>\n",
       "      <td>-1860.999647</td>\n",
       "      <td>...</td>\n",
       "      <td>246.848557</td>\n",
       "      <td>-0.000106</td>\n",
       "      <td>-50.298758</td>\n",
       "      <td>-2.344081</td>\n",
       "      <td>0.001814</td>\n",
       "      <td>-46.776223</td>\n",
       "      <td>0.000013</td>\n",
       "      <td>703.667198</td>\n",
       "      <td>132.751745</td>\n",
       "      <td>-11.942243</td>\n",
       "    </tr>\n",
       "    <tr>\n",
       "      <th>-3</th>\n",
       "      <td>-0.003865</td>\n",
       "      <td>23.885572</td>\n",
       "      <td>-0.002160</td>\n",
       "      <td>-93.374290</td>\n",
       "      <td>209.252426</td>\n",
       "      <td>-0.000804</td>\n",
       "      <td>-23.210551</td>\n",
       "      <td>-0.006006</td>\n",
       "      <td>-660.902559</td>\n",
       "      <td>-1985.381783</td>\n",
       "      <td>...</td>\n",
       "      <td>-409.214352</td>\n",
       "      <td>-0.002136</td>\n",
       "      <td>-29.879467</td>\n",
       "      <td>15.889252</td>\n",
       "      <td>-0.000167</td>\n",
       "      <td>-2.030333</td>\n",
       "      <td>-0.004148</td>\n",
       "      <td>-228.426645</td>\n",
       "      <td>-561.395180</td>\n",
       "      <td>28.479065</td>\n",
       "    </tr>\n",
       "    <tr>\n",
       "      <th>-2</th>\n",
       "      <td>0.002418</td>\n",
       "      <td>-58.892225</td>\n",
       "      <td>-0.001133</td>\n",
       "      <td>70.520397</td>\n",
       "      <td>31.185994</td>\n",
       "      <td>-0.001259</td>\n",
       "      <td>-23.576826</td>\n",
       "      <td>0.000342</td>\n",
       "      <td>-644.749736</td>\n",
       "      <td>3102.189402</td>\n",
       "      <td>...</td>\n",
       "      <td>279.119075</td>\n",
       "      <td>0.000296</td>\n",
       "      <td>15.498757</td>\n",
       "      <td>26.973460</td>\n",
       "      <td>-0.002525</td>\n",
       "      <td>-90.241771</td>\n",
       "      <td>-0.000398</td>\n",
       "      <td>-177.580885</td>\n",
       "      <td>157.721036</td>\n",
       "      <td>-146.579005</td>\n",
       "    </tr>\n",
       "    <tr>\n",
       "      <th>-1</th>\n",
       "      <td>0.000276</td>\n",
       "      <td>-12.353402</td>\n",
       "      <td>0.001373</td>\n",
       "      <td>-0.681742</td>\n",
       "      <td>-80.196361</td>\n",
       "      <td>0.002775</td>\n",
       "      <td>-94.964749</td>\n",
       "      <td>0.000568</td>\n",
       "      <td>-723.268592</td>\n",
       "      <td>2462.870396</td>\n",
       "      <td>...</td>\n",
       "      <td>233.538665</td>\n",
       "      <td>-0.000659</td>\n",
       "      <td>12.082364</td>\n",
       "      <td>4.345953</td>\n",
       "      <td>0.000079</td>\n",
       "      <td>42.554167</td>\n",
       "      <td>0.002113</td>\n",
       "      <td>108.584040</td>\n",
       "      <td>113.188550</td>\n",
       "      <td>-33.025696</td>\n",
       "    </tr>\n",
       "    <tr>\n",
       "      <th>0</th>\n",
       "      <td>-143.685182</td>\n",
       "      <td>-623.169044</td>\n",
       "      <td>608.213757</td>\n",
       "      <td>233.687134</td>\n",
       "      <td>-686.559117</td>\n",
       "      <td>-84.355907</td>\n",
       "      <td>-725.888100</td>\n",
       "      <td>315.748373</td>\n",
       "      <td>936.730353</td>\n",
       "      <td>6462.851097</td>\n",
       "      <td>...</td>\n",
       "      <td>592.555936</td>\n",
       "      <td>302.899778</td>\n",
       "      <td>889.519841</td>\n",
       "      <td>-137.858758</td>\n",
       "      <td>-495.679342</td>\n",
       "      <td>-743.294685</td>\n",
       "      <td>-158.635031</td>\n",
       "      <td>-762.692836</td>\n",
       "      <td>-80.064045</td>\n",
       "      <td>-181.650053</td>\n",
       "    </tr>\n",
       "    <tr>\n",
       "      <th>1</th>\n",
       "      <td>-109.767185</td>\n",
       "      <td>120.914458</td>\n",
       "      <td>63.601135</td>\n",
       "      <td>64.207776</td>\n",
       "      <td>-1005.974640</td>\n",
       "      <td>-81.521540</td>\n",
       "      <td>-784.964074</td>\n",
       "      <td>1361.049450</td>\n",
       "      <td>862.770008</td>\n",
       "      <td>5905.437891</td>\n",
       "      <td>...</td>\n",
       "      <td>144.559924</td>\n",
       "      <td>535.562677</td>\n",
       "      <td>1798.715919</td>\n",
       "      <td>-128.995100</td>\n",
       "      <td>-366.459548</td>\n",
       "      <td>-1267.095306</td>\n",
       "      <td>64.079913</td>\n",
       "      <td>1012.550700</td>\n",
       "      <td>-506.416393</td>\n",
       "      <td>-410.729241</td>\n",
       "    </tr>\n",
       "    <tr>\n",
       "      <th>2</th>\n",
       "      <td>-449.830267</td>\n",
       "      <td>-416.880709</td>\n",
       "      <td>43.128336</td>\n",
       "      <td>507.291786</td>\n",
       "      <td>-775.755274</td>\n",
       "      <td>-25.162107</td>\n",
       "      <td>-997.958282</td>\n",
       "      <td>-5555.416330</td>\n",
       "      <td>NaN</td>\n",
       "      <td>6335.925280</td>\n",
       "      <td>...</td>\n",
       "      <td>-1639.714446</td>\n",
       "      <td>98.633643</td>\n",
       "      <td>-1381.347378</td>\n",
       "      <td>-89.225828</td>\n",
       "      <td>-388.735599</td>\n",
       "      <td>-1236.571969</td>\n",
       "      <td>211.943248</td>\n",
       "      <td>400.501889</td>\n",
       "      <td>-639.137744</td>\n",
       "      <td>-52.366196</td>\n",
       "    </tr>\n",
       "    <tr>\n",
       "      <th>3</th>\n",
       "      <td>-548.184021</td>\n",
       "      <td>-377.945799</td>\n",
       "      <td>74.673115</td>\n",
       "      <td>-1414.644055</td>\n",
       "      <td>-492.983157</td>\n",
       "      <td>-16.602391</td>\n",
       "      <td>-915.955111</td>\n",
       "      <td>1119.454357</td>\n",
       "      <td>NaN</td>\n",
       "      <td>-4327.647406</td>\n",
       "      <td>...</td>\n",
       "      <td>-70.866279</td>\n",
       "      <td>842.066126</td>\n",
       "      <td>-853.066938</td>\n",
       "      <td>-396.995375</td>\n",
       "      <td>-1983.974083</td>\n",
       "      <td>-1375.892382</td>\n",
       "      <td>-241.659436</td>\n",
       "      <td>-2806.141803</td>\n",
       "      <td>NaN</td>\n",
       "      <td>375.197753</td>\n",
       "    </tr>\n",
       "    <tr>\n",
       "      <th>4</th>\n",
       "      <td>-416.091865</td>\n",
       "      <td>-120.203266</td>\n",
       "      <td>395.600008</td>\n",
       "      <td>189.417960</td>\n",
       "      <td>-578.808347</td>\n",
       "      <td>-767.095304</td>\n",
       "      <td>-742.983123</td>\n",
       "      <td>1449.367234</td>\n",
       "      <td>NaN</td>\n",
       "      <td>-5993.036867</td>\n",
       "      <td>...</td>\n",
       "      <td>209.419652</td>\n",
       "      <td>912.927302</td>\n",
       "      <td>-1503.528787</td>\n",
       "      <td>34.788865</td>\n",
       "      <td>-630.617899</td>\n",
       "      <td>-1718.110913</td>\n",
       "      <td>-1088.170398</td>\n",
       "      <td>-1548.441694</td>\n",
       "      <td>NaN</td>\n",
       "      <td>257.855267</td>\n",
       "    </tr>\n",
       "    <tr>\n",
       "      <th>5</th>\n",
       "      <td>NaN</td>\n",
       "      <td>NaN</td>\n",
       "      <td>397.694707</td>\n",
       "      <td>NaN</td>\n",
       "      <td>-683.584585</td>\n",
       "      <td>NaN</td>\n",
       "      <td>1298.652435</td>\n",
       "      <td>1256.003011</td>\n",
       "      <td>NaN</td>\n",
       "      <td>1749.202701</td>\n",
       "      <td>...</td>\n",
       "      <td>228.103735</td>\n",
       "      <td>688.168982</td>\n",
       "      <td>NaN</td>\n",
       "      <td>NaN</td>\n",
       "      <td>-1295.620306</td>\n",
       "      <td>-1099.543215</td>\n",
       "      <td>-2427.774517</td>\n",
       "      <td>-226.318126</td>\n",
       "      <td>NaN</td>\n",
       "      <td>-18.372002</td>\n",
       "    </tr>\n",
       "    <tr>\n",
       "      <th>6</th>\n",
       "      <td>NaN</td>\n",
       "      <td>NaN</td>\n",
       "      <td>582.560320</td>\n",
       "      <td>NaN</td>\n",
       "      <td>NaN</td>\n",
       "      <td>NaN</td>\n",
       "      <td>NaN</td>\n",
       "      <td>NaN</td>\n",
       "      <td>NaN</td>\n",
       "      <td>2734.829785</td>\n",
       "      <td>...</td>\n",
       "      <td>36.701325</td>\n",
       "      <td>643.077571</td>\n",
       "      <td>NaN</td>\n",
       "      <td>NaN</td>\n",
       "      <td>NaN</td>\n",
       "      <td>NaN</td>\n",
       "      <td>-1034.179785</td>\n",
       "      <td>NaN</td>\n",
       "      <td>NaN</td>\n",
       "      <td>NaN</td>\n",
       "    </tr>\n",
       "  </tbody>\n",
       "</table>\n",
       "<p>16 rows × 399 columns</p>\n",
       "</div>"
      ],
      "text/plain": [
       "           0           1           2            3            4           5    \\\n",
       "-9         NaN         NaN         NaN          NaN          NaN         NaN   \n",
       "-8         NaN         NaN         NaN          NaN          NaN         NaN   \n",
       "-7   -0.000408   -9.775630         NaN          NaN          NaN         NaN   \n",
       "-6   -0.003357  135.107631         NaN          NaN   -23.769684    0.000507   \n",
       "-5    0.000975    5.004944   -0.001534   -33.159739  -156.103329    0.004014   \n",
       "-4    0.001929 -123.722274   -0.002523    58.719494  -187.593627    0.001769   \n",
       "-3   -0.003865   23.885572   -0.002160   -93.374290   209.252426   -0.000804   \n",
       "-2    0.002418  -58.892225   -0.001133    70.520397    31.185994   -0.001259   \n",
       "-1    0.000276  -12.353402    0.001373    -0.681742   -80.196361    0.002775   \n",
       " 0 -143.685182 -623.169044  608.213757   233.687134  -686.559117  -84.355907   \n",
       " 1 -109.767185  120.914458   63.601135    64.207776 -1005.974640  -81.521540   \n",
       " 2 -449.830267 -416.880709   43.128336   507.291786  -775.755274  -25.162107   \n",
       " 3 -548.184021 -377.945799   74.673115 -1414.644055  -492.983157  -16.602391   \n",
       " 4 -416.091865 -120.203266  395.600008   189.417960  -578.808347 -767.095304   \n",
       " 5         NaN         NaN  397.694707          NaN  -683.584585         NaN   \n",
       " 6         NaN         NaN  582.560320          NaN          NaN         NaN   \n",
       "\n",
       "            6            7           8            9    ...          389  \\\n",
       "-9          NaN          NaN         NaN          NaN  ...          NaN   \n",
       "-8          NaN          NaN         NaN          NaN  ...          NaN   \n",
       "-7          NaN          NaN         NaN          NaN  ...          NaN   \n",
       "-6          NaN     0.002224  -38.396411          NaN  ...          NaN   \n",
       "-5    20.781535     0.006747  275.714350  4668.550848  ...    51.065747   \n",
       "-4     1.129911     0.001899  481.889761 -1860.999647  ...   246.848557   \n",
       "-3   -23.210551    -0.006006 -660.902559 -1985.381783  ...  -409.214352   \n",
       "-2   -23.576826     0.000342 -644.749736  3102.189402  ...   279.119075   \n",
       "-1   -94.964749     0.000568 -723.268592  2462.870396  ...   233.538665   \n",
       " 0  -725.888100   315.748373  936.730353  6462.851097  ...   592.555936   \n",
       " 1  -784.964074  1361.049450  862.770008  5905.437891  ...   144.559924   \n",
       " 2  -997.958282 -5555.416330         NaN  6335.925280  ... -1639.714446   \n",
       " 3  -915.955111  1119.454357         NaN -4327.647406  ...   -70.866279   \n",
       " 4  -742.983123  1449.367234         NaN -5993.036867  ...   209.419652   \n",
       " 5  1298.652435  1256.003011         NaN  1749.202701  ...   228.103735   \n",
       " 6          NaN          NaN         NaN  2734.829785  ...    36.701325   \n",
       "\n",
       "           390          391         392          393          394  \\\n",
       "-9         NaN          NaN         NaN          NaN          NaN   \n",
       "-8         NaN          NaN         NaN          NaN          NaN   \n",
       "-7         NaN     8.822610         NaN          NaN          NaN   \n",
       "-6         NaN    32.326511 -257.630577    -0.004370          NaN   \n",
       "-5   -0.001964   -15.509555   97.679988    -0.000918    33.025502   \n",
       "-4   -0.000106   -50.298758   -2.344081     0.001814   -46.776223   \n",
       "-3   -0.002136   -29.879467   15.889252    -0.000167    -2.030333   \n",
       "-2    0.000296    15.498757   26.973460    -0.002525   -90.241771   \n",
       "-1   -0.000659    12.082364    4.345953     0.000079    42.554167   \n",
       " 0  302.899778   889.519841 -137.858758  -495.679342  -743.294685   \n",
       " 1  535.562677  1798.715919 -128.995100  -366.459548 -1267.095306   \n",
       " 2   98.633643 -1381.347378  -89.225828  -388.735599 -1236.571969   \n",
       " 3  842.066126  -853.066938 -396.995375 -1983.974083 -1375.892382   \n",
       " 4  912.927302 -1503.528787   34.788865  -630.617899 -1718.110913   \n",
       " 5  688.168982          NaN         NaN -1295.620306 -1099.543215   \n",
       " 6  643.077571          NaN         NaN          NaN          NaN   \n",
       "\n",
       "            395          396         397         398  \n",
       "-9          NaN          NaN -148.682590         NaN  \n",
       "-8          NaN          NaN  175.869762         NaN  \n",
       "-7          NaN          NaN  194.364399         NaN  \n",
       "-6          NaN          NaN  254.899575 -441.672874  \n",
       "-5    -0.002862  -185.637058 -140.715360  196.458922  \n",
       "-4     0.000013   703.667198  132.751745  -11.942243  \n",
       "-3    -0.004148  -228.426645 -561.395180   28.479065  \n",
       "-2    -0.000398  -177.580885  157.721036 -146.579005  \n",
       "-1     0.002113   108.584040  113.188550  -33.025696  \n",
       " 0  -158.635031  -762.692836  -80.064045 -181.650053  \n",
       " 1    64.079913  1012.550700 -506.416393 -410.729241  \n",
       " 2   211.943248   400.501889 -639.137744  -52.366196  \n",
       " 3  -241.659436 -2806.141803         NaN  375.197753  \n",
       " 4 -1088.170398 -1548.441694         NaN  257.855267  \n",
       " 5 -2427.774517  -226.318126         NaN  -18.372002  \n",
       " 6 -1034.179785          NaN         NaN         NaN  \n",
       "\n",
       "[16 rows x 399 columns]"
      ]
     },
     "execution_count": 51,
     "metadata": {},
     "output_type": "execute_result"
    }
   ],
   "source": [
    "differences"
   ]
  },
  {
   "cell_type": "code",
   "execution_count": null,
   "id": "a06080eb-2353-4422-97ce-79a92a64e5df",
   "metadata": {},
   "outputs": [],
   "source": [
    "Q1 = differences.quantile(0.25)\n",
    "Q3 = df.quantile(0.75)\n",
    "IQR = Q3 - Q1\n",
    "\n",
    "df = df[~((df < (Q1 - 1.5 * IQR)) |(df > (Q3 + 1.5 * IQR))).any(axis=1)]"
   ]
  },
  {
   "cell_type": "code",
   "execution_count": 619,
   "id": "f755cb59-00cc-47eb-9e84-c8223c393fd3",
   "metadata": {
    "tags": []
   },
   "outputs": [
    {
     "name": "stderr",
     "output_type": "stream",
     "text": [
      "Exception ignored in: <function TransformNode.set_children.<locals>.<lambda> at 0x7f77817ffa60>\n",
      "Traceback (most recent call last):\n",
      "  File \"/home/daniel/code/costofcare/lib64/python3.11/site-packages/matplotlib/transforms.py\", line 209, in <lambda>\n",
      "    self, lambda _, pop=child._parents.pop, k=id(self): pop(k))\n",
      "\n",
      "KeyboardInterrupt: \n"
     ]
    },
    {
     "data": {
      "text/plain": [
       "array([[<Axes: title={'center': '-9'}>, <Axes: title={'center': '-8'}>,\n",
       "        <Axes: title={'center': '-7'}>],\n",
       "       [<Axes: title={'center': '-6'}>, <Axes: title={'center': '-5'}>,\n",
       "        <Axes: title={'center': '-4'}>],\n",
       "       [<Axes: title={'center': '-3'}>, <Axes: title={'center': '-2'}>,\n",
       "        <Axes: title={'center': '-1'}>],\n",
       "       [<Axes: title={'center': '0'}>, <Axes: >, <Axes: >]], dtype=object)"
      ]
     },
     "execution_count": 619,
     "metadata": {},
     "output_type": "execute_result"
    },
    {
     "name": "stdout",
     "output_type": "stream",
     "text": [
      "Error in callback <function _draw_all_if_interactive at 0x7f77ee67ee80> (for post_execute):\n"
     ]
    },
    {
     "ename": "KeyboardInterrupt",
     "evalue": "",
     "output_type": "error",
     "traceback": [
      "\u001b[0;31m---------------------------------------------------------------------------\u001b[0m",
      "\u001b[0;31mKeyboardInterrupt\u001b[0m                         Traceback (most recent call last)",
      "File \u001b[0;32m~/code/costofcare/lib64/python3.11/site-packages/matplotlib/pyplot.py:120\u001b[0m, in \u001b[0;36m_draw_all_if_interactive\u001b[0;34m()\u001b[0m\n\u001b[1;32m    118\u001b[0m \u001b[38;5;28;01mdef\u001b[39;00m \u001b[38;5;21m_draw_all_if_interactive\u001b[39m():\n\u001b[1;32m    119\u001b[0m     \u001b[38;5;28;01mif\u001b[39;00m matplotlib\u001b[38;5;241m.\u001b[39mis_interactive():\n\u001b[0;32m--> 120\u001b[0m         \u001b[43mdraw_all\u001b[49m\u001b[43m(\u001b[49m\u001b[43m)\u001b[49m\n",
      "File \u001b[0;32m~/code/costofcare/lib64/python3.11/site-packages/matplotlib/_pylab_helpers.py:132\u001b[0m, in \u001b[0;36mGcf.draw_all\u001b[0;34m(cls, force)\u001b[0m\n\u001b[1;32m    130\u001b[0m \u001b[38;5;28;01mfor\u001b[39;00m manager \u001b[38;5;129;01min\u001b[39;00m \u001b[38;5;28mcls\u001b[39m\u001b[38;5;241m.\u001b[39mget_all_fig_managers():\n\u001b[1;32m    131\u001b[0m     \u001b[38;5;28;01mif\u001b[39;00m force \u001b[38;5;129;01mor\u001b[39;00m manager\u001b[38;5;241m.\u001b[39mcanvas\u001b[38;5;241m.\u001b[39mfigure\u001b[38;5;241m.\u001b[39mstale:\n\u001b[0;32m--> 132\u001b[0m         \u001b[43mmanager\u001b[49m\u001b[38;5;241;43m.\u001b[39;49m\u001b[43mcanvas\u001b[49m\u001b[38;5;241;43m.\u001b[39;49m\u001b[43mdraw_idle\u001b[49m\u001b[43m(\u001b[49m\u001b[43m)\u001b[49m\n",
      "File \u001b[0;32m~/code/costofcare/lib64/python3.11/site-packages/matplotlib/backend_bases.py:2078\u001b[0m, in \u001b[0;36mFigureCanvasBase.draw_idle\u001b[0;34m(self, *args, **kwargs)\u001b[0m\n\u001b[1;32m   2076\u001b[0m \u001b[38;5;28;01mif\u001b[39;00m \u001b[38;5;129;01mnot\u001b[39;00m \u001b[38;5;28mself\u001b[39m\u001b[38;5;241m.\u001b[39m_is_idle_drawing:\n\u001b[1;32m   2077\u001b[0m     \u001b[38;5;28;01mwith\u001b[39;00m \u001b[38;5;28mself\u001b[39m\u001b[38;5;241m.\u001b[39m_idle_draw_cntx():\n\u001b[0;32m-> 2078\u001b[0m         \u001b[38;5;28;43mself\u001b[39;49m\u001b[38;5;241;43m.\u001b[39;49m\u001b[43mdraw\u001b[49m\u001b[43m(\u001b[49m\u001b[38;5;241;43m*\u001b[39;49m\u001b[43margs\u001b[49m\u001b[43m,\u001b[49m\u001b[43m \u001b[49m\u001b[38;5;241;43m*\u001b[39;49m\u001b[38;5;241;43m*\u001b[39;49m\u001b[43mkwargs\u001b[49m\u001b[43m)\u001b[49m\n",
      "File \u001b[0;32m~/code/costofcare/lib64/python3.11/site-packages/matplotlib/backends/backend_agg.py:400\u001b[0m, in \u001b[0;36mFigureCanvasAgg.draw\u001b[0;34m(self)\u001b[0m\n\u001b[1;32m    396\u001b[0m \u001b[38;5;66;03m# Acquire a lock on the shared font cache.\u001b[39;00m\n\u001b[1;32m    397\u001b[0m \u001b[38;5;28;01mwith\u001b[39;00m RendererAgg\u001b[38;5;241m.\u001b[39mlock, \\\n\u001b[1;32m    398\u001b[0m      (\u001b[38;5;28mself\u001b[39m\u001b[38;5;241m.\u001b[39mtoolbar\u001b[38;5;241m.\u001b[39m_wait_cursor_for_draw_cm() \u001b[38;5;28;01mif\u001b[39;00m \u001b[38;5;28mself\u001b[39m\u001b[38;5;241m.\u001b[39mtoolbar\n\u001b[1;32m    399\u001b[0m       \u001b[38;5;28;01melse\u001b[39;00m nullcontext()):\n\u001b[0;32m--> 400\u001b[0m     \u001b[38;5;28;43mself\u001b[39;49m\u001b[38;5;241;43m.\u001b[39;49m\u001b[43mfigure\u001b[49m\u001b[38;5;241;43m.\u001b[39;49m\u001b[43mdraw\u001b[49m\u001b[43m(\u001b[49m\u001b[38;5;28;43mself\u001b[39;49m\u001b[38;5;241;43m.\u001b[39;49m\u001b[43mrenderer\u001b[49m\u001b[43m)\u001b[49m\n\u001b[1;32m    401\u001b[0m     \u001b[38;5;66;03m# A GUI class may be need to update a window using this draw, so\u001b[39;00m\n\u001b[1;32m    402\u001b[0m     \u001b[38;5;66;03m# don't forget to call the superclass.\u001b[39;00m\n\u001b[1;32m    403\u001b[0m     \u001b[38;5;28msuper\u001b[39m()\u001b[38;5;241m.\u001b[39mdraw()\n",
      "File \u001b[0;32m~/code/costofcare/lib64/python3.11/site-packages/matplotlib/artist.py:95\u001b[0m, in \u001b[0;36m_finalize_rasterization.<locals>.draw_wrapper\u001b[0;34m(artist, renderer, *args, **kwargs)\u001b[0m\n\u001b[1;32m     93\u001b[0m \u001b[38;5;129m@wraps\u001b[39m(draw)\n\u001b[1;32m     94\u001b[0m \u001b[38;5;28;01mdef\u001b[39;00m \u001b[38;5;21mdraw_wrapper\u001b[39m(artist, renderer, \u001b[38;5;241m*\u001b[39margs, \u001b[38;5;241m*\u001b[39m\u001b[38;5;241m*\u001b[39mkwargs):\n\u001b[0;32m---> 95\u001b[0m     result \u001b[38;5;241m=\u001b[39m \u001b[43mdraw\u001b[49m\u001b[43m(\u001b[49m\u001b[43martist\u001b[49m\u001b[43m,\u001b[49m\u001b[43m \u001b[49m\u001b[43mrenderer\u001b[49m\u001b[43m,\u001b[49m\u001b[43m \u001b[49m\u001b[38;5;241;43m*\u001b[39;49m\u001b[43margs\u001b[49m\u001b[43m,\u001b[49m\u001b[43m \u001b[49m\u001b[38;5;241;43m*\u001b[39;49m\u001b[38;5;241;43m*\u001b[39;49m\u001b[43mkwargs\u001b[49m\u001b[43m)\u001b[49m\n\u001b[1;32m     96\u001b[0m     \u001b[38;5;28;01mif\u001b[39;00m renderer\u001b[38;5;241m.\u001b[39m_rasterizing:\n\u001b[1;32m     97\u001b[0m         renderer\u001b[38;5;241m.\u001b[39mstop_rasterizing()\n",
      "File \u001b[0;32m~/code/costofcare/lib64/python3.11/site-packages/matplotlib/artist.py:72\u001b[0m, in \u001b[0;36mallow_rasterization.<locals>.draw_wrapper\u001b[0;34m(artist, renderer)\u001b[0m\n\u001b[1;32m     69\u001b[0m     \u001b[38;5;28;01mif\u001b[39;00m artist\u001b[38;5;241m.\u001b[39mget_agg_filter() \u001b[38;5;129;01mis\u001b[39;00m \u001b[38;5;129;01mnot\u001b[39;00m \u001b[38;5;28;01mNone\u001b[39;00m:\n\u001b[1;32m     70\u001b[0m         renderer\u001b[38;5;241m.\u001b[39mstart_filter()\n\u001b[0;32m---> 72\u001b[0m     \u001b[38;5;28;01mreturn\u001b[39;00m \u001b[43mdraw\u001b[49m\u001b[43m(\u001b[49m\u001b[43martist\u001b[49m\u001b[43m,\u001b[49m\u001b[43m \u001b[49m\u001b[43mrenderer\u001b[49m\u001b[43m)\u001b[49m\n\u001b[1;32m     73\u001b[0m \u001b[38;5;28;01mfinally\u001b[39;00m:\n\u001b[1;32m     74\u001b[0m     \u001b[38;5;28;01mif\u001b[39;00m artist\u001b[38;5;241m.\u001b[39mget_agg_filter() \u001b[38;5;129;01mis\u001b[39;00m \u001b[38;5;129;01mnot\u001b[39;00m \u001b[38;5;28;01mNone\u001b[39;00m:\n",
      "File \u001b[0;32m~/code/costofcare/lib64/python3.11/site-packages/matplotlib/figure.py:3125\u001b[0m, in \u001b[0;36mFigure.draw\u001b[0;34m(self, renderer)\u001b[0m\n\u001b[1;32m   3122\u001b[0m         \u001b[38;5;66;03m# ValueError can occur when resizing a window.\u001b[39;00m\n\u001b[1;32m   3124\u001b[0m \u001b[38;5;28mself\u001b[39m\u001b[38;5;241m.\u001b[39mpatch\u001b[38;5;241m.\u001b[39mdraw(renderer)\n\u001b[0;32m-> 3125\u001b[0m \u001b[43mmimage\u001b[49m\u001b[38;5;241;43m.\u001b[39;49m\u001b[43m_draw_list_compositing_images\u001b[49m\u001b[43m(\u001b[49m\n\u001b[1;32m   3126\u001b[0m \u001b[43m    \u001b[49m\u001b[43mrenderer\u001b[49m\u001b[43m,\u001b[49m\u001b[43m \u001b[49m\u001b[38;5;28;43mself\u001b[39;49m\u001b[43m,\u001b[49m\u001b[43m \u001b[49m\u001b[43martists\u001b[49m\u001b[43m,\u001b[49m\u001b[43m \u001b[49m\u001b[38;5;28;43mself\u001b[39;49m\u001b[38;5;241;43m.\u001b[39;49m\u001b[43msuppressComposite\u001b[49m\u001b[43m)\u001b[49m\n\u001b[1;32m   3128\u001b[0m \u001b[38;5;28;01mfor\u001b[39;00m sfig \u001b[38;5;129;01min\u001b[39;00m \u001b[38;5;28mself\u001b[39m\u001b[38;5;241m.\u001b[39msubfigs:\n\u001b[1;32m   3129\u001b[0m     sfig\u001b[38;5;241m.\u001b[39mdraw(renderer)\n",
      "File \u001b[0;32m~/code/costofcare/lib64/python3.11/site-packages/matplotlib/image.py:131\u001b[0m, in \u001b[0;36m_draw_list_compositing_images\u001b[0;34m(renderer, parent, artists, suppress_composite)\u001b[0m\n\u001b[1;32m    129\u001b[0m \u001b[38;5;28;01mif\u001b[39;00m not_composite \u001b[38;5;129;01mor\u001b[39;00m \u001b[38;5;129;01mnot\u001b[39;00m has_images:\n\u001b[1;32m    130\u001b[0m     \u001b[38;5;28;01mfor\u001b[39;00m a \u001b[38;5;129;01min\u001b[39;00m artists:\n\u001b[0;32m--> 131\u001b[0m         \u001b[43ma\u001b[49m\u001b[38;5;241;43m.\u001b[39;49m\u001b[43mdraw\u001b[49m\u001b[43m(\u001b[49m\u001b[43mrenderer\u001b[49m\u001b[43m)\u001b[49m\n\u001b[1;32m    132\u001b[0m \u001b[38;5;28;01melse\u001b[39;00m:\n\u001b[1;32m    133\u001b[0m     \u001b[38;5;66;03m# Composite any adjacent images together\u001b[39;00m\n\u001b[1;32m    134\u001b[0m     image_group \u001b[38;5;241m=\u001b[39m []\n",
      "File \u001b[0;32m~/code/costofcare/lib64/python3.11/site-packages/matplotlib/artist.py:72\u001b[0m, in \u001b[0;36mallow_rasterization.<locals>.draw_wrapper\u001b[0;34m(artist, renderer)\u001b[0m\n\u001b[1;32m     69\u001b[0m     \u001b[38;5;28;01mif\u001b[39;00m artist\u001b[38;5;241m.\u001b[39mget_agg_filter() \u001b[38;5;129;01mis\u001b[39;00m \u001b[38;5;129;01mnot\u001b[39;00m \u001b[38;5;28;01mNone\u001b[39;00m:\n\u001b[1;32m     70\u001b[0m         renderer\u001b[38;5;241m.\u001b[39mstart_filter()\n\u001b[0;32m---> 72\u001b[0m     \u001b[38;5;28;01mreturn\u001b[39;00m \u001b[43mdraw\u001b[49m\u001b[43m(\u001b[49m\u001b[43martist\u001b[49m\u001b[43m,\u001b[49m\u001b[43m \u001b[49m\u001b[43mrenderer\u001b[49m\u001b[43m)\u001b[49m\n\u001b[1;32m     73\u001b[0m \u001b[38;5;28;01mfinally\u001b[39;00m:\n\u001b[1;32m     74\u001b[0m     \u001b[38;5;28;01mif\u001b[39;00m artist\u001b[38;5;241m.\u001b[39mget_agg_filter() \u001b[38;5;129;01mis\u001b[39;00m \u001b[38;5;129;01mnot\u001b[39;00m \u001b[38;5;28;01mNone\u001b[39;00m:\n",
      "File \u001b[0;32m~/code/costofcare/lib64/python3.11/site-packages/matplotlib/axes/_base.py:3066\u001b[0m, in \u001b[0;36m_AxesBase.draw\u001b[0;34m(self, renderer)\u001b[0m\n\u001b[1;32m   3063\u001b[0m \u001b[38;5;28;01mif\u001b[39;00m artists_rasterized:\n\u001b[1;32m   3064\u001b[0m     _draw_rasterized(\u001b[38;5;28mself\u001b[39m\u001b[38;5;241m.\u001b[39mfigure, artists_rasterized, renderer)\n\u001b[0;32m-> 3066\u001b[0m \u001b[43mmimage\u001b[49m\u001b[38;5;241;43m.\u001b[39;49m\u001b[43m_draw_list_compositing_images\u001b[49m\u001b[43m(\u001b[49m\n\u001b[1;32m   3067\u001b[0m \u001b[43m    \u001b[49m\u001b[43mrenderer\u001b[49m\u001b[43m,\u001b[49m\u001b[43m \u001b[49m\u001b[38;5;28;43mself\u001b[39;49m\u001b[43m,\u001b[49m\u001b[43m \u001b[49m\u001b[43martists\u001b[49m\u001b[43m,\u001b[49m\u001b[43m \u001b[49m\u001b[38;5;28;43mself\u001b[39;49m\u001b[38;5;241;43m.\u001b[39;49m\u001b[43mfigure\u001b[49m\u001b[38;5;241;43m.\u001b[39;49m\u001b[43msuppressComposite\u001b[49m\u001b[43m)\u001b[49m\n\u001b[1;32m   3069\u001b[0m renderer\u001b[38;5;241m.\u001b[39mclose_group(\u001b[38;5;124m'\u001b[39m\u001b[38;5;124maxes\u001b[39m\u001b[38;5;124m'\u001b[39m)\n\u001b[1;32m   3070\u001b[0m \u001b[38;5;28mself\u001b[39m\u001b[38;5;241m.\u001b[39mstale \u001b[38;5;241m=\u001b[39m \u001b[38;5;28;01mFalse\u001b[39;00m\n",
      "File \u001b[0;32m~/code/costofcare/lib64/python3.11/site-packages/matplotlib/image.py:131\u001b[0m, in \u001b[0;36m_draw_list_compositing_images\u001b[0;34m(renderer, parent, artists, suppress_composite)\u001b[0m\n\u001b[1;32m    129\u001b[0m \u001b[38;5;28;01mif\u001b[39;00m not_composite \u001b[38;5;129;01mor\u001b[39;00m \u001b[38;5;129;01mnot\u001b[39;00m has_images:\n\u001b[1;32m    130\u001b[0m     \u001b[38;5;28;01mfor\u001b[39;00m a \u001b[38;5;129;01min\u001b[39;00m artists:\n\u001b[0;32m--> 131\u001b[0m         \u001b[43ma\u001b[49m\u001b[38;5;241;43m.\u001b[39;49m\u001b[43mdraw\u001b[49m\u001b[43m(\u001b[49m\u001b[43mrenderer\u001b[49m\u001b[43m)\u001b[49m\n\u001b[1;32m    132\u001b[0m \u001b[38;5;28;01melse\u001b[39;00m:\n\u001b[1;32m    133\u001b[0m     \u001b[38;5;66;03m# Composite any adjacent images together\u001b[39;00m\n\u001b[1;32m    134\u001b[0m     image_group \u001b[38;5;241m=\u001b[39m []\n",
      "File \u001b[0;32m~/code/costofcare/lib64/python3.11/site-packages/matplotlib/artist.py:72\u001b[0m, in \u001b[0;36mallow_rasterization.<locals>.draw_wrapper\u001b[0;34m(artist, renderer)\u001b[0m\n\u001b[1;32m     69\u001b[0m     \u001b[38;5;28;01mif\u001b[39;00m artist\u001b[38;5;241m.\u001b[39mget_agg_filter() \u001b[38;5;129;01mis\u001b[39;00m \u001b[38;5;129;01mnot\u001b[39;00m \u001b[38;5;28;01mNone\u001b[39;00m:\n\u001b[1;32m     70\u001b[0m         renderer\u001b[38;5;241m.\u001b[39mstart_filter()\n\u001b[0;32m---> 72\u001b[0m     \u001b[38;5;28;01mreturn\u001b[39;00m \u001b[43mdraw\u001b[49m\u001b[43m(\u001b[49m\u001b[43martist\u001b[49m\u001b[43m,\u001b[49m\u001b[43m \u001b[49m\u001b[43mrenderer\u001b[49m\u001b[43m)\u001b[49m\n\u001b[1;32m     73\u001b[0m \u001b[38;5;28;01mfinally\u001b[39;00m:\n\u001b[1;32m     74\u001b[0m     \u001b[38;5;28;01mif\u001b[39;00m artist\u001b[38;5;241m.\u001b[39mget_agg_filter() \u001b[38;5;129;01mis\u001b[39;00m \u001b[38;5;129;01mnot\u001b[39;00m \u001b[38;5;28;01mNone\u001b[39;00m:\n",
      "File \u001b[0;32m~/code/costofcare/lib64/python3.11/site-packages/matplotlib/axis.py:1375\u001b[0m, in \u001b[0;36mAxis.draw\u001b[0;34m(self, renderer, *args, **kwargs)\u001b[0m\n\u001b[1;32m   1372\u001b[0m tlb1, tlb2 \u001b[38;5;241m=\u001b[39m \u001b[38;5;28mself\u001b[39m\u001b[38;5;241m.\u001b[39m_get_ticklabel_bboxes(ticks_to_draw, renderer)\n\u001b[1;32m   1374\u001b[0m \u001b[38;5;28;01mfor\u001b[39;00m tick \u001b[38;5;129;01min\u001b[39;00m ticks_to_draw:\n\u001b[0;32m-> 1375\u001b[0m     \u001b[43mtick\u001b[49m\u001b[38;5;241;43m.\u001b[39;49m\u001b[43mdraw\u001b[49m\u001b[43m(\u001b[49m\u001b[43mrenderer\u001b[49m\u001b[43m)\u001b[49m\n\u001b[1;32m   1377\u001b[0m \u001b[38;5;66;03m# Shift label away from axes to avoid overlapping ticklabels.\u001b[39;00m\n\u001b[1;32m   1378\u001b[0m \u001b[38;5;28mself\u001b[39m\u001b[38;5;241m.\u001b[39m_update_label_position(renderer)\n",
      "File \u001b[0;32m~/code/costofcare/lib64/python3.11/site-packages/matplotlib/artist.py:72\u001b[0m, in \u001b[0;36mallow_rasterization.<locals>.draw_wrapper\u001b[0;34m(artist, renderer)\u001b[0m\n\u001b[1;32m     69\u001b[0m     \u001b[38;5;28;01mif\u001b[39;00m artist\u001b[38;5;241m.\u001b[39mget_agg_filter() \u001b[38;5;129;01mis\u001b[39;00m \u001b[38;5;129;01mnot\u001b[39;00m \u001b[38;5;28;01mNone\u001b[39;00m:\n\u001b[1;32m     70\u001b[0m         renderer\u001b[38;5;241m.\u001b[39mstart_filter()\n\u001b[0;32m---> 72\u001b[0m     \u001b[38;5;28;01mreturn\u001b[39;00m \u001b[43mdraw\u001b[49m\u001b[43m(\u001b[49m\u001b[43martist\u001b[49m\u001b[43m,\u001b[49m\u001b[43m \u001b[49m\u001b[43mrenderer\u001b[49m\u001b[43m)\u001b[49m\n\u001b[1;32m     73\u001b[0m \u001b[38;5;28;01mfinally\u001b[39;00m:\n\u001b[1;32m     74\u001b[0m     \u001b[38;5;28;01mif\u001b[39;00m artist\u001b[38;5;241m.\u001b[39mget_agg_filter() \u001b[38;5;129;01mis\u001b[39;00m \u001b[38;5;129;01mnot\u001b[39;00m \u001b[38;5;28;01mNone\u001b[39;00m:\n",
      "File \u001b[0;32m~/code/costofcare/lib64/python3.11/site-packages/matplotlib/axis.py:301\u001b[0m, in \u001b[0;36mTick.draw\u001b[0;34m(self, renderer)\u001b[0m\n\u001b[1;32m    298\u001b[0m renderer\u001b[38;5;241m.\u001b[39mopen_group(\u001b[38;5;28mself\u001b[39m\u001b[38;5;241m.\u001b[39m\u001b[38;5;18m__name__\u001b[39m, gid\u001b[38;5;241m=\u001b[39m\u001b[38;5;28mself\u001b[39m\u001b[38;5;241m.\u001b[39mget_gid())\n\u001b[1;32m    299\u001b[0m \u001b[38;5;28;01mfor\u001b[39;00m artist \u001b[38;5;129;01min\u001b[39;00m [\u001b[38;5;28mself\u001b[39m\u001b[38;5;241m.\u001b[39mgridline, \u001b[38;5;28mself\u001b[39m\u001b[38;5;241m.\u001b[39mtick1line, \u001b[38;5;28mself\u001b[39m\u001b[38;5;241m.\u001b[39mtick2line,\n\u001b[1;32m    300\u001b[0m                \u001b[38;5;28mself\u001b[39m\u001b[38;5;241m.\u001b[39mlabel1, \u001b[38;5;28mself\u001b[39m\u001b[38;5;241m.\u001b[39mlabel2]:\n\u001b[0;32m--> 301\u001b[0m     \u001b[43martist\u001b[49m\u001b[38;5;241;43m.\u001b[39;49m\u001b[43mdraw\u001b[49m\u001b[43m(\u001b[49m\u001b[43mrenderer\u001b[49m\u001b[43m)\u001b[49m\n\u001b[1;32m    302\u001b[0m renderer\u001b[38;5;241m.\u001b[39mclose_group(\u001b[38;5;28mself\u001b[39m\u001b[38;5;241m.\u001b[39m\u001b[38;5;18m__name__\u001b[39m)\n\u001b[1;32m    303\u001b[0m \u001b[38;5;28mself\u001b[39m\u001b[38;5;241m.\u001b[39mstale \u001b[38;5;241m=\u001b[39m \u001b[38;5;28;01mFalse\u001b[39;00m\n",
      "File \u001b[0;32m~/code/costofcare/lib64/python3.11/site-packages/matplotlib/artist.py:72\u001b[0m, in \u001b[0;36mallow_rasterization.<locals>.draw_wrapper\u001b[0;34m(artist, renderer)\u001b[0m\n\u001b[1;32m     69\u001b[0m     \u001b[38;5;28;01mif\u001b[39;00m artist\u001b[38;5;241m.\u001b[39mget_agg_filter() \u001b[38;5;129;01mis\u001b[39;00m \u001b[38;5;129;01mnot\u001b[39;00m \u001b[38;5;28;01mNone\u001b[39;00m:\n\u001b[1;32m     70\u001b[0m         renderer\u001b[38;5;241m.\u001b[39mstart_filter()\n\u001b[0;32m---> 72\u001b[0m     \u001b[38;5;28;01mreturn\u001b[39;00m \u001b[43mdraw\u001b[49m\u001b[43m(\u001b[49m\u001b[43martist\u001b[49m\u001b[43m,\u001b[49m\u001b[43m \u001b[49m\u001b[43mrenderer\u001b[49m\u001b[43m)\u001b[49m\n\u001b[1;32m     73\u001b[0m \u001b[38;5;28;01mfinally\u001b[39;00m:\n\u001b[1;32m     74\u001b[0m     \u001b[38;5;28;01mif\u001b[39;00m artist\u001b[38;5;241m.\u001b[39mget_agg_filter() \u001b[38;5;129;01mis\u001b[39;00m \u001b[38;5;129;01mnot\u001b[39;00m \u001b[38;5;28;01mNone\u001b[39;00m:\n",
      "File \u001b[0;32m~/code/costofcare/lib64/python3.11/site-packages/matplotlib/lines.py:755\u001b[0m, in \u001b[0;36mLine2D.draw\u001b[0;34m(self, renderer)\u001b[0m\n\u001b[1;32m    753\u001b[0m renderer\u001b[38;5;241m.\u001b[39mopen_group(\u001b[38;5;124m'\u001b[39m\u001b[38;5;124mline2d\u001b[39m\u001b[38;5;124m'\u001b[39m, \u001b[38;5;28mself\u001b[39m\u001b[38;5;241m.\u001b[39mget_gid())\n\u001b[1;32m    754\u001b[0m \u001b[38;5;28;01mif\u001b[39;00m \u001b[38;5;28mself\u001b[39m\u001b[38;5;241m.\u001b[39m_lineStyles[\u001b[38;5;28mself\u001b[39m\u001b[38;5;241m.\u001b[39m_linestyle] \u001b[38;5;241m!=\u001b[39m \u001b[38;5;124m'\u001b[39m\u001b[38;5;124m_draw_nothing\u001b[39m\u001b[38;5;124m'\u001b[39m:\n\u001b[0;32m--> 755\u001b[0m     tpath, affine \u001b[38;5;241m=\u001b[39m (\u001b[38;5;28;43mself\u001b[39;49m\u001b[38;5;241;43m.\u001b[39;49m\u001b[43m_get_transformed_path\u001b[49m\u001b[43m(\u001b[49m\u001b[43m)\u001b[49m\n\u001b[1;32m    756\u001b[0m                      \u001b[38;5;241m.\u001b[39mget_transformed_path_and_affine())\n\u001b[1;32m    757\u001b[0m     \u001b[38;5;28;01mif\u001b[39;00m \u001b[38;5;28mlen\u001b[39m(tpath\u001b[38;5;241m.\u001b[39mvertices):\n\u001b[1;32m    758\u001b[0m         gc \u001b[38;5;241m=\u001b[39m renderer\u001b[38;5;241m.\u001b[39mnew_gc()\n",
      "File \u001b[0;32m~/code/costofcare/lib64/python3.11/site-packages/matplotlib/lines.py:715\u001b[0m, in \u001b[0;36mLine2D._get_transformed_path\u001b[0;34m(self)\u001b[0m\n\u001b[1;32m    713\u001b[0m \u001b[38;5;250m\u001b[39m\u001b[38;5;124;03m\"\"\"Return this line's `~matplotlib.transforms.TransformedPath`.\"\"\"\u001b[39;00m\n\u001b[1;32m    714\u001b[0m \u001b[38;5;28;01mif\u001b[39;00m \u001b[38;5;28mself\u001b[39m\u001b[38;5;241m.\u001b[39m_transformed_path \u001b[38;5;129;01mis\u001b[39;00m \u001b[38;5;28;01mNone\u001b[39;00m:\n\u001b[0;32m--> 715\u001b[0m     \u001b[38;5;28;43mself\u001b[39;49m\u001b[38;5;241;43m.\u001b[39;49m\u001b[43m_transform_path\u001b[49m\u001b[43m(\u001b[49m\u001b[43m)\u001b[49m\n\u001b[1;32m    716\u001b[0m \u001b[38;5;28;01mreturn\u001b[39;00m \u001b[38;5;28mself\u001b[39m\u001b[38;5;241m.\u001b[39m_transformed_path\n",
      "File \u001b[0;32m~/code/costofcare/lib64/python3.11/site-packages/matplotlib/lines.py:710\u001b[0m, in \u001b[0;36mLine2D._transform_path\u001b[0;34m(self, subslice)\u001b[0m\n\u001b[1;32m    708\u001b[0m \u001b[38;5;28;01melse\u001b[39;00m:\n\u001b[1;32m    709\u001b[0m     _path \u001b[38;5;241m=\u001b[39m \u001b[38;5;28mself\u001b[39m\u001b[38;5;241m.\u001b[39m_path\n\u001b[0;32m--> 710\u001b[0m \u001b[38;5;28mself\u001b[39m\u001b[38;5;241m.\u001b[39m_transformed_path \u001b[38;5;241m=\u001b[39m \u001b[43mTransformedPath\u001b[49m\u001b[43m(\u001b[49m\u001b[43m_path\u001b[49m\u001b[43m,\u001b[49m\u001b[43m \u001b[49m\u001b[38;5;28;43mself\u001b[39;49m\u001b[38;5;241;43m.\u001b[39;49m\u001b[43mget_transform\u001b[49m\u001b[43m(\u001b[49m\u001b[43m)\u001b[49m\u001b[43m)\u001b[49m\n",
      "File \u001b[0;32m~/code/costofcare/lib64/python3.11/site-packages/matplotlib/transforms.py:2747\u001b[0m, in \u001b[0;36mTransformedPath.__init__\u001b[0;34m(self, path, transform)\u001b[0m\n\u001b[1;32m   2745\u001b[0m \u001b[38;5;28mself\u001b[39m\u001b[38;5;241m.\u001b[39m_path \u001b[38;5;241m=\u001b[39m path\n\u001b[1;32m   2746\u001b[0m \u001b[38;5;28mself\u001b[39m\u001b[38;5;241m.\u001b[39m_transform \u001b[38;5;241m=\u001b[39m transform\n\u001b[0;32m-> 2747\u001b[0m \u001b[38;5;28;43mself\u001b[39;49m\u001b[38;5;241;43m.\u001b[39;49m\u001b[43mset_children\u001b[49m\u001b[43m(\u001b[49m\u001b[43mtransform\u001b[49m\u001b[43m)\u001b[49m\n\u001b[1;32m   2748\u001b[0m \u001b[38;5;28mself\u001b[39m\u001b[38;5;241m.\u001b[39m_transformed_path \u001b[38;5;241m=\u001b[39m \u001b[38;5;28;01mNone\u001b[39;00m\n\u001b[1;32m   2749\u001b[0m \u001b[38;5;28mself\u001b[39m\u001b[38;5;241m.\u001b[39m_transformed_points \u001b[38;5;241m=\u001b[39m \u001b[38;5;28;01mNone\u001b[39;00m\n",
      "File \u001b[0;32m~/code/costofcare/lib64/python3.11/site-packages/matplotlib/transforms.py:194\u001b[0m, in \u001b[0;36mTransformNode.set_children\u001b[0;34m(self, *children)\u001b[0m\n\u001b[1;32m    190\u001b[0m             \u001b[38;5;28;01mif\u001b[39;00m parent \u001b[38;5;129;01mis\u001b[39;00m \u001b[38;5;129;01mnot\u001b[39;00m \u001b[38;5;28;01mNone\u001b[39;00m:\n\u001b[1;32m    191\u001b[0m                 parent\u001b[38;5;241m.\u001b[39m_invalidate_internal(\n\u001b[1;32m    192\u001b[0m                     value\u001b[38;5;241m=\u001b[39mvalue, invalidating_node\u001b[38;5;241m=\u001b[39m\u001b[38;5;28mself\u001b[39m)\n\u001b[0;32m--> 194\u001b[0m \u001b[38;5;28;01mdef\u001b[39;00m \u001b[38;5;21mset_children\u001b[39m(\u001b[38;5;28mself\u001b[39m, \u001b[38;5;241m*\u001b[39mchildren):\n\u001b[1;32m    195\u001b[0m \u001b[38;5;250m    \u001b[39m\u001b[38;5;124;03m\"\"\"\u001b[39;00m\n\u001b[1;32m    196\u001b[0m \u001b[38;5;124;03m    Set the children of the transform, to let the invalidation\u001b[39;00m\n\u001b[1;32m    197\u001b[0m \u001b[38;5;124;03m    system know which transforms can invalidate this transform.\u001b[39;00m\n\u001b[1;32m    198\u001b[0m \u001b[38;5;124;03m    Should be called from the constructor of any transforms that\u001b[39;00m\n\u001b[1;32m    199\u001b[0m \u001b[38;5;124;03m    depend on other transforms.\u001b[39;00m\n\u001b[1;32m    200\u001b[0m \u001b[38;5;124;03m    \"\"\"\u001b[39;00m\n\u001b[1;32m    201\u001b[0m     \u001b[38;5;66;03m# Parents are stored as weak references, so that if the\u001b[39;00m\n\u001b[1;32m    202\u001b[0m     \u001b[38;5;66;03m# parents are destroyed, references from the children won't\u001b[39;00m\n\u001b[1;32m    203\u001b[0m     \u001b[38;5;66;03m# keep them alive.\u001b[39;00m\n",
      "\u001b[0;31mKeyboardInterrupt\u001b[0m: "
     ]
    },
    {
     "data": {
      "image/png": "[encoded data removed]",
      "text/plain": [
       "<Figure size 640x480 with 12 Axes>"
      ]
     },
     "metadata": {},
     "output_type": "display_data"
    }
   ],
   "source": []
  },
  {
   "cell_type": "code",
   "execution_count": 614,
   "id": "8e3b8f11-3b05-4832-8945-11aecee3b702",
   "metadata": {
    "tags": []
   },
   "outputs": [
    {
     "data": {
      "text/plain": [
       "-9    1.023608\n",
       "-8    1.252387\n",
       "-7    1.279620\n",
       "-6    1.017736\n",
       "-5    1.042684\n",
       "-4    1.044814\n",
       "-3    1.141811\n",
       "-2    1.129011\n",
       "-1    1.069057\n",
       " 0    1.601425\n",
       " 1    1.620798\n",
       " 2    1.516084\n",
       " 3    1.667785\n",
       " 4    1.605300\n",
       " 5    1.722875\n",
       " 6    1.693825\n",
       " 7    1.669768\n",
       " 8    1.906451\n",
       "Name: 0.95, dtype: float64"
      ]
     },
     "execution_count": 614,
     "metadata": {},
     "output_type": "execute_result"
    }
   ],
   "source": []
  },
  {
   "cell_type": "code",
   "execution_count": null,
   "id": "5c6f5d37-a286-402b-8b4c-ad00e94c1c7f",
   "metadata": {},
   "outputs": [],
   "source": []
  }
 ],
 "metadata": {
  "kernelspec": {
   "display_name": "Python 3 (ipykernel)",
   "language": "python",
   "name": "python3"
  },
  "language_info": {
   "codemirror_mode": {
    "name": "ipython",
    "version": 3
   },
   "file_extension": ".py",
   "mimetype": "text/x-python",
   "name": "python",
   "nbconvert_exporter": "python",
   "pygments_lexer": "ipython3",
   "version": "3.11.3"
  }
 },
 "nbformat": 4,
 "nbformat_minor": 5
}

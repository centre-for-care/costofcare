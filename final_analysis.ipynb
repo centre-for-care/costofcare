{
 "cells": [
  {
   "cell_type": "markdown",
   "id": "10b568fc-0f19-4b44-b6bf-e265bb053906",
   "metadata": {},
   "source": [
    "# Final analysis"
   ]
  },
  {
   "cell_type": "markdown",
   "id": "4d8c4989-8ab8-493b-a2a5-2fe11ebef148",
   "metadata": {},
   "source": [
    "This notebook contains the final form of our analysis as well as the final form of the data cleaning process."
   ]
  },
  {
   "cell_type": "code",
   "execution_count": 131,
   "id": "29cd5f94-bcb4-41c1-99cf-1722a33e13db",
   "metadata": {
    "tags": []
   },
   "outputs": [],
   "source": [
    "import glob\n",
    "import os\n",
    "import pandas as pd\n",
    "import matplotlib.pyplot as plt\n",
    "path = r'/home/daniel/code/costofcare/data/bhp_ukhls_data_stata/UKDA-6614-stata/stata/ukhls'\n",
    "all_files = glob.glob(os.path.join(path , '*indresp.dta'))\n",
    "raw_colnames = ['hidp',\n",
    "                'sex',\n",
    "                'jbnssec_dv',\n",
    "                'jbnssec8_dv',\n",
    "                'jbstat',\n",
    "                'jbhrs',\n",
    "                'ethn_dv',\n",
    "                'dvage',\n",
    "                'mastat_dv',\n",
    "                'country',\n",
    "                'aidhh',\n",
    "                'aidhrs',\n",
    "                'aidxhh',\n",
    "                'paygu_dv',\n",
    "                'qfhigh',\n",
    "                'qfhigh_dv',\n",
    "                'istrtdatm',\n",
    "                'istrtdaty',\n",
    "                'month']\n",
    "indresp = []\n",
    "prefixes = [] # for later\n",
    "for filename in all_files:\n",
    "    prefix = filename.split('/')[-1][0:2]\n",
    "    prefixes.append(prefix)\n",
    "    colnames = [f'{prefix}{x}' for x in raw_colnames]\n",
    "    temp_df = pd.read_stata(filename,\n",
    "                       columns=['pidp'] + colnames)\n",
    "    indresp.append(temp_df)"
   ]
  },
  {
   "cell_type": "code",
   "execution_count": 132,
   "id": "aca48de3-8c64-4a94-b3bb-73b04aa76083",
   "metadata": {},
   "outputs": [],
   "source": [
    "for i, df in enumerate(indresp):\n",
    "    df['wave'] = i+1\n",
    "    df.columns = ['pidp',\n",
    "                'hidp',\n",
    "                'sex',\n",
    "                'jbnssec_dv',\n",
    "                  'jbnssec8_dv',\n",
    "                'jbstat',\n",
    "                'jbhrs',\n",
    "                'ethn_dv',\n",
    "                'dvage',\n",
    "                'mastat_dv',\n",
    "                'country',\n",
    "                'aidhh',\n",
    "                'aidhrs',\n",
    "                'aidxhh',\n",
    "                'paygu_dv',\n",
    "                'qfhigh',\n",
    "                'qfhigh_dv',\n",
    "                'istrtdatm',\n",
    "                'istrtdaty',\n",
    "                'month',\n",
    "                 'wave']"
   ]
  },
  {
   "cell_type": "code",
   "execution_count": 133,
   "id": "79d94903-ced4-4d48-a443-3f0275f90b94",
   "metadata": {},
   "outputs": [
    {
     "data": {
      "text/plain": [
       "88602"
      ]
     },
     "execution_count": 133,
     "metadata": {},
     "output_type": "execute_result"
    }
   ],
   "source": [
    "data = pd.concat(indresp)\n",
    "data['max_waves'] = data.groupby('pidp')['wave'].transform('count')\n",
    "len(data.pidp.unique())"
   ]
  },
  {
   "cell_type": "code",
   "execution_count": 134,
   "id": "e3938f65-8253-4ec0-b605-d57ba773409c",
   "metadata": {},
   "outputs": [],
   "source": [
    "check = data[['wave', 'pidp', 'max_waves']]"
   ]
  },
  {
   "cell_type": "code",
   "execution_count": 135,
   "id": "6fd6775d-7152-4f33-9ed6-13744963d4fa",
   "metadata": {},
   "outputs": [
    {
     "data": {
      "text/plain": [
       "40123"
      ]
     },
     "execution_count": 135,
     "metadata": {},
     "output_type": "execute_result"
    }
   ],
   "source": [
    "len(check[check.max_waves > 5].pidp.unique())"
   ]
  },
  {
   "cell_type": "markdown",
   "id": "d4b4bc68-c48c-4e49-8f4b-e15dbfdae164",
   "metadata": {},
   "source": [
    "## Decision\n",
    "We will consider that has at least six data points, whether or not they are consecutive or not, and whether or not they start from wave 1."
   ]
  },
  {
   "cell_type": "code",
   "execution_count": 136,
   "id": "1715e157-72a3-414e-8be7-98f57d2e8c52",
   "metadata": {
    "tags": []
   },
   "outputs": [
    {
     "data": {
      "text/plain": [
       "40123"
      ]
     },
     "execution_count": 136,
     "metadata": {},
     "output_type": "execute_result"
    }
   ],
   "source": [
    "data_6 = data[data.max_waves > 5]\n",
    "len(data_6.pidp.unique())"
   ]
  },
  {
   "cell_type": "markdown",
   "id": "b5285864-a8ec-4460-bf4d-bae498ea8e6f",
   "metadata": {},
   "source": [
    "# Treatment Variable"
   ]
  },
  {
   "cell_type": "markdown",
   "id": "e95e47e9-f580-4168-bfca-0d2c6170770d",
   "metadata": {},
   "source": [
    "## Decision\n",
    "Recoding treatment variable"
   ]
  },
  {
   "cell_type": "code",
   "execution_count": 137,
   "id": "ce0ed3e4-6f2d-4287-9c09-a9c1af8995fe",
   "metadata": {
    "tags": []
   },
   "outputs": [
    {
     "name": "stderr",
     "output_type": "stream",
     "text": [
      "/tmp/ipykernel_12852/1074845151.py:2: SettingWithCopyWarning: \n",
      "A value is trying to be set on a copy of a slice from a DataFrame.\n",
      "Try using .loc[row_indexer,col_indexer] = value instead\n",
      "\n",
      "See the caveats in the documentation: https://pandas.pydata.org/pandas-docs/stable/user_guide/indexing.html#returning-a-view-versus-a-copy\n",
      "  data_6['aidhh_recoded'] = data_6.aidhh.replace({'Yes': 'yes',\n"
     ]
    }
   ],
   "source": [
    "import numpy as np\n",
    "data_6['aidhh_recoded'] = data_6.aidhh.replace({'Yes': 'yes',\n",
    "                                                'No': 'no',\n",
    "                                                'no     ': 'no',\n",
    "                                                'yes    ': 'yes',\n",
    "                                                'Not available for IEMB': np.nan,\n",
    "                                                \"don't know\": np.nan,\n",
    "                                                'proxy': np.nan,\n",
    "                                                'missing': np.nan,\n",
    "                                                'refusal': np.nan,\n",
    "                                                'inapplicable': np.nan})"
   ]
  },
  {
   "cell_type": "code",
   "execution_count": 138,
   "id": "10b7de9c-ab66-48f1-9a6c-c2540ddc459b",
   "metadata": {
    "tags": []
   },
   "outputs": [
    {
     "name": "stderr",
     "output_type": "stream",
     "text": [
      "/tmp/ipykernel_12852/1333873410.py:1: SettingWithCopyWarning: \n",
      "A value is trying to be set on a copy of a slice from a DataFrame.\n",
      "Try using .loc[row_indexer,col_indexer] = value instead\n",
      "\n",
      "See the caveats in the documentation: https://pandas.pydata.org/pandas-docs/stable/user_guide/indexing.html#returning-a-view-versus-a-copy\n",
      "  data_6['aidxhh_recoded'] = data_6.aidxhh.replace({'Yes': 'yes',\n"
     ]
    }
   ],
   "source": [
    "data_6['aidxhh_recoded'] = data_6.aidxhh.replace({'Yes': 'yes',\n",
    "                                                'No': 'no',\n",
    "                                                'no     ': 'no',\n",
    "                                                'yes    ': 'yes',\n",
    "                                                'Not available for IEMB': np.nan,\n",
    "                                                \"don't know\": np.nan,\n",
    "                                                'proxy': np.nan,\n",
    "                                                'missing': np.nan,\n",
    "                                                'refusal': np.nan,\n",
    "                                                'inapplicable': np.nan})"
   ]
  },
  {
   "cell_type": "code",
   "execution_count": 139,
   "id": "b1c3b19d-7e7d-451b-84ad-6bafda580ff1",
   "metadata": {
    "tags": []
   },
   "outputs": [
    {
     "name": "stderr",
     "output_type": "stream",
     "text": [
      "/tmp/ipykernel_12852/2909938044.py:1: SettingWithCopyWarning: \n",
      "A value is trying to be set on a copy of a slice from a DataFrame.\n",
      "Try using .loc[row_indexer,col_indexer] = value instead\n",
      "\n",
      "See the caveats in the documentation: https://pandas.pydata.org/pandas-docs/stable/user_guide/indexing.html#returning-a-view-versus-a-copy\n",
      "  data_6['aidhrs_recoded_3'] = data_6.aidhrs.str.strip().replace({\"inapplicable\": np.nan,\n"
     ]
    }
   ],
   "source": [
    "data_6['aidhrs_recoded_3'] = data_6.aidhrs.str.strip().replace({\"inapplicable\": np.nan,\n",
    "                                   \"0 - 4 hours per week\": \"0-19\",\n",
    "                                   \"proxy\": np.nan,\n",
    "                                   \"5 - 9 hours per week\": \"0-19\",\n",
    "                                   \"10 - 19 hours per week\": \"0-19\",\n",
    "                                   \"100 or more hours per week/continuous care\": \"50+\",\n",
    "                                   \"20 - 34 hours per week\": \"20-49\",\n",
    "                                   \"35 - 49 hours per week\": \"20-49\",\n",
    "                                   \"varies 20 hours or more\": \"20-49\",\n",
    "                                   \"0 - 4 hours per week\": \"0-19\",\n",
    "                                   \"10-19 hours per week\": \"0-19\",\n",
    "                                   \"Not available for IEMB\": np.nan,\n",
    "                                   \"Varies 20 hours or more\": \"20-49\",\n",
    "                                   \"varies under 20 hours\": \"0-19\",\n",
    "                                   \"Varies under 20 hours\": \"0-19\",\n",
    "                                   \"20-34 hours per week\": \"20-49\",\n",
    "                                   \"5 - 9 hours per week\": \"0-19\",\n",
    "                                   \"Other\": np.nan,\n",
    "                                   \"10 - 19 hours per week\": \"0-19\",\n",
    "                                   \"35-49 hours per week\": \"20-49\",\n",
    "                                   \"100 or more hours per week/continuous care\": \"50+\",\n",
    "                                   \"20 - 34 hours per week\": \"20-49\",\n",
    "                                   \"50-99 hours per week\": \"50+\",\n",
    "                                   \"other\": np.nan,\n",
    "                                   \"don't know\": np.nan,\n",
    "                                   \"35 - 49 hours per week\": \"20-49\",\n",
    "                                   \"varies under 20 hours\": \"0-19\",\n",
    "                                   \"50 - 99 hours per week\": \"50+\",\n",
    "                                   \"other\": np.nan,\n",
    "                                   \"refusal\": np.nan}).copy()"
   ]
  },
  {
   "cell_type": "markdown",
   "id": "726cef4e-29c8-4483-8001-6df10ad1717a",
   "metadata": {},
   "source": [
    "## Note\n",
    "The variable below identifies the people who provided care under our specific conditions based on the 3 variables above."
   ]
  },
  {
   "cell_type": "code",
   "execution_count": 140,
   "id": "1ddbf6d1-2db7-4837-9341-7b0da086996e",
   "metadata": {
    "tags": []
   },
   "outputs": [
    {
     "name": "stderr",
     "output_type": "stream",
     "text": [
      "/tmp/ipykernel_12852/3799348870.py:1: SettingWithCopyWarning: \n",
      "A value is trying to be set on a copy of a slice from a DataFrame.\n",
      "Try using .loc[row_indexer,col_indexer] = value instead\n",
      "\n",
      "See the caveats in the documentation: https://pandas.pydata.org/pandas-docs/stable/user_guide/indexing.html#returning-a-view-versus-a-copy\n",
      "  data_6['carer'] = ((data_6.aidhh_recoded == 'yes') | (data_6.aidxhh_recoded == 'yes') | (~data_6.aidhrs_recoded_3.isnull()))\n"
     ]
    }
   ],
   "source": [
    "data_6['carer'] = ((data_6.aidhh_recoded == 'yes') | (data_6.aidxhh_recoded == 'yes') | (~data_6.aidhrs_recoded_3.isnull()))"
   ]
  },
  {
   "cell_type": "markdown",
   "id": "e4246a05-6334-4af4-bea4-33df74c24d8b",
   "metadata": {},
   "source": [
    "Counting how many waves are carers taking care responsabilities on average"
   ]
  },
  {
   "cell_type": "code",
   "execution_count": 141,
   "id": "f17aaa7d-75a3-4e75-8297-7a2fb64bfcbf",
   "metadata": {
    "tags": []
   },
   "outputs": [
    {
     "data": {
      "text/plain": [
       "3.6293369616411115"
      ]
     },
     "execution_count": 141,
     "metadata": {},
     "output_type": "execute_result"
    }
   ],
   "source": [
    "care_resp = data_6[['pidp', 'carer', 'wave']][data_6.carer]\n",
    "care_resp['max_waves'] = care_resp.groupby('pidp')['wave'].transform('count')\n",
    "care_resp.drop_duplicates(subset=['pidp']).max_waves.mean()"
   ]
  },
  {
   "cell_type": "markdown",
   "id": "dc1d66a4-434a-46bf-89f5-95de4253c4db",
   "metadata": {},
   "source": [
    "## Decision\n",
    "We will use a \"generalised\" moment of treatment with at least 3 measures before, and at least 1 after."
   ]
  },
  {
   "cell_type": "markdown",
   "id": "c5c1b28e-dcf3-4174-a354-f538f961c700",
   "metadata": {},
   "source": [
    "# Target Variable"
   ]
  },
  {
   "cell_type": "code",
   "execution_count": 142,
   "id": "7a6637f3-e3e9-4ec1-96f8-b0ce7f4d8e96",
   "metadata": {
    "tags": []
   },
   "outputs": [
    {
     "name": "stderr",
     "output_type": "stream",
     "text": [
      "/tmp/ipykernel_12852/2089346174.py:1: SettingWithCopyWarning: \n",
      "A value is trying to be set on a copy of a slice from a DataFrame.\n",
      "Try using .loc[row_indexer,col_indexer] = value instead\n",
      "\n",
      "See the caveats in the documentation: https://pandas.pydata.org/pandas-docs/stable/user_guide/indexing.html#returning-a-view-versus-a-copy\n",
      "  data_6['jbstat_clean'] = data_6.jbstat.str.strip().str.lower() # cleaning values here\n"
     ]
    }
   ],
   "source": [
    "data_6['jbstat_clean'] = data_6.jbstat.str.strip().str.lower() # cleaning values here"
   ]
  },
  {
   "cell_type": "code",
   "execution_count": 143,
   "id": "9d0c44ca-0d6f-4e27-89a1-004ae0d4755b",
   "metadata": {
    "tags": []
   },
   "outputs": [
    {
     "data": {
      "text/plain": [
       "paid employment(ft/pt)                     187734\n",
       "retired                                     99318\n",
       "self employed                               31006\n",
       "family care or home                         19859\n",
       "unemployed                                  16201\n",
       "full-time student                           15962\n",
       "lt sick or disabled                         13788\n",
       "on maternity leave                           2151\n",
       "doing something else                         1981\n",
       "on furlough                                   387\n",
       "on apprenticeship                             288\n",
       "unpaid, family business                       261\n",
       "govt training scheme                          232\n",
       "refusal                                       131\n",
       "temporarily laid off/short term working        63\n",
       "don't know                                     47\n",
       "missing                                        29\n",
       "Name: jbstat_clean, dtype: int64"
      ]
     },
     "execution_count": 143,
     "metadata": {},
     "output_type": "execute_result"
    }
   ],
   "source": [
    "data_6.jbstat_clean.value_counts()"
   ]
  },
  {
   "cell_type": "code",
   "execution_count": 144,
   "id": "1d5a5b09-efc8-4462-9a87-049cdf244ea7",
   "metadata": {},
   "outputs": [
    {
     "name": "stderr",
     "output_type": "stream",
     "text": [
      "/tmp/ipykernel_12852/2757714622.py:1: SettingWithCopyWarning: \n",
      "A value is trying to be set on a copy of a slice from a DataFrame.\n",
      "Try using .loc[row_indexer,col_indexer] = value instead\n",
      "\n",
      "See the caveats in the documentation: https://pandas.pydata.org/pandas-docs/stable/user_guide/indexing.html#returning-a-view-versus-a-copy\n",
      "  data_6['employed'] = data_6.jbstat_clean.replace({\"paid employment(ft/pt)\": \"employed\",\n"
     ]
    }
   ],
   "source": [
    "data_6['employed'] = data_6.jbstat_clean.replace({\"paid employment(ft/pt)\": \"employed\",\n",
    "                             \"retired\": \"unemployed\",\n",
    "                       \"self employed\": \"employed\",\n",
    "                       \"family care or home\": \"unemployed\",\n",
    "                       \"unemployed\": \"unemployed\",\n",
    "                       \"full-time student\": \"unemployed\",\n",
    "                       \"lt sick or disabled\": \"unemployed\",\n",
    "                       \"on maternity leave\": \"employed\",\n",
    "                       \"doing something else\": \"unemployed\",\n",
    "                       \"on furlough\": \"unemployed\",\n",
    "                       \"on apprenticeship\": \"employed\",\n",
    "                       \"unpaid, family business\": \"unemployed\",\n",
    "                       \"govt training scheme\": \"employed\",\n",
    "                       \"refusal\": np.nan,\n",
    "                       \"temporarily laid off/short term working\": \"unemployed\",\n",
    "                       \"don't know\": np.nan,\n",
    "                       \"missing\": np.nan}\n",
    "                     )"
   ]
  },
  {
   "cell_type": "markdown",
   "id": "c04d829b-6c69-4025-9811-441ed2516c76",
   "metadata": {},
   "source": [
    "Total Sample size"
   ]
  },
  {
   "cell_type": "code",
   "execution_count": 145,
   "id": "db6713a7-ff05-4bdc-91f6-fc6095c19183",
   "metadata": {
    "tags": []
   },
   "outputs": [
    {
     "data": {
      "text/html": [
       "<div>\n",
       "<style scoped>\n",
       "    .dataframe tbody tr th:only-of-type {\n",
       "        vertical-align: middle;\n",
       "    }\n",
       "\n",
       "    .dataframe tbody tr th {\n",
       "        vertical-align: top;\n",
       "    }\n",
       "\n",
       "    .dataframe thead th {\n",
       "        text-align: right;\n",
       "    }\n",
       "</style>\n",
       "<table border=\"1\" class=\"dataframe\">\n",
       "  <thead>\n",
       "    <tr style=\"text-align: right;\">\n",
       "      <th></th>\n",
       "      <th>pidp</th>\n",
       "      <th>carer</th>\n",
       "    </tr>\n",
       "  </thead>\n",
       "  <tbody>\n",
       "    <tr>\n",
       "      <th>1</th>\n",
       "      <td>68004087</td>\n",
       "      <td>False</td>\n",
       "    </tr>\n",
       "    <tr>\n",
       "      <th>2</th>\n",
       "      <td>68006127</td>\n",
       "      <td>False</td>\n",
       "    </tr>\n",
       "    <tr>\n",
       "      <th>4</th>\n",
       "      <td>68006807</td>\n",
       "      <td>False</td>\n",
       "    </tr>\n",
       "    <tr>\n",
       "      <th>11</th>\n",
       "      <td>68008847</td>\n",
       "      <td>False</td>\n",
       "    </tr>\n",
       "    <tr>\n",
       "      <th>12</th>\n",
       "      <td>68009527</td>\n",
       "      <td>False</td>\n",
       "    </tr>\n",
       "    <tr>\n",
       "      <th>...</th>\n",
       "      <td>...</td>\n",
       "      <td>...</td>\n",
       "    </tr>\n",
       "    <tr>\n",
       "      <th>41859</th>\n",
       "      <td>1636671692</td>\n",
       "      <td>True</td>\n",
       "    </tr>\n",
       "    <tr>\n",
       "      <th>41873</th>\n",
       "      <td>1638419292</td>\n",
       "      <td>True</td>\n",
       "    </tr>\n",
       "    <tr>\n",
       "      <th>41930</th>\n",
       "      <td>1644675490</td>\n",
       "      <td>False</td>\n",
       "    </tr>\n",
       "    <tr>\n",
       "      <th>41931</th>\n",
       "      <td>1644675530</td>\n",
       "      <td>False</td>\n",
       "    </tr>\n",
       "    <tr>\n",
       "      <th>41933</th>\n",
       "      <td>1644736490</td>\n",
       "      <td>False</td>\n",
       "    </tr>\n",
       "  </tbody>\n",
       "</table>\n",
       "<p>40123 rows × 2 columns</p>\n",
       "</div>"
      ],
      "text/plain": [
       "             pidp  carer\n",
       "1        68004087  False\n",
       "2        68006127  False\n",
       "4        68006807  False\n",
       "11       68008847  False\n",
       "12       68009527  False\n",
       "...           ...    ...\n",
       "41859  1636671692   True\n",
       "41873  1638419292   True\n",
       "41930  1644675490  False\n",
       "41931  1644675530  False\n",
       "41933  1644736490  False\n",
       "\n",
       "[40123 rows x 2 columns]"
      ]
     },
     "execution_count": 145,
     "metadata": {},
     "output_type": "execute_result"
    }
   ],
   "source": [
    "data_6[['pidp', 'carer']].drop_duplicates(subset=['pidp'])"
   ]
  },
  {
   "cell_type": "markdown",
   "id": "d0b51ce0-ed50-4f7f-9d13-6811fee3c0ed",
   "metadata": {},
   "source": [
    "Total number of carers in sample"
   ]
  },
  {
   "cell_type": "code",
   "execution_count": 146,
   "id": "f22502da-9ca7-49f0-91fd-2f0440dbef56",
   "metadata": {},
   "outputs": [
    {
     "data": {
      "text/plain": [
       "6529"
      ]
     },
     "execution_count": 146,
     "metadata": {},
     "output_type": "execute_result"
    }
   ],
   "source": [
    "data_6[['pidp', 'carer']].drop_duplicates(subset=['pidp'])['carer'].sum()"
   ]
  },
  {
   "cell_type": "markdown",
   "id": "7efefcad-b085-4b88-a178-cc02563ea700",
   "metadata": {},
   "source": [
    "Number of employed individuals in the sample"
   ]
  },
  {
   "cell_type": "code",
   "execution_count": 147,
   "id": "2bb0d387-9b54-4622-abb5-b4d28d648681",
   "metadata": {
    "tags": []
   },
   "outputs": [
    {
     "data": {
      "text/plain": [
       "29337"
      ]
     },
     "execution_count": 147,
     "metadata": {},
     "output_type": "execute_result"
    }
   ],
   "source": [
    "len(data_6[(data_6.employed == 'employed')].drop_duplicates(subset=['pidp']))"
   ]
  },
  {
   "cell_type": "markdown",
   "id": "a3d0cc50-fcce-4a0f-b4d8-29ba125e98ef",
   "metadata": {
    "tags": []
   },
   "source": [
    "Number of employed carers"
   ]
  },
  {
   "cell_type": "code",
   "execution_count": 148,
   "id": "4fd10220-024b-4210-b577-a78be334ed4f",
   "metadata": {
    "tags": []
   },
   "outputs": [
    {
     "data": {
      "text/plain": [
       "4340"
      ]
     },
     "execution_count": 148,
     "metadata": {},
     "output_type": "execute_result"
    }
   ],
   "source": [
    "data_6[(data_6.employed == 'employed')].drop_duplicates(subset=['pidp']).carer.sum()"
   ]
  },
  {
   "cell_type": "markdown",
   "id": "94ce7775-f5df-4f5c-995d-8a539327eef2",
   "metadata": {},
   "source": [
    "## Decision\n",
    "We are considering only employed individuals"
   ]
  },
  {
   "cell_type": "code",
   "execution_count": 149,
   "id": "6426b666-b7e8-4de2-aa32-190a12ff3be8",
   "metadata": {
    "tags": []
   },
   "outputs": [],
   "source": [
    "df_6_emp = data_6[(data_6.employed == 'employed')]"
   ]
  },
  {
   "cell_type": "markdown",
   "id": "f57d1fcc-0cde-41c1-91d3-68b88c1f330b",
   "metadata": {},
   "source": [
    "Cleaning wage variable"
   ]
  },
  {
   "cell_type": "code",
   "execution_count": 150,
   "id": "edc14344-02a8-45cc-b053-2c8565dbbfdb",
   "metadata": {
    "tags": []
   },
   "outputs": [
    {
     "name": "stderr",
     "output_type": "stream",
     "text": [
      "/tmp/ipykernel_12852/3065558054.py:1: SettingWithCopyWarning: \n",
      "A value is trying to be set on a copy of a slice from a DataFrame.\n",
      "Try using .loc[row_indexer,col_indexer] = value instead\n",
      "\n",
      "See the caveats in the documentation: https://pandas.pydata.org/pandas-docs/stable/user_guide/indexing.html#returning-a-view-versus-a-copy\n",
      "  df_6_emp['wage'] = df_6_emp.paygu_dv.replace({'inapplicable': np.nan, 'proxy': np.nan, 'missing': np.nan})\n"
     ]
    }
   ],
   "source": [
    "df_6_emp['wage'] = df_6_emp.paygu_dv.replace({'inapplicable': np.nan, 'proxy': np.nan, 'missing': np.nan})"
   ]
  },
  {
   "cell_type": "code",
   "execution_count": 151,
   "id": "582d1c45-b737-4bd3-96e7-eae751617b25",
   "metadata": {
    "tags": []
   },
   "outputs": [
    {
     "data": {
      "text/plain": [
       "1        1075.000000\n",
       "11       1282.170044\n",
       "12       4116.669922\n",
       "14       2333.330078\n",
       "16       2641.449951\n",
       "            ...     \n",
       "29258    4583.330078\n",
       "29259    7000.000000\n",
       "29260    1624.750000\n",
       "29263    2800.000000\n",
       "29267            NaN\n",
       "Name: wage, Length: 221411, dtype: float64"
      ]
     },
     "execution_count": 151,
     "metadata": {},
     "output_type": "execute_result"
    }
   ],
   "source": [
    "df_6_emp.wage"
   ]
  },
  {
   "cell_type": "markdown",
   "id": "2948f1ec-cf47-44fb-bb27-f29f013611bf",
   "metadata": {},
   "source": [
    "Adding cpih to correct for inflation"
   ]
  },
  {
   "cell_type": "code",
   "execution_count": 152,
   "id": "29230725-a633-4d79-83e4-941988ae4231",
   "metadata": {
    "tags": []
   },
   "outputs": [
    {
     "data": {
      "text/html": [
       "<div>\n",
       "<style scoped>\n",
       "    .dataframe tbody tr th:only-of-type {\n",
       "        vertical-align: middle;\n",
       "    }\n",
       "\n",
       "    .dataframe tbody tr th {\n",
       "        vertical-align: top;\n",
       "    }\n",
       "\n",
       "    .dataframe thead th {\n",
       "        text-align: right;\n",
       "    }\n",
       "</style>\n",
       "<table border=\"1\" class=\"dataframe\">\n",
       "  <thead>\n",
       "    <tr style=\"text-align: right;\">\n",
       "      <th></th>\n",
       "      <th>date</th>\n",
       "      <th>cpih</th>\n",
       "    </tr>\n",
       "  </thead>\n",
       "  <tbody>\n",
       "    <tr>\n",
       "      <th>0</th>\n",
       "      <td>1988-01-01</td>\n",
       "      <td>46.9</td>\n",
       "    </tr>\n",
       "    <tr>\n",
       "      <th>1</th>\n",
       "      <td>1988-02-01</td>\n",
       "      <td>47.0</td>\n",
       "    </tr>\n",
       "    <tr>\n",
       "      <th>2</th>\n",
       "      <td>1988-03-01</td>\n",
       "      <td>47.2</td>\n",
       "    </tr>\n",
       "    <tr>\n",
       "      <th>3</th>\n",
       "      <td>1988-04-01</td>\n",
       "      <td>47.8</td>\n",
       "    </tr>\n",
       "    <tr>\n",
       "      <th>4</th>\n",
       "      <td>1988-05-01</td>\n",
       "      <td>48.0</td>\n",
       "    </tr>\n",
       "    <tr>\n",
       "      <th>...</th>\n",
       "      <td>...</td>\n",
       "      <td>...</td>\n",
       "    </tr>\n",
       "    <tr>\n",
       "      <th>416</th>\n",
       "      <td>2022-09-01</td>\n",
       "      <td>122.3</td>\n",
       "    </tr>\n",
       "    <tr>\n",
       "      <th>417</th>\n",
       "      <td>2022-10-01</td>\n",
       "      <td>124.3</td>\n",
       "    </tr>\n",
       "    <tr>\n",
       "      <th>418</th>\n",
       "      <td>2022-11-01</td>\n",
       "      <td>124.8</td>\n",
       "    </tr>\n",
       "    <tr>\n",
       "      <th>419</th>\n",
       "      <td>2022-12-01</td>\n",
       "      <td>125.3</td>\n",
       "    </tr>\n",
       "    <tr>\n",
       "      <th>420</th>\n",
       "      <td>2023-01-01</td>\n",
       "      <td>124.8</td>\n",
       "    </tr>\n",
       "  </tbody>\n",
       "</table>\n",
       "<p>421 rows × 2 columns</p>\n",
       "</div>"
      ],
      "text/plain": [
       "          date   cpih\n",
       "0   1988-01-01   46.9\n",
       "1   1988-02-01   47.0\n",
       "2   1988-03-01   47.2\n",
       "3   1988-04-01   47.8\n",
       "4   1988-05-01   48.0\n",
       "..         ...    ...\n",
       "416 2022-09-01  122.3\n",
       "417 2022-10-01  124.3\n",
       "418 2022-11-01  124.8\n",
       "419 2022-12-01  125.3\n",
       "420 2023-01-01  124.8\n",
       "\n",
       "[421 rows x 2 columns]"
      ]
     },
     "execution_count": 152,
     "metadata": {},
     "output_type": "execute_result"
    }
   ],
   "source": [
    "cpih = pd.read_csv('./cpih_uk_88_23.csv')\n",
    "cpih['date'] = pd.to_datetime(cpih.date, format='%b-%y')\n",
    "cpih"
   ]
  },
  {
   "cell_type": "code",
   "execution_count": 153,
   "id": "4f4384bf-a3b0-4bac-8065-cba714d2f8ef",
   "metadata": {
    "tags": []
   },
   "outputs": [
    {
     "name": "stderr",
     "output_type": "stream",
     "text": [
      "/tmp/ipykernel_12852/1591602359.py:1: SettingWithCopyWarning: \n",
      "A value is trying to be set on a copy of a slice from a DataFrame.\n",
      "Try using .loc[row_indexer,col_indexer] = value instead\n",
      "\n",
      "See the caveats in the documentation: https://pandas.pydata.org/pandas-docs/stable/user_guide/indexing.html#returning-a-view-versus-a-copy\n",
      "  df_6_emp['istrtdaty'] = df_6_emp['istrtdaty'].astype('str').replace({'inapplicable': np.nan, 'missing': np.nan, \"don't know\": np.nan})\n",
      "/tmp/ipykernel_12852/1591602359.py:2: SettingWithCopyWarning: \n",
      "A value is trying to be set on a copy of a slice from a DataFrame.\n",
      "Try using .loc[row_indexer,col_indexer] = value instead\n",
      "\n",
      "See the caveats in the documentation: https://pandas.pydata.org/pandas-docs/stable/user_guide/indexing.html#returning-a-view-versus-a-copy\n",
      "  df_6_emp['istrtdatm'] = df_6_emp['istrtdatm'].replace({'inapplicable': np.nan, 'missing': np.nan, \"don't know\": np.nan})\n",
      "/tmp/ipykernel_12852/1591602359.py:3: SettingWithCopyWarning: \n",
      "A value is trying to be set on a copy of a slice from a DataFrame.\n",
      "Try using .loc[row_indexer,col_indexer] = value instead\n",
      "\n",
      "See the caveats in the documentation: https://pandas.pydata.org/pandas-docs/stable/user_guide/indexing.html#returning-a-view-versus-a-copy\n",
      "  df_6_emp['date'] = df_6_emp['istrtdaty'].astype(str) + '/' + df_6_emp['istrtdatm'].astype(str)\n",
      "/tmp/ipykernel_12852/1591602359.py:4: SettingWithCopyWarning: \n",
      "A value is trying to be set on a copy of a slice from a DataFrame.\n",
      "Try using .loc[row_indexer,col_indexer] = value instead\n",
      "\n",
      "See the caveats in the documentation: https://pandas.pydata.org/pandas-docs/stable/user_guide/indexing.html#returning-a-view-versus-a-copy\n",
      "  df_6_emp['date'] = df_6_emp['date'].replace({'nan/nan': np.nan})\n",
      "/tmp/ipykernel_12852/1591602359.py:5: SettingWithCopyWarning: \n",
      "A value is trying to be set on a copy of a slice from a DataFrame.\n",
      "Try using .loc[row_indexer,col_indexer] = value instead\n",
      "\n",
      "See the caveats in the documentation: https://pandas.pydata.org/pandas-docs/stable/user_guide/indexing.html#returning-a-view-versus-a-copy\n",
      "  df_6_emp['date'] = pd.to_datetime(df_6_emp['date'], format='%Y/%B')\n"
     ]
    }
   ],
   "source": [
    "df_6_emp['istrtdaty'] = df_6_emp['istrtdaty'].astype('str').replace({'inapplicable': np.nan, 'missing': np.nan, \"don't know\": np.nan})\n",
    "df_6_emp['istrtdatm'] = df_6_emp['istrtdatm'].replace({'inapplicable': np.nan, 'missing': np.nan, \"don't know\": np.nan})\n",
    "df_6_emp['date'] = df_6_emp['istrtdaty'].astype(str) + '/' + df_6_emp['istrtdatm'].astype(str)\n",
    "df_6_emp['date'] = df_6_emp['date'].replace({'nan/nan': np.nan})\n",
    "df_6_emp['date'] = pd.to_datetime(df_6_emp['date'], format='%Y/%B')\n",
    "df_6_emp = df_6_emp.merge(cpih, on='date', how='left')"
   ]
  },
  {
   "cell_type": "code",
   "execution_count": 154,
   "id": "93d36402-6f1f-4649-9325-96c610262b80",
   "metadata": {
    "tags": []
   },
   "outputs": [
    {
     "name": "stderr",
     "output_type": "stream",
     "text": [
      "/tmp/ipykernel_12852/295635728.py:2: SettingWithCopyWarning: \n",
      "A value is trying to be set on a copy of a slice from a DataFrame\n",
      "\n",
      "See the caveats in the documentation: https://pandas.pydata.org/pandas-docs/stable/user_guide/indexing.html#returning-a-view-versus-a-copy\n",
      "  df_6_emp['jbhrs_clean'][df_6_emp.jbhrs_clean < 1] = np.nan\n"
     ]
    }
   ],
   "source": [
    "df_6_emp['jbhrs_clean'] = df_6_emp.jbhrs.replace({'inapplicable': np.nan, 'proxy': np.nan, 'missing': np.nan, \"don't know\": np.nan, \"refusal\": np.nan, 0: np.nan})\n",
    "df_6_emp['jbhrs_clean'][df_6_emp.jbhrs_clean < 1] = np.nan"
   ]
  },
  {
   "cell_type": "code",
   "execution_count": 155,
   "id": "b8ce4aec-9f58-46d8-8bd2-7e18e4e1b272",
   "metadata": {
    "tags": []
   },
   "outputs": [],
   "source": [
    "df_6_emp['month_jbhrs'] = df_6_emp['jbhrs_clean'] * 4.33 # times the average amount of weeks"
   ]
  },
  {
   "cell_type": "code",
   "execution_count": 156,
   "id": "d2ff7d47-1b07-404f-bd2f-11a1df4c1105",
   "metadata": {
    "tags": []
   },
   "outputs": [],
   "source": [
    "df_6_emp['wage_h'] = df_6_emp['wage'] / df_6_emp['month_jbhrs']"
   ]
  },
  {
   "cell_type": "markdown",
   "id": "adde0d83-798c-4103-968c-ce2bc2f5ff49",
   "metadata": {},
   "source": [
    "### Real wage calculation"
   ]
  },
  {
   "cell_type": "code",
   "execution_count": 157,
   "id": "a4b74f6e-e242-461d-be0e-8df882822c82",
   "metadata": {
    "tags": []
   },
   "outputs": [],
   "source": [
    "df_6_emp['wage_h_deflated'] = (df_6_emp['wage_h'] / df_6_emp['cpih']) * 100"
   ]
  },
  {
   "cell_type": "markdown",
   "id": "b80cd50c-c022-4a69-8e0a-c888e38ec03b",
   "metadata": {},
   "source": [
    "# ISC Data preparation"
   ]
  },
  {
   "cell_type": "code",
   "execution_count": 241,
   "id": "a5232d11-b6aa-4575-aa9d-e4cf1459c646",
   "metadata": {
    "tags": []
   },
   "outputs": [],
   "source": [
    "isc_data = df_6_emp[['pidp', 'carer', 'wage_h_deflated', 'wave', 'date']]"
   ]
  },
  {
   "cell_type": "code",
   "execution_count": 242,
   "id": "392dd61d-ea32-4b41-886d-ee9f36439db6",
   "metadata": {
    "tags": []
   },
   "outputs": [
    {
     "data": {
      "text/html": [
       "<div>\n",
       "<style scoped>\n",
       "    .dataframe tbody tr th:only-of-type {\n",
       "        vertical-align: middle;\n",
       "    }\n",
       "\n",
       "    .dataframe tbody tr th {\n",
       "        vertical-align: top;\n",
       "    }\n",
       "\n",
       "    .dataframe thead th {\n",
       "        text-align: right;\n",
       "    }\n",
       "</style>\n",
       "<table border=\"1\" class=\"dataframe\">\n",
       "  <thead>\n",
       "    <tr style=\"text-align: right;\">\n",
       "      <th></th>\n",
       "      <th>pidp</th>\n",
       "      <th>carer</th>\n",
       "      <th>wage_h_deflated</th>\n",
       "      <th>wave</th>\n",
       "      <th>date</th>\n",
       "    </tr>\n",
       "  </thead>\n",
       "  <tbody>\n",
       "    <tr>\n",
       "      <th>0</th>\n",
       "      <td>68004087</td>\n",
       "      <td>False</td>\n",
       "      <td>7.350859</td>\n",
       "      <td>1</td>\n",
       "      <td>2009-01-01</td>\n",
       "    </tr>\n",
       "    <tr>\n",
       "      <th>1</th>\n",
       "      <td>68008847</td>\n",
       "      <td>False</td>\n",
       "      <td>8.767489</td>\n",
       "      <td>1</td>\n",
       "      <td>2009-01-01</td>\n",
       "    </tr>\n",
       "    <tr>\n",
       "      <th>2</th>\n",
       "      <td>68009527</td>\n",
       "      <td>False</td>\n",
       "      <td>29.671434</td>\n",
       "      <td>1</td>\n",
       "      <td>2009-01-01</td>\n",
       "    </tr>\n",
       "    <tr>\n",
       "      <th>3</th>\n",
       "      <td>68010887</td>\n",
       "      <td>False</td>\n",
       "      <td>16.817780</td>\n",
       "      <td>1</td>\n",
       "      <td>2009-01-01</td>\n",
       "    </tr>\n",
       "    <tr>\n",
       "      <th>4</th>\n",
       "      <td>68011567</td>\n",
       "      <td>False</td>\n",
       "      <td>19.038594</td>\n",
       "      <td>1</td>\n",
       "      <td>2009-01-01</td>\n",
       "    </tr>\n",
       "    <tr>\n",
       "      <th>...</th>\n",
       "      <td>...</td>\n",
       "      <td>...</td>\n",
       "      <td>...</td>\n",
       "      <td>...</td>\n",
       "      <td>...</td>\n",
       "    </tr>\n",
       "    <tr>\n",
       "      <th>221406</th>\n",
       "      <td>1652366050</td>\n",
       "      <td>False</td>\n",
       "      <td>24.790524</td>\n",
       "      <td>12</td>\n",
       "      <td>2022-02-01</td>\n",
       "    </tr>\n",
       "    <tr>\n",
       "      <th>221407</th>\n",
       "      <td>1652814850</td>\n",
       "      <td>True</td>\n",
       "      <td>35.421301</td>\n",
       "      <td>12</td>\n",
       "      <td>2021-11-01</td>\n",
       "    </tr>\n",
       "    <tr>\n",
       "      <th>221408</th>\n",
       "      <td>1652835250</td>\n",
       "      <td>False</td>\n",
       "      <td>8.888148</td>\n",
       "      <td>12</td>\n",
       "      <td>2021-11-01</td>\n",
       "    </tr>\n",
       "    <tr>\n",
       "      <th>221409</th>\n",
       "      <td>1652984930</td>\n",
       "      <td>False</td>\n",
       "      <td>15.036391</td>\n",
       "      <td>12</td>\n",
       "      <td>2021-12-01</td>\n",
       "    </tr>\n",
       "    <tr>\n",
       "      <th>221410</th>\n",
       "      <td>1653134490</td>\n",
       "      <td>False</td>\n",
       "      <td>NaN</td>\n",
       "      <td>12</td>\n",
       "      <td>2021-12-01</td>\n",
       "    </tr>\n",
       "  </tbody>\n",
       "</table>\n",
       "<p>221411 rows × 5 columns</p>\n",
       "</div>"
      ],
      "text/plain": [
       "              pidp  carer  wage_h_deflated  wave       date\n",
       "0         68004087  False         7.350859     1 2009-01-01\n",
       "1         68008847  False         8.767489     1 2009-01-01\n",
       "2         68009527  False        29.671434     1 2009-01-01\n",
       "3         68010887  False        16.817780     1 2009-01-01\n",
       "4         68011567  False        19.038594     1 2009-01-01\n",
       "...            ...    ...              ...   ...        ...\n",
       "221406  1652366050  False        24.790524    12 2022-02-01\n",
       "221407  1652814850   True        35.421301    12 2021-11-01\n",
       "221408  1652835250  False         8.888148    12 2021-11-01\n",
       "221409  1652984930  False        15.036391    12 2021-12-01\n",
       "221410  1653134490  False              NaN    12 2021-12-01\n",
       "\n",
       "[221411 rows x 5 columns]"
      ]
     },
     "execution_count": 242,
     "metadata": {},
     "output_type": "execute_result"
    }
   ],
   "source": [
    "isc_data"
   ]
  },
  {
   "cell_type": "markdown",
   "id": "be68139d-80a3-4c82-b9dc-ac909c165c4b",
   "metadata": {},
   "source": [
    "### Average number of waves caring"
   ]
  },
  {
   "cell_type": "code",
   "execution_count": 243,
   "id": "a622482b-029e-4f08-898f-4e29a9692274",
   "metadata": {
    "tags": []
   },
   "outputs": [
    {
     "data": {
      "text/plain": [
       "3.041845399632321"
      ]
     },
     "execution_count": 243,
     "metadata": {},
     "output_type": "execute_result"
    }
   ],
   "source": [
    "carer_events = []\n",
    "for i in isc_data.pidp.unique():\n",
    "    by_pidp = isc_data[isc_data.pidp == i]\n",
    "    if by_pidp.carer.any():\n",
    "        carer_events.append(by_pidp.carer.sum())\n",
    "np.mean(carer_events)"
   ]
  },
  {
   "cell_type": "markdown",
   "id": "9e747331-93fc-41f8-971c-8d1474e38b60",
   "metadata": {
    "tags": []
   },
   "source": [
    "## Decision\n",
    "We will take the average as lower limit to determine treated cases. Everyone with less than 3 and more than 1 reported waves of caring will be dropped."
   ]
  },
  {
   "cell_type": "code",
   "execution_count": 244,
   "id": "7de64c13-fd68-4226-a588-a8eb9dbb3824",
   "metadata": {
    "tags": []
   },
   "outputs": [
    {
     "name": "stderr",
     "output_type": "stream",
     "text": [
      "/tmp/ipykernel_12852/2949276746.py:1: SettingWithCopyWarning: \n",
      "A value is trying to be set on a copy of a slice from a DataFrame.\n",
      "Try using .loc[row_indexer,col_indexer] = value instead\n",
      "\n",
      "See the caveats in the documentation: https://pandas.pydata.org/pandas-docs/stable/user_guide/indexing.html#returning-a-view-versus-a-copy\n",
      "  isc_data['waves_caring'] = isc_data.groupby('pidp')['carer'].transform('sum')\n"
     ]
    }
   ],
   "source": [
    "isc_data['waves_caring'] = isc_data.groupby('pidp')['carer'].transform('sum')\n",
    "isc_data = isc_data[~((isc_data.waves_caring >= 1) & (isc_data.waves_caring < 3))]"
   ]
  },
  {
   "cell_type": "code",
   "execution_count": 245,
   "id": "135e5de5-81fc-4cf9-bde3-597f5a5ff6d3",
   "metadata": {
    "tags": []
   },
   "outputs": [
    {
     "name": "stderr",
     "output_type": "stream",
     "text": [
      "/tmp/ipykernel_12852/2134365079.py:1: SettingWithCopyWarning: \n",
      "A value is trying to be set on a copy of a slice from a DataFrame.\n",
      "Try using .loc[row_indexer,col_indexer] = value instead\n",
      "\n",
      "See the caveats in the documentation: https://pandas.pydata.org/pandas-docs/stable/user_guide/indexing.html#returning-a-view-versus-a-copy\n",
      "  isc_data['wave_reindex'] = isc_data.sort_values(by=['pidp', 'wave']).groupby('pidp').cumcount() + 1\n",
      "/tmp/ipykernel_12852/2134365079.py:3: SettingWithCopyWarning: \n",
      "A value is trying to be set on a copy of a slice from a DataFrame\n",
      "\n",
      "See the caveats in the documentation: https://pandas.pydata.org/pandas-docs/stable/user_guide/indexing.html#returning-a-view-versus-a-copy\n",
      "  isc_data.sort_values(by=['pidp', 'wave_reindex'], inplace=True)\n"
     ]
    }
   ],
   "source": [
    "isc_data['wave_reindex'] = isc_data.sort_values(by=['pidp', 'wave']).groupby('pidp').cumcount() + 1\n",
    "isc_data.reset_index(drop=True, inplace=True)\n",
    "isc_data.sort_values(by=['pidp', 'wave_reindex'], inplace=True)"
   ]
  },
  {
   "cell_type": "code",
   "execution_count": 246,
   "id": "4bcdff9f-e182-4336-a1e3-70f9cd7f0efa",
   "metadata": {},
   "outputs": [
    {
     "name": "stderr",
     "output_type": "stream",
     "text": [
      "/tmp/ipykernel_12852/3447444823.py:1: SettingWithCopyWarning: \n",
      "A value is trying to be set on a copy of a slice from a DataFrame.\n",
      "Try using .loc[row_indexer,col_indexer] = value instead\n",
      "\n",
      "See the caveats in the documentation: https://pandas.pydata.org/pandas-docs/stable/user_guide/indexing.html#returning-a-view-versus-a-copy\n",
      "  isc_data['wave_treat'] = isc_data.wave_reindex[isc_data.groupby('pidp')['carer'].transform('idxmax').values].values\n"
     ]
    }
   ],
   "source": [
    "isc_data['wave_treat'] = isc_data.wave_reindex[isc_data.groupby('pidp')['carer'].transform('idxmax').values].values"
   ]
  },
  {
   "cell_type": "code",
   "execution_count": 247,
   "id": "246a9357-70f4-4d37-a1bb-76015e80657f",
   "metadata": {
    "tags": []
   },
   "outputs": [
    {
     "name": "stderr",
     "output_type": "stream",
     "text": [
      "/tmp/ipykernel_12852/2101417188.py:1: SettingWithCopyWarning: \n",
      "A value is trying to be set on a copy of a slice from a DataFrame.\n",
      "Try using .loc[row_indexer,col_indexer] = value instead\n",
      "\n",
      "See the caveats in the documentation: https://pandas.pydata.org/pandas-docs/stable/user_guide/indexing.html#returning-a-view-versus-a-copy\n",
      "  isc_data['wave_treat_real'] = isc_data.wave[isc_data.groupby('pidp')['carer'].transform('idxmax').values].values\n"
     ]
    }
   ],
   "source": [
    "isc_data['wave_treat_real'] = isc_data.wave[isc_data.groupby('pidp')['carer'].transform('idxmax').values].values"
   ]
  },
  {
   "cell_type": "code",
   "execution_count": 248,
   "id": "c4ca01ed-85e5-444c-8801-fbcd4ca2d99d",
   "metadata": {
    "tags": []
   },
   "outputs": [
    {
     "name": "stderr",
     "output_type": "stream",
     "text": [
      "/tmp/ipykernel_12852/2650344565.py:1: SettingWithCopyWarning: \n",
      "A value is trying to be set on a copy of a slice from a DataFrame.\n",
      "Try using .loc[row_indexer,col_indexer] = value instead\n",
      "\n",
      "See the caveats in the documentation: https://pandas.pydata.org/pandas-docs/stable/user_guide/indexing.html#returning-a-view-versus-a-copy\n",
      "  isc_data['initial_wave'] = isc_data.groupby('pidp')['wave'].transform('min').values\n"
     ]
    }
   ],
   "source": [
    "isc_data['initial_wave'] = isc_data.groupby('pidp')['wave'].transform('min').values"
   ]
  },
  {
   "cell_type": "markdown",
   "id": "6923508c-286a-43a2-99eb-9888aed7c2e3",
   "metadata": {},
   "source": [
    "## Decision\n",
    "Only carer with at least 3 data points before treatment are consider."
   ]
  },
  {
   "cell_type": "code",
   "execution_count": 336,
   "id": "d6e9f35d-8c60-4710-b4d8-bbeb9d5cef01",
   "metadata": {
    "tags": []
   },
   "outputs": [],
   "source": [
    "isc_data = isc_data.drop(isc_data[(isc_data.wave_treat < 4) & (isc_data.carer == True)].index)"
   ]
  },
  {
   "cell_type": "code",
   "execution_count": 430,
   "id": "dbef00de-cf64-45db-8693-434d7057d364",
   "metadata": {
    "tags": []
   },
   "outputs": [],
   "source": [
    "def create_index(x):\n",
    "    y = np.arange(len(x)) + 1\n",
    "    return y - x\n",
    "\n",
    "def create_relative_index(lst, point):\n",
    "    index = lst.index(point)\n",
    "    return [i - index for i in range(len(lst))]\n"
   ]
  },
  {
   "cell_type": "code",
   "execution_count": 431,
   "id": "f91b6729-6057-4e88-9837-3fd323212e5a",
   "metadata": {
    "tags": []
   },
   "outputs": [
    {
     "name": "stdout",
     "output_type": "stream",
     "text": [
      "[-2, -1, 0, 1, 2]\n"
     ]
    }
   ],
   "source": [
    "my_list = [1, 2, 3, 4, 5]\n",
    "result = create_relative_index(my_list, 3)\n",
    "print(result)"
   ]
  },
  {
   "cell_type": "code",
   "execution_count": 338,
   "id": "73c1bb87-43b5-4461-8734-8225d8b8e565",
   "metadata": {
    "tags": []
   },
   "outputs": [],
   "source": [
    "isc_data['reindex'] = isc_data.groupby('pidp')['wave_treat'].transform(create_index)"
   ]
  },
  {
   "cell_type": "code",
   "execution_count": 339,
   "id": "22f20d65-4633-49d4-a700-c4223517443b",
   "metadata": {},
   "outputs": [
    {
     "data": {
      "text/html": [
       "<div>\n",
       "<style scoped>\n",
       "    .dataframe tbody tr th:only-of-type {\n",
       "        vertical-align: middle;\n",
       "    }\n",
       "\n",
       "    .dataframe tbody tr th {\n",
       "        vertical-align: top;\n",
       "    }\n",
       "\n",
       "    .dataframe thead th {\n",
       "        text-align: right;\n",
       "    }\n",
       "</style>\n",
       "<table border=\"1\" class=\"dataframe\">\n",
       "  <thead>\n",
       "    <tr style=\"text-align: right;\">\n",
       "      <th></th>\n",
       "      <th>pidp</th>\n",
       "      <th>carer</th>\n",
       "      <th>wage_h_deflated</th>\n",
       "      <th>wave</th>\n",
       "      <th>date</th>\n",
       "      <th>waves_caring</th>\n",
       "      <th>wave_reindex</th>\n",
       "      <th>wave_treat</th>\n",
       "      <th>wave_treat_real</th>\n",
       "      <th>initial_wave</th>\n",
       "      <th>reindex</th>\n",
       "      <th>ever_carer</th>\n",
       "    </tr>\n",
       "  </thead>\n",
       "  <tbody>\n",
       "    <tr>\n",
       "      <th>106529</th>\n",
       "      <td>29925</td>\n",
       "      <td>False</td>\n",
       "      <td>14.220867</td>\n",
       "      <td>8</td>\n",
       "      <td>2016-09-01</td>\n",
       "      <td>0</td>\n",
       "      <td>3</td>\n",
       "      <td>1</td>\n",
       "      <td>6</td>\n",
       "      <td>6</td>\n",
       "      <td>0</td>\n",
       "      <td>False</td>\n",
       "    </tr>\n",
       "    <tr>\n",
       "      <th>121932</th>\n",
       "      <td>29925</td>\n",
       "      <td>False</td>\n",
       "      <td>12.953751</td>\n",
       "      <td>9</td>\n",
       "      <td>2017-08-01</td>\n",
       "      <td>0</td>\n",
       "      <td>4</td>\n",
       "      <td>1</td>\n",
       "      <td>6</td>\n",
       "      <td>6</td>\n",
       "      <td>1</td>\n",
       "      <td>False</td>\n",
       "    </tr>\n",
       "    <tr>\n",
       "      <th>136258</th>\n",
       "      <td>29925</td>\n",
       "      <td>False</td>\n",
       "      <td>15.796588</td>\n",
       "      <td>10</td>\n",
       "      <td>2018-07-01</td>\n",
       "      <td>0</td>\n",
       "      <td>5</td>\n",
       "      <td>1</td>\n",
       "      <td>6</td>\n",
       "      <td>6</td>\n",
       "      <td>2</td>\n",
       "      <td>False</td>\n",
       "    </tr>\n",
       "    <tr>\n",
       "      <th>149835</th>\n",
       "      <td>29925</td>\n",
       "      <td>False</td>\n",
       "      <td>13.708758</td>\n",
       "      <td>11</td>\n",
       "      <td>2019-08-01</td>\n",
       "      <td>0</td>\n",
       "      <td>6</td>\n",
       "      <td>1</td>\n",
       "      <td>6</td>\n",
       "      <td>6</td>\n",
       "      <td>3</td>\n",
       "      <td>False</td>\n",
       "    </tr>\n",
       "    <tr>\n",
       "      <th>162390</th>\n",
       "      <td>29925</td>\n",
       "      <td>False</td>\n",
       "      <td>13.092201</td>\n",
       "      <td>12</td>\n",
       "      <td>2020-09-01</td>\n",
       "      <td>0</td>\n",
       "      <td>7</td>\n",
       "      <td>1</td>\n",
       "      <td>6</td>\n",
       "      <td>6</td>\n",
       "      <td>4</td>\n",
       "      <td>False</td>\n",
       "    </tr>\n",
       "    <tr>\n",
       "      <th>...</th>\n",
       "      <td>...</td>\n",
       "      <td>...</td>\n",
       "      <td>...</td>\n",
       "      <td>...</td>\n",
       "      <td>...</td>\n",
       "      <td>...</td>\n",
       "      <td>...</td>\n",
       "      <td>...</td>\n",
       "      <td>...</td>\n",
       "      <td>...</td>\n",
       "      <td>...</td>\n",
       "      <td>...</td>\n",
       "    </tr>\n",
       "    <tr>\n",
       "      <th>106526</th>\n",
       "      <td>1653059650</td>\n",
       "      <td>False</td>\n",
       "      <td>25.711179</td>\n",
       "      <td>7</td>\n",
       "      <td>2017-01-01</td>\n",
       "      <td>0</td>\n",
       "      <td>2</td>\n",
       "      <td>1</td>\n",
       "      <td>6</td>\n",
       "      <td>6</td>\n",
       "      <td>1</td>\n",
       "      <td>False</td>\n",
       "    </tr>\n",
       "    <tr>\n",
       "      <th>149833</th>\n",
       "      <td>1653134490</td>\n",
       "      <td>False</td>\n",
       "      <td>14.967061</td>\n",
       "      <td>10</td>\n",
       "      <td>2019-12-01</td>\n",
       "      <td>0</td>\n",
       "      <td>4</td>\n",
       "      <td>1</td>\n",
       "      <td>6</td>\n",
       "      <td>6</td>\n",
       "      <td>0</td>\n",
       "      <td>False</td>\n",
       "    </tr>\n",
       "    <tr>\n",
       "      <th>106528</th>\n",
       "      <td>1653277250</td>\n",
       "      <td>False</td>\n",
       "      <td>11.343167</td>\n",
       "      <td>7</td>\n",
       "      <td>2016-11-01</td>\n",
       "      <td>0</td>\n",
       "      <td>2</td>\n",
       "      <td>1</td>\n",
       "      <td>6</td>\n",
       "      <td>6</td>\n",
       "      <td>0</td>\n",
       "      <td>False</td>\n",
       "    </tr>\n",
       "    <tr>\n",
       "      <th>136257</th>\n",
       "      <td>1653277250</td>\n",
       "      <td>False</td>\n",
       "      <td>7.568484</td>\n",
       "      <td>9</td>\n",
       "      <td>2019-02-01</td>\n",
       "      <td>0</td>\n",
       "      <td>4</td>\n",
       "      <td>1</td>\n",
       "      <td>6</td>\n",
       "      <td>6</td>\n",
       "      <td>1</td>\n",
       "      <td>False</td>\n",
       "    </tr>\n",
       "    <tr>\n",
       "      <th>162389</th>\n",
       "      <td>1653277250</td>\n",
       "      <td>False</td>\n",
       "      <td>19.858160</td>\n",
       "      <td>11</td>\n",
       "      <td>2020-12-01</td>\n",
       "      <td>0</td>\n",
       "      <td>6</td>\n",
       "      <td>1</td>\n",
       "      <td>6</td>\n",
       "      <td>6</td>\n",
       "      <td>2</td>\n",
       "      <td>False</td>\n",
       "    </tr>\n",
       "  </tbody>\n",
       "</table>\n",
       "<p>121438 rows × 12 columns</p>\n",
       "</div>"
      ],
      "text/plain": [
       "              pidp  carer  wage_h_deflated  wave       date  waves_caring  \\\n",
       "106529       29925  False        14.220867     8 2016-09-01             0   \n",
       "121932       29925  False        12.953751     9 2017-08-01             0   \n",
       "136258       29925  False        15.796588    10 2018-07-01             0   \n",
       "149835       29925  False        13.708758    11 2019-08-01             0   \n",
       "162390       29925  False        13.092201    12 2020-09-01             0   \n",
       "...            ...    ...              ...   ...        ...           ...   \n",
       "106526  1653059650  False        25.711179     7 2017-01-01             0   \n",
       "149833  1653134490  False        14.967061    10 2019-12-01             0   \n",
       "106528  1653277250  False        11.343167     7 2016-11-01             0   \n",
       "136257  1653277250  False         7.568484     9 2019-02-01             0   \n",
       "162389  1653277250  False        19.858160    11 2020-12-01             0   \n",
       "\n",
       "        wave_reindex  wave_treat  wave_treat_real  initial_wave  reindex  \\\n",
       "106529             3           1                6             6        0   \n",
       "121932             4           1                6             6        1   \n",
       "136258             5           1                6             6        2   \n",
       "149835             6           1                6             6        3   \n",
       "162390             7           1                6             6        4   \n",
       "...              ...         ...              ...           ...      ...   \n",
       "106526             2           1                6             6        1   \n",
       "149833             4           1                6             6        0   \n",
       "106528             2           1                6             6        0   \n",
       "136257             4           1                6             6        1   \n",
       "162389             6           1                6             6        2   \n",
       "\n",
       "        ever_carer  \n",
       "106529       False  \n",
       "121932       False  \n",
       "136258       False  \n",
       "149835       False  \n",
       "162390       False  \n",
       "...            ...  \n",
       "106526       False  \n",
       "149833       False  \n",
       "106528       False  \n",
       "136257       False  \n",
       "162389       False  \n",
       "\n",
       "[121438 rows x 12 columns]"
      ]
     },
     "execution_count": 339,
     "metadata": {},
     "output_type": "execute_result"
    }
   ],
   "source": [
    "isc_data"
   ]
  },
  {
   "cell_type": "code",
   "execution_count": 340,
   "id": "6d00cbc2-d2b7-4bc8-a211-5e4a166de043",
   "metadata": {},
   "outputs": [],
   "source": [
    "isc_data['ever_carer'] = isc_data.groupby('pidp')['carer'].transform(any)"
   ]
  },
  {
   "cell_type": "code",
   "execution_count": 341,
   "id": "ca89d5f0-2344-4907-ba69-79c7f8ae5509",
   "metadata": {
    "tags": []
   },
   "outputs": [],
   "source": [
    "isc_data = isc_data.dropna()"
   ]
  },
  {
   "cell_type": "code",
   "execution_count": 342,
   "id": "565b4bf9-c808-4dd3-90b2-57955d4a7617",
   "metadata": {
    "tags": []
   },
   "outputs": [],
   "source": [
    "carers = isc_data[isc_data.ever_carer]"
   ]
  },
  {
   "cell_type": "code",
   "execution_count": 343,
   "id": "d4fac435-b51d-49b9-968c-2da27d894c64",
   "metadata": {
    "tags": []
   },
   "outputs": [],
   "source": [
    "controls = isc_data[~isc_data.ever_carer]"
   ]
  },
  {
   "cell_type": "code",
   "execution_count": 395,
   "id": "23c3ca56-5418-458e-832f-4840234e955f",
   "metadata": {
    "tags": []
   },
   "outputs": [
    {
     "data": {
      "text/html": [
       "<div>\n",
       "<style scoped>\n",
       "    .dataframe tbody tr th:only-of-type {\n",
       "        vertical-align: middle;\n",
       "    }\n",
       "\n",
       "    .dataframe tbody tr th {\n",
       "        vertical-align: top;\n",
       "    }\n",
       "\n",
       "    .dataframe thead th {\n",
       "        text-align: right;\n",
       "    }\n",
       "</style>\n",
       "<table border=\"1\" class=\"dataframe\">\n",
       "  <thead>\n",
       "    <tr style=\"text-align: right;\">\n",
       "      <th></th>\n",
       "      <th>pidp</th>\n",
       "      <th>carer</th>\n",
       "      <th>wage_h_deflated</th>\n",
       "      <th>wave</th>\n",
       "      <th>date</th>\n",
       "      <th>waves_caring</th>\n",
       "      <th>wave_reindex</th>\n",
       "      <th>wave_treat</th>\n",
       "      <th>wave_treat_real</th>\n",
       "      <th>initial_wave</th>\n",
       "      <th>reindex</th>\n",
       "      <th>ever_carer</th>\n",
       "    </tr>\n",
       "  </thead>\n",
       "  <tbody>\n",
       "    <tr>\n",
       "      <th>11539</th>\n",
       "      <td>68035365</td>\n",
       "      <td>False</td>\n",
       "      <td>15.223465</td>\n",
       "      <td>2</td>\n",
       "      <td>2010-02-01</td>\n",
       "      <td>4</td>\n",
       "      <td>1</td>\n",
       "      <td>4</td>\n",
       "      <td>5</td>\n",
       "      <td>2</td>\n",
       "      <td>-3</td>\n",
       "      <td>True</td>\n",
       "    </tr>\n",
       "    <tr>\n",
       "      <th>26630</th>\n",
       "      <td>68035365</td>\n",
       "      <td>False</td>\n",
       "      <td>16.461402</td>\n",
       "      <td>3</td>\n",
       "      <td>2011-02-01</td>\n",
       "      <td>4</td>\n",
       "      <td>2</td>\n",
       "      <td>4</td>\n",
       "      <td>5</td>\n",
       "      <td>2</td>\n",
       "      <td>-2</td>\n",
       "      <td>True</td>\n",
       "    </tr>\n",
       "    <tr>\n",
       "      <th>42046</th>\n",
       "      <td>68035365</td>\n",
       "      <td>False</td>\n",
       "      <td>17.168242</td>\n",
       "      <td>4</td>\n",
       "      <td>2012-03-01</td>\n",
       "      <td>4</td>\n",
       "      <td>3</td>\n",
       "      <td>4</td>\n",
       "      <td>5</td>\n",
       "      <td>2</td>\n",
       "      <td>-1</td>\n",
       "      <td>True</td>\n",
       "    </tr>\n",
       "    <tr>\n",
       "      <th>57805</th>\n",
       "      <td>68035365</td>\n",
       "      <td>True</td>\n",
       "      <td>17.686189</td>\n",
       "      <td>5</td>\n",
       "      <td>2013-02-01</td>\n",
       "      <td>4</td>\n",
       "      <td>4</td>\n",
       "      <td>4</td>\n",
       "      <td>5</td>\n",
       "      <td>2</td>\n",
       "      <td>0</td>\n",
       "      <td>True</td>\n",
       "    </tr>\n",
       "    <tr>\n",
       "      <th>90344</th>\n",
       "      <td>68035365</td>\n",
       "      <td>True</td>\n",
       "      <td>18.819520</td>\n",
       "      <td>7</td>\n",
       "      <td>2015-02-01</td>\n",
       "      <td>4</td>\n",
       "      <td>6</td>\n",
       "      <td>4</td>\n",
       "      <td>5</td>\n",
       "      <td>2</td>\n",
       "      <td>1</td>\n",
       "      <td>True</td>\n",
       "    </tr>\n",
       "    <tr>\n",
       "      <th>...</th>\n",
       "      <td>...</td>\n",
       "      <td>...</td>\n",
       "      <td>...</td>\n",
       "      <td>...</td>\n",
       "      <td>...</td>\n",
       "      <td>...</td>\n",
       "      <td>...</td>\n",
       "      <td>...</td>\n",
       "      <td>...</td>\n",
       "      <td>...</td>\n",
       "      <td>...</td>\n",
       "      <td>...</td>\n",
       "    </tr>\n",
       "    <tr>\n",
       "      <th>121826</th>\n",
       "      <td>1633354567</td>\n",
       "      <td>False</td>\n",
       "      <td>14.157663</td>\n",
       "      <td>8</td>\n",
       "      <td>2017-10-01</td>\n",
       "      <td>3</td>\n",
       "      <td>8</td>\n",
       "      <td>7</td>\n",
       "      <td>7</td>\n",
       "      <td>1</td>\n",
       "      <td>0</td>\n",
       "      <td>True</td>\n",
       "    </tr>\n",
       "    <tr>\n",
       "      <th>136161</th>\n",
       "      <td>1633354567</td>\n",
       "      <td>False</td>\n",
       "      <td>16.322844</td>\n",
       "      <td>9</td>\n",
       "      <td>2018-10-01</td>\n",
       "      <td>3</td>\n",
       "      <td>9</td>\n",
       "      <td>7</td>\n",
       "      <td>7</td>\n",
       "      <td>1</td>\n",
       "      <td>1</td>\n",
       "      <td>True</td>\n",
       "    </tr>\n",
       "    <tr>\n",
       "      <th>149743</th>\n",
       "      <td>1633354567</td>\n",
       "      <td>False</td>\n",
       "      <td>17.799046</td>\n",
       "      <td>10</td>\n",
       "      <td>2019-10-01</td>\n",
       "      <td>3</td>\n",
       "      <td>10</td>\n",
       "      <td>7</td>\n",
       "      <td>7</td>\n",
       "      <td>1</td>\n",
       "      <td>2</td>\n",
       "      <td>True</td>\n",
       "    </tr>\n",
       "    <tr>\n",
       "      <th>162312</th>\n",
       "      <td>1633354567</td>\n",
       "      <td>True</td>\n",
       "      <td>17.392923</td>\n",
       "      <td>11</td>\n",
       "      <td>2020-10-01</td>\n",
       "      <td>3</td>\n",
       "      <td>11</td>\n",
       "      <td>7</td>\n",
       "      <td>7</td>\n",
       "      <td>1</td>\n",
       "      <td>3</td>\n",
       "      <td>True</td>\n",
       "    </tr>\n",
       "    <tr>\n",
       "      <th>173614</th>\n",
       "      <td>1633354567</td>\n",
       "      <td>True</td>\n",
       "      <td>18.687554</td>\n",
       "      <td>12</td>\n",
       "      <td>2021-10-01</td>\n",
       "      <td>3</td>\n",
       "      <td>12</td>\n",
       "      <td>7</td>\n",
       "      <td>7</td>\n",
       "      <td>1</td>\n",
       "      <td>4</td>\n",
       "      <td>True</td>\n",
       "    </tr>\n",
       "  </tbody>\n",
       "</table>\n",
       "<p>9210 rows × 12 columns</p>\n",
       "</div>"
      ],
      "text/plain": [
       "              pidp  carer  wage_h_deflated  wave       date  waves_caring  \\\n",
       "11539     68035365  False        15.223465     2 2010-02-01             4   \n",
       "26630     68035365  False        16.461402     3 2011-02-01             4   \n",
       "42046     68035365  False        17.168242     4 2012-03-01             4   \n",
       "57805     68035365   True        17.686189     5 2013-02-01             4   \n",
       "90344     68035365   True        18.819520     7 2015-02-01             4   \n",
       "...            ...    ...              ...   ...        ...           ...   \n",
       "121826  1633354567  False        14.157663     8 2017-10-01             3   \n",
       "136161  1633354567  False        16.322844     9 2018-10-01             3   \n",
       "149743  1633354567  False        17.799046    10 2019-10-01             3   \n",
       "162312  1633354567   True        17.392923    11 2020-10-01             3   \n",
       "173614  1633354567   True        18.687554    12 2021-10-01             3   \n",
       "\n",
       "        wave_reindex  wave_treat  wave_treat_real  initial_wave  reindex  \\\n",
       "11539              1           4                5             2       -3   \n",
       "26630              2           4                5             2       -2   \n",
       "42046              3           4                5             2       -1   \n",
       "57805              4           4                5             2        0   \n",
       "90344              6           4                5             2        1   \n",
       "...              ...         ...              ...           ...      ...   \n",
       "121826             8           7                7             1        0   \n",
       "136161             9           7                7             1        1   \n",
       "149743            10           7                7             1        2   \n",
       "162312            11           7                7             1        3   \n",
       "173614            12           7                7             1        4   \n",
       "\n",
       "        ever_carer  \n",
       "11539         True  \n",
       "26630         True  \n",
       "42046         True  \n",
       "57805         True  \n",
       "90344         True  \n",
       "...            ...  \n",
       "121826        True  \n",
       "136161        True  \n",
       "149743        True  \n",
       "162312        True  \n",
       "173614        True  \n",
       "\n",
       "[9210 rows x 12 columns]"
      ]
     },
     "execution_count": 395,
     "metadata": {},
     "output_type": "execute_result"
    }
   ],
   "source": [
    "carers"
   ]
  },
  {
   "cell_type": "code",
   "execution_count": 404,
   "id": "b399a9e7-5294-4c04-ac6d-a3dca90b283f",
   "metadata": {
    "tags": []
   },
   "outputs": [],
   "source": [
    "def get_control_clean(c_data, t_data):\n",
    "    samples = []\n",
    "    t_ids = t_data.pidp.unique().tolist()\n",
    "    for t_id in t_ids:\n",
    "        out = {}\n",
    "        init = t_data[t_data.pidp == t_id].initial_wave.unique()[0]\n",
    "        treat_time = t_data[t_data.pidp == t_id].wave_treat_real.unique()[0]\n",
    "        last_wave = t_data[t_data.pidp == t_id].wave.max()\n",
    "        length = (last_wave + 1) - init\n",
    "        idx = c_data[(c_data.wave >= init) & (controls.wave <= last_wave)].groupby('pidp')['pidp'].transform('count') == length\n",
    "        sub_sample = c_data[(c_data.wave >= init) & (controls.wave <= last_wave)][idx].reset_index(drop=True)\n",
    "        treat = t_data[t_data.pidp == t_id].pivot(index='wave', columns='pidp', values='wage_h_deflated')\n",
    "        #treat.columns = ['treated']\n",
    "        sub_sample = sub_sample.pivot(index='wave', columns='pidp', values='wage_h_deflated')\n",
    "        sub_sample = pd.concat([treat, sub_sample], axis=1)\n",
    "        out['data'] = sub_sample.fillna(0) # dirty fix, I need to adress this\n",
    "        out['treat_time'] = treat_time\n",
    "        samples.append(out)\n",
    "    return samples"
   ]
  },
  {
   "cell_type": "code",
   "execution_count": 405,
   "id": "3748bac5-bb2a-4e23-a472-d98c2e9b07a1",
   "metadata": {
    "tags": []
   },
   "outputs": [],
   "source": [
    "samples = get_control_clean(controls, carers)"
   ]
  },
  {
   "cell_type": "code",
   "execution_count": 406,
   "id": "e8219261-f1b6-4815-b7f7-6c62273e8fa4",
   "metadata": {
    "tags": []
   },
   "outputs": [],
   "source": [
    "# remove people with NaN values in wages before doing the filtering"
   ]
  },
  {
   "cell_type": "code",
   "execution_count": 432,
   "id": "ed51377d-601f-4394-9d94-ea34f90de027",
   "metadata": {
    "tags": []
   },
   "outputs": [],
   "source": [
    "from typing import List\n",
    "from operator import add\n",
    "from toolz import reduce, partial\n",
    "import numpy as np\n",
    "from scipy.optimize import minimize\n",
    "from sklearn.neighbors import KDTree\n",
    "\n",
    "\n",
    "# the expression to minimise, since \\mu is 0, we are one looking for \\omega/W\n",
    "def argmin_w(W, Y_i, Y_0):\n",
    "    return np.sqrt(np.sum((Y_0 - Y_i.dot(W))**2))\n",
    "\n",
    "\n",
    "# a function wrapping the whole process\n",
    "def get_w(Y_i, Y_0):\n",
    "    w_start = [1/Y_i.shape[1]]*Y_i.shape[1]\n",
    "    weights = minimize(partial(argmin_w, Y_i=Y_i, Y_0=Y_0),\n",
    "                       np.array(w_start),\n",
    "                       method='SLSQP',\n",
    "                       constraints=({'type': 'eq', 'fun': lambda x: np.sum(x) - 1}), # constraint to sum to 1\n",
    "                       bounds=[(0.0, 1.0)]*len(w_start),\n",
    "                       )\n",
    "    return weights.x\n",
    "\n",
    "\n",
    "def isc(data_objects: list) -> dict:\n",
    "    synths = []\n",
    "    treats = []\n",
    "    for ele in data_objects:\n",
    "        data = ele['data']\n",
    "        t_time = ele['treat_time']\n",
    "        df_T0 = data.iloc[:t_time, :]\n",
    "        Y_0 = df_T0.iloc[:, 0].values\n",
    "        kdt = KDTree(df_T0.T, leaf_size=30, metric='euclidean')\n",
    "        idx = kdt.query(df_T0.T, k=50, return_distance=False)[0, 1:]\n",
    "        Y_i = df_T0.iloc[:, idx].values\n",
    "        weights = get_w(Y_i, Y_0)\n",
    "        synth = data.iloc[:, idx].dot(weights) # synthetic control is now based on the new subset of observations\n",
    "        synth.sort_index(inplace=True)\n",
    "        treated = data.iloc[:, 0].sort_index()\n",
    "        synth.index = create_relative_index(synth.index.tolist(), t_time)\n",
    "        treated.index = create_relative_index(treated.index.tolist(), t_time)\n",
    "        synths.append(synth)\n",
    "        treats.append(treated)\n",
    "    return {'synths': synths, 'treats': treats}\n"
   ]
  },
  {
   "cell_type": "code",
   "execution_count": 433,
   "id": "3bdd2058-9c7d-4420-85f2-ae648fba72ee",
   "metadata": {
    "tags": []
   },
   "outputs": [],
   "source": [
    "isc_list = isc(samples)"
   ]
  },
  {
   "cell_type": "code",
   "execution_count": 441,
   "id": "767162c7-9310-41ad-a7aa-a6ae15e6e96a",
   "metadata": {
    "tags": []
   },
   "outputs": [],
   "source": [
    "synths = pd.concat(isc_list['synths'], axis=1).sort_index()\n",
    "treats = pd.concat(isc_list['treats'], axis=1).sort_index()"
   ]
  },
  {
   "cell_type": "code",
   "execution_count": 444,
   "id": "dc0a43d2-2cae-4064-ac61-ba5db10898f2",
   "metadata": {
    "tags": []
   },
   "outputs": [
    {
     "data": {
      "text/plain": [
       "<Axes: >"
      ]
     },
     "execution_count": 444,
     "metadata": {},
     "output_type": "execute_result"
    },
    {
     "data": {
      "image/png": "[encoded data removed]",
      "text/plain": [
       "<Figure size 640x480 with 1 Axes>"
      ]
     },
     "metadata": {},
     "output_type": "display_data"
    }
   ],
   "source": []
  },
  {
   "cell_type": "code",
   "execution_count": null,
   "id": "c0368f5b-cd63-47fe-8c8d-513cfe508f92",
   "metadata": {},
   "outputs": [],
   "source": []
  }
 ],
 "metadata": {
  "kernelspec": {
   "display_name": "Python 3 (ipykernel)",
   "language": "python",
   "name": "python3"
  },
  "language_info": {
   "codemirror_mode": {
    "name": "ipython",
    "version": 3
   },
   "file_extension": ".py",
   "mimetype": "text/x-python",
   "name": "python",
   "nbconvert_exporter": "python",
   "pygments_lexer": "ipython3",
   "version": "3.11.3"
  }
 },
 "nbformat": 4,
 "nbformat_minor": 5
}

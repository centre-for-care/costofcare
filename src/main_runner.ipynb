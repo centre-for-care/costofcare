{
 "cells": [
  {
   "cell_type": "code",
   "execution_count": 1,
   "id": "e52bc733-35b0-4663-a8f3-14cf13ff5b2d",
   "metadata": {
    "tags": []
   },
   "outputs": [],
   "source": [
    "import pandas as pd\n",
    "from utils import get_control_clean\n",
    "from isc_lib import isc"
   ]
  },
  {
   "cell_type": "code",
   "execution_count": 2,
   "id": "d6bbd9cc-9eee-4651-a4f9-3c340900b6fe",
   "metadata": {
    "tags": []
   },
   "outputs": [],
   "source": [
    "def get_intertisial_data(clean_t, clean_c, target_var):\n",
    "    treated = pd.read_csv(clean_t, index_col=0)\n",
    "    controls = pd.read_csv(clean_c, index_col=0)\n",
    "    print(len(treated.pidp.unique()))\n",
    "    target_var = target_var\n",
    "    samples = get_control_clean(controls, treated,\n",
    "                                [target_var,\n",
    "                                'dvage',\n",
    "                                'mastat_recoded',\n",
    "                                'sex_recoded',\n",
    "                                'employed_num',\n",
    "                                'hhsize',\n",
    "                                'asian',\n",
    "                                'black',\n",
    "                                'mixed',\n",
    "                                'other',\n",
    "                                'low',\n",
    "                                'middle'],\n",
    "                                target_var,\n",
    "                                'weight_yearx')\n",
    "    return samples"
   ]
  },
  {
   "cell_type": "code",
   "execution_count": 3,
   "id": "15d05b0a",
   "metadata": {},
   "outputs": [],
   "source": [
    "def run_isc(clean_t, clean_c, target_var, out_suffix, k_n=35):\n",
    "    samples = get_intertisial_data(clean_t, clean_c, target_var)\n",
    "    out = isc(samples, penalized=True, reduction=True, k_n=k_n)\n",
    "    diffs = pd.concat(out['diffs'], axis=1).sort_index()\n",
    "    w_diffs = pd.concat(out['w_diff'], axis=1).sort_index()\n",
    "    treats = pd.concat(out['treats'], axis=1).sort_index()\n",
    "    w_treats = pd.concat(out['w_treats'], axis=1).sort_index()\n",
    "    synths = pd.concat(out['synths'], axis=1).sort_index()\n",
    "    w_synths = pd.concat(out['w_synths'], axis=1).sort_index()\n",
    "    boot_vars = pd.concat(out['boots_vars'], axis=1).mean(axis=1).sort_index()\n",
    "    diffs.to_csv(f'../outputs/diffs_{target_var}_{out_suffix}.csv')\n",
    "    w_diffs.to_csv(f'../outputs/w_diffs_{target_var}_{out_suffix}.csv')\n",
    "    treats.to_csv(f'../outputs/treats_{target_var}_{out_suffix}.csv')\n",
    "    w_treats.to_csv(f'../outputs/w_treats_{target_var}_{out_suffix}.csv')\n",
    "    synths.to_csv(f'../outputs/synths_{target_var}_{out_suffix}.csv')\n",
    "    w_synths.to_csv(f'../outputs/w_synths_{target_var}_{out_suffix}.csv')\n",
    "    boot_vars.to_csv(f'../outputs/boot_vars_{target_var}_{out_suffix}.csv')"
   ]
  },
  {
   "cell_type": "code",
   "execution_count": null,
   "id": "3fb9bdb8",
   "metadata": {},
   "outputs": [],
   "source": [
    "run_isc('../data/sub_strata/ii_t_hi_m.csv', '../data/sub_strata/ii_c_full_m.csv', 'ind_inc_deflated', 'hi', 10)"
   ]
  },
  {
   "cell_type": "code",
   "execution_count": null,
   "id": "d2335ff3",
   "metadata": {},
   "outputs": [],
   "source": [
    "run_isc('../data/byintensity/ii_t_hi.csv', '../data/byintensity/ii_c_full.csv', 'ind_inc_deflated', 'hi', 10)\n",
    "run_isc('../data/byintensity/ii_t_mhi.csv', '../data/byintensity/ii_c_full.csv', 'ind_inc_deflated', 'mhi', 10)\n",
    "run_isc('../data/byintensity/ii_t_mli.csv', '../data/byintensity/ii_c_full.csv', 'ind_inc_deflated', 'mli', 10)\n",
    "run_isc('../data/byintensity/ii_t_li.csv', '../data/byintensity/ii_c_full.csv', 'ind_inc_deflated', 'li', 10)\n",
    "\n",
    "run_isc('../data/byintensity/hhi_t_hi.csv', '../data/byintensity/hhi_c_full.csv', 'hh_inc_deflated', 'hi', 10)\n",
    "run_isc('../data/byintensity/hhi_t_mhi.csv', '../data/byintensity/hhi_c_full.csv', 'hh_inc_deflated', 'mhi', 10)\n",
    "run_isc('../data/byintensity/hhi_t_mli.csv', '../data/byintensity/hhi_c_full.csv', 'hh_inc_deflated', 'mli', 10)\n",
    "run_isc('../data/byintensity/hhi_t_li.csv', '../data/byintensity/hhi_c_full.csv', 'hh_inc_deflated', 'li', 10)\n",
    "\n",
    "run_isc('../data/byintensity/is_t_hi.csv', '../data/byintensity/is_c_full.csv', 'inc_share', 'hi', 10)\n",
    "run_isc('../data/byintensity/is_t_mhi.csv', '../data/byintensity/is_c_full.csv', 'inc_share', 'mhi', 10)\n",
    "run_isc('../data/byintensity/is_t_mli.csv', '../data/byintensity/is_c_full.csv', 'inc_share', 'mli', 10)\n",
    "run_isc('../data/byintensity/is_t_li.csv', '../data/byintensity/is_c_full.csv', 'inc_share', 'li', 10)"
   ]
  },
  {
   "cell_type": "code",
   "execution_count": null,
   "metadata": {},
   "outputs": [],
   "source": [
    "import os\n",
    "\n",
    "directory_path = \"./sub_strata/\"\n",
    "files = os.listdir(directory_path)\n",
    "for file in files:\n",
    "    if \"_t_\" in file:\n",
    "        shards = file.split(\"_\")\n",
    "        file_name_c = f'{shards[0]}_c_full_{shards[3]}'\n",
    "        run_isc(f'{directory_path}{file}', f'{directory_path}{file_name_c}', f'{shards[0]}', f'{shards[2]}_{shards[3]}')"
   ]
  },
  {
   "cell_type": "code",
   "execution_count": null,
   "id": "87f54814",
   "metadata": {},
   "outputs": [],
   "source": []
  }
 ],
 "metadata": {
  "kernelspec": {
   "display_name": "Python 3 (ipykernel)",
   "language": "python",
   "name": "python3"
  },
  "language_info": {
   "codemirror_mode": {
    "name": "ipython",
    "version": 3
   },
   "file_extension": ".py",
   "mimetype": "text/x-python",
   "name": "python",
   "nbconvert_exporter": "python",
   "pygments_lexer": "ipython3",
   "version": "3.12.3"
  }
 },
 "nbformat": 4,
 "nbformat_minor": 5
}

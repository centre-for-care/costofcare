{
 "cells": [
  {
   "cell_type": "markdown",
   "id": "10b568fc-0f19-4b44-b6bf-e265bb053906",
   "metadata": {},
   "source": [
    "# Final analysis"
   ]
  },
  {
   "cell_type": "markdown",
   "id": "4d8c4989-8ab8-493b-a2a5-2fe11ebef148",
   "metadata": {},
   "source": [
    "This notebook contains the final form of our analysis as well as the final form of the data cleaning process."
   ]
  },
  {
   "cell_type": "code",
   "execution_count": 1,
   "id": "39c858e6-2301-46a1-8830-6c2fa37b7465",
   "metadata": {
    "tags": []
   },
   "outputs": [],
   "source": [
    "from utils import *\n",
    "from sklearn.linear_model import LogisticRegression\n",
    "from os import listdir\n",
    "from pathlib import Path"
   ]
  },
  {
   "cell_type": "code",
   "execution_count": 2,
   "id": "c749e359-ddeb-4208-98df-abce68ea5a28",
   "metadata": {
    "tags": []
   },
   "outputs": [],
   "source": [
    "path = r'/home/daniel/code/costofcare/data/bhp_ukhls_data_stata/UKDA-6614-stata/stata/ukhls'\n",
    "my_colnames = [\n",
    "                'hidp',\n",
    "                'sex',\n",
    "                'jbnssec_dv',\n",
    "                'jbnssec8_dv',\n",
    "                'fimnlabgrs_dv',\n",
    "                'jbstat',\n",
    "                'jbhrs',\n",
    "                'jbft_dv',\n",
    "                'ethn_dv',\n",
    "                'dvage',\n",
    "                'mastat_dv',\n",
    "                'country',\n",
    "                'aidhh',\n",
    "                'aidhrs',\n",
    "                'aidxhh',\n",
    "                'paygu_dv',\n",
    "                'qfhigh',\n",
    "                'qfhigh_dv',\n",
    "                'istrtdatm',\n",
    "                'istrtdaty',\n",
    "                'month',\n",
    "                'indscus_xw',\n",
    "                'indinus_lw',\n",
    "                'indinub_lw',\n",
    "                'indinui_lw'\n",
    "]"
   ]
  },
  {
   "cell_type": "code",
   "execution_count": 3,
   "id": "082039f9-e5db-48e4-ba08-19695b31a2d4",
   "metadata": {
    "tags": []
   },
   "outputs": [
    {
     "name": "stderr",
     "output_type": "stream",
     "text": [
      "/home/daniel/code/costofcare/src/utils.py:51: SettingWithCopyWarning: \n",
      "A value is trying to be set on a copy of a slice from a DataFrame.\n",
      "Try using .loc[row_indexer,col_indexer] = value instead\n",
      "\n",
      "See the caveats in the documentation: https://pandas.pydata.org/pandas-docs/stable/user_guide/indexing.html#returning-a-view-versus-a-copy\n",
      "  df['wave'] = i+1\n"
     ]
    }
   ],
   "source": [
    "data = load_data(path, my_colnames)"
   ]
  },
  {
   "cell_type": "code",
   "execution_count": 4,
   "id": "981cfe78-1dd4-4ea2-a9da-5b664a2c28ef",
   "metadata": {
    "tags": []
   },
   "outputs": [],
   "source": [
    "path = r'/home/daniel/code/costofcare/data/bhp_ukhls_data_stata/UKDA-6614-stata/stata/ukhls'\n",
    "my_colnames = ['hidp', 'fihhmngrs_dv']\n",
    "data_h = load_data_h(path, my_colnames)"
   ]
  },
  {
   "cell_type": "code",
   "execution_count": 5,
   "id": "0afa2893-5014-41fd-9216-24f1e23bec16",
   "metadata": {
    "tags": []
   },
   "outputs": [],
   "source": [
    "data = pd.merge(data, data_h, on=['hidp', 'wave'])"
   ]
  },
  {
   "cell_type": "code",
   "execution_count": 6,
   "id": "062e2fb8-419d-4bfb-9c9b-820107b5053e",
   "metadata": {
    "tags": []
   },
   "outputs": [
    {
     "name": "stderr",
     "output_type": "stream",
     "text": [
      "/home/daniel/code/costofcare/src/utils.py:448: SettingWithCopyWarning: \n",
      "A value is trying to be set on a copy of a slice from a DataFrame\n",
      "\n",
      "See the caveats in the documentation: https://pandas.pydata.org/pandas-docs/stable/user_guide/indexing.html#returning-a-view-versus-a-copy\n",
      "  data['jbhrs_clean'][data.jbhrs_clean < 1] = np.nan\n"
     ]
    }
   ],
   "source": [
    "cpih = pd.read_csv('../data/cpih_uk_88_23.csv')\n",
    "data_clean = recoding_and_cleaning(data, cpih)"
   ]
  },
  {
   "cell_type": "code",
   "execution_count": 7,
   "id": "da9d45ee",
   "metadata": {},
   "outputs": [
    {
     "data": {
      "text/plain": [
       "<Axes: >"
      ]
     },
     "execution_count": 7,
     "metadata": {},
     "output_type": "execute_result"
    },
    {
     "data": {
      "image/png": "[encoded data removed]",
      "text/plain": [
       "<Figure size 640x480 with 1 Axes>"
      ]
     },
     "metadata": {},
     "output_type": "display_data"
    }
   ],
   "source": [
    "data_clean.ind_inc_deflated.hist()"
   ]
  },
  {
   "cell_type": "code",
   "execution_count": 8,
   "id": "ebb69396-809a-4e4d-8899-1f8e9cef197a",
   "metadata": {
    "tags": []
   },
   "outputs": [],
   "source": [
    "data_clean['treated'] = data_clean['aidhrs_recoded_3'].transform(pd.notnull)\n",
    "data_clean['control'] = data_clean['aidhrs'] == 'inapplicable'\n",
    "data_clean['ever_treated'] = data_clean.groupby('pidp')['treated'].transform(any).values"
   ]
  },
  {
   "cell_type": "code",
   "execution_count": 9,
   "id": "dcf7d515-1ae1-4626-afa8-25f604471605",
   "metadata": {
    "tags": []
   },
   "outputs": [],
   "source": [
    "data_clean['edu_3'] = data_clean.edu_3.replace({1.0: 'low', 2.0:'middle', 3.0:'high'})"
   ]
  },
  {
   "cell_type": "code",
   "execution_count": 10,
   "id": "1c407d70-79dd-468e-a4eb-05af1b90c042",
   "metadata": {
    "tags": []
   },
   "outputs": [
    {
     "data": {
      "text/plain": [
       "employed\n",
       "employed        276897\n",
       "unemployed      223525\n",
       "inapplicable         1\n",
       "Name: count, dtype: int64"
      ]
     },
     "execution_count": 10,
     "metadata": {},
     "output_type": "execute_result"
    }
   ],
   "source": [
    "data_clean.employed.value_counts()"
   ]
  },
  {
   "cell_type": "code",
   "execution_count": 11,
   "id": "8e524951-f693-400f-994b-03a349f77c75",
   "metadata": {
    "tags": []
   },
   "outputs": [],
   "source": [
    "dummies = pd.get_dummies(data_clean.ethn_5)\n",
    "edu_dumm = pd.get_dummies(data_clean.edu_3)\n",
    "data_final = pd.concat([data_clean, dummies, edu_dumm], axis=1)"
   ]
  },
  {
   "cell_type": "code",
   "execution_count": 12,
   "id": "94e7770d-33ca-49d7-a360-fc0479c6d68a",
   "metadata": {
    "tags": []
   },
   "outputs": [],
   "source": [
    "data_final['inc_share'] = (data_final['ind_inc_deflated'] / data_final['hh_inc_deflated']) * 100"
   ]
  },
  {
   "cell_type": "code",
   "execution_count": 13,
   "id": "3a1eedee-8c2a-47f1-906a-3eb698c34b89",
   "metadata": {
    "tags": []
   },
   "outputs": [],
   "source": [
    "data_final.loc[data_final['inc_share'] > 100, 'inc_share'] = np.nan"
   ]
  },
  {
   "cell_type": "markdown",
   "id": "a6932ec5",
   "metadata": {},
   "source": [
    "### Prob of employment calculation"
   ]
  },
  {
   "cell_type": "code",
   "execution_count": 14,
   "id": "74065e77",
   "metadata": {},
   "outputs": [
    {
     "data": {
      "text/plain": [
       "<Axes: >"
      ]
     },
     "execution_count": 14,
     "metadata": {},
     "output_type": "execute_result"
    },
    {
     "data": {
      "image/png": "[encoded data removed]",
      "text/plain": [
       "<Figure size 640x480 with 1 Axes>"
      ]
     },
     "metadata": {},
     "output_type": "display_data"
    }
   ],
   "source": [
    "df = data_final.copy()\n",
    "df['employed'] = df.employed.replace({\"inapplicable\": np.nan,\n",
    "                                     'employed': 1,\n",
    "                                     'unemployed': 0})\n",
    "years = df.year.dropna().unique()\n",
    "out = df[['pidp', 'year']]\n",
    "for year in years:\n",
    "    df_year = df[df.year==year][['pidp', 'year', 'employed', 'treated', 'dvage', 'sex_recoded', 'asian', 'black', 'mixed', 'other', 'high', 'middle', 'mastat_recoded']].dropna()\n",
    "    y_year = df_year['employed']\n",
    "    X_year = df_year[['treated', 'dvage', 'sex_recoded', 'asian', 'black', 'mixed', 'other', 'high', 'middle', 'mastat_recoded']]\n",
    "    clf = LogisticRegression(random_state=0, max_iter=1000).fit(X_year, y_year)\n",
    "    df_year['prob_employed'] = [x[1] for x in clf.predict_proba(X_year)]\n",
    "    out = out.merge(df_year[['pidp', 'year', 'prob_employed']], on=['pidp', 'year'], how='outer', suffixes=(None, year))\n",
    "out['prob_emp'] = out.iloc[:, 2:].sum(axis=1)\n",
    "out = out[['pidp', 'year', 'prob_emp']]\n",
    "out.prob_emp.hist()"
   ]
  },
  {
   "cell_type": "code",
   "execution_count": 15,
   "id": "66913c42",
   "metadata": {},
   "outputs": [],
   "source": [
    "data_final = data_final.merge(out, on=['pidp', 'year']).copy()\n",
    "treated_f = data_final[data_final.ever_treated].copy()\n",
    "control_f = data_final[~data_final.ever_treated].copy()"
   ]
  },
  {
   "cell_type": "code",
   "execution_count": 16,
   "id": "ef2beba8",
   "metadata": {},
   "outputs": [
    {
     "name": "stdout",
     "output_type": "stream",
     "text": [
      "set()\n",
      "False\n"
     ]
    }
   ],
   "source": [
    "print(set(control_f.pidp.unique()) & set(treated_f.pidp.unique()))\n",
    "common_elements = [item for item in control_f.pidp.unique() if item in treated_f.pidp.unique()]\n",
    "print(any(common_elements))"
   ]
  },
  {
   "cell_type": "code",
   "execution_count": 17,
   "id": "3cec96ee",
   "metadata": {},
   "outputs": [],
   "source": [
    "treated_f.to_csv('../data/treated_cases.csv')\n",
    "control_f.to_csv('../data/control_cases.csv')"
   ]
  },
  {
   "cell_type": "code",
   "execution_count": 17,
   "id": "023c58ec-1b6e-4cfe-b8aa-1907e129b899",
   "metadata": {
    "tags": []
   },
   "outputs": [],
   "source": [
    "conds = {\n",
    "    'employed': False,\n",
    "    'dropna': True,\n",
    "    'target_var': 'ind_inc_deflated',\n",
    "    'min_treat_waves': 1,\n",
    "    'min_waves_pretreat': 3\n",
    "}\n",
    "treated_ii, control_ii = isc_data_preparation(data_final, conds)\n",
    "treated_ii.to_csv('../data/strata/ii_t_full.csv')\n",
    "control_ii.to_csv('../data/strata/ii_c_full.csv')"
   ]
  },
  {
   "cell_type": "code",
   "execution_count": 22,
   "id": "97eaab7e",
   "metadata": {},
   "outputs": [],
   "source": [
    "conds = {\n",
    "    'employed': False,\n",
    "    'dropna': True,\n",
    "    'target_var': 'hh_inc_deflated',\n",
    "    'min_treat_waves': 1,\n",
    "    'min_waves_pretreat': 3\n",
    "}\n",
    "treated_hhi, control_hhi = isc_data_preparation(data_final, conds)\n",
    "treated_hhi.to_csv('../data/strata/hhi_t_full.csv')\n",
    "control_hhi.to_csv('../data/strata/hhi_c_full.csv')"
   ]
  },
  {
   "cell_type": "code",
   "execution_count": 18,
   "id": "ede7b8b5",
   "metadata": {},
   "outputs": [],
   "source": [
    "conds = {\n",
    "    'employed': False,\n",
    "    'dropna': True,\n",
    "    'target_var': 'inc_share',\n",
    "    'min_treat_waves': 1,\n",
    "    'min_waves_pretreat': 3\n",
    "}\n",
    "treated_is, control_is = isc_data_preparation(data_final, conds)\n",
    "treated_is.to_csv('../data/strata/is_t_full.csv')\n",
    "control_is.to_csv('../data/strata/is_c_full.csv')"
   ]
  },
  {
   "cell_type": "code",
   "execution_count": null,
   "id": "d40ffb42",
   "metadata": {},
   "outputs": [],
   "source": [
    "conds = {\n",
    "    'employed': False,\n",
    "    'dropna': True,\n",
    "    'target_var': 'prob_emp',\n",
    "    'min_treat_waves': 1,\n",
    "    'min_waves_pretreat': 3\n",
    "}\n",
    "treated_pe, control_pe = isc_data_preparation(data_final, conds)\n",
    "treated_pe.to_csv('../data/strata/pe_t_full.csv')\n",
    "control_pe.to_csv('../data/strata/pe_c_full.csv')"
   ]
  },
  {
   "cell_type": "code",
   "execution_count": 19,
   "metadata": {},
   "outputs": [],
   "source": [
    "def get_intensity_4(t_df, outname):\n",
    "    dummies = pd.get_dummies(t_df.aidhrs_recoded_4)\n",
    "    treated_d = pd.concat([t_df, dummies], axis=1)\n",
    "    idx = treated_d[treated_d.year == treated_d.year_treated]\n",
    "    idxl = idx[idx['0-4']==1].pidp\n",
    "    idxml = idx[idx['5-19']==1].pidp\n",
    "    idxmh = idx[idx['20-49']==1].pidp\n",
    "    idxh = idx[idx['50+']==1].pidp\n",
    "    treated_d[treated_d.pidp.isin(idxl)].to_csv(f'../data/strata/{outname}_li.csv')\n",
    "    treated_d[treated_d.pidp.isin(idxml)].to_csv(f'../data/strata/{outname}_mli.csv')\n",
    "    treated_d[treated_d.pidp.isin(idxmh)].to_csv(f'../data/strata/{outname}_mhi.csv')\n",
    "    treated_d[treated_d.pidp.isin(idxh)].to_csv(f'../data/strata/{outname}_hi.csv')\n",
    "    return"
   ]
  },
  {
   "cell_type": "code",
   "execution_count": 20,
   "id": "4da50263",
   "metadata": {},
   "outputs": [],
   "source": [
    "def get_intensity_2(t_df, outname):\n",
    "    dummies = pd.get_dummies(t_df.aidhrs_recoded_4)\n",
    "    treated_d = pd.concat([t_df, dummies], axis=1)\n",
    "    idx = treated_d[treated_d.year == treated_d.year_treated]\n",
    "    idxl = idx[idx['0-4']==1].pidp\n",
    "    idxml = idx[idx['5-19']==1].pidp\n",
    "    idxmh = idx[idx['20-49']==1].pidp\n",
    "    idxh = idx[idx['50+']==1].pidp\n",
    "    treated_d[treated_d.pidp.isin(idxl) | treated_d.pidp.isin(idxml)].to_csv(f'../data/strata/{outname}_low.csv')\n",
    "    treated_d[treated_d.pidp.isin(idxh) | treated_d.pidp.isin(idxmh)].to_csv(f'../data/strata/{outname}_high.csv')\n",
    "    return"
   ]
  },
  {
   "cell_type": "code",
   "execution_count": 23,
   "id": "3365dfb6",
   "metadata": {},
   "outputs": [
    {
     "name": "stderr",
     "output_type": "stream",
     "text": [
      "/tmp/ipykernel_5938/1489806817.py:4: DtypeWarning: Columns (6) have mixed types. Specify dtype option on import or set low_memory=False.\n",
      "  treated_hhi = pd.read_csv('../data/strata/hhi_t_full.csv')\n"
     ]
    }
   ],
   "source": [
    "treated_ii = pd.read_csv('../data/strata/ii_t_full.csv')\n",
    "get_intensity_4(treated_ii, 'ii_t')\n",
    "\n",
    "treated_hhi = pd.read_csv('../data/strata/hhi_t_full.csv')\n",
    "get_intensity_4(treated_hhi, 'hhi_t')\n",
    "\n",
    "treated_is = pd.read_csv('../data/strata/is_t_full.csv')\n",
    "get_intensity_4(treated_is, 'is_t')"
   ]
  },
  {
   "cell_type": "code",
   "execution_count": 25,
   "id": "a8422b59",
   "metadata": {},
   "outputs": [],
   "source": [
    "treated_ii = pd.read_csv('../data/strata/ii_t_full.csv')\n",
    "get_intensity_2(treated_ii, 'ii_t')"
   ]
  },
  {
   "cell_type": "code",
   "execution_count": null,
   "id": "9604f8e9",
   "metadata": {},
   "outputs": [],
   "source": [
    "treated_ii_3 = pd.read_csv('./strata/ii_t_full_3.csv')\n",
    "get_intensity_4(treated_ii_3, 'ii_t_3')"
   ]
  },
  {
   "cell_type": "markdown",
   "id": "8c078e72",
   "metadata": {},
   "source": [
    "## Stratification"
   ]
  },
  {
   "cell_type": "code",
   "execution_count": 24,
   "id": "afb74999",
   "metadata": {},
   "outputs": [],
   "source": [
    "def get_strata(data_folder_path, out_folder):\n",
    "    for filename in listdir(data_folder_path):\n",
    "        pre_fix = Path(filename).stem\n",
    "\n",
    "        data = pd.read_csv(f'{data_folder_path}/{filename}')\n",
    "    \n",
    "        data[data.sex=='female'].to_csv(f'{out_folder}/{pre_fix}_f.csv')\n",
    "        data[data.sex=='male'].to_csv(f'{out_folder}/{pre_fix}_m.csv')\n",
    "\n",
    "        data[data.ethn_5=='white'].to_csv(f'{out_folder}/{pre_fix}_w.csv')\n",
    "        data[data.ethn_5!='white'].to_csv(f'{out_folder}/{pre_fix}_nw.csv')\n",
    "\n",
    "        data[data.ethn_5=='white'].to_csv(f'{out_folder}/{pre_fix}_w.csv')\n",
    "        data[data.ethn_5!='white'].to_csv(f'{out_folder}/{pre_fix}_nw.csv')\n",
    "\n",
    "        data[data.edu_3=='low'].to_csv(f'{out_folder}/{pre_fix}_edl.csv')\n",
    "        data[data.edu_3=='middle'].to_csv(f'{out_folder}/{pre_fix}_edm.csv')\n",
    "        data[data.edu_3=='high'].to_csv(f'{out_folder}/{pre_fix}_edh.csv')\n",
    "\n",
    "        data[data.mastat_recoded==1].to_csv(f'{out_folder}/{pre_fix}_mar.csv')\n",
    "        data[data.mastat_recoded==0].to_csv(f'{out_folder}/{pre_fix}_sin.csv')\n",
    "    return"
   ]
  },
  {
   "cell_type": "code",
   "execution_count": 25,
   "metadata": {},
   "outputs": [
    {
     "name": "stderr",
     "output_type": "stream",
     "text": [
      "/tmp/ipykernel_5938/3268863529.py:5: DtypeWarning: Columns (6) have mixed types. Specify dtype option on import or set low_memory=False.\n",
      "  data = pd.read_csv(f'{data_folder_path}/{filename}')\n",
      "/tmp/ipykernel_5938/3268863529.py:5: DtypeWarning: Columns (6) have mixed types. Specify dtype option on import or set low_memory=False.\n",
      "  data = pd.read_csv(f'{data_folder_path}/{filename}')\n",
      "/tmp/ipykernel_5938/3268863529.py:5: DtypeWarning: Columns (7) have mixed types. Specify dtype option on import or set low_memory=False.\n",
      "  data = pd.read_csv(f'{data_folder_path}/{filename}')\n"
     ]
    }
   ],
   "source": [
    "get_strata('/home/daniel/code/costofcare/data/strata', '../data/sub_strata')"
   ]
  },
  {
   "cell_type": "code",
   "execution_count": 26,
   "metadata": {},
   "outputs": [
    {
     "name": "stderr",
     "output_type": "stream",
     "text": [
      "/tmp/ipykernel_5938/3802636666.py:9: DtypeWarning: Columns (7) have mixed types. Specify dtype option on import or set low_memory=False.\n",
      "  t_data = pd.read_csv(f'{directory_path}{file}', index_col=0)\n",
      "/tmp/ipykernel_5938/3802636666.py:10: DtypeWarning: Columns (7) have mixed types. Specify dtype option on import or set low_memory=False.\n",
      "  c_data = pd.read_csv(f'{directory_path}{file_name_c}', index_col=0)\n",
      "/tmp/ipykernel_5938/3802636666.py:9: DtypeWarning: Columns (7) have mixed types. Specify dtype option on import or set low_memory=False.\n",
      "  t_data = pd.read_csv(f'{directory_path}{file}', index_col=0)\n",
      "/tmp/ipykernel_5938/3802636666.py:10: DtypeWarning: Columns (7) have mixed types. Specify dtype option on import or set low_memory=False.\n",
      "  c_data = pd.read_csv(f'{directory_path}{file_name_c}', index_col=0)\n",
      "/tmp/ipykernel_5938/3802636666.py:9: DtypeWarning: Columns (7) have mixed types. Specify dtype option on import or set low_memory=False.\n",
      "  t_data = pd.read_csv(f'{directory_path}{file}', index_col=0)\n",
      "/tmp/ipykernel_5938/3802636666.py:10: DtypeWarning: Columns (7) have mixed types. Specify dtype option on import or set low_memory=False.\n",
      "  c_data = pd.read_csv(f'{directory_path}{file_name_c}', index_col=0)\n",
      "/tmp/ipykernel_5938/3802636666.py:9: DtypeWarning: Columns (7) have mixed types. Specify dtype option on import or set low_memory=False.\n",
      "  t_data = pd.read_csv(f'{directory_path}{file}', index_col=0)\n",
      "/tmp/ipykernel_5938/3802636666.py:9: DtypeWarning: Columns (7) have mixed types. Specify dtype option on import or set low_memory=False.\n",
      "  t_data = pd.read_csv(f'{directory_path}{file}', index_col=0)\n",
      "/tmp/ipykernel_5938/3802636666.py:9: DtypeWarning: Columns (8) have mixed types. Specify dtype option on import or set low_memory=False.\n",
      "  t_data = pd.read_csv(f'{directory_path}{file}', index_col=0)\n",
      "/tmp/ipykernel_5938/3802636666.py:10: DtypeWarning: Columns (7) have mixed types. Specify dtype option on import or set low_memory=False.\n",
      "  c_data = pd.read_csv(f'{directory_path}{file_name_c}', index_col=0)\n",
      "/tmp/ipykernel_5938/3802636666.py:9: DtypeWarning: Columns (8) have mixed types. Specify dtype option on import or set low_memory=False.\n",
      "  t_data = pd.read_csv(f'{directory_path}{file}', index_col=0)\n",
      "/tmp/ipykernel_5938/3802636666.py:10: DtypeWarning: Columns (7) have mixed types. Specify dtype option on import or set low_memory=False.\n",
      "  c_data = pd.read_csv(f'{directory_path}{file_name_c}', index_col=0)\n",
      "/tmp/ipykernel_5938/3802636666.py:9: DtypeWarning: Columns (8) have mixed types. Specify dtype option on import or set low_memory=False.\n",
      "  t_data = pd.read_csv(f'{directory_path}{file}', index_col=0)\n",
      "/tmp/ipykernel_5938/3802636666.py:10: DtypeWarning: Columns (7) have mixed types. Specify dtype option on import or set low_memory=False.\n",
      "  c_data = pd.read_csv(f'{directory_path}{file_name_c}', index_col=0)\n",
      "/tmp/ipykernel_5938/3802636666.py:9: DtypeWarning: Columns (8) have mixed types. Specify dtype option on import or set low_memory=False.\n",
      "  t_data = pd.read_csv(f'{directory_path}{file}', index_col=0)\n",
      "/tmp/ipykernel_5938/3802636666.py:9: DtypeWarning: Columns (8) have mixed types. Specify dtype option on import or set low_memory=False.\n",
      "  t_data = pd.read_csv(f'{directory_path}{file}', index_col=0)\n",
      "/tmp/ipykernel_5938/3802636666.py:10: DtypeWarning: Columns (7) have mixed types. Specify dtype option on import or set low_memory=False.\n",
      "  c_data = pd.read_csv(f'{directory_path}{file_name_c}', index_col=0)\n",
      "/tmp/ipykernel_5938/3802636666.py:10: DtypeWarning: Columns (7) have mixed types. Specify dtype option on import or set low_memory=False.\n",
      "  c_data = pd.read_csv(f'{directory_path}{file_name_c}', index_col=0)\n",
      "/tmp/ipykernel_5938/3802636666.py:10: DtypeWarning: Columns (7) have mixed types. Specify dtype option on import or set low_memory=False.\n",
      "  c_data = pd.read_csv(f'{directory_path}{file_name_c}', index_col=0)\n",
      "/tmp/ipykernel_5938/3802636666.py:10: DtypeWarning: Columns (7) have mixed types. Specify dtype option on import or set low_memory=False.\n",
      "  c_data = pd.read_csv(f'{directory_path}{file_name_c}', index_col=0)\n",
      "/tmp/ipykernel_5938/3802636666.py:10: DtypeWarning: Columns (7) have mixed types. Specify dtype option on import or set low_memory=False.\n",
      "  c_data = pd.read_csv(f'{directory_path}{file_name_c}', index_col=0)\n",
      "/tmp/ipykernel_5938/3802636666.py:10: DtypeWarning: Columns (7) have mixed types. Specify dtype option on import or set low_memory=False.\n",
      "  c_data = pd.read_csv(f'{directory_path}{file_name_c}', index_col=0)\n",
      "/tmp/ipykernel_5938/3802636666.py:10: DtypeWarning: Columns (7) have mixed types. Specify dtype option on import or set low_memory=False.\n",
      "  c_data = pd.read_csv(f'{directory_path}{file_name_c}', index_col=0)\n",
      "/tmp/ipykernel_5938/3802636666.py:10: DtypeWarning: Columns (7) have mixed types. Specify dtype option on import or set low_memory=False.\n",
      "  c_data = pd.read_csv(f'{directory_path}{file_name_c}', index_col=0)\n",
      "/tmp/ipykernel_5938/3802636666.py:10: DtypeWarning: Columns (7) have mixed types. Specify dtype option on import or set low_memory=False.\n",
      "  c_data = pd.read_csv(f'{directory_path}{file_name_c}', index_col=0)\n"
     ]
    }
   ],
   "source": [
    "import os\n",
    "\n",
    "directory_path = \"../data/sub_strata/\"\n",
    "files = os.listdir(directory_path)\n",
    "for file in files:\n",
    "    if \"_t_\" in file:\n",
    "        shards = file.split(\"_\")\n",
    "        file_name_c = f'{shards[0]}_c_full_{shards[3]}'\n",
    "        t_data = pd.read_csv(f'{directory_path}{file}', index_col=0)\n",
    "        c_data = pd.read_csv(f'{directory_path}{file_name_c}', index_col=0)\n",
    "        t_data['treatment_group'] = True\n",
    "        c_data['treatment_group'] = False\n",
    "        out = pd.concat([t_data, c_data])\n",
    "        out.to_csv(f'../data/full_strata/{shards[0]}_{shards[2]}_{shards[3]}')\n"
   ]
  }
 ],
 "metadata": {
  "kernelspec": {
   "display_name": "Python 3 (ipykernel)",
   "language": "python",
   "name": "python3"
  },
  "language_info": {
   "codemirror_mode": {
    "name": "ipython",
    "version": 3
   },
   "file_extension": ".py",
   "mimetype": "text/x-python",
   "name": "python",
   "nbconvert_exporter": "python",
   "pygments_lexer": "ipython3",
   "version": "3.12.2"
  }
 },
 "nbformat": 4,
 "nbformat_minor": 5
}

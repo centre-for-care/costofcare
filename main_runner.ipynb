{
 "cells": [
  {
   "cell_type": "code",
   "execution_count": 8,
   "id": "e52bc733-35b0-4663-a8f3-14cf13ff5b2d",
   "metadata": {
    "tags": []
   },
   "outputs": [],
   "source": [
    "import pandas as pd\n",
    "from utils import get_control_clean\n",
    "from utils import isc_b\n",
    "import math\n",
    "import pickle"
   ]
  },
  {
   "cell_type": "code",
   "execution_count": 9,
   "id": "d6bbd9cc-9eee-4651-a4f9-3c340900b6fe",
   "metadata": {
    "tags": []
   },
   "outputs": [],
   "source": [
    "def get_intertisial_data(clean_t, clean_c, target_var, out_suffix):\n",
    "    treated = pd.read_csv(clean_t, index_col=0)\n",
    "    controls = pd.read_csv(clean_c, index_col=0)\n",
    "    print(len(treated.pidp.unique()))\n",
    "    target_var = target_var\n",
    "    samples = get_control_clean(controls, treated,\n",
    "                                [target_var,\n",
    "                                'dvage',\n",
    "                                'mastat_recoded',\n",
    "                                'asian',\n",
    "                                'black',\n",
    "                                'mixed',\n",
    "                                'other',\n",
    "                                'low',\n",
    "                                'middle'],\n",
    "                                target_var,\n",
    "                                'weight_yearx')\n",
    "    with open(f'./outputs/{target_var}_{out_suffix}.pkl', 'wb') as file:\n",
    "        pickle.dump(samples, file)\n",
    "    return samples"
   ]
  },
  {
   "cell_type": "code",
   "execution_count": 10,
   "id": "15d05b0a",
   "metadata": {},
   "outputs": [],
   "source": [
    "def run_isc(clean_t, clean_c, target_var, out_suffix, k_n=35):\n",
    "    samples = get_intertisial_data(clean_t, clean_c, target_var, out_suffix)\n",
    "    out = isc_b(samples, penalized=False, custom_v='auto', reduction=True, k_n=k_n)\n",
    "\n",
    "    diffs = pd.concat(out['diffs'], axis=1).sort_index()\n",
    "    w_diffs = pd.concat(out['weighted_diff'], axis=1).sort_index()\n",
    "    treats = pd.concat(out['treats'], axis=1).sort_index()\n",
    "    synths = pd.concat(out['synths'], axis=1).sort_index()\n",
    "    diffs.to_csv(f'./outputs/diffs_{target_var}_{out_suffix}.csv')\n",
    "    w_diffs.to_csv(f'./outputs/w_diffs_{target_var}_{out_suffix}.csv')\n",
    "    treats.to_csv(f'./outputs/treats_{target_var}_{out_suffix}.csv')\n",
    "    synths.to_csv(f'./outputs/synths_{target_var}_{out_suffix}.csv')"
   ]
  },
  {
   "cell_type": "code",
   "execution_count": null,
   "id": "d2335ff3",
   "metadata": {},
   "outputs": [],
   "source": [
    "run_isc('./strata/ii_t_hi.csv', './strata/ii_c_full.csv', 'ind_inc_deflated', 'hi')\n",
    "run_isc('./strata/ii_t_li.csv', './strata/ii_c_full.csv', 'ind_inc_deflated', 'li')\n",
    "\n",
    "run_isc('./strata/hhi_t_hi.csv', './strata/hhi_c_full.csv', 'hh_inc_deflated', 'hi')\n",
    "run_isc('./strata/hhi_t_li.csv', './strata/hhi_c_full.csv', 'hh_inc_deflated', 'li')\n",
    "\n",
    "run_isc('./strata/is_t_hi.csv', './strata/is_c_full.csv', 'inc_share', 'hi')\n",
    "run_isc('./strata/is_t_li.csv', './strata/is_c_full.csv', 'inc_share', 'li')\n",
    "\n",
    "run_isc('./strata/pe_t_hi.csv', './strata/pe_c_full.csv', 'prob_emp', 'hi')\n",
    "run_isc('./strata/pe_t_li.csv', './strata/pe_c_full.csv', 'prob_emp', 'li')"
   ]
  },
  {
   "cell_type": "code",
   "execution_count": null,
   "id": "516a1b77",
   "metadata": {},
   "outputs": [],
   "source": [
    "target_var = 'ind_inc_deflated'\n",
    "prefix  = 'ii'\n",
    "run_isc(f'./strata/{prefix}_t_hi_m.csv', f'./strata/{prefix}_c_m.csv', target_var, 'hi_m')\n",
    "run_isc(f'./strata/{prefix}_t_hi_f.csv', f'./strata/{prefix}_c_f.csv', target_var, 'hi_f')\n",
    "\n",
    "run_isc(f'./strata/{prefix}_t_hi_w.csv', f'./strata/{prefix}_c_w.csv', target_var, 'hi_w')\n",
    "run_isc(f'./strata/{prefix}_t_hi_nw.csv', f'./strata/{prefix}_c_nw.csv', target_var, 'hi_nw')\n",
    "\n",
    "run_isc(f'./strata/{prefix}_t_hi_edl.csv', f'./strata/{prefix}_c_edl.csv', target_var, 'hi_edl')\n",
    "run_isc(f'./strata/{prefix}_t_hi_edm.csv', f'./strata/{prefix}_c_edm.csv', target_var, 'hi_edm')\n",
    "run_isc(f'./strata/{prefix}_t_hi_edh.csv', f'./strata/{prefix}_c_edh.csv', target_var, 'hi_edh')"
   ]
  },
  {
   "cell_type": "code",
   "execution_count": null,
   "id": "da66f58c",
   "metadata": {},
   "outputs": [],
   "source": [
    "target_var = 'hh_inc_deflated'\n",
    "prefix  = 'hhi'\n",
    "run_isc(f'./strata/{prefix}_t_hi_m.csv', f'./strata/{prefix}_c_m.csv', target_var, 'hi_m')\n",
    "run_isc(f'./strata/{prefix}_t_hi_f.csv', f'./strata/{prefix}_c_f.csv', target_var, 'hi_f')\n",
    "\n",
    "run_isc(f'./strata/{prefix}_t_hi_w.csv', f'./strata/{prefix}_c_w.csv', target_var, 'hi_w')\n",
    "run_isc(f'./strata/{prefix}_t_hi_nw.csv', f'./strata/{prefix}_c_nw.csv', target_var, 'hi_nw')\n",
    "\n",
    "run_isc(f'./strata/{prefix}_t_hi_edl.csv', f'./strata/{prefix}_c_edl.csv', target_var, 'hi_edl')\n",
    "run_isc(f'./strata/{prefix}_t_hi_edm.csv', f'./strata/{prefix}_c_edm.csv', target_var, 'hi_edm')\n",
    "run_isc(f'./strata/{prefix}_t_hi_edh.csv', f'./strata/{prefix}_c_edh.csv', target_var, 'hi_edh')"
   ]
  },
  {
   "cell_type": "code",
   "execution_count": null,
   "id": "a7286eb3",
   "metadata": {},
   "outputs": [],
   "source": [
    "target_var = 'inc_share'\n",
    "prefix  = 'is'\n",
    "run_isc(f'./strata/{prefix}_t_hi_m.csv', f'./strata/{prefix}_c_m.csv', target_var, 'hi_m')\n",
    "run_isc(f'./strata/{prefix}_t_hi_f.csv', f'./strata/{prefix}_c_f.csv', target_var, 'hi_f')\n",
    "\n",
    "run_isc(f'./strata/{prefix}_t_hi_w.csv', f'./strata/{prefix}_c_w.csv', target_var, 'hi_w')\n",
    "run_isc(f'./strata/{prefix}_t_hi_nw.csv', f'./strata/{prefix}_c_nw.csv', target_var, 'hi_nw')\n",
    "\n",
    "run_isc(f'./strata/{prefix}_t_hi_edl.csv', f'./strata/{prefix}_c_edl.csv', target_var, 'hi_edl')\n",
    "run_isc(f'./strata/{prefix}_t_hi_edm.csv', f'./strata/{prefix}_c_edm.csv', target_var, 'hi_edm')\n",
    "run_isc(f'./strata/{prefix}_t_hi_edh.csv', f'./strata/{prefix}_c_edh.csv', target_var, 'hi_edh')"
   ]
  },
  {
   "cell_type": "code",
   "execution_count": null,
   "id": "9d348afc",
   "metadata": {},
   "outputs": [],
   "source": [
    "target_var = 'prob_emp'\n",
    "prefix  = 'pe'\n",
    "run_isc(f'./strata/{prefix}_t_hi_m.csv', f'./strata/{prefix}_c_m.csv', target_var, 'hi_m')\n",
    "run_isc(f'./strata/{prefix}_t_hi_f.csv', f'./strata/{prefix}_c_f.csv', target_var, 'hi_f')\n",
    "\n",
    "run_isc(f'./strata/{prefix}_t_hi_w.csv', f'./strata/{prefix}_c_w.csv', target_var, 'hi_w')\n",
    "run_isc(f'./strata/{prefix}_t_hi_nw.csv', f'./strata/{prefix}_c_nw.csv', target_var, 'hi_nw')\n",
    "\n",
    "run_isc(f'./strata/{prefix}_t_hi_edl.csv', f'./strata/{prefix}_c_edl.csv', target_var, 'hi_edl')\n",
    "run_isc(f'./strata/{prefix}_t_hi_edm.csv', f'./strata/{prefix}_c_edm.csv', target_var, 'hi_edm')\n",
    "run_isc(f'./strata/{prefix}_t_hi_edh.csv', f'./strata/{prefix}_c_edh.csv', target_var, 'hi_edh')"
   ]
  },
  {
   "cell_type": "code",
   "execution_count": null,
   "id": "c21e8556",
   "metadata": {},
   "outputs": [],
   "source": [
    "with open('samples_fc.pkl', 'rb') as file:\n",
    "    samples_fc_load = pickle.load(file)"
   ]
  },
  {
   "cell_type": "code",
   "execution_count": null,
   "id": "72a4870a",
   "metadata": {},
   "outputs": [],
   "source": [
    "my_v = [.75, .75, .75, .4, .75, .75, .75, .75, .75]\n",
    "I = [1, 1, 1, 1, 1, 1, 1, 1, 1]"
   ]
  }
 ],
 "metadata": {
  "kernelspec": {
   "display_name": "Python 3 (ipykernel)",
   "language": "python",
   "name": "python3"
  },
  "language_info": {
   "codemirror_mode": {
    "name": "ipython",
    "version": 3
   },
   "file_extension": ".py",
   "mimetype": "text/x-python",
   "name": "python",
   "nbconvert_exporter": "python",
   "pygments_lexer": "ipython3",
   "version": "3.11.6"
  }
 },
 "nbformat": 4,
 "nbformat_minor": 5
}

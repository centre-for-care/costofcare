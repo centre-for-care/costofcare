{
 "cells": [
  {
   "cell_type": "markdown",
   "id": "10b568fc-0f19-4b44-b6bf-e265bb053906",
   "metadata": {},
   "source": [
    "# Final analysis"
   ]
  },
  {
   "cell_type": "markdown",
   "id": "4d8c4989-8ab8-493b-a2a5-2fe11ebef148",
   "metadata": {},
   "source": [
    "This notebook contains the final form of our analysis as well as the final form of the data cleaning process."
   ]
  },
  {
   "cell_type": "code",
   "execution_count": 1,
   "id": "39c858e6-2301-46a1-8830-6c2fa37b7465",
   "metadata": {
    "tags": []
   },
   "outputs": [],
   "source": [
    "from utils import *"
   ]
  },
  {
   "cell_type": "code",
   "execution_count": 2,
   "id": "c749e359-ddeb-4208-98df-abce68ea5a28",
   "metadata": {
    "tags": []
   },
   "outputs": [],
   "source": [
    "path = r'/home/daniel/code/costofcare/data/bhp_ukhls_data_stata/UKDA-6614-stata/stata/ukhls'\n",
    "my_colnames = [\n",
    "                'hidp',\n",
    "                'sex',\n",
    "                'jbnssec_dv',\n",
    "                'jbnssec8_dv',\n",
    "                'fimnlabgrs_dv',\n",
    "                'jbstat',\n",
    "                'jbhrs',\n",
    "                'jbft_dv',\n",
    "                'ethn_dv',\n",
    "                'dvage',\n",
    "                'mastat_dv',\n",
    "                'country',\n",
    "                'aidhh',\n",
    "                'aidhrs',\n",
    "                'aidxhh',\n",
    "                'paygu_dv',\n",
    "                'qfhigh',\n",
    "                'qfhigh_dv',\n",
    "                'istrtdatm',\n",
    "                'istrtdaty',\n",
    "                'month',\n",
    "                'indscus_xw',\n",
    "                'indinus_lw',\n",
    "                'indinub_lw',\n",
    "                'indinui_lw'\n",
    "]"
   ]
  },
  {
   "cell_type": "code",
   "execution_count": 3,
   "id": "082039f9-e5db-48e4-ba08-19695b31a2d4",
   "metadata": {
    "tags": []
   },
   "outputs": [
    {
     "name": "stderr",
     "output_type": "stream",
     "text": [
      "/home/daniel/code/costofcare/utils.py:46: SettingWithCopyWarning: \n",
      "A value is trying to be set on a copy of a slice from a DataFrame.\n",
      "Try using .loc[row_indexer,col_indexer] = value instead\n",
      "\n",
      "See the caveats in the documentation: https://pandas.pydata.org/pandas-docs/stable/user_guide/indexing.html#returning-a-view-versus-a-copy\n",
      "  df['wave'] = i+1\n"
     ]
    }
   ],
   "source": [
    "data = load_data(path, my_colnames)"
   ]
  },
  {
   "cell_type": "code",
   "execution_count": 4,
   "id": "981cfe78-1dd4-4ea2-a9da-5b664a2c28ef",
   "metadata": {
    "tags": []
   },
   "outputs": [],
   "source": [
    "path = r'/home/daniel/code/costofcare/data/bhp_ukhls_data_stata/UKDA-6614-stata/stata/ukhls'\n",
    "my_colnames = ['hidp', 'fihhmngrs_dv']\n",
    "data_h = load_data_h(path, my_colnames)"
   ]
  },
  {
   "cell_type": "code",
   "execution_count": 5,
   "id": "0afa2893-5014-41fd-9216-24f1e23bec16",
   "metadata": {
    "tags": []
   },
   "outputs": [],
   "source": [
    "data = pd.merge(data, data_h, on=['hidp', 'wave'])"
   ]
  },
  {
   "cell_type": "code",
   "execution_count": 6,
   "id": "062e2fb8-419d-4bfb-9c9b-820107b5053e",
   "metadata": {
    "tags": []
   },
   "outputs": [
    {
     "name": "stderr",
     "output_type": "stream",
     "text": [
      "/home/daniel/code/costofcare/utils.py:379: SettingWithCopyWarning: \n",
      "A value is trying to be set on a copy of a slice from a DataFrame\n",
      "\n",
      "See the caveats in the documentation: https://pandas.pydata.org/pandas-docs/stable/user_guide/indexing.html#returning-a-view-versus-a-copy\n",
      "  data['jbhrs_clean'][data.jbhrs_clean < 1] = np.nan\n"
     ]
    }
   ],
   "source": [
    "cpih = pd.read_csv('./cpih_uk_88_23.csv')\n",
    "data_clean = recoding_and_cleaning(data, cpih)"
   ]
  },
  {
   "cell_type": "code",
   "execution_count": 7,
   "id": "da9d45ee",
   "metadata": {},
   "outputs": [
    {
     "data": {
      "text/plain": [
       "<AxesSubplot: >"
      ]
     },
     "execution_count": 7,
     "metadata": {},
     "output_type": "execute_result"
    },
    {
     "data": {
      "image/png": "[encoded data removed]",
      "text/plain": [
       "<Figure size 640x480 with 1 Axes>"
      ]
     },
     "metadata": {},
     "output_type": "display_data"
    }
   ],
   "source": [
    "data_clean.ind_inc_deflated.hist()"
   ]
  },
  {
   "cell_type": "code",
   "execution_count": 8,
   "id": "ebb69396-809a-4e4d-8899-1f8e9cef197a",
   "metadata": {
    "tags": []
   },
   "outputs": [],
   "source": [
    "data_clean['treated'] = data_clean['aidhrs_recoded_3'].transform(pd.notnull)\n",
    "data_clean['control'] = data_clean['aidhrs'] == 'inapplicable'\n",
    "data_clean['ever_treated'] = data_clean.groupby('pidp')['treated'].transform(any).values\n",
    "data_clean.to_csv('data_clean.csv')"
   ]
  },
  {
   "cell_type": "code",
   "execution_count": 9,
   "id": "dcf7d515-1ae1-4626-afa8-25f604471605",
   "metadata": {
    "tags": []
   },
   "outputs": [],
   "source": [
    "data_clean['edu_3'] = data_clean.edu_3.replace({1.0: 'low', 2.0:'middle', 3.0:'high'})"
   ]
  },
  {
   "cell_type": "code",
   "execution_count": 10,
   "id": "1c407d70-79dd-468e-a4eb-05af1b90c042",
   "metadata": {
    "tags": []
   },
   "outputs": [
    {
     "data": {
      "text/plain": [
       "employed        276917\n",
       "unemployed      223528\n",
       "inapplicable         1\n",
       "Name: employed, dtype: int64"
      ]
     },
     "execution_count": 10,
     "metadata": {},
     "output_type": "execute_result"
    }
   ],
   "source": [
    "data_clean.employed.value_counts()"
   ]
  },
  {
   "cell_type": "code",
   "execution_count": 11,
   "id": "8e524951-f693-400f-994b-03a349f77c75",
   "metadata": {
    "tags": []
   },
   "outputs": [],
   "source": [
    "dummies = pd.get_dummies(data_clean.ethn_5)\n",
    "edu_dumm = pd.get_dummies(data_clean.edu_3)\n",
    "data_final = pd.concat([data_clean, dummies, edu_dumm], axis=1)"
   ]
  },
  {
   "cell_type": "code",
   "execution_count": 12,
   "id": "94e7770d-33ca-49d7-a360-fc0479c6d68a",
   "metadata": {
    "tags": []
   },
   "outputs": [],
   "source": [
    "data_final['inc_share'] = (data_final['ind_inc_deflated'] / data_final['hh_inc_deflated']) * 100"
   ]
  },
  {
   "cell_type": "code",
   "execution_count": 13,
   "id": "3a1eedee-8c2a-47f1-906a-3eb698c34b89",
   "metadata": {
    "tags": []
   },
   "outputs": [],
   "source": [
    "data_final.loc[data_final['inc_share'] > 100, 'inc_share'] = np.nan"
   ]
  },
  {
   "cell_type": "code",
   "execution_count": 13,
   "id": "023c58ec-1b6e-4cfe-b8aa-1907e129b899",
   "metadata": {
    "tags": []
   },
   "outputs": [],
   "source": [
    "conds = {\n",
    "    'employed': False,\n",
    "    'dropna': True,\n",
    "    'target_var': 'ind_inc_deflated',\n",
    "    'covariates': [],\n",
    "    'min_treat_waves': 1,\n",
    "    'min_waves_pretreat': 4\n",
    "}"
   ]
  },
  {
   "cell_type": "code",
   "execution_count": 15,
   "id": "d7ee9d3c-9427-47a5-a390-fd8aa7802822",
   "metadata": {
    "tags": []
   },
   "outputs": [],
   "source": [
    "treated_ii, control_ii = isc_data_preparation(data_final, conds)"
   ]
  },
  {
   "cell_type": "code",
   "execution_count": 16,
   "id": "b60293bf-6d75-4a65-aea7-1c53602fae67",
   "metadata": {
    "tags": []
   },
   "outputs": [],
   "source": [
    "treated_ii.to_csv('./strata/ii_t_full.csv')\n",
    "control_ii.to_csv('./strata/ii_c_full.csv')"
   ]
  },
  {
   "cell_type": "code",
   "execution_count": 17,
   "id": "3f5ca634-28ee-4733-9060-0302dd6a775e",
   "metadata": {},
   "outputs": [],
   "source": [
    "dummies = pd.get_dummies(treated_ii.aidhrs_recoded_3)\n",
    "treated_d = pd.concat([treated_ii, dummies], axis=1)\n",
    "idx = treated_d[treated_d.year == treated_d.year_treated]\n",
    "idxh = idx[idx['0-19']==0].pidp\n",
    "idxl = idx[idx['0-19']==1].pidp\n",
    "treated_d[treated_d.pidp.isin(idxh)].to_csv('./strata/ii_t_hi.csv')\n",
    "treated_d[treated_d.pidp.isin(idxl)].to_csv('./strata/ii_t_li.csv')"
   ]
  },
  {
   "cell_type": "markdown",
   "id": "8c078e72",
   "metadata": {},
   "source": [
    "## Stratification for high intensity carers only"
   ]
  },
  {
   "cell_type": "code",
   "execution_count": 18,
   "id": "36c9aec7",
   "metadata": {},
   "outputs": [],
   "source": [
    "ii_t_hi = pd.read_csv('./strata/ii_t_hi.csv')"
   ]
  },
  {
   "cell_type": "code",
   "execution_count": 19,
   "id": "949b52eb",
   "metadata": {},
   "outputs": [],
   "source": [
    "ii_t_hi[ii_t_hi.sex=='female'].to_csv('./strata/hibysex/ii_t_hi_f.csv')\n",
    "control_ii[control_ii.sex=='female'].to_csv('./strata/hibysex/ii_c_hi_f.csv')\n",
    "ii_t_hi[ii_t_hi.sex=='male'].to_csv('./strata/hibysex/ii_t_hi_m.csv')\n",
    "control_ii[control_ii.sex=='male'].to_csv('./strata/hibysex/ii_c_hi_m.csv')"
   ]
  },
  {
   "cell_type": "code",
   "execution_count": 22,
   "id": "4821983e",
   "metadata": {},
   "outputs": [],
   "source": [
    "ii_t_hi[ii_t_hi.ethn_5=='white'].to_csv('./strata/hibyeth/ii_t_hi_w.csv')\n",
    "control_ii[control_ii.ethn_5=='white'].to_csv('./strata/hibyeth/ii_c_hi_w.csv')\n",
    "ii_t_hi[ii_t_hi.ethn_5!='white'].to_csv('./strata/hibyeth/ii_t_hi_nw.csv')\n",
    "control_ii[control_ii.ethn_5!='white'].to_csv('./strata/hibyeth/ii_c_hi_nw.csv')"
   ]
  },
  {
   "cell_type": "code",
   "execution_count": 23,
   "id": "315f6109",
   "metadata": {},
   "outputs": [],
   "source": [
    "ii_t_hi[ii_t_hi.edu_3=='low'].to_csv('./strata/hibyedu/ii_t_hi_edl.csv')\n",
    "control_ii[control_ii.edu_3=='low'].to_csv('./strata/hibyedu/ii_c_hi_edl.csv')\n",
    "ii_t_hi[ii_t_hi.edu_3=='middle'].to_csv('./strata/hibyedu/ii_t_hi_edm.csv')\n",
    "control_ii[control_ii.edu_3=='middle'].to_csv('./strata/hibyedu/ii_c_hi_edm.csv')\n",
    "ii_t_hi[ii_t_hi.edu_3=='high'].to_csv('./strata/hibyedu/ii_t_hi_edh.csv')\n",
    "control_ii[control_ii.edu_3=='high'].to_csv('./strata/hibyedu/ii_c_hi_edh.csv')"
   ]
  },
  {
   "cell_type": "code",
   "execution_count": 24,
   "id": "8723e659",
   "metadata": {},
   "outputs": [],
   "source": [
    "ii_t_hi[ii_t_hi.mastat_recoded==1].to_csv('./strata/hibymar/ii_t_hi_mar.csv')\n",
    "control_ii[control_ii.mastat_recoded==1].to_csv('./strata/hibymar/ii_c_hi_mar.csv')\n",
    "ii_t_hi[ii_t_hi.mastat_recoded==0].to_csv('./strata/hibymar/ii_t_hi_sin.csv')\n",
    "control_ii[control_ii.mastat_recoded==0].to_csv('./strata/hibymar/ii_c_hi_sin.csv')"
   ]
  },
  {
   "cell_type": "markdown",
   "id": "1a4c5143",
   "metadata": {},
   "source": [
    "## Section creating probability of employment variable"
   ]
  },
  {
   "cell_type": "code",
   "execution_count": 14,
   "id": "842fd24f-5c68-4de3-b12a-53d9fab6ccc3",
   "metadata": {},
   "outputs": [],
   "source": [
    "df = data_final.copy()"
   ]
  },
  {
   "cell_type": "code",
   "execution_count": 15,
   "id": "48705d88-ef0b-46be-984e-409c13ed44e6",
   "metadata": {
    "tags": []
   },
   "outputs": [],
   "source": [
    "df['employed'] = df.employed.replace({\"inapplicable\": np.nan,\n",
    "                                     'employed': 1,\n",
    "                                     'unemployed': 0})"
   ]
  },
  {
   "cell_type": "code",
   "execution_count": 16,
   "id": "e2e7488f-abe4-4eec-8931-cdb96a9ebc97",
   "metadata": {
    "tags": []
   },
   "outputs": [],
   "source": [
    "df_year = df[df.year==2010][['pidp', 'year', 'employed', 'treated', 'dvage', 'sex_recoded', 'asian', 'black', 'mixed', 'other', 'high', 'middle', 'mastat_recoded']].dropna()\n",
    "y_year = df_year['employed']\n",
    "X_year = df_year[['treated', 'dvage', 'sex_recoded', 'asian', 'black', 'mixed', 'other', 'high', 'middle', 'mastat_recoded']]"
   ]
  },
  {
   "cell_type": "code",
   "execution_count": 17,
   "id": "6c8fc9b2-3294-42de-9d7e-e81234feafcd",
   "metadata": {
    "tags": []
   },
   "outputs": [],
   "source": [
    "from sklearn.linear_model import LogisticRegression\n",
    "clf = LogisticRegression(random_state=0, max_iter=1000).fit(X_year, y_year)"
   ]
  },
  {
   "cell_type": "code",
   "execution_count": 18,
   "id": "3bb61455-6803-43f5-8e09-d2102f3317ca",
   "metadata": {
    "tags": []
   },
   "outputs": [],
   "source": [
    "df_year['prob_employed'] = [x[1] for x in clf.predict_proba(X_year)]"
   ]
  },
  {
   "cell_type": "code",
   "execution_count": 19,
   "id": "4c6a8a69-fb4e-4061-8b37-5bfd755993d7",
   "metadata": {
    "tags": []
   },
   "outputs": [
    {
     "data": {
      "text/plain": [
       "0.6956160110899324"
      ]
     },
     "execution_count": 19,
     "metadata": {},
     "output_type": "execute_result"
    }
   ],
   "source": [
    "clf.score(X_year, y_year)"
   ]
  },
  {
   "cell_type": "code",
   "execution_count": 20,
   "id": "abc1fa45-95d4-4921-ae3e-b3646f089e5c",
   "metadata": {
    "tags": []
   },
   "outputs": [],
   "source": [
    "years = df.year.dropna().unique()"
   ]
  },
  {
   "cell_type": "code",
   "execution_count": 21,
   "id": "d18e98d6-ab00-43cd-8f88-1d3c94d0ac79",
   "metadata": {
    "tags": []
   },
   "outputs": [
    {
     "name": "stderr",
     "output_type": "stream",
     "text": [
      "/tmp/ipykernel_20233/1769520451.py:8: FutureWarning: Passing 'suffixes' which cause duplicate columns {'prob_employed_x'} in the result is deprecated and will raise a MergeError in a future version.\n",
      "  out = out.merge(df_year[['pidp', 'year', 'prob_employed']], on=['pidp', 'year'], how='outer')\n",
      "/tmp/ipykernel_20233/1769520451.py:8: FutureWarning: Passing 'suffixes' which cause duplicate columns {'prob_employed_x'} in the result is deprecated and will raise a MergeError in a future version.\n",
      "  out = out.merge(df_year[['pidp', 'year', 'prob_employed']], on=['pidp', 'year'], how='outer')\n",
      "/tmp/ipykernel_20233/1769520451.py:8: FutureWarning: Passing 'suffixes' which cause duplicate columns {'prob_employed_x'} in the result is deprecated and will raise a MergeError in a future version.\n",
      "  out = out.merge(df_year[['pidp', 'year', 'prob_employed']], on=['pidp', 'year'], how='outer')\n",
      "/tmp/ipykernel_20233/1769520451.py:8: FutureWarning: Passing 'suffixes' which cause duplicate columns {'prob_employed_x'} in the result is deprecated and will raise a MergeError in a future version.\n",
      "  out = out.merge(df_year[['pidp', 'year', 'prob_employed']], on=['pidp', 'year'], how='outer')\n",
      "/tmp/ipykernel_20233/1769520451.py:8: FutureWarning: Passing 'suffixes' which cause duplicate columns {'prob_employed_x'} in the result is deprecated and will raise a MergeError in a future version.\n",
      "  out = out.merge(df_year[['pidp', 'year', 'prob_employed']], on=['pidp', 'year'], how='outer')\n"
     ]
    }
   ],
   "source": [
    "out = df[['pidp', 'year']]\n",
    "for year in years:\n",
    "    df_year = df[df.year==year][['pidp', 'year', 'employed', 'treated', 'dvage', 'sex_recoded', 'asian', 'black', 'mixed', 'other', 'high', 'middle', 'mastat_recoded']].dropna()\n",
    "    y_year = df_year['employed']\n",
    "    X_year = df_year[['treated', 'dvage', 'sex_recoded', 'asian', 'black', 'mixed', 'other', 'high', 'middle', 'mastat_recoded']]\n",
    "    clf = LogisticRegression(random_state=0, max_iter=1000).fit(X_year, y_year)\n",
    "    df_year['prob_employed'] = [x[1] for x in clf.predict_proba(X_year)]\n",
    "    out = out.merge(df_year[['pidp', 'year', 'prob_employed']], on=['pidp', 'year'], how='outer')\n",
    "out['prob_emp'] = out.iloc[:, 2:].sum(axis=1)\n",
    "out = out[['pidp', 'year', 'prob_emp']]"
   ]
  },
  {
   "cell_type": "code",
   "execution_count": 22,
   "id": "a6f92613-72de-4055-9723-6434a4408a40",
   "metadata": {
    "tags": []
   },
   "outputs": [
    {
     "data": {
      "text/plain": [
       "<AxesSubplot: >"
      ]
     },
     "execution_count": 22,
     "metadata": {},
     "output_type": "execute_result"
    },
    {
     "data": {
      "image/png": "[encoded data removed]",
      "text/plain": [
       "<Figure size 640x480 with 1 Axes>"
      ]
     },
     "metadata": {},
     "output_type": "display_data"
    }
   ],
   "source": [
    "out.prob_emp.hist()"
   ]
  },
  {
   "cell_type": "code",
   "execution_count": 23,
   "id": "42d5ab07-dd9b-43a7-a415-ed846833bc45",
   "metadata": {
    "tags": []
   },
   "outputs": [],
   "source": [
    "data_final = data_final.merge(out, on=['pidp', 'year']).copy()"
   ]
  },
  {
   "cell_type": "code",
   "execution_count": 24,
   "id": "11c2bc3d-25a8-4b7b-96c0-f0b232b11079",
   "metadata": {
    "tags": []
   },
   "outputs": [],
   "source": [
    "data_final.to_csv('data_final.csv')\n",
    "treated_f = data_final[data_final.ever_treated].copy()\n",
    "control_f = data_final[~data_final.ever_treated].copy()"
   ]
  },
  {
   "cell_type": "code",
   "execution_count": 25,
   "id": "23296142",
   "metadata": {},
   "outputs": [
    {
     "data": {
      "text/plain": [
       "set()"
      ]
     },
     "execution_count": 25,
     "metadata": {},
     "output_type": "execute_result"
    }
   ],
   "source": [
    "set(control_f.pidp.unique()) & set(treated_f.pidp.unique())"
   ]
  },
  {
   "cell_type": "code",
   "execution_count": 26,
   "id": "d4606384",
   "metadata": {},
   "outputs": [
    {
     "data": {
      "text/plain": [
       "False"
      ]
     },
     "execution_count": 26,
     "metadata": {},
     "output_type": "execute_result"
    }
   ],
   "source": [
    "common_elements = [item for item in control_f.pidp.unique() if item in treated_f.pidp.unique()]\n",
    "any(common_elements)"
   ]
  },
  {
   "cell_type": "code",
   "execution_count": null,
   "id": "da1a9a5a",
   "metadata": {},
   "outputs": [],
   "source": [
    "treated_f.to_csv('treated_cases.csv')\n",
    "control_f.to_csv('control_cases.csv')"
   ]
  },
  {
   "cell_type": "code",
   "execution_count": 48,
   "id": "59ce5481-8c84-4f3f-bf83-13142e6e40ba",
   "metadata": {
    "tags": []
   },
   "outputs": [],
   "source": [
    "conds = {\n",
    "    'employed': False,\n",
    "    'dropna': True,\n",
    "    'target_var': 'inc_share',\n",
    "    'covariates': [],\n",
    "    'min_treat_waves': 1,\n",
    "    'min_waves_pretreat': 4\n",
    "}"
   ]
  },
  {
   "cell_type": "code",
   "execution_count": 49,
   "id": "98e4f318",
   "metadata": {},
   "outputs": [
    {
     "data": {
      "text/plain": [
       "Index(['pidp', 'hidp', 'sex', 'jbnssec_dv', 'jbnssec8_dv', 'fimnlabgrs_dv',\n",
       "       'jbstat', 'jbhrs', 'jbft_dv', 'ethn_dv', 'dvage', 'mastat_dv',\n",
       "       'country', 'aidhh', 'aidhrs', 'aidxhh', 'paygu_dv', 'qfhigh',\n",
       "       'qfhigh_dv', 'istrtdatm', 'istrtdaty', 'month', 'indscus_xw',\n",
       "       'indinus_lw', 'indinub_lw', 'indinui_lw', 'wave', 'max_waves',\n",
       "       'fihhmngrs_dv', 'sex_recoded', 'mastat_recoded', 'ethn_8', 'ethn_5',\n",
       "       'edu', 'edu_6', 'edu_3', 'month_recoded', 'month_for_date', 'year',\n",
       "       'weight_yearx', 'date', 'aidhh_recoded', 'aidxhh_recoded',\n",
       "       'aidhrs_recoded_3', 'jbstat_clean', 'employed', 'wage', 'cpih',\n",
       "       'jbhrs_clean', 'month_jbhrs', 'wage_h', 'ind_inc', 'ind_inc_deflated',\n",
       "       'wage_h_deflated', 'hh_inc', 'hh_inc_deflated', 'log_wage_h_deflated',\n",
       "       'treated', 'control', 'ever_treated', 'asian', 'black', 'mixed',\n",
       "       'other', 'white', 'high', 'low', 'middle', 'inc_share', 'prob_emp'],\n",
       "      dtype='object')"
      ]
     },
     "execution_count": 49,
     "metadata": {},
     "output_type": "execute_result"
    }
   ],
   "source": [
    "data_final.columns"
   ]
  },
  {
   "cell_type": "code",
   "execution_count": 50,
   "id": "e67b6a06-c1e8-4293-a6ec-518db5b95fce",
   "metadata": {
    "tags": []
   },
   "outputs": [],
   "source": [
    "treated_ii, control_ii = isc_data_preparation(data_final, conds)"
   ]
  },
  {
   "cell_type": "code",
   "execution_count": 51,
   "id": "44068bce",
   "metadata": {},
   "outputs": [
    {
     "data": {
      "text/html": [
       "<div>\n",
       "<style scoped>\n",
       "    .dataframe tbody tr th:only-of-type {\n",
       "        vertical-align: middle;\n",
       "    }\n",
       "\n",
       "    .dataframe tbody tr th {\n",
       "        vertical-align: top;\n",
       "    }\n",
       "\n",
       "    .dataframe thead th {\n",
       "        text-align: right;\n",
       "    }\n",
       "</style>\n",
       "<table border=\"1\" class=\"dataframe\">\n",
       "  <thead>\n",
       "    <tr style=\"text-align: right;\">\n",
       "      <th></th>\n",
       "      <th>pidp</th>\n",
       "      <th>year_treated</th>\n",
       "      <th>year</th>\n",
       "    </tr>\n",
       "  </thead>\n",
       "  <tbody>\n",
       "    <tr>\n",
       "      <th>149188</th>\n",
       "      <td>29925</td>\n",
       "      <td>2012.0</td>\n",
       "      <td>2012.0</td>\n",
       "    </tr>\n",
       "    <tr>\n",
       "      <th>237789</th>\n",
       "      <td>29925</td>\n",
       "      <td>2012.0</td>\n",
       "      <td>2014.0</td>\n",
       "    </tr>\n",
       "    <tr>\n",
       "      <th>280548</th>\n",
       "      <td>29925</td>\n",
       "      <td>2012.0</td>\n",
       "      <td>2015.0</td>\n",
       "    </tr>\n",
       "    <tr>\n",
       "      <th>320853</th>\n",
       "      <td>29925</td>\n",
       "      <td>2012.0</td>\n",
       "      <td>2016.0</td>\n",
       "    </tr>\n",
       "    <tr>\n",
       "      <th>358214</th>\n",
       "      <td>29925</td>\n",
       "      <td>2012.0</td>\n",
       "      <td>2017.0</td>\n",
       "    </tr>\n",
       "    <tr>\n",
       "      <th>392060</th>\n",
       "      <td>29925</td>\n",
       "      <td>2012.0</td>\n",
       "      <td>2018.0</td>\n",
       "    </tr>\n",
       "    <tr>\n",
       "      <th>424405</th>\n",
       "      <td>29925</td>\n",
       "      <td>2012.0</td>\n",
       "      <td>2019.0</td>\n",
       "    </tr>\n",
       "    <tr>\n",
       "      <th>454539</th>\n",
       "      <td>29925</td>\n",
       "      <td>2012.0</td>\n",
       "      <td>2020.0</td>\n",
       "    </tr>\n",
       "  </tbody>\n",
       "</table>\n",
       "</div>"
      ],
      "text/plain": [
       "         pidp  year_treated    year\n",
       "149188  29925        2012.0  2012.0\n",
       "237789  29925        2012.0  2014.0\n",
       "280548  29925        2012.0  2015.0\n",
       "320853  29925        2012.0  2016.0\n",
       "358214  29925        2012.0  2017.0\n",
       "392060  29925        2012.0  2018.0\n",
       "424405  29925        2012.0  2019.0\n",
       "454539  29925        2012.0  2020.0"
      ]
     },
     "execution_count": 51,
     "metadata": {},
     "output_type": "execute_result"
    }
   ],
   "source": [
    "control_ii[['pidp', 'year_treated', 'year']][control_ii.pidp==29925]"
   ]
  },
  {
   "cell_type": "code",
   "execution_count": 52,
   "id": "cb837a7c",
   "metadata": {},
   "outputs": [
    {
     "data": {
      "text/html": [
       "<div>\n",
       "<style scoped>\n",
       "    .dataframe tbody tr th:only-of-type {\n",
       "        vertical-align: middle;\n",
       "    }\n",
       "\n",
       "    .dataframe tbody tr th {\n",
       "        vertical-align: top;\n",
       "    }\n",
       "\n",
       "    .dataframe thead th {\n",
       "        text-align: right;\n",
       "    }\n",
       "</style>\n",
       "<table border=\"1\" class=\"dataframe\">\n",
       "  <thead>\n",
       "    <tr style=\"text-align: right;\">\n",
       "      <th></th>\n",
       "      <th>pidp</th>\n",
       "      <th>year_treated</th>\n",
       "      <th>year</th>\n",
       "      <th>treated</th>\n",
       "    </tr>\n",
       "  </thead>\n",
       "  <tbody>\n",
       "    <tr>\n",
       "      <th>149184</th>\n",
       "      <td>22445</td>\n",
       "      <td>2019.0</td>\n",
       "      <td>2012.0</td>\n",
       "      <td>False</td>\n",
       "    </tr>\n",
       "    <tr>\n",
       "      <th>194564</th>\n",
       "      <td>22445</td>\n",
       "      <td>2019.0</td>\n",
       "      <td>2013.0</td>\n",
       "      <td>False</td>\n",
       "    </tr>\n",
       "    <tr>\n",
       "      <th>280547</th>\n",
       "      <td>22445</td>\n",
       "      <td>2019.0</td>\n",
       "      <td>2015.0</td>\n",
       "      <td>False</td>\n",
       "    </tr>\n",
       "    <tr>\n",
       "      <th>320852</th>\n",
       "      <td>22445</td>\n",
       "      <td>2019.0</td>\n",
       "      <td>2016.0</td>\n",
       "      <td>False</td>\n",
       "    </tr>\n",
       "    <tr>\n",
       "      <th>358213</th>\n",
       "      <td>22445</td>\n",
       "      <td>2019.0</td>\n",
       "      <td>2017.0</td>\n",
       "      <td>False</td>\n",
       "    </tr>\n",
       "    <tr>\n",
       "      <th>392059</th>\n",
       "      <td>22445</td>\n",
       "      <td>2019.0</td>\n",
       "      <td>2018.0</td>\n",
       "      <td>False</td>\n",
       "    </tr>\n",
       "    <tr>\n",
       "      <th>424404</th>\n",
       "      <td>22445</td>\n",
       "      <td>2019.0</td>\n",
       "      <td>2019.0</td>\n",
       "      <td>True</td>\n",
       "    </tr>\n",
       "    <tr>\n",
       "      <th>454537</th>\n",
       "      <td>22445</td>\n",
       "      <td>2019.0</td>\n",
       "      <td>2020.0</td>\n",
       "      <td>False</td>\n",
       "    </tr>\n",
       "  </tbody>\n",
       "</table>\n",
       "</div>"
      ],
      "text/plain": [
       "         pidp  year_treated    year  treated\n",
       "149184  22445        2019.0  2012.0    False\n",
       "194564  22445        2019.0  2013.0    False\n",
       "280547  22445        2019.0  2015.0    False\n",
       "320852  22445        2019.0  2016.0    False\n",
       "358213  22445        2019.0  2017.0    False\n",
       "392059  22445        2019.0  2018.0    False\n",
       "424404  22445        2019.0  2019.0     True\n",
       "454537  22445        2019.0  2020.0    False"
      ]
     },
     "execution_count": 52,
     "metadata": {},
     "output_type": "execute_result"
    }
   ],
   "source": [
    "treated_ii[['pidp', 'year_treated', 'year', 'treated']][treated_ii.pidp==22445]"
   ]
  },
  {
   "cell_type": "code",
   "execution_count": 53,
   "id": "b9cfd082-0868-4e26-a55d-9bc043c8deb9",
   "metadata": {
    "tags": []
   },
   "outputs": [],
   "source": [
    "treated_ii.to_csv('./inc_share_t_full.csv')\n",
    "control_ii.to_csv('./inc_share_c_full.csv')"
   ]
  },
  {
   "cell_type": "code",
   "execution_count": 188,
   "id": "51df80c8-dcf5-4853-92f0-9c685f2540ea",
   "metadata": {
    "tags": []
   },
   "outputs": [],
   "source": [
    "dummies = pd.get_dummies(treated_ii.aidhrs_recoded_3)\n",
    "treated_d = pd.concat([treated_ii, dummies], axis=1)\n",
    "idx = treated_d[treated_d.year == treated_d.year_treated]\n",
    "idxh = idx[idx['0-19']==0].pidp\n",
    "idxl = idx[idx['0-19']==1].pidp\n",
    "treated_d[treated_d.pidp.isin(idxh)].to_csv('./strata/pe_t_hi.csv')\n",
    "treated_d[treated_d.pidp.isin(idxl)].to_csv('./strata/pe_t_li.csv')"
   ]
  }
 ],
 "metadata": {
  "kernelspec": {
   "display_name": "Python 3 (ipykernel)",
   "language": "python",
   "name": "python3"
  },
  "language_info": {
   "codemirror_mode": {
    "name": "ipython",
    "version": 3
   },
   "file_extension": ".py",
   "mimetype": "text/x-python",
   "name": "python",
   "nbconvert_exporter": "python",
   "pygments_lexer": "ipython3",
   "version": "3.11.6"
  }
 },
 "nbformat": 4,
 "nbformat_minor": 5
}

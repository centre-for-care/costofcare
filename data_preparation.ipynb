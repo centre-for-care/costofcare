{
 "cells": [
  {
   "cell_type": "markdown",
   "id": "10b568fc-0f19-4b44-b6bf-e265bb053906",
   "metadata": {},
   "source": [
    "# Final analysis"
   ]
  },
  {
   "cell_type": "markdown",
   "id": "4d8c4989-8ab8-493b-a2a5-2fe11ebef148",
   "metadata": {},
   "source": [
    "This notebook contains the final form of our analysis as well as the final form of the data cleaning process."
   ]
  },
  {
   "cell_type": "code",
   "execution_count": 1,
   "id": "39c858e6-2301-46a1-8830-6c2fa37b7465",
   "metadata": {
    "tags": []
   },
   "outputs": [],
   "source": [
    "from utils import *\n",
    "from sklearn.linear_model import LogisticRegression"
   ]
  },
  {
   "cell_type": "code",
   "execution_count": 2,
   "id": "c749e359-ddeb-4208-98df-abce68ea5a28",
   "metadata": {
    "tags": []
   },
   "outputs": [],
   "source": [
    "path = r'/home/daniel/code/costofcare/data/bhp_ukhls_data_stata/UKDA-6614-stata/stata/ukhls'\n",
    "my_colnames = [\n",
    "                'hidp',\n",
    "                'sex',\n",
    "                'jbnssec_dv',\n",
    "                'jbnssec8_dv',\n",
    "                'fimnlabgrs_dv',\n",
    "                'jbstat',\n",
    "                'jbhrs',\n",
    "                'jbft_dv',\n",
    "                'ethn_dv',\n",
    "                'dvage',\n",
    "                'mastat_dv',\n",
    "                'country',\n",
    "                'aidhh',\n",
    "                'aidhrs',\n",
    "                'aidxhh',\n",
    "                'paygu_dv',\n",
    "                'qfhigh',\n",
    "                'qfhigh_dv',\n",
    "                'istrtdatm',\n",
    "                'istrtdaty',\n",
    "                'month',\n",
    "                'indscus_xw',\n",
    "                'indinus_lw',\n",
    "                'indinub_lw',\n",
    "                'indinui_lw'\n",
    "]"
   ]
  },
  {
   "cell_type": "code",
   "execution_count": 3,
   "id": "082039f9-e5db-48e4-ba08-19695b31a2d4",
   "metadata": {
    "tags": []
   },
   "outputs": [
    {
     "name": "stderr",
     "output_type": "stream",
     "text": [
      "/home/daniel/code/costofcare/utils.py:46: SettingWithCopyWarning: \n",
      "A value is trying to be set on a copy of a slice from a DataFrame.\n",
      "Try using .loc[row_indexer,col_indexer] = value instead\n",
      "\n",
      "See the caveats in the documentation: https://pandas.pydata.org/pandas-docs/stable/user_guide/indexing.html#returning-a-view-versus-a-copy\n",
      "  df['wave'] = i+1\n"
     ]
    }
   ],
   "source": [
    "data = load_data(path, my_colnames)"
   ]
  },
  {
   "cell_type": "code",
   "execution_count": 4,
   "id": "981cfe78-1dd4-4ea2-a9da-5b664a2c28ef",
   "metadata": {
    "tags": []
   },
   "outputs": [],
   "source": [
    "path = r'/home/daniel/code/costofcare/data/bhp_ukhls_data_stata/UKDA-6614-stata/stata/ukhls'\n",
    "my_colnames = ['hidp', 'fihhmngrs_dv']\n",
    "data_h = load_data_h(path, my_colnames)"
   ]
  },
  {
   "cell_type": "code",
   "execution_count": 5,
   "id": "0afa2893-5014-41fd-9216-24f1e23bec16",
   "metadata": {
    "tags": []
   },
   "outputs": [],
   "source": [
    "data = pd.merge(data, data_h, on=['hidp', 'wave'])"
   ]
  },
  {
   "cell_type": "code",
   "execution_count": 6,
   "id": "062e2fb8-419d-4bfb-9c9b-820107b5053e",
   "metadata": {
    "tags": []
   },
   "outputs": [
    {
     "name": "stderr",
     "output_type": "stream",
     "text": [
      "/home/daniel/code/costofcare/utils.py:381: SettingWithCopyWarning: \n",
      "A value is trying to be set on a copy of a slice from a DataFrame\n",
      "\n",
      "See the caveats in the documentation: https://pandas.pydata.org/pandas-docs/stable/user_guide/indexing.html#returning-a-view-versus-a-copy\n",
      "  data['jbhrs_clean'][data.jbhrs_clean < 1] = np.nan\n"
     ]
    }
   ],
   "source": [
    "cpih = pd.read_csv('./data/cpih_uk_88_23.csv')\n",
    "data_clean = recoding_and_cleaning(data, cpih)"
   ]
  },
  {
   "cell_type": "code",
   "execution_count": 7,
   "id": "da9d45ee",
   "metadata": {},
   "outputs": [
    {
     "data": {
      "text/plain": [
       "<AxesSubplot: >"
      ]
     },
     "execution_count": 7,
     "metadata": {},
     "output_type": "execute_result"
    },
    {
     "data": {
      "image/png": "[encoded data removed]",
      "text/plain": [
       "<Figure size 640x480 with 1 Axes>"
      ]
     },
     "metadata": {},
     "output_type": "display_data"
    }
   ],
   "source": [
    "data_clean.ind_inc_deflated.hist()"
   ]
  },
  {
   "cell_type": "code",
   "execution_count": 8,
   "id": "ebb69396-809a-4e4d-8899-1f8e9cef197a",
   "metadata": {
    "tags": []
   },
   "outputs": [],
   "source": [
    "data_clean['treated'] = data_clean['aidhrs_recoded_3'].transform(pd.notnull)\n",
    "data_clean['control'] = data_clean['aidhrs'] == 'inapplicable'\n",
    "data_clean['ever_treated'] = data_clean.groupby('pidp')['treated'].transform(any).values"
   ]
  },
  {
   "cell_type": "code",
   "execution_count": 9,
   "id": "dcf7d515-1ae1-4626-afa8-25f604471605",
   "metadata": {
    "tags": []
   },
   "outputs": [],
   "source": [
    "data_clean['edu_3'] = data_clean.edu_3.replace({1.0: 'low', 2.0:'middle', 3.0:'high'})"
   ]
  },
  {
   "cell_type": "code",
   "execution_count": 10,
   "id": "1c407d70-79dd-468e-a4eb-05af1b90c042",
   "metadata": {
    "tags": []
   },
   "outputs": [
    {
     "data": {
      "text/plain": [
       "employed        276897\n",
       "unemployed      223525\n",
       "inapplicable         1\n",
       "Name: employed, dtype: int64"
      ]
     },
     "execution_count": 10,
     "metadata": {},
     "output_type": "execute_result"
    }
   ],
   "source": [
    "data_clean.employed.value_counts()"
   ]
  },
  {
   "cell_type": "code",
   "execution_count": 11,
   "id": "8e524951-f693-400f-994b-03a349f77c75",
   "metadata": {
    "tags": []
   },
   "outputs": [],
   "source": [
    "dummies = pd.get_dummies(data_clean.ethn_5)\n",
    "edu_dumm = pd.get_dummies(data_clean.edu_3)\n",
    "data_final = pd.concat([data_clean, dummies, edu_dumm], axis=1)"
   ]
  },
  {
   "cell_type": "code",
   "execution_count": 12,
   "id": "94e7770d-33ca-49d7-a360-fc0479c6d68a",
   "metadata": {
    "tags": []
   },
   "outputs": [],
   "source": [
    "data_final['inc_share'] = (data_final['ind_inc_deflated'] / data_final['hh_inc_deflated']) * 100"
   ]
  },
  {
   "cell_type": "code",
   "execution_count": 13,
   "id": "3a1eedee-8c2a-47f1-906a-3eb698c34b89",
   "metadata": {
    "tags": []
   },
   "outputs": [],
   "source": [
    "data_final.loc[data_final['inc_share'] > 100, 'inc_share'] = np.nan"
   ]
  },
  {
   "cell_type": "markdown",
   "id": "a6932ec5",
   "metadata": {},
   "source": [
    "### Prob of employment calculation"
   ]
  },
  {
   "cell_type": "code",
   "execution_count": 14,
   "id": "74065e77",
   "metadata": {},
   "outputs": [
    {
     "name": "stderr",
     "output_type": "stream",
     "text": [
      "/tmp/ipykernel_3330/1504701429.py:13: FutureWarning: Passing 'suffixes' which cause duplicate columns {'prob_employed_x'} in the result is deprecated and will raise a MergeError in a future version.\n",
      "  out = out.merge(df_year[['pidp', 'year', 'prob_employed']], on=['pidp', 'year'], how='outer')\n",
      "/tmp/ipykernel_3330/1504701429.py:13: FutureWarning: Passing 'suffixes' which cause duplicate columns {'prob_employed_x'} in the result is deprecated and will raise a MergeError in a future version.\n",
      "  out = out.merge(df_year[['pidp', 'year', 'prob_employed']], on=['pidp', 'year'], how='outer')\n",
      "/tmp/ipykernel_3330/1504701429.py:13: FutureWarning: Passing 'suffixes' which cause duplicate columns {'prob_employed_x'} in the result is deprecated and will raise a MergeError in a future version.\n",
      "  out = out.merge(df_year[['pidp', 'year', 'prob_employed']], on=['pidp', 'year'], how='outer')\n",
      "/tmp/ipykernel_3330/1504701429.py:13: FutureWarning: Passing 'suffixes' which cause duplicate columns {'prob_employed_x'} in the result is deprecated and will raise a MergeError in a future version.\n",
      "  out = out.merge(df_year[['pidp', 'year', 'prob_employed']], on=['pidp', 'year'], how='outer')\n",
      "/tmp/ipykernel_3330/1504701429.py:13: FutureWarning: Passing 'suffixes' which cause duplicate columns {'prob_employed_x'} in the result is deprecated and will raise a MergeError in a future version.\n",
      "  out = out.merge(df_year[['pidp', 'year', 'prob_employed']], on=['pidp', 'year'], how='outer')\n"
     ]
    },
    {
     "data": {
      "text/plain": [
       "<AxesSubplot: >"
      ]
     },
     "execution_count": 14,
     "metadata": {},
     "output_type": "execute_result"
    },
    {
     "data": {
      "image/png": "[encoded data removed]",
      "text/plain": [
       "<Figure size 640x480 with 1 Axes>"
      ]
     },
     "metadata": {},
     "output_type": "display_data"
    }
   ],
   "source": [
    "df = data_final.copy()\n",
    "df['employed'] = df.employed.replace({\"inapplicable\": np.nan,\n",
    "                                     'employed': 1,\n",
    "                                     'unemployed': 0})\n",
    "years = df.year.dropna().unique()\n",
    "out = df[['pidp', 'year']]\n",
    "for year in years:\n",
    "    df_year = df[df.year==year][['pidp', 'year', 'employed', 'treated', 'dvage', 'sex_recoded', 'asian', 'black', 'mixed', 'other', 'high', 'middle', 'mastat_recoded']].dropna()\n",
    "    y_year = df_year['employed']\n",
    "    X_year = df_year[['treated', 'dvage', 'sex_recoded', 'asian', 'black', 'mixed', 'other', 'high', 'middle', 'mastat_recoded']]\n",
    "    clf = LogisticRegression(random_state=0, max_iter=1000).fit(X_year, y_year)\n",
    "    df_year['prob_employed'] = [x[1] for x in clf.predict_proba(X_year)]\n",
    "    out = out.merge(df_year[['pidp', 'year', 'prob_employed']], on=['pidp', 'year'], how='outer')\n",
    "out['prob_emp'] = out.iloc[:, 2:].sum(axis=1)\n",
    "out = out[['pidp', 'year', 'prob_emp']]\n",
    "out.prob_emp.hist()"
   ]
  },
  {
   "cell_type": "code",
   "execution_count": 15,
   "id": "66913c42",
   "metadata": {},
   "outputs": [],
   "source": [
    "data_final = data_final.merge(out, on=['pidp', 'year']).copy()\n",
    "treated_f = data_final[data_final.ever_treated].copy()\n",
    "control_f = data_final[~data_final.ever_treated].copy()"
   ]
  },
  {
   "cell_type": "code",
   "execution_count": 16,
   "id": "ef2beba8",
   "metadata": {},
   "outputs": [
    {
     "name": "stdout",
     "output_type": "stream",
     "text": [
      "set()\n",
      "False\n"
     ]
    }
   ],
   "source": [
    "print(set(control_f.pidp.unique()) & set(treated_f.pidp.unique()))\n",
    "common_elements = [item for item in control_f.pidp.unique() if item in treated_f.pidp.unique()]\n",
    "print(any(common_elements))"
   ]
  },
  {
   "cell_type": "code",
   "execution_count": 17,
   "id": "3cec96ee",
   "metadata": {},
   "outputs": [],
   "source": [
    "treated_f.to_csv('./data/treated_cases.csv')\n",
    "control_f.to_csv('./data/control_cases.csv')"
   ]
  },
  {
   "cell_type": "code",
   "execution_count": 18,
   "id": "023c58ec-1b6e-4cfe-b8aa-1907e129b899",
   "metadata": {
    "tags": []
   },
   "outputs": [],
   "source": [
    "conds = {\n",
    "    'employed': False,\n",
    "    'dropna': True,\n",
    "    'target_var': 'hh_inc_deflated',\n",
    "    'min_treat_waves': 1,\n",
    "    'min_waves_pretreat': 4\n",
    "}"
   ]
  },
  {
   "cell_type": "code",
   "execution_count": 19,
   "id": "d7ee9d3c-9427-47a5-a390-fd8aa7802822",
   "metadata": {
    "tags": []
   },
   "outputs": [],
   "source": [
    "treated_ii, control_ii = isc_data_preparation(data_final, conds)"
   ]
  },
  {
   "cell_type": "code",
   "execution_count": 20,
   "id": "b60293bf-6d75-4a65-aea7-1c53602fae67",
   "metadata": {
    "tags": []
   },
   "outputs": [],
   "source": [
    "treated_ii.to_csv('./strata/hhi_t_full.csv')\n",
    "control_ii.to_csv('./strata/hhi_c_full.csv')"
   ]
  },
  {
   "cell_type": "code",
   "execution_count": 18,
   "id": "3365dfb6",
   "metadata": {},
   "outputs": [],
   "source": [
    "treated_ii = pd.read_csv('./strata/ii_t_full.csv')"
   ]
  },
  {
   "cell_type": "code",
   "execution_count": 19,
   "id": "3f5ca634-28ee-4733-9060-0302dd6a775e",
   "metadata": {},
   "outputs": [],
   "source": [
    "dummies = pd.get_dummies(treated_ii.aidhrs_recoded_3)\n",
    "treated_d = pd.concat([treated_ii, dummies], axis=1)\n",
    "idx = treated_d[treated_d.year == treated_d.year_treated]\n",
    "idxh = idx[idx['0-19']==0].pidp\n",
    "idxl = idx[idx['0-19']==1].pidp\n",
    "treated_d[treated_d.pidp.isin(idxh)].to_csv('./strata/hhi_t_hi.csv')\n",
    "treated_d[treated_d.pidp.isin(idxl)].to_csv('./strata/hhi_t_li.csv')"
   ]
  },
  {
   "cell_type": "code",
   "execution_count": 27,
   "id": "793400ff",
   "metadata": {},
   "outputs": [
    {
     "data": {
      "text/plain": [
       "-11     163\n",
       "-10     484\n",
       "-9      855\n",
       "-8     1301\n",
       "-7     1856\n",
       "-6     2528\n",
       "-5     3619\n",
       "-4     4844\n",
       "-3     6341\n",
       "-2     6341\n",
       "-1     6341\n",
       " 0     6341\n",
       " 1     5398\n",
       " 2     4501\n",
       " 3     3741\n",
       " 4     3026\n",
       " 5     2363\n",
       " 6     1678\n",
       " 7      882\n",
       " 8      324\n",
       "Name: reindex, dtype: int64"
      ]
     },
     "execution_count": 27,
     "metadata": {},
     "output_type": "execute_result"
    }
   ],
   "source": [
    "ii_t_li = pd.read_csv('./strata/ii_t_li.csv')\n",
    "ii_t_li['reindex'].value_counts().sort_index()"
   ]
  },
  {
   "cell_type": "code",
   "execution_count": 24,
   "id": "2fae21c1",
   "metadata": {},
   "outputs": [
    {
     "data": {
      "text/plain": [
       "<AxesSubplot: >"
      ]
     },
     "execution_count": 24,
     "metadata": {},
     "output_type": "execute_result"
    },
    {
     "data": {
      "image/png": "[encoded data removed]",
      "text/plain": [
       "<Figure size 640x480 with 1 Axes>"
      ]
     },
     "metadata": {},
     "output_type": "display_data"
    }
   ],
   "source": [
    "ii_t_hi = pd.read_csv('./strata/ii_t_hi.csv')\n",
    "ii_t_hi['reindex'].hist()"
   ]
  },
  {
   "cell_type": "markdown",
   "id": "bebddc0b",
   "metadata": {},
   "source": []
  },
  {
   "cell_type": "markdown",
   "id": "8c078e72",
   "metadata": {},
   "source": [
    "## Stratification for high intensity carers only"
   ]
  },
  {
   "cell_type": "code",
   "execution_count": 3,
   "id": "36c9aec7",
   "metadata": {},
   "outputs": [
    {
     "name": "stderr",
     "output_type": "stream",
     "text": [
      "/tmp/ipykernel_28740/4129287115.py:1: DtypeWarning: Columns (6) have mixed types. Specify dtype option on import or set low_memory=False.\n",
      "  ii_t_hi = pd.read_csv('./strata/hhi_t_li.csv')\n",
      "/tmp/ipykernel_28740/4129287115.py:2: DtypeWarning: Columns (6) have mixed types. Specify dtype option on import or set low_memory=False.\n",
      "  control_ii = pd.read_csv('./strata/hhi_c_full.csv')\n"
     ]
    }
   ],
   "source": [
    "ii_t_hi = pd.read_csv('./strata/hhi_t_li.csv')\n",
    "control_ii = pd.read_csv('./strata/hhi_c_full.csv')"
   ]
  },
  {
   "cell_type": "code",
   "execution_count": 22,
   "id": "949b52eb",
   "metadata": {},
   "outputs": [],
   "source": [
    "ii_t_hi[ii_t_hi.sex=='female'].to_csv('./strata/hhi_t_li_f.csv')\n",
    "control_ii[control_ii.sex=='female'].to_csv('./strata/hhi_c_li_f.csv')\n",
    "ii_t_hi[ii_t_hi.sex=='male'].to_csv('./strata/hhi_t_li_m.csv')\n",
    "control_ii[control_ii.sex=='male'].to_csv('./strata/hhi_c_li_m.csv')"
   ]
  },
  {
   "cell_type": "code",
   "execution_count": null,
   "id": "4821983e",
   "metadata": {},
   "outputs": [],
   "source": [
    "ii_t_hi[ii_t_hi.ethn_5=='white'].to_csv('./strata/hibyeth/ii_t_hi_w.csv')\n",
    "control_ii[control_ii.ethn_5=='white'].to_csv('./strata/hibyeth/ii_c_hi_w.csv')\n",
    "ii_t_hi[ii_t_hi.ethn_5!='white'].to_csv('./strata/hibyeth/ii_t_hi_nw.csv')\n",
    "control_ii[control_ii.ethn_5!='white'].to_csv('./strata/hibyeth/ii_c_hi_nw.csv')"
   ]
  },
  {
   "cell_type": "code",
   "execution_count": 4,
   "id": "315f6109",
   "metadata": {},
   "outputs": [],
   "source": [
    "ii_t_hi[ii_t_hi.edu_3=='low'].to_csv('./strata/hhi_t_li_edl.csv')\n",
    "control_ii[control_ii.edu_3=='low'].to_csv('./strata/hhi_c_li_edl.csv')\n",
    "ii_t_hi[ii_t_hi.edu_3=='middle'].to_csv('./strata/hhi_t_li_edm.csv')\n",
    "control_ii[control_ii.edu_3=='middle'].to_csv('./strata/hhi_c_li_edm.csv')\n",
    "ii_t_hi[ii_t_hi.edu_3=='high'].to_csv('./strata/hhi_t_li_edh.csv')\n",
    "control_ii[control_ii.edu_3=='high'].to_csv('./strata/hhi_c_li_edh.csv')"
   ]
  },
  {
   "cell_type": "code",
   "execution_count": 24,
   "id": "8723e659",
   "metadata": {},
   "outputs": [],
   "source": [
    "ii_t_hi[ii_t_hi.mastat_recoded==1].to_csv('./strata/hibymar/ii_t_hi_mar.csv')\n",
    "control_ii[control_ii.mastat_recoded==1].to_csv('./strata/hibymar/ii_c_hi_mar.csv')\n",
    "ii_t_hi[ii_t_hi.mastat_recoded==0].to_csv('./strata/hibymar/ii_t_hi_sin.csv')\n",
    "control_ii[control_ii.mastat_recoded==0].to_csv('./strata/hibymar/ii_c_hi_sin.csv')"
   ]
  }
 ],
 "metadata": {
  "kernelspec": {
   "display_name": "Python 3 (ipykernel)",
   "language": "python",
   "name": "python3"
  },
  "language_info": {
   "codemirror_mode": {
    "name": "ipython",
    "version": 3
   },
   "file_extension": ".py",
   "mimetype": "text/x-python",
   "name": "python",
   "nbconvert_exporter": "python",
   "pygments_lexer": "ipython3",
   "version": "3.11.6"
  }
 },
 "nbformat": 4,
 "nbformat_minor": 5
}
